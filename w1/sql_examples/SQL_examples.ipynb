{
 "cells": [
  {
   "cell_type": "markdown",
   "id": "8e25f3ec-86da-4fc2-9c68-2b35c027811b",
   "metadata": {},
   "source": [
    "# SQL EXAMPLES"
   ]
  },
  {
   "cell_type": "code",
   "execution_count": 4,
   "id": "5ed0df64-d3ea-4f22-88a2-266882ff7124",
   "metadata": {},
   "outputs": [],
   "source": [
    "import pandas as pd\n",
    "import sqlite3\n",
    "import os\n",
    "\n",
    "# SQLite 데이터베이스 연결 (새로운 데이터베이스 생성)\n",
    "conn = sqlite3.connect('database.db')\n",
    "\n",
    "# CSV 파일을 데이터베이스에 테이블로 저장\n",
    "for file in [file for file in os.listdir() if file.endswith('.csv')]:\n",
    "    # 테이블 이름은 파일 이름 (확장자 제외)\n",
    "    table_name = os.path.splitext(file)[0]\n",
    "    df = pd.read_csv(file)\n",
    "    df.to_sql(table_name, conn, if_exists='replace', index=False)\n",
    "\n",
    "cur = conn.cursor()\n",
    "\n",
    "def print_query_result(query):\n",
    "    cur.execute(query)\n",
    "    rows = cur.fetchall()\n",
    "    for row in rows:\n",
    "        print(row)\n"
   ]
  },
  {
   "cell_type": "markdown",
   "id": "3c69f594",
   "metadata": {},
   "source": [
    "## Test !"
   ]
  },
  {
   "cell_type": "code",
   "execution_count": 7,
   "id": "cf66848d-f199-4ab8-8b1d-00db2c3e1a33",
   "metadata": {
    "jp-MarkdownHeadingCollapsed": true
   },
   "outputs": [
    {
     "name": "stdout",
     "output_type": "stream",
     "text": [
      "(1, 'Alfreds Futterkiste', 'Maria Anders', 'Obere Str. 57', 'Berlin', '12209', 'Germany')\n",
      "(2, 'Ana Trujillo Emparedados y helados', 'Ana Trujillo', 'Avda. de la Constitución 2222', 'México D.F.', '05021', 'Mexico')\n",
      "(3, 'Antonio Moreno Taquería', 'Antonio Moreno', 'Mataderos 2312', 'México D.F.', '05023', 'Mexico')\n",
      "(4, 'Around the Horn', 'Thomas Hardy', '120 Hanover Sq.', 'London', 'WA1 1DP', 'UK')\n",
      "(5, 'Berglunds snabbköp', 'Christina Berglund', 'Berguvsvägen 8', 'Luleå', 'S-958 22', 'Sweden')\n",
      "(6, 'Blauer See Delikatessen', 'Hanna Moos', 'Forsterstr. 57', 'Mannheim', '68306', 'Germany')\n",
      "(7, 'Blondel père et fils', 'Frédérique Citeaux', '24, place Kléber', 'Strasbourg', '67000', 'France')\n",
      "(8, 'Bólido Comidas preparadas', 'Martín Sommer', 'C/ Araquil, 67', 'Madrid', '28023', 'Spain')\n",
      "(9, \"Bon app'\", 'Laurence Lebihans', '12, rue des Bouchers', 'Marseille', '13008', 'France')\n",
      "(10, 'Bottom-Dollar Marketse', 'Elizabeth Lincoln', '23 Tsawassen Blvd.', 'Tsawassen', 'T2F 8M4', 'Canada')\n",
      "(11, \"B's Beverages\", 'Victoria Ashworth', 'Fauntleroy Circus', 'London', 'EC2 5NT', 'UK')\n",
      "(12, 'Cactus Comidas para llevar', 'Patricio Simpson', 'Cerrito 333', 'Buenos Aires', '1010', 'Argentina')\n",
      "(13, 'Centro comercial Moctezuma', 'Francisco Chang', 'Sierras de Granada 9993', 'México D.F.', '05022', 'Mexico')\n",
      "(14, 'Chop-suey Chinese', 'Yang Wang', 'Hauptstr. 29', 'Bern', '3012', 'Switzerland')\n",
      "(15, 'Comércio Mineiro', 'Pedro Afonso', 'Av. dos Lusíadas, 23', 'São Paulo', '05432-043', 'Brazil')\n",
      "(16, 'Consolidated Holdings', 'Elizabeth Brown', 'Berkeley Gardens 12 Brewery ', 'London', 'WX1 6LT', 'UK')\n",
      "(17, 'Drachenblut Delikatessend', 'Sven Ottlieb', 'Walserweg 21', 'Aachen', '52066', 'Germany')\n",
      "(18, 'Du monde entier', 'Janine Labrune', '67, rue des Cinquante Otages', 'Nantes', '44000', 'France')\n",
      "(19, 'Eastern Connection', 'Ann Devon', '35 King George', 'London', 'WX3 6FW', 'UK')\n",
      "(20, 'Ernst Handel', 'Roland Mendel', 'Kirchgasse 6', 'Graz', '8010', 'Austria')\n",
      "(21, 'Familia Arquibaldo', 'Aria Cruz', 'Rua Orós, 92', 'São Paulo', '05442-030', 'Brazil')\n",
      "(22, 'FISSA Fabrica Inter. Salchichas S.A.', 'Diego Roel', 'C/ Moralzarzal, 86', 'Madrid', '28034', 'Spain')\n",
      "(23, 'Folies gourmandes', 'Martine Rancé', '184, chaussée de Tournai', 'Lille', '59000', 'France')\n",
      "(24, 'Folk och fä HB', 'Maria Larsson', 'Åkergatan 24', 'Bräcke', 'S-844 67', 'Sweden')\n",
      "(25, 'Frankenversand', 'Peter Franken', 'Berliner Platz 43', 'München', '80805', 'Germany')\n",
      "(26, 'France restauration', 'Carine Schmitt', '54, rue Royale', 'Nantes', '44000', 'France')\n",
      "(27, 'Franchi S.p.A.', 'Paolo Accorti', 'Via Monte Bianco 34', 'Torino', '10100', 'Italy')\n",
      "(28, 'Furia Bacalhau e Frutos do Mar', 'Lino Rodriguez ', 'Jardim das rosas n. 32', 'Lisboa', '1675', 'Portugal')\n",
      "(29, 'Galería del gastrónomo', 'Eduardo Saavedra', 'Rambla de Cataluña, 23', 'Barcelona', '08022', 'Spain')\n",
      "(30, 'Godos Cocina Típica', 'José Pedro Freyre', 'C/ Romero, 33', 'Sevilla', '41101', 'Spain')\n",
      "(31, 'Gourmet Lanchonetes', 'André Fonseca', 'Av. Brasil, 442', 'Campinas', '04876-786', 'Brazil')\n",
      "(32, 'Great Lakes Food Market', 'Howard Snyder', '2732 Baker Blvd.', 'Eugene', '97403', 'USA')\n",
      "(33, 'GROSELLA-Restaurante', 'Manuel Pereira', '5ª Ave. Los Palos Grandes', 'Caracas', '1081', 'Venezuela')\n",
      "(34, 'Hanari Carnes', 'Mario Pontes', 'Rua do Paço, 67', 'Rio de Janeiro', '05454-876', 'Brazil')\n",
      "(35, 'HILARIÓN-Abastos', 'Carlos Hernández', 'Carrera 22 con Ave. Carlos Soublette #8-35', 'San Cristóbal', '5022', 'Venezuela')\n",
      "(36, 'Hungry Coyote Import Store', 'Yoshi Latimer', 'City Center Plaza 516 Main St.', 'Elgin', '97827', 'USA')\n",
      "(37, 'Hungry Owl All-Night Grocers', 'Patricia McKenna', '8 Johnstown Road', 'Cork', None, 'Ireland')\n",
      "(38, 'Island Trading', 'Helen Bennett', 'Garden House Crowther Way', 'Cowes', 'PO31 7PJ', 'UK')\n",
      "(39, 'Königlich Essen', 'Philip Cramer', 'Maubelstr. 90', 'Brandenburg', '14776', 'Germany')\n",
      "(40, \"La corne d'abondance\", 'Daniel Tonini', \"67, avenue de l'Europe\", 'Versailles', '78000', 'France')\n",
      "(41, \"La maison d'Asie\", 'Annette Roulet', '1 rue Alsace-Lorraine', 'Toulouse', '31000', 'France')\n",
      "(42, 'Laughing Bacchus Wine Cellars', 'Yoshi Tannamuri', '1900 Oak St.', 'Vancouver', 'V3F 2K1', 'Canada')\n",
      "(43, 'Lazy K Kountry Store', 'John Steel', '12 Orchestra Terrace', 'Walla Walla', '99362', 'USA')\n",
      "(44, 'Lehmanns Marktstand', 'Renate Messner', 'Magazinweg 7', 'Frankfurt a.M. ', '60528', 'Germany')\n",
      "(45, \"Let's Stop N Shop\", 'Jaime Yorres', '87 Polk St. Suite 5', 'San Francisco', '94117', 'USA')\n",
      "(46, 'LILA-Supermercado', 'Carlos González', 'Carrera 52 con Ave. Bolívar #65-98 Llano Largo', 'Barquisimeto', '3508', 'Venezuela')\n",
      "(47, 'LINO-Delicateses', 'Felipe Izquierdo', 'Ave. 5 de Mayo Porlamar', 'I. de Margarita', '4980', 'Venezuela')\n",
      "(48, 'Lonesome Pine Restaurant', 'Fran Wilson', '89 Chiaroscuro Rd.', 'Portland', '97219', 'USA')\n",
      "(49, 'Magazzini Alimentari Riuniti', 'Giovanni Rovelli', 'Via Ludovico il Moro 22', 'Bergamo', '24100', 'Italy')\n",
      "(50, 'Maison Dewey', 'Catherine Dewey', 'Rue Joseph-Bens 532', 'Bruxelles', 'B-1180', 'Belgium')\n",
      "(51, 'Mère Paillarde', 'Jean Fresnière', '43 rue St. Laurent', 'Montréal', 'H1J 1C3', 'Canada')\n",
      "(52, 'Morgenstern Gesundkost', 'Alexander Feuer', 'Heerstr. 22', 'Leipzig', '04179', 'Germany')\n",
      "(53, 'North/South', 'Simon Crowther', 'South House 300 Queensbridge', 'London', 'SW7 1RZ', 'UK')\n",
      "(54, 'Océano Atlántico Ltda.', 'Yvonne Moncada', 'Ing. Gustavo Moncada 8585 Piso 20-A', 'Buenos Aires', '1010', 'Argentina')\n",
      "(55, 'Old World Delicatessen', 'Rene Phillips', '2743 Bering St.', 'Anchorage', '99508', 'USA')\n",
      "(56, 'Ottilies Käseladen', 'Henriette Pfalzheim', 'Mehrheimerstr. 369', 'Köln', '50739', 'Germany')\n",
      "(57, 'Paris spécialités', 'Marie Bertrand', '265, boulevard Charonne', 'Paris', '75012', 'France')\n",
      "(58, 'Pericles Comidas clásicas', 'Guillermo Fernández', 'Calle Dr. Jorge Cash 321', 'México D.F.', '05033', 'Mexico')\n",
      "(59, 'Piccolo und mehr', 'Georg Pipps', 'Geislweg 14', 'Salzburg', '5020', 'Austria')\n",
      "(60, 'Princesa Isabel Vinhoss', 'Isabel de Castro', 'Estrada da saúde n. 58', 'Lisboa', '1756', 'Portugal')\n",
      "(61, 'Que Delícia', 'Bernardo Batista', 'Rua da Panificadora, 12', 'Rio de Janeiro', '02389-673', 'Brazil')\n",
      "(62, 'Queen Cozinha', 'Lúcia Carvalho', 'Alameda dos Canàrios, 891', 'São Paulo', '05487-020', 'Brazil')\n",
      "(63, 'QUICK-Stop', 'Horst Kloss', 'Taucherstraße 10', 'Cunewalde', '01307', 'Germany')\n",
      "(64, 'Rancho grande', 'Sergio Gutiérrez', 'Av. del Libertador 900', 'Buenos Aires', '1010', 'Argentina')\n",
      "(65, 'Rattlesnake Canyon Grocery', 'Paula Wilson', '2817 Milton Dr.', 'Albuquerque', '87110', 'USA')\n",
      "(66, 'Reggiani Caseifici', 'Maurizio Moroni', 'Strada Provinciale 124', 'Reggio Emilia', '42100', 'Italy')\n",
      "(67, 'Ricardo Adocicados', 'Janete Limeira', 'Av. Copacabana, 267', 'Rio de Janeiro', '02389-890', 'Brazil')\n",
      "(68, 'Richter Supermarkt', 'Michael Holz', 'Grenzacherweg 237', 'Genève', '1203', 'Switzerland')\n",
      "(69, 'Romero y tomillo', 'Alejandra Camino', 'Gran Vía, 1', 'Madrid', '28001', 'Spain')\n",
      "(70, 'Santé Gourmet', 'Jonas Bergulfsen', 'Erling Skakkes gate 78', 'Stavern', '4110', 'Norway')\n",
      "(71, 'Save-a-lot Markets', 'Jose Pavarotti', '187 Suffolk Ln.', 'Boise', '83720', 'USA')\n",
      "(72, 'Seven Seas Imports', 'Hari Kumar', '90 Wadhurst Rd.', 'London', 'OX15 4NB', 'UK')\n",
      "(73, 'Simons bistro', 'Jytte Petersen', 'Vinbæltet 34', 'København', '1734', 'Denmark')\n",
      "(74, 'Spécialités du monde', 'Dominique Perrier', '25, rue Lauriston', 'Paris', '75016', 'France')\n",
      "(75, 'Split Rail Beer & Ale', 'Art Braunschweiger', 'P.O. Box 555', 'Lander', '82520', 'USA')\n",
      "(76, 'Suprêmes délices', 'Pascale Cartrain', 'Boulevard Tirou, 255', 'Charleroi', 'B-6000', 'Belgium')\n",
      "(77, 'The Big Cheese', 'Liz Nixon', '89 Jefferson Way Suite 2', 'Portland', '97201', 'USA')\n",
      "(78, 'The Cracker Box', 'Liu Wong', '55 Grizzly Peak Rd.', 'Butte', '59801', 'USA')\n",
      "(79, 'Toms Spezialitäten', 'Karin Josephs', 'Luisenstr. 48', 'Münster', '44087', 'Germany')\n",
      "(80, 'Tortuga Restaurante', 'Miguel Angel Paolino', 'Avda. Azteca 123', 'México D.F.', '05033', 'Mexico')\n",
      "(81, 'Tradição Hipermercados', 'Anabela Domingues', 'Av. Inês de Castro, 414', 'São Paulo', '05634-030', 'Brazil')\n",
      "(82, \"Trail's Head Gourmet Provisioners\", 'Helvetius Nagy', '722 DaVinci Blvd.', 'Kirkland', '98034', 'USA')\n",
      "(83, 'Vaffeljernet', 'Palle Ibsen', 'Smagsløget 45', 'Århus', '8200', 'Denmark')\n",
      "(84, 'Victuailles en stock', 'Mary Saveley', '2, rue du Commerce', 'Lyon', '69004', 'France')\n",
      "(85, 'Vins et alcools Chevalier', 'Paul Henriot', \"59 rue de l'Abbaye\", 'Reims', '51100', 'France')\n",
      "(86, 'Die Wandernde Kuh', 'Rita Müller', 'Adenauerallee 900', 'Stuttgart', '70563', 'Germany')\n",
      "(87, 'Wartian Herkku', 'Pirkko Koskitalo', 'Torikatu 38', 'Oulu', '90110', 'Finland')\n",
      "(88, 'Wellington Importadora', 'Paula Parente', 'Rua do Mercado, 12', 'Resende', '08737-363', 'Brazil')\n",
      "(89, 'White Clover Markets', 'Karl Jablonski', '305 - 14th Ave. S. Suite 3B', 'Seattle', '98128', 'USA')\n",
      "(90, 'Wilman Kala', 'Matti Karttunen', 'Keskuskatu 45', 'Helsinki', '21240', 'Finland')\n",
      "(91, 'Wolski', 'Zbyszek', 'ul. Filtrowa 68', 'Walla', '01-012', None)\n"
     ]
    }
   ],
   "source": [
    "print_query_result(\"SELECT * FROM Customers;\")"
   ]
  },
  {
   "cell_type": "markdown",
   "id": "5fd4ea06",
   "metadata": {},
   "source": [
    "## SELECT"
   ]
  },
  {
   "cell_type": "code",
   "execution_count": 8,
   "id": "245a5995-c082-46fa-be72-e903bcbc1d13",
   "metadata": {},
   "outputs": [
    {
     "name": "stdout",
     "output_type": "stream",
     "text": [
      "('Alfreds Futterkiste', 'Berlin')\n",
      "('Ana Trujillo Emparedados y helados', 'México D.F.')\n",
      "('Antonio Moreno Taquería', 'México D.F.')\n",
      "('Around the Horn', 'London')\n",
      "('Berglunds snabbköp', 'Luleå')\n",
      "('Blauer See Delikatessen', 'Mannheim')\n",
      "('Blondel père et fils', 'Strasbourg')\n",
      "('Bólido Comidas preparadas', 'Madrid')\n",
      "(\"Bon app'\", 'Marseille')\n",
      "('Bottom-Dollar Marketse', 'Tsawassen')\n",
      "(\"B's Beverages\", 'London')\n",
      "('Cactus Comidas para llevar', 'Buenos Aires')\n",
      "('Centro comercial Moctezuma', 'México D.F.')\n",
      "('Chop-suey Chinese', 'Bern')\n",
      "('Comércio Mineiro', 'São Paulo')\n",
      "('Consolidated Holdings', 'London')\n",
      "('Drachenblut Delikatessend', 'Aachen')\n",
      "('Du monde entier', 'Nantes')\n",
      "('Eastern Connection', 'London')\n",
      "('Ernst Handel', 'Graz')\n",
      "('Familia Arquibaldo', 'São Paulo')\n",
      "('FISSA Fabrica Inter. Salchichas S.A.', 'Madrid')\n",
      "('Folies gourmandes', 'Lille')\n",
      "('Folk och fä HB', 'Bräcke')\n",
      "('Frankenversand', 'München')\n",
      "('France restauration', 'Nantes')\n",
      "('Franchi S.p.A.', 'Torino')\n",
      "('Furia Bacalhau e Frutos do Mar', 'Lisboa')\n",
      "('Galería del gastrónomo', 'Barcelona')\n",
      "('Godos Cocina Típica', 'Sevilla')\n",
      "('Gourmet Lanchonetes', 'Campinas')\n",
      "('Great Lakes Food Market', 'Eugene')\n",
      "('GROSELLA-Restaurante', 'Caracas')\n",
      "('Hanari Carnes', 'Rio de Janeiro')\n",
      "('HILARIÓN-Abastos', 'San Cristóbal')\n",
      "('Hungry Coyote Import Store', 'Elgin')\n",
      "('Hungry Owl All-Night Grocers', 'Cork')\n",
      "('Island Trading', 'Cowes')\n",
      "('Königlich Essen', 'Brandenburg')\n",
      "(\"La corne d'abondance\", 'Versailles')\n",
      "(\"La maison d'Asie\", 'Toulouse')\n",
      "('Laughing Bacchus Wine Cellars', 'Vancouver')\n",
      "('Lazy K Kountry Store', 'Walla Walla')\n",
      "('Lehmanns Marktstand', 'Frankfurt a.M. ')\n",
      "(\"Let's Stop N Shop\", 'San Francisco')\n",
      "('LILA-Supermercado', 'Barquisimeto')\n",
      "('LINO-Delicateses', 'I. de Margarita')\n",
      "('Lonesome Pine Restaurant', 'Portland')\n",
      "('Magazzini Alimentari Riuniti', 'Bergamo')\n",
      "('Maison Dewey', 'Bruxelles')\n",
      "('Mère Paillarde', 'Montréal')\n",
      "('Morgenstern Gesundkost', 'Leipzig')\n",
      "('North/South', 'London')\n",
      "('Océano Atlántico Ltda.', 'Buenos Aires')\n",
      "('Old World Delicatessen', 'Anchorage')\n",
      "('Ottilies Käseladen', 'Köln')\n",
      "('Paris spécialités', 'Paris')\n",
      "('Pericles Comidas clásicas', 'México D.F.')\n",
      "('Piccolo und mehr', 'Salzburg')\n",
      "('Princesa Isabel Vinhoss', 'Lisboa')\n",
      "('Que Delícia', 'Rio de Janeiro')\n",
      "('Queen Cozinha', 'São Paulo')\n",
      "('QUICK-Stop', 'Cunewalde')\n",
      "('Rancho grande', 'Buenos Aires')\n",
      "('Rattlesnake Canyon Grocery', 'Albuquerque')\n",
      "('Reggiani Caseifici', 'Reggio Emilia')\n",
      "('Ricardo Adocicados', 'Rio de Janeiro')\n",
      "('Richter Supermarkt', 'Genève')\n",
      "('Romero y tomillo', 'Madrid')\n",
      "('Santé Gourmet', 'Stavern')\n",
      "('Save-a-lot Markets', 'Boise')\n",
      "('Seven Seas Imports', 'London')\n",
      "('Simons bistro', 'København')\n",
      "('Spécialités du monde', 'Paris')\n",
      "('Split Rail Beer & Ale', 'Lander')\n",
      "('Suprêmes délices', 'Charleroi')\n",
      "('The Big Cheese', 'Portland')\n",
      "('The Cracker Box', 'Butte')\n",
      "('Toms Spezialitäten', 'Münster')\n",
      "('Tortuga Restaurante', 'México D.F.')\n",
      "('Tradição Hipermercados', 'São Paulo')\n",
      "(\"Trail's Head Gourmet Provisioners\", 'Kirkland')\n",
      "('Vaffeljernet', 'Århus')\n",
      "('Victuailles en stock', 'Lyon')\n",
      "('Vins et alcools Chevalier', 'Reims')\n",
      "('Die Wandernde Kuh', 'Stuttgart')\n",
      "('Wartian Herkku', 'Oulu')\n",
      "('Wellington Importadora', 'Resende')\n",
      "('White Clover Markets', 'Seattle')\n",
      "('Wilman Kala', 'Helsinki')\n",
      "('Wolski', 'Walla')\n"
     ]
    }
   ],
   "source": [
    "print_query_result(\"SELECT CustomerName, City FROM Customers;\")"
   ]
  },
  {
   "cell_type": "markdown",
   "id": "6420d2ea",
   "metadata": {},
   "source": [
    "## The SQL SELECT DISTINCT Statement"
   ]
  },
  {
   "cell_type": "code",
   "execution_count": 9,
   "id": "3b9d1ef2",
   "metadata": {},
   "outputs": [
    {
     "name": "stdout",
     "output_type": "stream",
     "text": [
      "('Germany',)\n",
      "('Mexico',)\n",
      "('UK',)\n",
      "('Sweden',)\n",
      "('France',)\n",
      "('Spain',)\n",
      "('Canada',)\n",
      "('Argentina',)\n",
      "('Switzerland',)\n",
      "('Brazil',)\n",
      "('Austria',)\n",
      "('Italy',)\n",
      "('Portugal',)\n",
      "('USA',)\n",
      "('Venezuela',)\n",
      "('Ireland',)\n",
      "('Belgium',)\n",
      "('Norway',)\n",
      "('Denmark',)\n",
      "('Finland',)\n",
      "(None,)\n"
     ]
    }
   ],
   "source": [
    "print_query_result(\"SELECT DISTINCT Country FROM Customers;\")"
   ]
  },
  {
   "cell_type": "markdown",
   "id": "d40783fd",
   "metadata": {},
   "source": [
    "## SELECT Example Without DISTINCT"
   ]
  },
  {
   "cell_type": "code",
   "execution_count": 11,
   "id": "80a0e0f3",
   "metadata": {},
   "outputs": [
    {
     "name": "stdout",
     "output_type": "stream",
     "text": [
      "('Germany',)\n",
      "('Mexico',)\n",
      "('Mexico',)\n",
      "('UK',)\n",
      "('Sweden',)\n",
      "('Germany',)\n",
      "('France',)\n",
      "('Spain',)\n",
      "('France',)\n",
      "('Canada',)\n",
      "('UK',)\n",
      "('Argentina',)\n",
      "('Mexico',)\n",
      "('Switzerland',)\n",
      "('Brazil',)\n",
      "('UK',)\n",
      "('Germany',)\n",
      "('France',)\n",
      "('UK',)\n",
      "('Austria',)\n",
      "('Brazil',)\n",
      "('Spain',)\n",
      "('France',)\n",
      "('Sweden',)\n",
      "('Germany',)\n",
      "('France',)\n",
      "('Italy',)\n",
      "('Portugal',)\n",
      "('Spain',)\n",
      "('Spain',)\n",
      "('Brazil',)\n",
      "('USA',)\n",
      "('Venezuela',)\n",
      "('Brazil',)\n",
      "('Venezuela',)\n",
      "('USA',)\n",
      "('Ireland',)\n",
      "('UK',)\n",
      "('Germany',)\n",
      "('France',)\n",
      "('France',)\n",
      "('Canada',)\n",
      "('USA',)\n",
      "('Germany',)\n",
      "('USA',)\n",
      "('Venezuela',)\n",
      "('Venezuela',)\n",
      "('USA',)\n",
      "('Italy',)\n",
      "('Belgium',)\n",
      "('Canada',)\n",
      "('Germany',)\n",
      "('UK',)\n",
      "('Argentina',)\n",
      "('USA',)\n",
      "('Germany',)\n",
      "('France',)\n",
      "('Mexico',)\n",
      "('Austria',)\n",
      "('Portugal',)\n",
      "('Brazil',)\n",
      "('Brazil',)\n",
      "('Germany',)\n",
      "('Argentina',)\n",
      "('USA',)\n",
      "('Italy',)\n",
      "('Brazil',)\n",
      "('Switzerland',)\n",
      "('Spain',)\n",
      "('Norway',)\n",
      "('USA',)\n",
      "('UK',)\n",
      "('Denmark',)\n",
      "('France',)\n",
      "('USA',)\n",
      "('Belgium',)\n",
      "('USA',)\n",
      "('USA',)\n",
      "('Germany',)\n",
      "('Mexico',)\n",
      "('Brazil',)\n",
      "('USA',)\n",
      "('Denmark',)\n",
      "('France',)\n",
      "('France',)\n",
      "('Germany',)\n",
      "('Finland',)\n",
      "('Brazil',)\n",
      "('USA',)\n",
      "('Finland',)\n",
      "(None,)\n"
     ]
    }
   ],
   "source": [
    "print_query_result(\"SELECT Country FROM Customers;\")"
   ]
  },
  {
   "cell_type": "markdown",
   "id": "995173cf",
   "metadata": {},
   "source": [
    "## WHERE"
   ]
  },
  {
   "cell_type": "code",
   "execution_count": 12,
   "id": "9cf22431",
   "metadata": {},
   "outputs": [
    {
     "name": "stdout",
     "output_type": "stream",
     "text": [
      "(2, 'Ana Trujillo Emparedados y helados', 'Ana Trujillo', 'Avda. de la Constitución 2222', 'México D.F.', '05021', 'Mexico')\n",
      "(3, 'Antonio Moreno Taquería', 'Antonio Moreno', 'Mataderos 2312', 'México D.F.', '05023', 'Mexico')\n",
      "(13, 'Centro comercial Moctezuma', 'Francisco Chang', 'Sierras de Granada 9993', 'México D.F.', '05022', 'Mexico')\n",
      "(58, 'Pericles Comidas clásicas', 'Guillermo Fernández', 'Calle Dr. Jorge Cash 321', 'México D.F.', '05033', 'Mexico')\n",
      "(80, 'Tortuga Restaurante', 'Miguel Angel Paolino', 'Avda. Azteca 123', 'México D.F.', '05033', 'Mexico')\n"
     ]
    }
   ],
   "source": [
    "print_query_result(\"SELECT * FROM Customers WHERE Country='Mexico';\")"
   ]
  },
  {
   "cell_type": "markdown",
   "id": "5a44b201",
   "metadata": {},
   "source": [
    "## Text Fields vs. Numeric Fields"
   ]
  },
  {
   "cell_type": "code",
   "execution_count": 13,
   "id": "6438f2a6",
   "metadata": {},
   "outputs": [
    {
     "name": "stdout",
     "output_type": "stream",
     "text": [
      "(1, 'Alfreds Futterkiste', 'Maria Anders', 'Obere Str. 57', 'Berlin', '12209', 'Germany')\n"
     ]
    }
   ],
   "source": [
    "query = \"\"\"\n",
    "SELECT * FROM Customers\n",
    "WHERE CustomerID=1;\n",
    "\"\"\"\n",
    "print_query_result(query)"
   ]
  },
  {
   "cell_type": "markdown",
   "id": "3fa248af",
   "metadata": {},
   "source": [
    "## Operators in The WHERE Clause"
   ]
  },
  {
   "cell_type": "code",
   "execution_count": 14,
   "id": "c3b904e8",
   "metadata": {},
   "outputs": [
    {
     "name": "stdout",
     "output_type": "stream",
     "text": [
      "(81, 'Tradição Hipermercados', 'Anabela Domingues', 'Av. Inês de Castro, 414', 'São Paulo', '05634-030', 'Brazil')\n",
      "(82, \"Trail's Head Gourmet Provisioners\", 'Helvetius Nagy', '722 DaVinci Blvd.', 'Kirkland', '98034', 'USA')\n",
      "(83, 'Vaffeljernet', 'Palle Ibsen', 'Smagsløget 45', 'Århus', '8200', 'Denmark')\n",
      "(84, 'Victuailles en stock', 'Mary Saveley', '2, rue du Commerce', 'Lyon', '69004', 'France')\n",
      "(85, 'Vins et alcools Chevalier', 'Paul Henriot', \"59 rue de l'Abbaye\", 'Reims', '51100', 'France')\n",
      "(86, 'Die Wandernde Kuh', 'Rita Müller', 'Adenauerallee 900', 'Stuttgart', '70563', 'Germany')\n",
      "(87, 'Wartian Herkku', 'Pirkko Koskitalo', 'Torikatu 38', 'Oulu', '90110', 'Finland')\n",
      "(88, 'Wellington Importadora', 'Paula Parente', 'Rua do Mercado, 12', 'Resende', '08737-363', 'Brazil')\n",
      "(89, 'White Clover Markets', 'Karl Jablonski', '305 - 14th Ave. S. Suite 3B', 'Seattle', '98128', 'USA')\n",
      "(90, 'Wilman Kala', 'Matti Karttunen', 'Keskuskatu 45', 'Helsinki', '21240', 'Finland')\n",
      "(91, 'Wolski', 'Zbyszek', 'ul. Filtrowa 68', 'Walla', '01-012', None)\n"
     ]
    }
   ],
   "source": [
    "query = \"\"\"\n",
    "SELECT * FROM Customers\n",
    "WHERE CustomerID > 80;\n",
    "\"\"\"\n",
    "print_query_result(query)"
   ]
  },
  {
   "cell_type": "markdown",
   "id": "351bc69b",
   "metadata": {},
   "source": [
    "## ORDER BY"
   ]
  },
  {
   "cell_type": "code",
   "execution_count": 15,
   "id": "cf151d98",
   "metadata": {},
   "outputs": [
    {
     "name": "stdout",
     "output_type": "stream",
     "text": [
      "(33, 'Geitost', 15, 4, '500 g', 2.5)\n",
      "(24, 'Guaraná Fantástica', 10, 1, '12 - 355 ml cans', 4.5)\n",
      "(13, 'Konbu', 6, 8, '2 kg box', 6.0)\n",
      "(52, 'Filo Mix', 24, 5, '16 - 2 kg boxes', 7.0)\n",
      "(54, 'Tourtière', 25, 6, '16 pies', 7.45)\n",
      "(75, 'Rhönbräu Klosterbier', 12, 1, '24 - 0.5 l bottles', 7.75)\n",
      "(23, 'Tunnbröd', 9, 5, '12 - 250 g pkgs.', 9.0)\n",
      "(19, 'Teatime Chocolate Biscuits', 8, 3, '10 boxes x 12 pieces', 9.2)\n",
      "(45, 'Røgede sild', 21, 8, '1k pkg.', 9.5)\n",
      "(47, 'Zaanse koeken', 22, 3, '10 - 4 oz boxes', 9.5)\n",
      "(41, \"Jack's New England Clam Chowder\", 19, 8, '12 - 12 oz cans', 9.65)\n",
      "(3, 'Aniseed Syrup', 1, 2, '12 - 550 ml bottles', 10.0)\n",
      "(21, \"Sir Rodney's Scones\", 8, 3, '24 pkgs. x 4 pieces', 10.0)\n",
      "(74, 'Longlife Tofu', 4, 7, '5 kg pkg.', 10.0)\n",
      "(46, 'Spegesild', 21, 8, '4 - 450 g glasses', 12.0)\n",
      "(31, 'Gorgonzola Telino', 14, 4, '12 - 100 g pkgs', 12.5)\n",
      "(68, 'Scottish Longbreads', 8, 3, '10 boxes x 8 pieces', 12.5)\n",
      "(48, 'Chocolade', 22, 3, '10 pkgs.', 12.75)\n",
      "(77, 'Original Frankfurter grüne Soße', 12, 2, '12 boxes', 13.0)\n",
      "(58, 'Escargots de Bourgogne', 27, 8, '24 pieces', 13.25)\n",
      "(25, 'NuNuCa Nuß-Nougat-Creme', 11, 3, '20 - 450 g glasses', 14.0)\n",
      "(34, 'Sasquatch Ale', 16, 1, '24 - 12 oz bottles', 14.0)\n",
      "(42, 'Singaporean Hokkien Fried Mee', 20, 5, '32 - 1 kg pkgs.', 14.0)\n",
      "(67, 'Laughing Lumberjack Lager', 16, 1, '24 - 12 oz bottles', 14.0)\n",
      "(70, 'Outback Lager', 7, 1, '24 - 355 ml bottles', 15.0)\n",
      "(73, 'Röd Kaviar', 17, 8, '24 - 150 g jars', 15.0)\n",
      "(15, 'Genen Shouyu', 6, 2, '24 - 250 ml bottles', 15.5)\n",
      "(50, 'Valkoinen suklaa', 23, 3, '12 - 100 g bars', 16.25)\n",
      "(66, 'Louisiana Hot Spiced Okra', 2, 2, '24 - 8 oz jars', 17.0)\n",
      "(16, 'Pavlova', 7, 3, '32 - 500 g boxes', 17.45)\n",
      "(1, 'Chais', 1, 1, '10 boxes x 20 bags', 18.0)\n",
      "(35, 'Steeleye Stout', 16, 1, '24 - 12 oz bottles', 18.0)\n",
      "(39, 'Chartreuse verte', 18, 1, '750 cc per bottle', 18.0)\n",
      "(76, 'Lakkalikööri', 23, 1, '500 ml ', 18.0)\n",
      "(40, 'Boston Crab Meat', 19, 8, '24 - 4 oz tins', 18.4)\n",
      "(2, 'Chang', 1, 1, '24 - 12 oz bottles', 19.0)\n",
      "(36, 'Inlagd Sill', 17, 8, '24 - 250 g jars', 19.0)\n",
      "(44, 'Gula Malacca', 20, 2, '20 - 2 kg bags', 19.45)\n",
      "(57, 'Ravioli Angelo', 26, 5, '24 - 250 g pkgs.', 19.5)\n",
      "(49, 'Maxilaku', 23, 3, '24 - 50 g pkgs.', 20.0)\n",
      "(11, 'Queso Cabrales', 5, 4, '1 kg pkg.', 21.0)\n",
      "(22, \"Gustaf's Knäckebröd\", 9, 5, '24 - 500 g pkgs.', 21.0)\n",
      "(65, 'Louisiana Fiery Hot Pepper Sauce', 2, 2, '32 - 8 oz bottles', 21.05)\n",
      "(5, \"Chef Anton's Gumbo Mix\", 2, 2, '36 boxes', 21.35)\n",
      "(71, 'Fløtemysost', 15, 4, '10 - 500 g pkgs.', 21.5)\n",
      "(4, \"Chef Anton's Cajun Seasoning\", 2, 2, '48 - 6 oz jars', 22.0)\n",
      "(14, 'Tofu', 6, 7, '40 - 100 g pkgs.', 23.25)\n",
      "(55, 'Pâté chinois', 25, 6, '24 boxes x 2 pies', 24.0)\n",
      "(6, \"Grandma's Boysenberry Spread\", 3, 2, '12 - 8 oz jars', 25.0)\n",
      "(30, 'Nord-Ost Matjeshering', 13, 8, '10 - 200 g glasses', 25.89)\n",
      "(37, 'Gravad lax', 17, 8, '12 - 500 g pkgs.', 26.0)\n",
      "(61, \"Sirop d'érable\", 29, 2, '24 - 500 ml bottles', 28.5)\n",
      "(7, \"Uncle Bob's Organic Dried Pears\", 3, 7, '12 - 1 lb pkgs.', 30.0)\n",
      "(10, 'Ikura', 4, 8, '12 - 200 ml jars', 31.0)\n",
      "(26, 'Gumbär Gummibärchen', 11, 3, '100 - 250 g bags', 31.23)\n",
      "(32, 'Mascarpone Fabioli', 14, 4, '24 - 200 g pkgs.', 32.0)\n",
      "(53, 'Perth Pasties', 24, 6, '48 pieces', 32.8)\n",
      "(64, 'Wimmers gute Semmelknödel', 12, 5, '20 bags x 4 pieces', 33.25)\n",
      "(60, 'Camembert Pierrot', 28, 4, '15 - 300 g rounds', 34.0)\n",
      "(72, 'Mozzarella di Giovanni', 14, 4, '24 - 200 g pkgs.', 34.8)\n",
      "(69, 'Gudbrandsdalsost', 15, 4, '10 kg pkg.', 36.0)\n",
      "(12, 'Queso Manchego La Pastora', 5, 4, '10 - 500 g pkgs.', 38.0)\n",
      "(56, 'Gnocchi di nonna Alice', 26, 5, '24 - 250 g pkgs.', 38.0)\n",
      "(17, 'Alice Mutton', 7, 6, '20 - 1 kg tins', 39.0)\n",
      "(8, 'Northwoods Cranberry Sauce', 3, 2, '12 - 12 oz jars', 40.0)\n",
      "(27, 'Schoggi Schokolade', 11, 3, '100 - 100 g pieces', 43.9)\n",
      "(63, 'Vegie-spread', 7, 2, '15 - 625 g jars', 43.9)\n",
      "(28, 'Rössle Sauerkraut', 12, 7, '25 - 825 g cans', 45.6)\n",
      "(43, 'Ipoh Coffee', 20, 1, '16 - 500 g tins', 46.0)\n",
      "(62, 'Tarte au sucre', 29, 3, '48 pies', 49.3)\n",
      "(51, 'Manjimup Dried Apples', 24, 7, '50 - 300 g pkgs.', 53.0)\n",
      "(59, 'Raclette Courdavault', 28, 4, '5 kg pkg.', 55.0)\n",
      "(18, 'Carnarvon Tigers', 7, 8, '16 kg pkg.', 62.5)\n",
      "(20, \"Sir Rodney's Marmalade\", 8, 3, '30 gift boxes', 81.0)\n",
      "(9, 'Mishi Kobe Niku', 4, 6, '18 - 500 g pkgs.', 97.0)\n",
      "(29, 'Thüringer Rostbratwurst', 12, 6, '50 bags x 30 sausgs.', 123.79)\n",
      "(38, 'Côte de Blaye', 18, 1, '12 - 75 cl bottles', 263.5)\n"
     ]
    }
   ],
   "source": [
    "query = \"\"\"\n",
    "SELECT * FROM Products\n",
    "ORDER BY Price;\n",
    "\"\"\"\n",
    "print_query_result(query)"
   ]
  },
  {
   "cell_type": "markdown",
   "id": "ad68b263",
   "metadata": {},
   "source": [
    "## DESC"
   ]
  },
  {
   "cell_type": "code",
   "execution_count": 16,
   "id": "12babf2b",
   "metadata": {},
   "outputs": [
    {
     "name": "stdout",
     "output_type": "stream",
     "text": [
      "(38, 'Côte de Blaye', 18, 1, '12 - 75 cl bottles', 263.5)\n",
      "(29, 'Thüringer Rostbratwurst', 12, 6, '50 bags x 30 sausgs.', 123.79)\n",
      "(9, 'Mishi Kobe Niku', 4, 6, '18 - 500 g pkgs.', 97.0)\n",
      "(20, \"Sir Rodney's Marmalade\", 8, 3, '30 gift boxes', 81.0)\n",
      "(18, 'Carnarvon Tigers', 7, 8, '16 kg pkg.', 62.5)\n",
      "(59, 'Raclette Courdavault', 28, 4, '5 kg pkg.', 55.0)\n",
      "(51, 'Manjimup Dried Apples', 24, 7, '50 - 300 g pkgs.', 53.0)\n",
      "(62, 'Tarte au sucre', 29, 3, '48 pies', 49.3)\n",
      "(43, 'Ipoh Coffee', 20, 1, '16 - 500 g tins', 46.0)\n",
      "(28, 'Rössle Sauerkraut', 12, 7, '25 - 825 g cans', 45.6)\n",
      "(27, 'Schoggi Schokolade', 11, 3, '100 - 100 g pieces', 43.9)\n",
      "(63, 'Vegie-spread', 7, 2, '15 - 625 g jars', 43.9)\n",
      "(8, 'Northwoods Cranberry Sauce', 3, 2, '12 - 12 oz jars', 40.0)\n",
      "(17, 'Alice Mutton', 7, 6, '20 - 1 kg tins', 39.0)\n",
      "(12, 'Queso Manchego La Pastora', 5, 4, '10 - 500 g pkgs.', 38.0)\n",
      "(56, 'Gnocchi di nonna Alice', 26, 5, '24 - 250 g pkgs.', 38.0)\n",
      "(69, 'Gudbrandsdalsost', 15, 4, '10 kg pkg.', 36.0)\n",
      "(72, 'Mozzarella di Giovanni', 14, 4, '24 - 200 g pkgs.', 34.8)\n",
      "(60, 'Camembert Pierrot', 28, 4, '15 - 300 g rounds', 34.0)\n",
      "(64, 'Wimmers gute Semmelknödel', 12, 5, '20 bags x 4 pieces', 33.25)\n",
      "(53, 'Perth Pasties', 24, 6, '48 pieces', 32.8)\n",
      "(32, 'Mascarpone Fabioli', 14, 4, '24 - 200 g pkgs.', 32.0)\n",
      "(26, 'Gumbär Gummibärchen', 11, 3, '100 - 250 g bags', 31.23)\n",
      "(10, 'Ikura', 4, 8, '12 - 200 ml jars', 31.0)\n",
      "(7, \"Uncle Bob's Organic Dried Pears\", 3, 7, '12 - 1 lb pkgs.', 30.0)\n",
      "(61, \"Sirop d'érable\", 29, 2, '24 - 500 ml bottles', 28.5)\n",
      "(37, 'Gravad lax', 17, 8, '12 - 500 g pkgs.', 26.0)\n",
      "(30, 'Nord-Ost Matjeshering', 13, 8, '10 - 200 g glasses', 25.89)\n",
      "(6, \"Grandma's Boysenberry Spread\", 3, 2, '12 - 8 oz jars', 25.0)\n",
      "(55, 'Pâté chinois', 25, 6, '24 boxes x 2 pies', 24.0)\n",
      "(14, 'Tofu', 6, 7, '40 - 100 g pkgs.', 23.25)\n",
      "(4, \"Chef Anton's Cajun Seasoning\", 2, 2, '48 - 6 oz jars', 22.0)\n",
      "(71, 'Fløtemysost', 15, 4, '10 - 500 g pkgs.', 21.5)\n",
      "(5, \"Chef Anton's Gumbo Mix\", 2, 2, '36 boxes', 21.35)\n",
      "(65, 'Louisiana Fiery Hot Pepper Sauce', 2, 2, '32 - 8 oz bottles', 21.05)\n",
      "(11, 'Queso Cabrales', 5, 4, '1 kg pkg.', 21.0)\n",
      "(22, \"Gustaf's Knäckebröd\", 9, 5, '24 - 500 g pkgs.', 21.0)\n",
      "(49, 'Maxilaku', 23, 3, '24 - 50 g pkgs.', 20.0)\n",
      "(57, 'Ravioli Angelo', 26, 5, '24 - 250 g pkgs.', 19.5)\n",
      "(44, 'Gula Malacca', 20, 2, '20 - 2 kg bags', 19.45)\n",
      "(2, 'Chang', 1, 1, '24 - 12 oz bottles', 19.0)\n",
      "(36, 'Inlagd Sill', 17, 8, '24 - 250 g jars', 19.0)\n",
      "(40, 'Boston Crab Meat', 19, 8, '24 - 4 oz tins', 18.4)\n",
      "(1, 'Chais', 1, 1, '10 boxes x 20 bags', 18.0)\n",
      "(35, 'Steeleye Stout', 16, 1, '24 - 12 oz bottles', 18.0)\n",
      "(39, 'Chartreuse verte', 18, 1, '750 cc per bottle', 18.0)\n",
      "(76, 'Lakkalikööri', 23, 1, '500 ml ', 18.0)\n",
      "(16, 'Pavlova', 7, 3, '32 - 500 g boxes', 17.45)\n",
      "(66, 'Louisiana Hot Spiced Okra', 2, 2, '24 - 8 oz jars', 17.0)\n",
      "(50, 'Valkoinen suklaa', 23, 3, '12 - 100 g bars', 16.25)\n",
      "(15, 'Genen Shouyu', 6, 2, '24 - 250 ml bottles', 15.5)\n",
      "(70, 'Outback Lager', 7, 1, '24 - 355 ml bottles', 15.0)\n",
      "(73, 'Röd Kaviar', 17, 8, '24 - 150 g jars', 15.0)\n",
      "(25, 'NuNuCa Nuß-Nougat-Creme', 11, 3, '20 - 450 g glasses', 14.0)\n",
      "(34, 'Sasquatch Ale', 16, 1, '24 - 12 oz bottles', 14.0)\n",
      "(42, 'Singaporean Hokkien Fried Mee', 20, 5, '32 - 1 kg pkgs.', 14.0)\n",
      "(67, 'Laughing Lumberjack Lager', 16, 1, '24 - 12 oz bottles', 14.0)\n",
      "(58, 'Escargots de Bourgogne', 27, 8, '24 pieces', 13.25)\n",
      "(77, 'Original Frankfurter grüne Soße', 12, 2, '12 boxes', 13.0)\n",
      "(48, 'Chocolade', 22, 3, '10 pkgs.', 12.75)\n",
      "(31, 'Gorgonzola Telino', 14, 4, '12 - 100 g pkgs', 12.5)\n",
      "(68, 'Scottish Longbreads', 8, 3, '10 boxes x 8 pieces', 12.5)\n",
      "(46, 'Spegesild', 21, 8, '4 - 450 g glasses', 12.0)\n",
      "(3, 'Aniseed Syrup', 1, 2, '12 - 550 ml bottles', 10.0)\n",
      "(21, \"Sir Rodney's Scones\", 8, 3, '24 pkgs. x 4 pieces', 10.0)\n",
      "(74, 'Longlife Tofu', 4, 7, '5 kg pkg.', 10.0)\n",
      "(41, \"Jack's New England Clam Chowder\", 19, 8, '12 - 12 oz cans', 9.65)\n",
      "(45, 'Røgede sild', 21, 8, '1k pkg.', 9.5)\n",
      "(47, 'Zaanse koeken', 22, 3, '10 - 4 oz boxes', 9.5)\n",
      "(19, 'Teatime Chocolate Biscuits', 8, 3, '10 boxes x 12 pieces', 9.2)\n",
      "(23, 'Tunnbröd', 9, 5, '12 - 250 g pkgs.', 9.0)\n",
      "(75, 'Rhönbräu Klosterbier', 12, 1, '24 - 0.5 l bottles', 7.75)\n",
      "(54, 'Tourtière', 25, 6, '16 pies', 7.45)\n",
      "(52, 'Filo Mix', 24, 5, '16 - 2 kg boxes', 7.0)\n",
      "(13, 'Konbu', 6, 8, '2 kg box', 6.0)\n",
      "(24, 'Guaraná Fantástica', 10, 1, '12 - 355 ml cans', 4.5)\n",
      "(33, 'Geitost', 15, 4, '500 g', 2.5)\n"
     ]
    }
   ],
   "source": [
    "query = \"\"\"\n",
    "SELECT * FROM Products\n",
    "ORDER BY Price DESC;\n",
    "\"\"\"\n",
    "print_query_result(query)"
   ]
  },
  {
   "cell_type": "markdown",
   "id": "1a9d0ff8",
   "metadata": {},
   "source": [
    "## Order Alphabetically"
   ]
  },
  {
   "cell_type": "code",
   "execution_count": 18,
   "id": "88387eee",
   "metadata": {},
   "outputs": [
    {
     "name": "stdout",
     "output_type": "stream",
     "text": [
      "(17, 'Alice Mutton', 7, 6, '20 - 1 kg tins', 39.0)\n",
      "(3, 'Aniseed Syrup', 1, 2, '12 - 550 ml bottles', 10.0)\n",
      "(40, 'Boston Crab Meat', 19, 8, '24 - 4 oz tins', 18.4)\n",
      "(60, 'Camembert Pierrot', 28, 4, '15 - 300 g rounds', 34.0)\n",
      "(18, 'Carnarvon Tigers', 7, 8, '16 kg pkg.', 62.5)\n",
      "(1, 'Chais', 1, 1, '10 boxes x 20 bags', 18.0)\n",
      "(2, 'Chang', 1, 1, '24 - 12 oz bottles', 19.0)\n",
      "(39, 'Chartreuse verte', 18, 1, '750 cc per bottle', 18.0)\n",
      "(4, \"Chef Anton's Cajun Seasoning\", 2, 2, '48 - 6 oz jars', 22.0)\n",
      "(5, \"Chef Anton's Gumbo Mix\", 2, 2, '36 boxes', 21.35)\n",
      "(48, 'Chocolade', 22, 3, '10 pkgs.', 12.75)\n",
      "(38, 'Côte de Blaye', 18, 1, '12 - 75 cl bottles', 263.5)\n",
      "(58, 'Escargots de Bourgogne', 27, 8, '24 pieces', 13.25)\n",
      "(52, 'Filo Mix', 24, 5, '16 - 2 kg boxes', 7.0)\n",
      "(71, 'Fløtemysost', 15, 4, '10 - 500 g pkgs.', 21.5)\n",
      "(33, 'Geitost', 15, 4, '500 g', 2.5)\n",
      "(15, 'Genen Shouyu', 6, 2, '24 - 250 ml bottles', 15.5)\n",
      "(56, 'Gnocchi di nonna Alice', 26, 5, '24 - 250 g pkgs.', 38.0)\n",
      "(31, 'Gorgonzola Telino', 14, 4, '12 - 100 g pkgs', 12.5)\n",
      "(6, \"Grandma's Boysenberry Spread\", 3, 2, '12 - 8 oz jars', 25.0)\n",
      "(37, 'Gravad lax', 17, 8, '12 - 500 g pkgs.', 26.0)\n",
      "(24, 'Guaraná Fantástica', 10, 1, '12 - 355 ml cans', 4.5)\n",
      "(69, 'Gudbrandsdalsost', 15, 4, '10 kg pkg.', 36.0)\n",
      "(44, 'Gula Malacca', 20, 2, '20 - 2 kg bags', 19.45)\n",
      "(26, 'Gumbär Gummibärchen', 11, 3, '100 - 250 g bags', 31.23)\n",
      "(22, \"Gustaf's Knäckebröd\", 9, 5, '24 - 500 g pkgs.', 21.0)\n",
      "(10, 'Ikura', 4, 8, '12 - 200 ml jars', 31.0)\n",
      "(36, 'Inlagd Sill', 17, 8, '24 - 250 g jars', 19.0)\n",
      "(43, 'Ipoh Coffee', 20, 1, '16 - 500 g tins', 46.0)\n",
      "(41, \"Jack's New England Clam Chowder\", 19, 8, '12 - 12 oz cans', 9.65)\n",
      "(13, 'Konbu', 6, 8, '2 kg box', 6.0)\n",
      "(76, 'Lakkalikööri', 23, 1, '500 ml ', 18.0)\n",
      "(67, 'Laughing Lumberjack Lager', 16, 1, '24 - 12 oz bottles', 14.0)\n",
      "(74, 'Longlife Tofu', 4, 7, '5 kg pkg.', 10.0)\n",
      "(65, 'Louisiana Fiery Hot Pepper Sauce', 2, 2, '32 - 8 oz bottles', 21.05)\n",
      "(66, 'Louisiana Hot Spiced Okra', 2, 2, '24 - 8 oz jars', 17.0)\n",
      "(51, 'Manjimup Dried Apples', 24, 7, '50 - 300 g pkgs.', 53.0)\n",
      "(32, 'Mascarpone Fabioli', 14, 4, '24 - 200 g pkgs.', 32.0)\n",
      "(49, 'Maxilaku', 23, 3, '24 - 50 g pkgs.', 20.0)\n",
      "(9, 'Mishi Kobe Niku', 4, 6, '18 - 500 g pkgs.', 97.0)\n",
      "(72, 'Mozzarella di Giovanni', 14, 4, '24 - 200 g pkgs.', 34.8)\n",
      "(30, 'Nord-Ost Matjeshering', 13, 8, '10 - 200 g glasses', 25.89)\n",
      "(8, 'Northwoods Cranberry Sauce', 3, 2, '12 - 12 oz jars', 40.0)\n",
      "(25, 'NuNuCa Nuß-Nougat-Creme', 11, 3, '20 - 450 g glasses', 14.0)\n",
      "(77, 'Original Frankfurter grüne Soße', 12, 2, '12 boxes', 13.0)\n",
      "(70, 'Outback Lager', 7, 1, '24 - 355 ml bottles', 15.0)\n",
      "(16, 'Pavlova', 7, 3, '32 - 500 g boxes', 17.45)\n",
      "(53, 'Perth Pasties', 24, 6, '48 pieces', 32.8)\n",
      "(55, 'Pâté chinois', 25, 6, '24 boxes x 2 pies', 24.0)\n",
      "(11, 'Queso Cabrales', 5, 4, '1 kg pkg.', 21.0)\n",
      "(12, 'Queso Manchego La Pastora', 5, 4, '10 - 500 g pkgs.', 38.0)\n",
      "(59, 'Raclette Courdavault', 28, 4, '5 kg pkg.', 55.0)\n",
      "(57, 'Ravioli Angelo', 26, 5, '24 - 250 g pkgs.', 19.5)\n",
      "(75, 'Rhönbräu Klosterbier', 12, 1, '24 - 0.5 l bottles', 7.75)\n",
      "(73, 'Röd Kaviar', 17, 8, '24 - 150 g jars', 15.0)\n",
      "(28, 'Rössle Sauerkraut', 12, 7, '25 - 825 g cans', 45.6)\n",
      "(45, 'Røgede sild', 21, 8, '1k pkg.', 9.5)\n",
      "(34, 'Sasquatch Ale', 16, 1, '24 - 12 oz bottles', 14.0)\n",
      "(27, 'Schoggi Schokolade', 11, 3, '100 - 100 g pieces', 43.9)\n",
      "(68, 'Scottish Longbreads', 8, 3, '10 boxes x 8 pieces', 12.5)\n",
      "(42, 'Singaporean Hokkien Fried Mee', 20, 5, '32 - 1 kg pkgs.', 14.0)\n",
      "(20, \"Sir Rodney's Marmalade\", 8, 3, '30 gift boxes', 81.0)\n",
      "(21, \"Sir Rodney's Scones\", 8, 3, '24 pkgs. x 4 pieces', 10.0)\n",
      "(61, \"Sirop d'érable\", 29, 2, '24 - 500 ml bottles', 28.5)\n",
      "(46, 'Spegesild', 21, 8, '4 - 450 g glasses', 12.0)\n",
      "(35, 'Steeleye Stout', 16, 1, '24 - 12 oz bottles', 18.0)\n",
      "(62, 'Tarte au sucre', 29, 3, '48 pies', 49.3)\n",
      "(19, 'Teatime Chocolate Biscuits', 8, 3, '10 boxes x 12 pieces', 9.2)\n",
      "(29, 'Thüringer Rostbratwurst', 12, 6, '50 bags x 30 sausgs.', 123.79)\n",
      "(14, 'Tofu', 6, 7, '40 - 100 g pkgs.', 23.25)\n",
      "(54, 'Tourtière', 25, 6, '16 pies', 7.45)\n",
      "(23, 'Tunnbröd', 9, 5, '12 - 250 g pkgs.', 9.0)\n",
      "(7, \"Uncle Bob's Organic Dried Pears\", 3, 7, '12 - 1 lb pkgs.', 30.0)\n",
      "(50, 'Valkoinen suklaa', 23, 3, '12 - 100 g bars', 16.25)\n",
      "(63, 'Vegie-spread', 7, 2, '15 - 625 g jars', 43.9)\n",
      "(64, 'Wimmers gute Semmelknödel', 12, 5, '20 bags x 4 pieces', 33.25)\n",
      "(47, 'Zaanse koeken', 22, 3, '10 - 4 oz boxes', 9.5)\n"
     ]
    }
   ],
   "source": [
    "query = \"\"\"\n",
    "SELECT * FROM Products\n",
    "ORDER BY ProductName;\n",
    "\"\"\"\n",
    "print_query_result(query)"
   ]
  },
  {
   "cell_type": "markdown",
   "id": "c5b23867",
   "metadata": {},
   "source": [
    "## Alphabetically DESC"
   ]
  },
  {
   "cell_type": "code",
   "execution_count": 19,
   "id": "a705c74b",
   "metadata": {},
   "outputs": [
    {
     "name": "stdout",
     "output_type": "stream",
     "text": [
      "(47, 'Zaanse koeken', 22, 3, '10 - 4 oz boxes', 9.5)\n",
      "(64, 'Wimmers gute Semmelknödel', 12, 5, '20 bags x 4 pieces', 33.25)\n",
      "(63, 'Vegie-spread', 7, 2, '15 - 625 g jars', 43.9)\n",
      "(50, 'Valkoinen suklaa', 23, 3, '12 - 100 g bars', 16.25)\n",
      "(7, \"Uncle Bob's Organic Dried Pears\", 3, 7, '12 - 1 lb pkgs.', 30.0)\n",
      "(23, 'Tunnbröd', 9, 5, '12 - 250 g pkgs.', 9.0)\n",
      "(54, 'Tourtière', 25, 6, '16 pies', 7.45)\n",
      "(14, 'Tofu', 6, 7, '40 - 100 g pkgs.', 23.25)\n",
      "(29, 'Thüringer Rostbratwurst', 12, 6, '50 bags x 30 sausgs.', 123.79)\n",
      "(19, 'Teatime Chocolate Biscuits', 8, 3, '10 boxes x 12 pieces', 9.2)\n",
      "(62, 'Tarte au sucre', 29, 3, '48 pies', 49.3)\n",
      "(35, 'Steeleye Stout', 16, 1, '24 - 12 oz bottles', 18.0)\n",
      "(46, 'Spegesild', 21, 8, '4 - 450 g glasses', 12.0)\n",
      "(61, \"Sirop d'érable\", 29, 2, '24 - 500 ml bottles', 28.5)\n",
      "(21, \"Sir Rodney's Scones\", 8, 3, '24 pkgs. x 4 pieces', 10.0)\n",
      "(20, \"Sir Rodney's Marmalade\", 8, 3, '30 gift boxes', 81.0)\n",
      "(42, 'Singaporean Hokkien Fried Mee', 20, 5, '32 - 1 kg pkgs.', 14.0)\n",
      "(68, 'Scottish Longbreads', 8, 3, '10 boxes x 8 pieces', 12.5)\n",
      "(27, 'Schoggi Schokolade', 11, 3, '100 - 100 g pieces', 43.9)\n",
      "(34, 'Sasquatch Ale', 16, 1, '24 - 12 oz bottles', 14.0)\n",
      "(45, 'Røgede sild', 21, 8, '1k pkg.', 9.5)\n",
      "(28, 'Rössle Sauerkraut', 12, 7, '25 - 825 g cans', 45.6)\n",
      "(73, 'Röd Kaviar', 17, 8, '24 - 150 g jars', 15.0)\n",
      "(75, 'Rhönbräu Klosterbier', 12, 1, '24 - 0.5 l bottles', 7.75)\n",
      "(57, 'Ravioli Angelo', 26, 5, '24 - 250 g pkgs.', 19.5)\n",
      "(59, 'Raclette Courdavault', 28, 4, '5 kg pkg.', 55.0)\n",
      "(12, 'Queso Manchego La Pastora', 5, 4, '10 - 500 g pkgs.', 38.0)\n",
      "(11, 'Queso Cabrales', 5, 4, '1 kg pkg.', 21.0)\n",
      "(55, 'Pâté chinois', 25, 6, '24 boxes x 2 pies', 24.0)\n",
      "(53, 'Perth Pasties', 24, 6, '48 pieces', 32.8)\n",
      "(16, 'Pavlova', 7, 3, '32 - 500 g boxes', 17.45)\n",
      "(70, 'Outback Lager', 7, 1, '24 - 355 ml bottles', 15.0)\n",
      "(77, 'Original Frankfurter grüne Soße', 12, 2, '12 boxes', 13.0)\n",
      "(25, 'NuNuCa Nuß-Nougat-Creme', 11, 3, '20 - 450 g glasses', 14.0)\n",
      "(8, 'Northwoods Cranberry Sauce', 3, 2, '12 - 12 oz jars', 40.0)\n",
      "(30, 'Nord-Ost Matjeshering', 13, 8, '10 - 200 g glasses', 25.89)\n",
      "(72, 'Mozzarella di Giovanni', 14, 4, '24 - 200 g pkgs.', 34.8)\n",
      "(9, 'Mishi Kobe Niku', 4, 6, '18 - 500 g pkgs.', 97.0)\n",
      "(49, 'Maxilaku', 23, 3, '24 - 50 g pkgs.', 20.0)\n",
      "(32, 'Mascarpone Fabioli', 14, 4, '24 - 200 g pkgs.', 32.0)\n",
      "(51, 'Manjimup Dried Apples', 24, 7, '50 - 300 g pkgs.', 53.0)\n",
      "(66, 'Louisiana Hot Spiced Okra', 2, 2, '24 - 8 oz jars', 17.0)\n",
      "(65, 'Louisiana Fiery Hot Pepper Sauce', 2, 2, '32 - 8 oz bottles', 21.05)\n",
      "(74, 'Longlife Tofu', 4, 7, '5 kg pkg.', 10.0)\n",
      "(67, 'Laughing Lumberjack Lager', 16, 1, '24 - 12 oz bottles', 14.0)\n",
      "(76, 'Lakkalikööri', 23, 1, '500 ml ', 18.0)\n",
      "(13, 'Konbu', 6, 8, '2 kg box', 6.0)\n",
      "(41, \"Jack's New England Clam Chowder\", 19, 8, '12 - 12 oz cans', 9.65)\n",
      "(43, 'Ipoh Coffee', 20, 1, '16 - 500 g tins', 46.0)\n",
      "(36, 'Inlagd Sill', 17, 8, '24 - 250 g jars', 19.0)\n",
      "(10, 'Ikura', 4, 8, '12 - 200 ml jars', 31.0)\n",
      "(22, \"Gustaf's Knäckebröd\", 9, 5, '24 - 500 g pkgs.', 21.0)\n",
      "(26, 'Gumbär Gummibärchen', 11, 3, '100 - 250 g bags', 31.23)\n",
      "(44, 'Gula Malacca', 20, 2, '20 - 2 kg bags', 19.45)\n",
      "(69, 'Gudbrandsdalsost', 15, 4, '10 kg pkg.', 36.0)\n",
      "(24, 'Guaraná Fantástica', 10, 1, '12 - 355 ml cans', 4.5)\n",
      "(37, 'Gravad lax', 17, 8, '12 - 500 g pkgs.', 26.0)\n",
      "(6, \"Grandma's Boysenberry Spread\", 3, 2, '12 - 8 oz jars', 25.0)\n",
      "(31, 'Gorgonzola Telino', 14, 4, '12 - 100 g pkgs', 12.5)\n",
      "(56, 'Gnocchi di nonna Alice', 26, 5, '24 - 250 g pkgs.', 38.0)\n",
      "(15, 'Genen Shouyu', 6, 2, '24 - 250 ml bottles', 15.5)\n",
      "(33, 'Geitost', 15, 4, '500 g', 2.5)\n",
      "(71, 'Fløtemysost', 15, 4, '10 - 500 g pkgs.', 21.5)\n",
      "(52, 'Filo Mix', 24, 5, '16 - 2 kg boxes', 7.0)\n",
      "(58, 'Escargots de Bourgogne', 27, 8, '24 pieces', 13.25)\n",
      "(38, 'Côte de Blaye', 18, 1, '12 - 75 cl bottles', 263.5)\n",
      "(48, 'Chocolade', 22, 3, '10 pkgs.', 12.75)\n",
      "(5, \"Chef Anton's Gumbo Mix\", 2, 2, '36 boxes', 21.35)\n",
      "(4, \"Chef Anton's Cajun Seasoning\", 2, 2, '48 - 6 oz jars', 22.0)\n",
      "(39, 'Chartreuse verte', 18, 1, '750 cc per bottle', 18.0)\n",
      "(2, 'Chang', 1, 1, '24 - 12 oz bottles', 19.0)\n",
      "(1, 'Chais', 1, 1, '10 boxes x 20 bags', 18.0)\n",
      "(18, 'Carnarvon Tigers', 7, 8, '16 kg pkg.', 62.5)\n",
      "(60, 'Camembert Pierrot', 28, 4, '15 - 300 g rounds', 34.0)\n",
      "(40, 'Boston Crab Meat', 19, 8, '24 - 4 oz tins', 18.4)\n",
      "(3, 'Aniseed Syrup', 1, 2, '12 - 550 ml bottles', 10.0)\n",
      "(17, 'Alice Mutton', 7, 6, '20 - 1 kg tins', 39.0)\n"
     ]
    }
   ],
   "source": [
    "query = \"\"\"\n",
    "SELECT * FROM Products\n",
    "ORDER BY ProductName DESC;\n",
    "\"\"\"\n",
    "print_query_result(query)"
   ]
  },
  {
   "cell_type": "markdown",
   "id": "2d4f152e",
   "metadata": {},
   "source": [
    "## ORDER BY Several Columns"
   ]
  },
  {
   "cell_type": "code",
   "execution_count": 20,
   "id": "f1096276",
   "metadata": {},
   "outputs": [
    {
     "name": "stdout",
     "output_type": "stream",
     "text": [
      "(91, 'Wolski', 'Zbyszek', 'ul. Filtrowa 68', 'Walla', '01-012', None)\n",
      "(12, 'Cactus Comidas para llevar', 'Patricio Simpson', 'Cerrito 333', 'Buenos Aires', '1010', 'Argentina')\n",
      "(54, 'Océano Atlántico Ltda.', 'Yvonne Moncada', 'Ing. Gustavo Moncada 8585 Piso 20-A', 'Buenos Aires', '1010', 'Argentina')\n",
      "(64, 'Rancho grande', 'Sergio Gutiérrez', 'Av. del Libertador 900', 'Buenos Aires', '1010', 'Argentina')\n",
      "(20, 'Ernst Handel', 'Roland Mendel', 'Kirchgasse 6', 'Graz', '8010', 'Austria')\n",
      "(59, 'Piccolo und mehr', 'Georg Pipps', 'Geislweg 14', 'Salzburg', '5020', 'Austria')\n",
      "(50, 'Maison Dewey', 'Catherine Dewey', 'Rue Joseph-Bens 532', 'Bruxelles', 'B-1180', 'Belgium')\n",
      "(76, 'Suprêmes délices', 'Pascale Cartrain', 'Boulevard Tirou, 255', 'Charleroi', 'B-6000', 'Belgium')\n",
      "(15, 'Comércio Mineiro', 'Pedro Afonso', 'Av. dos Lusíadas, 23', 'São Paulo', '05432-043', 'Brazil')\n",
      "(21, 'Familia Arquibaldo', 'Aria Cruz', 'Rua Orós, 92', 'São Paulo', '05442-030', 'Brazil')\n",
      "(31, 'Gourmet Lanchonetes', 'André Fonseca', 'Av. Brasil, 442', 'Campinas', '04876-786', 'Brazil')\n",
      "(34, 'Hanari Carnes', 'Mario Pontes', 'Rua do Paço, 67', 'Rio de Janeiro', '05454-876', 'Brazil')\n",
      "(61, 'Que Delícia', 'Bernardo Batista', 'Rua da Panificadora, 12', 'Rio de Janeiro', '02389-673', 'Brazil')\n",
      "(62, 'Queen Cozinha', 'Lúcia Carvalho', 'Alameda dos Canàrios, 891', 'São Paulo', '05487-020', 'Brazil')\n",
      "(67, 'Ricardo Adocicados', 'Janete Limeira', 'Av. Copacabana, 267', 'Rio de Janeiro', '02389-890', 'Brazil')\n",
      "(81, 'Tradição Hipermercados', 'Anabela Domingues', 'Av. Inês de Castro, 414', 'São Paulo', '05634-030', 'Brazil')\n",
      "(88, 'Wellington Importadora', 'Paula Parente', 'Rua do Mercado, 12', 'Resende', '08737-363', 'Brazil')\n",
      "(10, 'Bottom-Dollar Marketse', 'Elizabeth Lincoln', '23 Tsawassen Blvd.', 'Tsawassen', 'T2F 8M4', 'Canada')\n",
      "(42, 'Laughing Bacchus Wine Cellars', 'Yoshi Tannamuri', '1900 Oak St.', 'Vancouver', 'V3F 2K1', 'Canada')\n",
      "(51, 'Mère Paillarde', 'Jean Fresnière', '43 rue St. Laurent', 'Montréal', 'H1J 1C3', 'Canada')\n",
      "(73, 'Simons bistro', 'Jytte Petersen', 'Vinbæltet 34', 'København', '1734', 'Denmark')\n",
      "(83, 'Vaffeljernet', 'Palle Ibsen', 'Smagsløget 45', 'Århus', '8200', 'Denmark')\n",
      "(87, 'Wartian Herkku', 'Pirkko Koskitalo', 'Torikatu 38', 'Oulu', '90110', 'Finland')\n",
      "(90, 'Wilman Kala', 'Matti Karttunen', 'Keskuskatu 45', 'Helsinki', '21240', 'Finland')\n",
      "(7, 'Blondel père et fils', 'Frédérique Citeaux', '24, place Kléber', 'Strasbourg', '67000', 'France')\n",
      "(9, \"Bon app'\", 'Laurence Lebihans', '12, rue des Bouchers', 'Marseille', '13008', 'France')\n",
      "(18, 'Du monde entier', 'Janine Labrune', '67, rue des Cinquante Otages', 'Nantes', '44000', 'France')\n",
      "(23, 'Folies gourmandes', 'Martine Rancé', '184, chaussée de Tournai', 'Lille', '59000', 'France')\n",
      "(26, 'France restauration', 'Carine Schmitt', '54, rue Royale', 'Nantes', '44000', 'France')\n",
      "(40, \"La corne d'abondance\", 'Daniel Tonini', \"67, avenue de l'Europe\", 'Versailles', '78000', 'France')\n",
      "(41, \"La maison d'Asie\", 'Annette Roulet', '1 rue Alsace-Lorraine', 'Toulouse', '31000', 'France')\n",
      "(57, 'Paris spécialités', 'Marie Bertrand', '265, boulevard Charonne', 'Paris', '75012', 'France')\n",
      "(74, 'Spécialités du monde', 'Dominique Perrier', '25, rue Lauriston', 'Paris', '75016', 'France')\n",
      "(84, 'Victuailles en stock', 'Mary Saveley', '2, rue du Commerce', 'Lyon', '69004', 'France')\n",
      "(85, 'Vins et alcools Chevalier', 'Paul Henriot', \"59 rue de l'Abbaye\", 'Reims', '51100', 'France')\n",
      "(1, 'Alfreds Futterkiste', 'Maria Anders', 'Obere Str. 57', 'Berlin', '12209', 'Germany')\n",
      "(6, 'Blauer See Delikatessen', 'Hanna Moos', 'Forsterstr. 57', 'Mannheim', '68306', 'Germany')\n",
      "(86, 'Die Wandernde Kuh', 'Rita Müller', 'Adenauerallee 900', 'Stuttgart', '70563', 'Germany')\n",
      "(17, 'Drachenblut Delikatessend', 'Sven Ottlieb', 'Walserweg 21', 'Aachen', '52066', 'Germany')\n",
      "(25, 'Frankenversand', 'Peter Franken', 'Berliner Platz 43', 'München', '80805', 'Germany')\n",
      "(39, 'Königlich Essen', 'Philip Cramer', 'Maubelstr. 90', 'Brandenburg', '14776', 'Germany')\n",
      "(44, 'Lehmanns Marktstand', 'Renate Messner', 'Magazinweg 7', 'Frankfurt a.M. ', '60528', 'Germany')\n",
      "(52, 'Morgenstern Gesundkost', 'Alexander Feuer', 'Heerstr. 22', 'Leipzig', '04179', 'Germany')\n",
      "(56, 'Ottilies Käseladen', 'Henriette Pfalzheim', 'Mehrheimerstr. 369', 'Köln', '50739', 'Germany')\n",
      "(63, 'QUICK-Stop', 'Horst Kloss', 'Taucherstraße 10', 'Cunewalde', '01307', 'Germany')\n",
      "(79, 'Toms Spezialitäten', 'Karin Josephs', 'Luisenstr. 48', 'Münster', '44087', 'Germany')\n",
      "(37, 'Hungry Owl All-Night Grocers', 'Patricia McKenna', '8 Johnstown Road', 'Cork', None, 'Ireland')\n",
      "(27, 'Franchi S.p.A.', 'Paolo Accorti', 'Via Monte Bianco 34', 'Torino', '10100', 'Italy')\n",
      "(49, 'Magazzini Alimentari Riuniti', 'Giovanni Rovelli', 'Via Ludovico il Moro 22', 'Bergamo', '24100', 'Italy')\n",
      "(66, 'Reggiani Caseifici', 'Maurizio Moroni', 'Strada Provinciale 124', 'Reggio Emilia', '42100', 'Italy')\n",
      "(2, 'Ana Trujillo Emparedados y helados', 'Ana Trujillo', 'Avda. de la Constitución 2222', 'México D.F.', '05021', 'Mexico')\n",
      "(3, 'Antonio Moreno Taquería', 'Antonio Moreno', 'Mataderos 2312', 'México D.F.', '05023', 'Mexico')\n",
      "(13, 'Centro comercial Moctezuma', 'Francisco Chang', 'Sierras de Granada 9993', 'México D.F.', '05022', 'Mexico')\n",
      "(58, 'Pericles Comidas clásicas', 'Guillermo Fernández', 'Calle Dr. Jorge Cash 321', 'México D.F.', '05033', 'Mexico')\n",
      "(80, 'Tortuga Restaurante', 'Miguel Angel Paolino', 'Avda. Azteca 123', 'México D.F.', '05033', 'Mexico')\n",
      "(70, 'Santé Gourmet', 'Jonas Bergulfsen', 'Erling Skakkes gate 78', 'Stavern', '4110', 'Norway')\n",
      "(28, 'Furia Bacalhau e Frutos do Mar', 'Lino Rodriguez ', 'Jardim das rosas n. 32', 'Lisboa', '1675', 'Portugal')\n",
      "(60, 'Princesa Isabel Vinhoss', 'Isabel de Castro', 'Estrada da saúde n. 58', 'Lisboa', '1756', 'Portugal')\n",
      "(8, 'Bólido Comidas preparadas', 'Martín Sommer', 'C/ Araquil, 67', 'Madrid', '28023', 'Spain')\n",
      "(22, 'FISSA Fabrica Inter. Salchichas S.A.', 'Diego Roel', 'C/ Moralzarzal, 86', 'Madrid', '28034', 'Spain')\n",
      "(29, 'Galería del gastrónomo', 'Eduardo Saavedra', 'Rambla de Cataluña, 23', 'Barcelona', '08022', 'Spain')\n",
      "(30, 'Godos Cocina Típica', 'José Pedro Freyre', 'C/ Romero, 33', 'Sevilla', '41101', 'Spain')\n",
      "(69, 'Romero y tomillo', 'Alejandra Camino', 'Gran Vía, 1', 'Madrid', '28001', 'Spain')\n",
      "(5, 'Berglunds snabbköp', 'Christina Berglund', 'Berguvsvägen 8', 'Luleå', 'S-958 22', 'Sweden')\n",
      "(24, 'Folk och fä HB', 'Maria Larsson', 'Åkergatan 24', 'Bräcke', 'S-844 67', 'Sweden')\n",
      "(14, 'Chop-suey Chinese', 'Yang Wang', 'Hauptstr. 29', 'Bern', '3012', 'Switzerland')\n",
      "(68, 'Richter Supermarkt', 'Michael Holz', 'Grenzacherweg 237', 'Genève', '1203', 'Switzerland')\n",
      "(4, 'Around the Horn', 'Thomas Hardy', '120 Hanover Sq.', 'London', 'WA1 1DP', 'UK')\n",
      "(11, \"B's Beverages\", 'Victoria Ashworth', 'Fauntleroy Circus', 'London', 'EC2 5NT', 'UK')\n",
      "(16, 'Consolidated Holdings', 'Elizabeth Brown', 'Berkeley Gardens 12 Brewery ', 'London', 'WX1 6LT', 'UK')\n",
      "(19, 'Eastern Connection', 'Ann Devon', '35 King George', 'London', 'WX3 6FW', 'UK')\n",
      "(38, 'Island Trading', 'Helen Bennett', 'Garden House Crowther Way', 'Cowes', 'PO31 7PJ', 'UK')\n",
      "(53, 'North/South', 'Simon Crowther', 'South House 300 Queensbridge', 'London', 'SW7 1RZ', 'UK')\n",
      "(72, 'Seven Seas Imports', 'Hari Kumar', '90 Wadhurst Rd.', 'London', 'OX15 4NB', 'UK')\n",
      "(32, 'Great Lakes Food Market', 'Howard Snyder', '2732 Baker Blvd.', 'Eugene', '97403', 'USA')\n",
      "(36, 'Hungry Coyote Import Store', 'Yoshi Latimer', 'City Center Plaza 516 Main St.', 'Elgin', '97827', 'USA')\n",
      "(43, 'Lazy K Kountry Store', 'John Steel', '12 Orchestra Terrace', 'Walla Walla', '99362', 'USA')\n",
      "(45, \"Let's Stop N Shop\", 'Jaime Yorres', '87 Polk St. Suite 5', 'San Francisco', '94117', 'USA')\n",
      "(48, 'Lonesome Pine Restaurant', 'Fran Wilson', '89 Chiaroscuro Rd.', 'Portland', '97219', 'USA')\n",
      "(55, 'Old World Delicatessen', 'Rene Phillips', '2743 Bering St.', 'Anchorage', '99508', 'USA')\n",
      "(65, 'Rattlesnake Canyon Grocery', 'Paula Wilson', '2817 Milton Dr.', 'Albuquerque', '87110', 'USA')\n",
      "(71, 'Save-a-lot Markets', 'Jose Pavarotti', '187 Suffolk Ln.', 'Boise', '83720', 'USA')\n",
      "(75, 'Split Rail Beer & Ale', 'Art Braunschweiger', 'P.O. Box 555', 'Lander', '82520', 'USA')\n",
      "(77, 'The Big Cheese', 'Liz Nixon', '89 Jefferson Way Suite 2', 'Portland', '97201', 'USA')\n",
      "(78, 'The Cracker Box', 'Liu Wong', '55 Grizzly Peak Rd.', 'Butte', '59801', 'USA')\n",
      "(82, \"Trail's Head Gourmet Provisioners\", 'Helvetius Nagy', '722 DaVinci Blvd.', 'Kirkland', '98034', 'USA')\n",
      "(89, 'White Clover Markets', 'Karl Jablonski', '305 - 14th Ave. S. Suite 3B', 'Seattle', '98128', 'USA')\n",
      "(33, 'GROSELLA-Restaurante', 'Manuel Pereira', '5ª Ave. Los Palos Grandes', 'Caracas', '1081', 'Venezuela')\n",
      "(35, 'HILARIÓN-Abastos', 'Carlos Hernández', 'Carrera 22 con Ave. Carlos Soublette #8-35', 'San Cristóbal', '5022', 'Venezuela')\n",
      "(46, 'LILA-Supermercado', 'Carlos González', 'Carrera 52 con Ave. Bolívar #65-98 Llano Largo', 'Barquisimeto', '3508', 'Venezuela')\n",
      "(47, 'LINO-Delicateses', 'Felipe Izquierdo', 'Ave. 5 de Mayo Porlamar', 'I. de Margarita', '4980', 'Venezuela')\n"
     ]
    }
   ],
   "source": [
    "query = \"\"\"\n",
    "SELECT * FROM Customers\n",
    "ORDER BY Country, CustomerName;\n",
    "\n",
    "\"\"\"\n",
    "print_query_result(query)"
   ]
  },
  {
   "cell_type": "markdown",
   "id": "dbb67e0a",
   "metadata": {},
   "source": [
    "## Using Both ASC and DESC"
   ]
  },
  {
   "cell_type": "code",
   "execution_count": 21,
   "id": "8a120f77",
   "metadata": {},
   "outputs": [
    {
     "name": "stdout",
     "output_type": "stream",
     "text": [
      "(91, 'Wolski', 'Zbyszek', 'ul. Filtrowa 68', 'Walla', '01-012', None)\n",
      "(64, 'Rancho grande', 'Sergio Gutiérrez', 'Av. del Libertador 900', 'Buenos Aires', '1010', 'Argentina')\n",
      "(54, 'Océano Atlántico Ltda.', 'Yvonne Moncada', 'Ing. Gustavo Moncada 8585 Piso 20-A', 'Buenos Aires', '1010', 'Argentina')\n",
      "(12, 'Cactus Comidas para llevar', 'Patricio Simpson', 'Cerrito 333', 'Buenos Aires', '1010', 'Argentina')\n",
      "(59, 'Piccolo und mehr', 'Georg Pipps', 'Geislweg 14', 'Salzburg', '5020', 'Austria')\n",
      "(20, 'Ernst Handel', 'Roland Mendel', 'Kirchgasse 6', 'Graz', '8010', 'Austria')\n",
      "(76, 'Suprêmes délices', 'Pascale Cartrain', 'Boulevard Tirou, 255', 'Charleroi', 'B-6000', 'Belgium')\n",
      "(50, 'Maison Dewey', 'Catherine Dewey', 'Rue Joseph-Bens 532', 'Bruxelles', 'B-1180', 'Belgium')\n",
      "(88, 'Wellington Importadora', 'Paula Parente', 'Rua do Mercado, 12', 'Resende', '08737-363', 'Brazil')\n",
      "(81, 'Tradição Hipermercados', 'Anabela Domingues', 'Av. Inês de Castro, 414', 'São Paulo', '05634-030', 'Brazil')\n",
      "(67, 'Ricardo Adocicados', 'Janete Limeira', 'Av. Copacabana, 267', 'Rio de Janeiro', '02389-890', 'Brazil')\n",
      "(62, 'Queen Cozinha', 'Lúcia Carvalho', 'Alameda dos Canàrios, 891', 'São Paulo', '05487-020', 'Brazil')\n",
      "(61, 'Que Delícia', 'Bernardo Batista', 'Rua da Panificadora, 12', 'Rio de Janeiro', '02389-673', 'Brazil')\n",
      "(34, 'Hanari Carnes', 'Mario Pontes', 'Rua do Paço, 67', 'Rio de Janeiro', '05454-876', 'Brazil')\n",
      "(31, 'Gourmet Lanchonetes', 'André Fonseca', 'Av. Brasil, 442', 'Campinas', '04876-786', 'Brazil')\n",
      "(21, 'Familia Arquibaldo', 'Aria Cruz', 'Rua Orós, 92', 'São Paulo', '05442-030', 'Brazil')\n",
      "(15, 'Comércio Mineiro', 'Pedro Afonso', 'Av. dos Lusíadas, 23', 'São Paulo', '05432-043', 'Brazil')\n",
      "(51, 'Mère Paillarde', 'Jean Fresnière', '43 rue St. Laurent', 'Montréal', 'H1J 1C3', 'Canada')\n",
      "(42, 'Laughing Bacchus Wine Cellars', 'Yoshi Tannamuri', '1900 Oak St.', 'Vancouver', 'V3F 2K1', 'Canada')\n",
      "(10, 'Bottom-Dollar Marketse', 'Elizabeth Lincoln', '23 Tsawassen Blvd.', 'Tsawassen', 'T2F 8M4', 'Canada')\n",
      "(83, 'Vaffeljernet', 'Palle Ibsen', 'Smagsløget 45', 'Århus', '8200', 'Denmark')\n",
      "(73, 'Simons bistro', 'Jytte Petersen', 'Vinbæltet 34', 'København', '1734', 'Denmark')\n",
      "(90, 'Wilman Kala', 'Matti Karttunen', 'Keskuskatu 45', 'Helsinki', '21240', 'Finland')\n",
      "(87, 'Wartian Herkku', 'Pirkko Koskitalo', 'Torikatu 38', 'Oulu', '90110', 'Finland')\n",
      "(85, 'Vins et alcools Chevalier', 'Paul Henriot', \"59 rue de l'Abbaye\", 'Reims', '51100', 'France')\n",
      "(84, 'Victuailles en stock', 'Mary Saveley', '2, rue du Commerce', 'Lyon', '69004', 'France')\n",
      "(74, 'Spécialités du monde', 'Dominique Perrier', '25, rue Lauriston', 'Paris', '75016', 'France')\n",
      "(57, 'Paris spécialités', 'Marie Bertrand', '265, boulevard Charonne', 'Paris', '75012', 'France')\n",
      "(41, \"La maison d'Asie\", 'Annette Roulet', '1 rue Alsace-Lorraine', 'Toulouse', '31000', 'France')\n",
      "(40, \"La corne d'abondance\", 'Daniel Tonini', \"67, avenue de l'Europe\", 'Versailles', '78000', 'France')\n",
      "(26, 'France restauration', 'Carine Schmitt', '54, rue Royale', 'Nantes', '44000', 'France')\n",
      "(23, 'Folies gourmandes', 'Martine Rancé', '184, chaussée de Tournai', 'Lille', '59000', 'France')\n",
      "(18, 'Du monde entier', 'Janine Labrune', '67, rue des Cinquante Otages', 'Nantes', '44000', 'France')\n",
      "(9, \"Bon app'\", 'Laurence Lebihans', '12, rue des Bouchers', 'Marseille', '13008', 'France')\n",
      "(7, 'Blondel père et fils', 'Frédérique Citeaux', '24, place Kléber', 'Strasbourg', '67000', 'France')\n",
      "(79, 'Toms Spezialitäten', 'Karin Josephs', 'Luisenstr. 48', 'Münster', '44087', 'Germany')\n",
      "(63, 'QUICK-Stop', 'Horst Kloss', 'Taucherstraße 10', 'Cunewalde', '01307', 'Germany')\n",
      "(56, 'Ottilies Käseladen', 'Henriette Pfalzheim', 'Mehrheimerstr. 369', 'Köln', '50739', 'Germany')\n",
      "(52, 'Morgenstern Gesundkost', 'Alexander Feuer', 'Heerstr. 22', 'Leipzig', '04179', 'Germany')\n",
      "(44, 'Lehmanns Marktstand', 'Renate Messner', 'Magazinweg 7', 'Frankfurt a.M. ', '60528', 'Germany')\n",
      "(39, 'Königlich Essen', 'Philip Cramer', 'Maubelstr. 90', 'Brandenburg', '14776', 'Germany')\n",
      "(25, 'Frankenversand', 'Peter Franken', 'Berliner Platz 43', 'München', '80805', 'Germany')\n",
      "(17, 'Drachenblut Delikatessend', 'Sven Ottlieb', 'Walserweg 21', 'Aachen', '52066', 'Germany')\n",
      "(86, 'Die Wandernde Kuh', 'Rita Müller', 'Adenauerallee 900', 'Stuttgart', '70563', 'Germany')\n",
      "(6, 'Blauer See Delikatessen', 'Hanna Moos', 'Forsterstr. 57', 'Mannheim', '68306', 'Germany')\n",
      "(1, 'Alfreds Futterkiste', 'Maria Anders', 'Obere Str. 57', 'Berlin', '12209', 'Germany')\n",
      "(37, 'Hungry Owl All-Night Grocers', 'Patricia McKenna', '8 Johnstown Road', 'Cork', None, 'Ireland')\n",
      "(66, 'Reggiani Caseifici', 'Maurizio Moroni', 'Strada Provinciale 124', 'Reggio Emilia', '42100', 'Italy')\n",
      "(49, 'Magazzini Alimentari Riuniti', 'Giovanni Rovelli', 'Via Ludovico il Moro 22', 'Bergamo', '24100', 'Italy')\n",
      "(27, 'Franchi S.p.A.', 'Paolo Accorti', 'Via Monte Bianco 34', 'Torino', '10100', 'Italy')\n",
      "(80, 'Tortuga Restaurante', 'Miguel Angel Paolino', 'Avda. Azteca 123', 'México D.F.', '05033', 'Mexico')\n",
      "(58, 'Pericles Comidas clásicas', 'Guillermo Fernández', 'Calle Dr. Jorge Cash 321', 'México D.F.', '05033', 'Mexico')\n",
      "(13, 'Centro comercial Moctezuma', 'Francisco Chang', 'Sierras de Granada 9993', 'México D.F.', '05022', 'Mexico')\n",
      "(3, 'Antonio Moreno Taquería', 'Antonio Moreno', 'Mataderos 2312', 'México D.F.', '05023', 'Mexico')\n",
      "(2, 'Ana Trujillo Emparedados y helados', 'Ana Trujillo', 'Avda. de la Constitución 2222', 'México D.F.', '05021', 'Mexico')\n",
      "(70, 'Santé Gourmet', 'Jonas Bergulfsen', 'Erling Skakkes gate 78', 'Stavern', '4110', 'Norway')\n",
      "(60, 'Princesa Isabel Vinhoss', 'Isabel de Castro', 'Estrada da saúde n. 58', 'Lisboa', '1756', 'Portugal')\n",
      "(28, 'Furia Bacalhau e Frutos do Mar', 'Lino Rodriguez ', 'Jardim das rosas n. 32', 'Lisboa', '1675', 'Portugal')\n",
      "(69, 'Romero y tomillo', 'Alejandra Camino', 'Gran Vía, 1', 'Madrid', '28001', 'Spain')\n",
      "(30, 'Godos Cocina Típica', 'José Pedro Freyre', 'C/ Romero, 33', 'Sevilla', '41101', 'Spain')\n",
      "(29, 'Galería del gastrónomo', 'Eduardo Saavedra', 'Rambla de Cataluña, 23', 'Barcelona', '08022', 'Spain')\n",
      "(22, 'FISSA Fabrica Inter. Salchichas S.A.', 'Diego Roel', 'C/ Moralzarzal, 86', 'Madrid', '28034', 'Spain')\n",
      "(8, 'Bólido Comidas preparadas', 'Martín Sommer', 'C/ Araquil, 67', 'Madrid', '28023', 'Spain')\n",
      "(24, 'Folk och fä HB', 'Maria Larsson', 'Åkergatan 24', 'Bräcke', 'S-844 67', 'Sweden')\n",
      "(5, 'Berglunds snabbköp', 'Christina Berglund', 'Berguvsvägen 8', 'Luleå', 'S-958 22', 'Sweden')\n",
      "(68, 'Richter Supermarkt', 'Michael Holz', 'Grenzacherweg 237', 'Genève', '1203', 'Switzerland')\n",
      "(14, 'Chop-suey Chinese', 'Yang Wang', 'Hauptstr. 29', 'Bern', '3012', 'Switzerland')\n",
      "(72, 'Seven Seas Imports', 'Hari Kumar', '90 Wadhurst Rd.', 'London', 'OX15 4NB', 'UK')\n",
      "(53, 'North/South', 'Simon Crowther', 'South House 300 Queensbridge', 'London', 'SW7 1RZ', 'UK')\n",
      "(38, 'Island Trading', 'Helen Bennett', 'Garden House Crowther Way', 'Cowes', 'PO31 7PJ', 'UK')\n",
      "(19, 'Eastern Connection', 'Ann Devon', '35 King George', 'London', 'WX3 6FW', 'UK')\n",
      "(16, 'Consolidated Holdings', 'Elizabeth Brown', 'Berkeley Gardens 12 Brewery ', 'London', 'WX1 6LT', 'UK')\n",
      "(11, \"B's Beverages\", 'Victoria Ashworth', 'Fauntleroy Circus', 'London', 'EC2 5NT', 'UK')\n",
      "(4, 'Around the Horn', 'Thomas Hardy', '120 Hanover Sq.', 'London', 'WA1 1DP', 'UK')\n",
      "(89, 'White Clover Markets', 'Karl Jablonski', '305 - 14th Ave. S. Suite 3B', 'Seattle', '98128', 'USA')\n",
      "(82, \"Trail's Head Gourmet Provisioners\", 'Helvetius Nagy', '722 DaVinci Blvd.', 'Kirkland', '98034', 'USA')\n",
      "(78, 'The Cracker Box', 'Liu Wong', '55 Grizzly Peak Rd.', 'Butte', '59801', 'USA')\n",
      "(77, 'The Big Cheese', 'Liz Nixon', '89 Jefferson Way Suite 2', 'Portland', '97201', 'USA')\n",
      "(75, 'Split Rail Beer & Ale', 'Art Braunschweiger', 'P.O. Box 555', 'Lander', '82520', 'USA')\n",
      "(71, 'Save-a-lot Markets', 'Jose Pavarotti', '187 Suffolk Ln.', 'Boise', '83720', 'USA')\n",
      "(65, 'Rattlesnake Canyon Grocery', 'Paula Wilson', '2817 Milton Dr.', 'Albuquerque', '87110', 'USA')\n",
      "(55, 'Old World Delicatessen', 'Rene Phillips', '2743 Bering St.', 'Anchorage', '99508', 'USA')\n",
      "(48, 'Lonesome Pine Restaurant', 'Fran Wilson', '89 Chiaroscuro Rd.', 'Portland', '97219', 'USA')\n",
      "(45, \"Let's Stop N Shop\", 'Jaime Yorres', '87 Polk St. Suite 5', 'San Francisco', '94117', 'USA')\n",
      "(43, 'Lazy K Kountry Store', 'John Steel', '12 Orchestra Terrace', 'Walla Walla', '99362', 'USA')\n",
      "(36, 'Hungry Coyote Import Store', 'Yoshi Latimer', 'City Center Plaza 516 Main St.', 'Elgin', '97827', 'USA')\n",
      "(32, 'Great Lakes Food Market', 'Howard Snyder', '2732 Baker Blvd.', 'Eugene', '97403', 'USA')\n",
      "(47, 'LINO-Delicateses', 'Felipe Izquierdo', 'Ave. 5 de Mayo Porlamar', 'I. de Margarita', '4980', 'Venezuela')\n",
      "(46, 'LILA-Supermercado', 'Carlos González', 'Carrera 52 con Ave. Bolívar #65-98 Llano Largo', 'Barquisimeto', '3508', 'Venezuela')\n",
      "(35, 'HILARIÓN-Abastos', 'Carlos Hernández', 'Carrera 22 con Ave. Carlos Soublette #8-35', 'San Cristóbal', '5022', 'Venezuela')\n",
      "(33, 'GROSELLA-Restaurante', 'Manuel Pereira', '5ª Ave. Los Palos Grandes', 'Caracas', '1081', 'Venezuela')\n"
     ]
    }
   ],
   "source": [
    "query = \"\"\"\n",
    "SELECT * FROM Customers\n",
    "ORDER BY Country ASC, CustomerName DESC;\n",
    "\n",
    "\"\"\"\n",
    "print_query_result(query)"
   ]
  },
  {
   "cell_type": "markdown",
   "id": "910aac01",
   "metadata": {},
   "source": [
    "## SQL AND Operator"
   ]
  },
  {
   "cell_type": "code",
   "execution_count": 23,
   "id": "58965206",
   "metadata": {},
   "outputs": [
    {
     "name": "stdout",
     "output_type": "stream",
     "text": [
      "(29, 'Galería del gastrónomo', 'Eduardo Saavedra', 'Rambla de Cataluña, 23', 'Barcelona', '08022', 'Spain')\n",
      "(30, 'Godos Cocina Típica', 'José Pedro Freyre', 'C/ Romero, 33', 'Sevilla', '41101', 'Spain')\n"
     ]
    }
   ],
   "source": [
    "query = \"\"\"\n",
    "SELECT *\n",
    "FROM Customers\n",
    "WHERE Country = 'Spain' AND CustomerName LIKE 'G%';\n",
    "\"\"\"\n",
    "print_query_result(query)"
   ]
  },
  {
   "cell_type": "markdown",
   "id": "a6636ab9",
   "metadata": {},
   "source": [
    "## AND -> All Conditions Must Be True"
   ]
  },
  {
   "cell_type": "code",
   "execution_count": 24,
   "id": "576da2a4",
   "metadata": {},
   "outputs": [
    {
     "name": "stdout",
     "output_type": "stream",
     "text": [
      "(1, 'Alfreds Futterkiste', 'Maria Anders', 'Obere Str. 57', 'Berlin', '12209', 'Germany')\n"
     ]
    }
   ],
   "source": [
    "query = \"\"\"\n",
    "SELECT * FROM Customers\n",
    "WHERE Country = 'Germany'\n",
    "AND City = 'Berlin'\n",
    "AND PostalCode > 12000;\n",
    "\"\"\"\n",
    "print_query_result(query)"
   ]
  },
  {
   "cell_type": "markdown",
   "id": "729483d4",
   "metadata": {},
   "source": [
    "## Combining AND and OR"
   ]
  },
  {
   "cell_type": "code",
   "execution_count": 25,
   "id": "7e44c8d2",
   "metadata": {},
   "outputs": [
    {
     "name": "stdout",
     "output_type": "stream",
     "text": [
      "(29, 'Galería del gastrónomo', 'Eduardo Saavedra', 'Rambla de Cataluña, 23', 'Barcelona', '08022', 'Spain')\n",
      "(30, 'Godos Cocina Típica', 'José Pedro Freyre', 'C/ Romero, 33', 'Sevilla', '41101', 'Spain')\n",
      "(69, 'Romero y tomillo', 'Alejandra Camino', 'Gran Vía, 1', 'Madrid', '28001', 'Spain')\n"
     ]
    }
   ],
   "source": [
    "query = \"\"\"\n",
    "SELECT * FROM Customers\n",
    "WHERE Country = 'Spain' AND (CustomerName LIKE 'G%' OR CustomerName LIKE 'R%');\n",
    "\"\"\"\n",
    "print_query_result(query)"
   ]
  },
  {
   "cell_type": "code",
   "execution_count": 27,
   "id": "fb97e8c9",
   "metadata": {},
   "outputs": [
    {
     "name": "stdout",
     "output_type": "stream",
     "text": [
      "(29, 'Galería del gastrónomo', 'Eduardo Saavedra', 'Rambla de Cataluña, 23', 'Barcelona', '08022', 'Spain')\n",
      "(30, 'Godos Cocina Típica', 'José Pedro Freyre', 'C/ Romero, 33', 'Sevilla', '41101', 'Spain')\n",
      "(64, 'Rancho grande', 'Sergio Gutiérrez', 'Av. del Libertador 900', 'Buenos Aires', '1010', 'Argentina')\n",
      "(65, 'Rattlesnake Canyon Grocery', 'Paula Wilson', '2817 Milton Dr.', 'Albuquerque', '87110', 'USA')\n",
      "(66, 'Reggiani Caseifici', 'Maurizio Moroni', 'Strada Provinciale 124', 'Reggio Emilia', '42100', 'Italy')\n",
      "(67, 'Ricardo Adocicados', 'Janete Limeira', 'Av. Copacabana, 267', 'Rio de Janeiro', '02389-890', 'Brazil')\n",
      "(68, 'Richter Supermarkt', 'Michael Holz', 'Grenzacherweg 237', 'Genève', '1203', 'Switzerland')\n",
      "(69, 'Romero y tomillo', 'Alejandra Camino', 'Gran Vía, 1', 'Madrid', '28001', 'Spain')\n"
     ]
    }
   ],
   "source": [
    "query = \"\"\"\n",
    "SELECT * FROM Customers\n",
    "WHERE Country = 'Spain' AND CustomerName LIKE 'G%' OR CustomerName LIKE 'R%';\n",
    "\"\"\"\n",
    "print_query_result(query)"
   ]
  },
  {
   "cell_type": "markdown",
   "id": "393b65ec",
   "metadata": {},
   "source": [
    "## SQL OR Operator"
   ]
  },
  {
   "cell_type": "code",
   "execution_count": 28,
   "id": "ae238005",
   "metadata": {},
   "outputs": [
    {
     "name": "stdout",
     "output_type": "stream",
     "text": [
      "(1, 'Alfreds Futterkiste', 'Maria Anders', 'Obere Str. 57', 'Berlin', '12209', 'Germany')\n",
      "(6, 'Blauer See Delikatessen', 'Hanna Moos', 'Forsterstr. 57', 'Mannheim', '68306', 'Germany')\n",
      "(8, 'Bólido Comidas preparadas', 'Martín Sommer', 'C/ Araquil, 67', 'Madrid', '28023', 'Spain')\n",
      "(17, 'Drachenblut Delikatessend', 'Sven Ottlieb', 'Walserweg 21', 'Aachen', '52066', 'Germany')\n",
      "(22, 'FISSA Fabrica Inter. Salchichas S.A.', 'Diego Roel', 'C/ Moralzarzal, 86', 'Madrid', '28034', 'Spain')\n",
      "(25, 'Frankenversand', 'Peter Franken', 'Berliner Platz 43', 'München', '80805', 'Germany')\n",
      "(29, 'Galería del gastrónomo', 'Eduardo Saavedra', 'Rambla de Cataluña, 23', 'Barcelona', '08022', 'Spain')\n",
      "(30, 'Godos Cocina Típica', 'José Pedro Freyre', 'C/ Romero, 33', 'Sevilla', '41101', 'Spain')\n",
      "(39, 'Königlich Essen', 'Philip Cramer', 'Maubelstr. 90', 'Brandenburg', '14776', 'Germany')\n",
      "(44, 'Lehmanns Marktstand', 'Renate Messner', 'Magazinweg 7', 'Frankfurt a.M. ', '60528', 'Germany')\n",
      "(52, 'Morgenstern Gesundkost', 'Alexander Feuer', 'Heerstr. 22', 'Leipzig', '04179', 'Germany')\n",
      "(56, 'Ottilies Käseladen', 'Henriette Pfalzheim', 'Mehrheimerstr. 369', 'Köln', '50739', 'Germany')\n",
      "(63, 'QUICK-Stop', 'Horst Kloss', 'Taucherstraße 10', 'Cunewalde', '01307', 'Germany')\n",
      "(69, 'Romero y tomillo', 'Alejandra Camino', 'Gran Vía, 1', 'Madrid', '28001', 'Spain')\n",
      "(79, 'Toms Spezialitäten', 'Karin Josephs', 'Luisenstr. 48', 'Münster', '44087', 'Germany')\n",
      "(86, 'Die Wandernde Kuh', 'Rita Müller', 'Adenauerallee 900', 'Stuttgart', '70563', 'Germany')\n"
     ]
    }
   ],
   "source": [
    "query = \"\"\"\n",
    "SELECT *\n",
    "FROM Customers\n",
    "WHERE Country = 'Germany' OR Country = 'Spain';\n",
    "\"\"\"\n",
    "print_query_result(query)"
   ]
  },
  {
   "cell_type": "markdown",
   "id": "9f543345",
   "metadata": {},
   "source": [
    "## At Least One Condition Must Be True\n"
   ]
  },
  {
   "cell_type": "code",
   "execution_count": 29,
   "id": "f62a1ea5",
   "metadata": {},
   "outputs": [
    {
     "name": "stdout",
     "output_type": "stream",
     "text": [
      "(1, 'Alfreds Futterkiste', 'Maria Anders', 'Obere Str. 57', 'Berlin', '12209', 'Germany')\n",
      "(29, 'Galería del gastrónomo', 'Eduardo Saavedra', 'Rambla de Cataluña, 23', 'Barcelona', '08022', 'Spain')\n",
      "(30, 'Godos Cocina Típica', 'José Pedro Freyre', 'C/ Romero, 33', 'Sevilla', '41101', 'Spain')\n",
      "(31, 'Gourmet Lanchonetes', 'André Fonseca', 'Av. Brasil, 442', 'Campinas', '04876-786', 'Brazil')\n",
      "(32, 'Great Lakes Food Market', 'Howard Snyder', '2732 Baker Blvd.', 'Eugene', '97403', 'USA')\n",
      "(33, 'GROSELLA-Restaurante', 'Manuel Pereira', '5ª Ave. Los Palos Grandes', 'Caracas', '1081', 'Venezuela')\n",
      "(70, 'Santé Gourmet', 'Jonas Bergulfsen', 'Erling Skakkes gate 78', 'Stavern', '4110', 'Norway')\n"
     ]
    }
   ],
   "source": [
    "query = \"\"\"\n",
    "SELECT * FROM Customers\n",
    "WHERE City = 'Berlin' OR CustomerName LIKE 'G%' OR Country = 'Norway';\n",
    "\"\"\"\n",
    "print_query_result(query)"
   ]
  },
  {
   "cell_type": "markdown",
   "id": "6a585ada",
   "metadata": {},
   "source": [
    "## Combining AND and OR"
   ]
  },
  {
   "cell_type": "code",
   "execution_count": 31,
   "id": "22289879",
   "metadata": {},
   "outputs": [
    {
     "name": "stdout",
     "output_type": "stream",
     "text": [
      "(29, 'Galería del gastrónomo', 'Eduardo Saavedra', 'Rambla de Cataluña, 23', 'Barcelona', '08022', 'Spain')\n",
      "(30, 'Godos Cocina Típica', 'José Pedro Freyre', 'C/ Romero, 33', 'Sevilla', '41101', 'Spain')\n",
      "(69, 'Romero y tomillo', 'Alejandra Camino', 'Gran Vía, 1', 'Madrid', '28001', 'Spain')\n"
     ]
    }
   ],
   "source": [
    "query = \"\"\"\n",
    "SELECT * FROM Customers\n",
    "WHERE Country = 'Spain' AND (CustomerName LIKE 'G%' OR CustomerName LIKE 'R%');\n",
    "\"\"\"\n",
    "print_query_result(query)"
   ]
  },
  {
   "cell_type": "markdown",
   "id": "04b22c16",
   "metadata": {},
   "source": [
    "## NOT Operator"
   ]
  },
  {
   "cell_type": "code",
   "execution_count": 33,
   "id": "c838fc5d",
   "metadata": {},
   "outputs": [
    {
     "name": "stdout",
     "output_type": "stream",
     "text": [
      "(1, 'Alfreds Futterkiste', 'Maria Anders', 'Obere Str. 57', 'Berlin', '12209', 'Germany')\n",
      "(2, 'Ana Trujillo Emparedados y helados', 'Ana Trujillo', 'Avda. de la Constitución 2222', 'México D.F.', '05021', 'Mexico')\n",
      "(3, 'Antonio Moreno Taquería', 'Antonio Moreno', 'Mataderos 2312', 'México D.F.', '05023', 'Mexico')\n",
      "(4, 'Around the Horn', 'Thomas Hardy', '120 Hanover Sq.', 'London', 'WA1 1DP', 'UK')\n",
      "(5, 'Berglunds snabbköp', 'Christina Berglund', 'Berguvsvägen 8', 'Luleå', 'S-958 22', 'Sweden')\n",
      "(6, 'Blauer See Delikatessen', 'Hanna Moos', 'Forsterstr. 57', 'Mannheim', '68306', 'Germany')\n",
      "(7, 'Blondel père et fils', 'Frédérique Citeaux', '24, place Kléber', 'Strasbourg', '67000', 'France')\n",
      "(9, \"Bon app'\", 'Laurence Lebihans', '12, rue des Bouchers', 'Marseille', '13008', 'France')\n",
      "(10, 'Bottom-Dollar Marketse', 'Elizabeth Lincoln', '23 Tsawassen Blvd.', 'Tsawassen', 'T2F 8M4', 'Canada')\n",
      "(11, \"B's Beverages\", 'Victoria Ashworth', 'Fauntleroy Circus', 'London', 'EC2 5NT', 'UK')\n",
      "(12, 'Cactus Comidas para llevar', 'Patricio Simpson', 'Cerrito 333', 'Buenos Aires', '1010', 'Argentina')\n",
      "(13, 'Centro comercial Moctezuma', 'Francisco Chang', 'Sierras de Granada 9993', 'México D.F.', '05022', 'Mexico')\n",
      "(14, 'Chop-suey Chinese', 'Yang Wang', 'Hauptstr. 29', 'Bern', '3012', 'Switzerland')\n",
      "(15, 'Comércio Mineiro', 'Pedro Afonso', 'Av. dos Lusíadas, 23', 'São Paulo', '05432-043', 'Brazil')\n",
      "(16, 'Consolidated Holdings', 'Elizabeth Brown', 'Berkeley Gardens 12 Brewery ', 'London', 'WX1 6LT', 'UK')\n",
      "(17, 'Drachenblut Delikatessend', 'Sven Ottlieb', 'Walserweg 21', 'Aachen', '52066', 'Germany')\n",
      "(18, 'Du monde entier', 'Janine Labrune', '67, rue des Cinquante Otages', 'Nantes', '44000', 'France')\n",
      "(19, 'Eastern Connection', 'Ann Devon', '35 King George', 'London', 'WX3 6FW', 'UK')\n",
      "(20, 'Ernst Handel', 'Roland Mendel', 'Kirchgasse 6', 'Graz', '8010', 'Austria')\n",
      "(21, 'Familia Arquibaldo', 'Aria Cruz', 'Rua Orós, 92', 'São Paulo', '05442-030', 'Brazil')\n",
      "(23, 'Folies gourmandes', 'Martine Rancé', '184, chaussée de Tournai', 'Lille', '59000', 'France')\n",
      "(24, 'Folk och fä HB', 'Maria Larsson', 'Åkergatan 24', 'Bräcke', 'S-844 67', 'Sweden')\n",
      "(25, 'Frankenversand', 'Peter Franken', 'Berliner Platz 43', 'München', '80805', 'Germany')\n",
      "(26, 'France restauration', 'Carine Schmitt', '54, rue Royale', 'Nantes', '44000', 'France')\n",
      "(27, 'Franchi S.p.A.', 'Paolo Accorti', 'Via Monte Bianco 34', 'Torino', '10100', 'Italy')\n",
      "(28, 'Furia Bacalhau e Frutos do Mar', 'Lino Rodriguez ', 'Jardim das rosas n. 32', 'Lisboa', '1675', 'Portugal')\n",
      "(31, 'Gourmet Lanchonetes', 'André Fonseca', 'Av. Brasil, 442', 'Campinas', '04876-786', 'Brazil')\n",
      "(32, 'Great Lakes Food Market', 'Howard Snyder', '2732 Baker Blvd.', 'Eugene', '97403', 'USA')\n",
      "(33, 'GROSELLA-Restaurante', 'Manuel Pereira', '5ª Ave. Los Palos Grandes', 'Caracas', '1081', 'Venezuela')\n",
      "(34, 'Hanari Carnes', 'Mario Pontes', 'Rua do Paço, 67', 'Rio de Janeiro', '05454-876', 'Brazil')\n",
      "(35, 'HILARIÓN-Abastos', 'Carlos Hernández', 'Carrera 22 con Ave. Carlos Soublette #8-35', 'San Cristóbal', '5022', 'Venezuela')\n",
      "(36, 'Hungry Coyote Import Store', 'Yoshi Latimer', 'City Center Plaza 516 Main St.', 'Elgin', '97827', 'USA')\n",
      "(37, 'Hungry Owl All-Night Grocers', 'Patricia McKenna', '8 Johnstown Road', 'Cork', None, 'Ireland')\n",
      "(38, 'Island Trading', 'Helen Bennett', 'Garden House Crowther Way', 'Cowes', 'PO31 7PJ', 'UK')\n",
      "(39, 'Königlich Essen', 'Philip Cramer', 'Maubelstr. 90', 'Brandenburg', '14776', 'Germany')\n",
      "(40, \"La corne d'abondance\", 'Daniel Tonini', \"67, avenue de l'Europe\", 'Versailles', '78000', 'France')\n",
      "(41, \"La maison d'Asie\", 'Annette Roulet', '1 rue Alsace-Lorraine', 'Toulouse', '31000', 'France')\n",
      "(42, 'Laughing Bacchus Wine Cellars', 'Yoshi Tannamuri', '1900 Oak St.', 'Vancouver', 'V3F 2K1', 'Canada')\n",
      "(43, 'Lazy K Kountry Store', 'John Steel', '12 Orchestra Terrace', 'Walla Walla', '99362', 'USA')\n",
      "(44, 'Lehmanns Marktstand', 'Renate Messner', 'Magazinweg 7', 'Frankfurt a.M. ', '60528', 'Germany')\n",
      "(45, \"Let's Stop N Shop\", 'Jaime Yorres', '87 Polk St. Suite 5', 'San Francisco', '94117', 'USA')\n",
      "(46, 'LILA-Supermercado', 'Carlos González', 'Carrera 52 con Ave. Bolívar #65-98 Llano Largo', 'Barquisimeto', '3508', 'Venezuela')\n",
      "(47, 'LINO-Delicateses', 'Felipe Izquierdo', 'Ave. 5 de Mayo Porlamar', 'I. de Margarita', '4980', 'Venezuela')\n",
      "(48, 'Lonesome Pine Restaurant', 'Fran Wilson', '89 Chiaroscuro Rd.', 'Portland', '97219', 'USA')\n",
      "(49, 'Magazzini Alimentari Riuniti', 'Giovanni Rovelli', 'Via Ludovico il Moro 22', 'Bergamo', '24100', 'Italy')\n",
      "(50, 'Maison Dewey', 'Catherine Dewey', 'Rue Joseph-Bens 532', 'Bruxelles', 'B-1180', 'Belgium')\n",
      "(51, 'Mère Paillarde', 'Jean Fresnière', '43 rue St. Laurent', 'Montréal', 'H1J 1C3', 'Canada')\n",
      "(52, 'Morgenstern Gesundkost', 'Alexander Feuer', 'Heerstr. 22', 'Leipzig', '04179', 'Germany')\n",
      "(53, 'North/South', 'Simon Crowther', 'South House 300 Queensbridge', 'London', 'SW7 1RZ', 'UK')\n",
      "(54, 'Océano Atlántico Ltda.', 'Yvonne Moncada', 'Ing. Gustavo Moncada 8585 Piso 20-A', 'Buenos Aires', '1010', 'Argentina')\n",
      "(55, 'Old World Delicatessen', 'Rene Phillips', '2743 Bering St.', 'Anchorage', '99508', 'USA')\n",
      "(56, 'Ottilies Käseladen', 'Henriette Pfalzheim', 'Mehrheimerstr. 369', 'Köln', '50739', 'Germany')\n",
      "(57, 'Paris spécialités', 'Marie Bertrand', '265, boulevard Charonne', 'Paris', '75012', 'France')\n",
      "(58, 'Pericles Comidas clásicas', 'Guillermo Fernández', 'Calle Dr. Jorge Cash 321', 'México D.F.', '05033', 'Mexico')\n",
      "(59, 'Piccolo und mehr', 'Georg Pipps', 'Geislweg 14', 'Salzburg', '5020', 'Austria')\n",
      "(60, 'Princesa Isabel Vinhoss', 'Isabel de Castro', 'Estrada da saúde n. 58', 'Lisboa', '1756', 'Portugal')\n",
      "(61, 'Que Delícia', 'Bernardo Batista', 'Rua da Panificadora, 12', 'Rio de Janeiro', '02389-673', 'Brazil')\n",
      "(62, 'Queen Cozinha', 'Lúcia Carvalho', 'Alameda dos Canàrios, 891', 'São Paulo', '05487-020', 'Brazil')\n",
      "(63, 'QUICK-Stop', 'Horst Kloss', 'Taucherstraße 10', 'Cunewalde', '01307', 'Germany')\n",
      "(64, 'Rancho grande', 'Sergio Gutiérrez', 'Av. del Libertador 900', 'Buenos Aires', '1010', 'Argentina')\n",
      "(65, 'Rattlesnake Canyon Grocery', 'Paula Wilson', '2817 Milton Dr.', 'Albuquerque', '87110', 'USA')\n",
      "(66, 'Reggiani Caseifici', 'Maurizio Moroni', 'Strada Provinciale 124', 'Reggio Emilia', '42100', 'Italy')\n",
      "(67, 'Ricardo Adocicados', 'Janete Limeira', 'Av. Copacabana, 267', 'Rio de Janeiro', '02389-890', 'Brazil')\n",
      "(68, 'Richter Supermarkt', 'Michael Holz', 'Grenzacherweg 237', 'Genève', '1203', 'Switzerland')\n",
      "(70, 'Santé Gourmet', 'Jonas Bergulfsen', 'Erling Skakkes gate 78', 'Stavern', '4110', 'Norway')\n",
      "(71, 'Save-a-lot Markets', 'Jose Pavarotti', '187 Suffolk Ln.', 'Boise', '83720', 'USA')\n",
      "(72, 'Seven Seas Imports', 'Hari Kumar', '90 Wadhurst Rd.', 'London', 'OX15 4NB', 'UK')\n",
      "(73, 'Simons bistro', 'Jytte Petersen', 'Vinbæltet 34', 'København', '1734', 'Denmark')\n",
      "(74, 'Spécialités du monde', 'Dominique Perrier', '25, rue Lauriston', 'Paris', '75016', 'France')\n",
      "(75, 'Split Rail Beer & Ale', 'Art Braunschweiger', 'P.O. Box 555', 'Lander', '82520', 'USA')\n",
      "(76, 'Suprêmes délices', 'Pascale Cartrain', 'Boulevard Tirou, 255', 'Charleroi', 'B-6000', 'Belgium')\n",
      "(77, 'The Big Cheese', 'Liz Nixon', '89 Jefferson Way Suite 2', 'Portland', '97201', 'USA')\n",
      "(78, 'The Cracker Box', 'Liu Wong', '55 Grizzly Peak Rd.', 'Butte', '59801', 'USA')\n",
      "(79, 'Toms Spezialitäten', 'Karin Josephs', 'Luisenstr. 48', 'Münster', '44087', 'Germany')\n",
      "(80, 'Tortuga Restaurante', 'Miguel Angel Paolino', 'Avda. Azteca 123', 'México D.F.', '05033', 'Mexico')\n",
      "(81, 'Tradição Hipermercados', 'Anabela Domingues', 'Av. Inês de Castro, 414', 'São Paulo', '05634-030', 'Brazil')\n",
      "(82, \"Trail's Head Gourmet Provisioners\", 'Helvetius Nagy', '722 DaVinci Blvd.', 'Kirkland', '98034', 'USA')\n",
      "(83, 'Vaffeljernet', 'Palle Ibsen', 'Smagsløget 45', 'Århus', '8200', 'Denmark')\n",
      "(84, 'Victuailles en stock', 'Mary Saveley', '2, rue du Commerce', 'Lyon', '69004', 'France')\n",
      "(85, 'Vins et alcools Chevalier', 'Paul Henriot', \"59 rue de l'Abbaye\", 'Reims', '51100', 'France')\n",
      "(86, 'Die Wandernde Kuh', 'Rita Müller', 'Adenauerallee 900', 'Stuttgart', '70563', 'Germany')\n",
      "(87, 'Wartian Herkku', 'Pirkko Koskitalo', 'Torikatu 38', 'Oulu', '90110', 'Finland')\n",
      "(88, 'Wellington Importadora', 'Paula Parente', 'Rua do Mercado, 12', 'Resende', '08737-363', 'Brazil')\n",
      "(89, 'White Clover Markets', 'Karl Jablonski', '305 - 14th Ave. S. Suite 3B', 'Seattle', '98128', 'USA')\n",
      "(90, 'Wilman Kala', 'Matti Karttunen', 'Keskuskatu 45', 'Helsinki', '21240', 'Finland')\n"
     ]
    }
   ],
   "source": [
    "query = \"\"\"\n",
    "SELECT * FROM Customers\n",
    "WHERE NOT Country = 'Spain';\n",
    "\"\"\"\n",
    "print_query_result(query)"
   ]
  },
  {
   "cell_type": "markdown",
   "id": "81e87b3a",
   "metadata": {},
   "source": [
    "## NOT LIKE"
   ]
  },
  {
   "cell_type": "code",
   "execution_count": 34,
   "id": "da4bd2ff",
   "metadata": {},
   "outputs": [
    {
     "name": "stdout",
     "output_type": "stream",
     "text": [
      "(5, 'Berglunds snabbköp', 'Christina Berglund', 'Berguvsvägen 8', 'Luleå', 'S-958 22', 'Sweden')\n",
      "(6, 'Blauer See Delikatessen', 'Hanna Moos', 'Forsterstr. 57', 'Mannheim', '68306', 'Germany')\n",
      "(7, 'Blondel père et fils', 'Frédérique Citeaux', '24, place Kléber', 'Strasbourg', '67000', 'France')\n",
      "(8, 'Bólido Comidas preparadas', 'Martín Sommer', 'C/ Araquil, 67', 'Madrid', '28023', 'Spain')\n",
      "(9, \"Bon app'\", 'Laurence Lebihans', '12, rue des Bouchers', 'Marseille', '13008', 'France')\n",
      "(10, 'Bottom-Dollar Marketse', 'Elizabeth Lincoln', '23 Tsawassen Blvd.', 'Tsawassen', 'T2F 8M4', 'Canada')\n",
      "(11, \"B's Beverages\", 'Victoria Ashworth', 'Fauntleroy Circus', 'London', 'EC2 5NT', 'UK')\n",
      "(12, 'Cactus Comidas para llevar', 'Patricio Simpson', 'Cerrito 333', 'Buenos Aires', '1010', 'Argentina')\n",
      "(13, 'Centro comercial Moctezuma', 'Francisco Chang', 'Sierras de Granada 9993', 'México D.F.', '05022', 'Mexico')\n",
      "(14, 'Chop-suey Chinese', 'Yang Wang', 'Hauptstr. 29', 'Bern', '3012', 'Switzerland')\n",
      "(15, 'Comércio Mineiro', 'Pedro Afonso', 'Av. dos Lusíadas, 23', 'São Paulo', '05432-043', 'Brazil')\n",
      "(16, 'Consolidated Holdings', 'Elizabeth Brown', 'Berkeley Gardens 12 Brewery ', 'London', 'WX1 6LT', 'UK')\n",
      "(17, 'Drachenblut Delikatessend', 'Sven Ottlieb', 'Walserweg 21', 'Aachen', '52066', 'Germany')\n",
      "(18, 'Du monde entier', 'Janine Labrune', '67, rue des Cinquante Otages', 'Nantes', '44000', 'France')\n",
      "(19, 'Eastern Connection', 'Ann Devon', '35 King George', 'London', 'WX3 6FW', 'UK')\n",
      "(20, 'Ernst Handel', 'Roland Mendel', 'Kirchgasse 6', 'Graz', '8010', 'Austria')\n",
      "(21, 'Familia Arquibaldo', 'Aria Cruz', 'Rua Orós, 92', 'São Paulo', '05442-030', 'Brazil')\n",
      "(22, 'FISSA Fabrica Inter. Salchichas S.A.', 'Diego Roel', 'C/ Moralzarzal, 86', 'Madrid', '28034', 'Spain')\n",
      "(23, 'Folies gourmandes', 'Martine Rancé', '184, chaussée de Tournai', 'Lille', '59000', 'France')\n",
      "(24, 'Folk och fä HB', 'Maria Larsson', 'Åkergatan 24', 'Bräcke', 'S-844 67', 'Sweden')\n",
      "(25, 'Frankenversand', 'Peter Franken', 'Berliner Platz 43', 'München', '80805', 'Germany')\n",
      "(26, 'France restauration', 'Carine Schmitt', '54, rue Royale', 'Nantes', '44000', 'France')\n",
      "(27, 'Franchi S.p.A.', 'Paolo Accorti', 'Via Monte Bianco 34', 'Torino', '10100', 'Italy')\n",
      "(28, 'Furia Bacalhau e Frutos do Mar', 'Lino Rodriguez ', 'Jardim das rosas n. 32', 'Lisboa', '1675', 'Portugal')\n",
      "(29, 'Galería del gastrónomo', 'Eduardo Saavedra', 'Rambla de Cataluña, 23', 'Barcelona', '08022', 'Spain')\n",
      "(30, 'Godos Cocina Típica', 'José Pedro Freyre', 'C/ Romero, 33', 'Sevilla', '41101', 'Spain')\n",
      "(31, 'Gourmet Lanchonetes', 'André Fonseca', 'Av. Brasil, 442', 'Campinas', '04876-786', 'Brazil')\n",
      "(32, 'Great Lakes Food Market', 'Howard Snyder', '2732 Baker Blvd.', 'Eugene', '97403', 'USA')\n",
      "(33, 'GROSELLA-Restaurante', 'Manuel Pereira', '5ª Ave. Los Palos Grandes', 'Caracas', '1081', 'Venezuela')\n",
      "(34, 'Hanari Carnes', 'Mario Pontes', 'Rua do Paço, 67', 'Rio de Janeiro', '05454-876', 'Brazil')\n",
      "(35, 'HILARIÓN-Abastos', 'Carlos Hernández', 'Carrera 22 con Ave. Carlos Soublette #8-35', 'San Cristóbal', '5022', 'Venezuela')\n",
      "(36, 'Hungry Coyote Import Store', 'Yoshi Latimer', 'City Center Plaza 516 Main St.', 'Elgin', '97827', 'USA')\n",
      "(37, 'Hungry Owl All-Night Grocers', 'Patricia McKenna', '8 Johnstown Road', 'Cork', None, 'Ireland')\n",
      "(38, 'Island Trading', 'Helen Bennett', 'Garden House Crowther Way', 'Cowes', 'PO31 7PJ', 'UK')\n",
      "(39, 'Königlich Essen', 'Philip Cramer', 'Maubelstr. 90', 'Brandenburg', '14776', 'Germany')\n",
      "(40, \"La corne d'abondance\", 'Daniel Tonini', \"67, avenue de l'Europe\", 'Versailles', '78000', 'France')\n",
      "(41, \"La maison d'Asie\", 'Annette Roulet', '1 rue Alsace-Lorraine', 'Toulouse', '31000', 'France')\n",
      "(42, 'Laughing Bacchus Wine Cellars', 'Yoshi Tannamuri', '1900 Oak St.', 'Vancouver', 'V3F 2K1', 'Canada')\n",
      "(43, 'Lazy K Kountry Store', 'John Steel', '12 Orchestra Terrace', 'Walla Walla', '99362', 'USA')\n",
      "(44, 'Lehmanns Marktstand', 'Renate Messner', 'Magazinweg 7', 'Frankfurt a.M. ', '60528', 'Germany')\n",
      "(45, \"Let's Stop N Shop\", 'Jaime Yorres', '87 Polk St. Suite 5', 'San Francisco', '94117', 'USA')\n",
      "(46, 'LILA-Supermercado', 'Carlos González', 'Carrera 52 con Ave. Bolívar #65-98 Llano Largo', 'Barquisimeto', '3508', 'Venezuela')\n",
      "(47, 'LINO-Delicateses', 'Felipe Izquierdo', 'Ave. 5 de Mayo Porlamar', 'I. de Margarita', '4980', 'Venezuela')\n",
      "(48, 'Lonesome Pine Restaurant', 'Fran Wilson', '89 Chiaroscuro Rd.', 'Portland', '97219', 'USA')\n",
      "(49, 'Magazzini Alimentari Riuniti', 'Giovanni Rovelli', 'Via Ludovico il Moro 22', 'Bergamo', '24100', 'Italy')\n",
      "(50, 'Maison Dewey', 'Catherine Dewey', 'Rue Joseph-Bens 532', 'Bruxelles', 'B-1180', 'Belgium')\n",
      "(51, 'Mère Paillarde', 'Jean Fresnière', '43 rue St. Laurent', 'Montréal', 'H1J 1C3', 'Canada')\n",
      "(52, 'Morgenstern Gesundkost', 'Alexander Feuer', 'Heerstr. 22', 'Leipzig', '04179', 'Germany')\n",
      "(53, 'North/South', 'Simon Crowther', 'South House 300 Queensbridge', 'London', 'SW7 1RZ', 'UK')\n",
      "(54, 'Océano Atlántico Ltda.', 'Yvonne Moncada', 'Ing. Gustavo Moncada 8585 Piso 20-A', 'Buenos Aires', '1010', 'Argentina')\n",
      "(55, 'Old World Delicatessen', 'Rene Phillips', '2743 Bering St.', 'Anchorage', '99508', 'USA')\n",
      "(56, 'Ottilies Käseladen', 'Henriette Pfalzheim', 'Mehrheimerstr. 369', 'Köln', '50739', 'Germany')\n",
      "(57, 'Paris spécialités', 'Marie Bertrand', '265, boulevard Charonne', 'Paris', '75012', 'France')\n",
      "(58, 'Pericles Comidas clásicas', 'Guillermo Fernández', 'Calle Dr. Jorge Cash 321', 'México D.F.', '05033', 'Mexico')\n",
      "(59, 'Piccolo und mehr', 'Georg Pipps', 'Geislweg 14', 'Salzburg', '5020', 'Austria')\n",
      "(60, 'Princesa Isabel Vinhoss', 'Isabel de Castro', 'Estrada da saúde n. 58', 'Lisboa', '1756', 'Portugal')\n",
      "(61, 'Que Delícia', 'Bernardo Batista', 'Rua da Panificadora, 12', 'Rio de Janeiro', '02389-673', 'Brazil')\n",
      "(62, 'Queen Cozinha', 'Lúcia Carvalho', 'Alameda dos Canàrios, 891', 'São Paulo', '05487-020', 'Brazil')\n",
      "(63, 'QUICK-Stop', 'Horst Kloss', 'Taucherstraße 10', 'Cunewalde', '01307', 'Germany')\n",
      "(64, 'Rancho grande', 'Sergio Gutiérrez', 'Av. del Libertador 900', 'Buenos Aires', '1010', 'Argentina')\n",
      "(65, 'Rattlesnake Canyon Grocery', 'Paula Wilson', '2817 Milton Dr.', 'Albuquerque', '87110', 'USA')\n",
      "(66, 'Reggiani Caseifici', 'Maurizio Moroni', 'Strada Provinciale 124', 'Reggio Emilia', '42100', 'Italy')\n",
      "(67, 'Ricardo Adocicados', 'Janete Limeira', 'Av. Copacabana, 267', 'Rio de Janeiro', '02389-890', 'Brazil')\n",
      "(68, 'Richter Supermarkt', 'Michael Holz', 'Grenzacherweg 237', 'Genève', '1203', 'Switzerland')\n",
      "(69, 'Romero y tomillo', 'Alejandra Camino', 'Gran Vía, 1', 'Madrid', '28001', 'Spain')\n",
      "(70, 'Santé Gourmet', 'Jonas Bergulfsen', 'Erling Skakkes gate 78', 'Stavern', '4110', 'Norway')\n",
      "(71, 'Save-a-lot Markets', 'Jose Pavarotti', '187 Suffolk Ln.', 'Boise', '83720', 'USA')\n",
      "(72, 'Seven Seas Imports', 'Hari Kumar', '90 Wadhurst Rd.', 'London', 'OX15 4NB', 'UK')\n",
      "(73, 'Simons bistro', 'Jytte Petersen', 'Vinbæltet 34', 'København', '1734', 'Denmark')\n",
      "(74, 'Spécialités du monde', 'Dominique Perrier', '25, rue Lauriston', 'Paris', '75016', 'France')\n",
      "(75, 'Split Rail Beer & Ale', 'Art Braunschweiger', 'P.O. Box 555', 'Lander', '82520', 'USA')\n",
      "(76, 'Suprêmes délices', 'Pascale Cartrain', 'Boulevard Tirou, 255', 'Charleroi', 'B-6000', 'Belgium')\n",
      "(77, 'The Big Cheese', 'Liz Nixon', '89 Jefferson Way Suite 2', 'Portland', '97201', 'USA')\n",
      "(78, 'The Cracker Box', 'Liu Wong', '55 Grizzly Peak Rd.', 'Butte', '59801', 'USA')\n",
      "(79, 'Toms Spezialitäten', 'Karin Josephs', 'Luisenstr. 48', 'Münster', '44087', 'Germany')\n",
      "(80, 'Tortuga Restaurante', 'Miguel Angel Paolino', 'Avda. Azteca 123', 'México D.F.', '05033', 'Mexico')\n",
      "(81, 'Tradição Hipermercados', 'Anabela Domingues', 'Av. Inês de Castro, 414', 'São Paulo', '05634-030', 'Brazil')\n",
      "(82, \"Trail's Head Gourmet Provisioners\", 'Helvetius Nagy', '722 DaVinci Blvd.', 'Kirkland', '98034', 'USA')\n",
      "(83, 'Vaffeljernet', 'Palle Ibsen', 'Smagsløget 45', 'Århus', '8200', 'Denmark')\n",
      "(84, 'Victuailles en stock', 'Mary Saveley', '2, rue du Commerce', 'Lyon', '69004', 'France')\n",
      "(85, 'Vins et alcools Chevalier', 'Paul Henriot', \"59 rue de l'Abbaye\", 'Reims', '51100', 'France')\n",
      "(86, 'Die Wandernde Kuh', 'Rita Müller', 'Adenauerallee 900', 'Stuttgart', '70563', 'Germany')\n",
      "(87, 'Wartian Herkku', 'Pirkko Koskitalo', 'Torikatu 38', 'Oulu', '90110', 'Finland')\n",
      "(88, 'Wellington Importadora', 'Paula Parente', 'Rua do Mercado, 12', 'Resende', '08737-363', 'Brazil')\n",
      "(89, 'White Clover Markets', 'Karl Jablonski', '305 - 14th Ave. S. Suite 3B', 'Seattle', '98128', 'USA')\n",
      "(90, 'Wilman Kala', 'Matti Karttunen', 'Keskuskatu 45', 'Helsinki', '21240', 'Finland')\n",
      "(91, 'Wolski', 'Zbyszek', 'ul. Filtrowa 68', 'Walla', '01-012', None)\n"
     ]
    }
   ],
   "source": [
    "query = \"\"\"\n",
    "SELECT * FROM Customers\n",
    "WHERE CustomerName NOT LIKE 'A%';\n",
    "\"\"\"\n",
    "print_query_result(query)"
   ]
  },
  {
   "cell_type": "markdown",
   "id": "97eca8f6",
   "metadata": {},
   "source": [
    "## NOT BETWEEN"
   ]
  },
  {
   "cell_type": "code",
   "execution_count": 35,
   "id": "9830463f",
   "metadata": {},
   "outputs": [
    {
     "name": "stdout",
     "output_type": "stream",
     "text": [
      "(1, 'Alfreds Futterkiste', 'Maria Anders', 'Obere Str. 57', 'Berlin', '12209', 'Germany')\n",
      "(2, 'Ana Trujillo Emparedados y helados', 'Ana Trujillo', 'Avda. de la Constitución 2222', 'México D.F.', '05021', 'Mexico')\n",
      "(3, 'Antonio Moreno Taquería', 'Antonio Moreno', 'Mataderos 2312', 'México D.F.', '05023', 'Mexico')\n",
      "(4, 'Around the Horn', 'Thomas Hardy', '120 Hanover Sq.', 'London', 'WA1 1DP', 'UK')\n",
      "(5, 'Berglunds snabbköp', 'Christina Berglund', 'Berguvsvägen 8', 'Luleå', 'S-958 22', 'Sweden')\n",
      "(6, 'Blauer See Delikatessen', 'Hanna Moos', 'Forsterstr. 57', 'Mannheim', '68306', 'Germany')\n",
      "(7, 'Blondel père et fils', 'Frédérique Citeaux', '24, place Kléber', 'Strasbourg', '67000', 'France')\n",
      "(8, 'Bólido Comidas preparadas', 'Martín Sommer', 'C/ Araquil, 67', 'Madrid', '28023', 'Spain')\n",
      "(9, \"Bon app'\", 'Laurence Lebihans', '12, rue des Bouchers', 'Marseille', '13008', 'France')\n",
      "(61, 'Que Delícia', 'Bernardo Batista', 'Rua da Panificadora, 12', 'Rio de Janeiro', '02389-673', 'Brazil')\n",
      "(62, 'Queen Cozinha', 'Lúcia Carvalho', 'Alameda dos Canàrios, 891', 'São Paulo', '05487-020', 'Brazil')\n",
      "(63, 'QUICK-Stop', 'Horst Kloss', 'Taucherstraße 10', 'Cunewalde', '01307', 'Germany')\n",
      "(64, 'Rancho grande', 'Sergio Gutiérrez', 'Av. del Libertador 900', 'Buenos Aires', '1010', 'Argentina')\n",
      "(65, 'Rattlesnake Canyon Grocery', 'Paula Wilson', '2817 Milton Dr.', 'Albuquerque', '87110', 'USA')\n",
      "(66, 'Reggiani Caseifici', 'Maurizio Moroni', 'Strada Provinciale 124', 'Reggio Emilia', '42100', 'Italy')\n",
      "(67, 'Ricardo Adocicados', 'Janete Limeira', 'Av. Copacabana, 267', 'Rio de Janeiro', '02389-890', 'Brazil')\n",
      "(68, 'Richter Supermarkt', 'Michael Holz', 'Grenzacherweg 237', 'Genève', '1203', 'Switzerland')\n",
      "(69, 'Romero y tomillo', 'Alejandra Camino', 'Gran Vía, 1', 'Madrid', '28001', 'Spain')\n",
      "(70, 'Santé Gourmet', 'Jonas Bergulfsen', 'Erling Skakkes gate 78', 'Stavern', '4110', 'Norway')\n",
      "(71, 'Save-a-lot Markets', 'Jose Pavarotti', '187 Suffolk Ln.', 'Boise', '83720', 'USA')\n",
      "(72, 'Seven Seas Imports', 'Hari Kumar', '90 Wadhurst Rd.', 'London', 'OX15 4NB', 'UK')\n",
      "(73, 'Simons bistro', 'Jytte Petersen', 'Vinbæltet 34', 'København', '1734', 'Denmark')\n",
      "(74, 'Spécialités du monde', 'Dominique Perrier', '25, rue Lauriston', 'Paris', '75016', 'France')\n",
      "(75, 'Split Rail Beer & Ale', 'Art Braunschweiger', 'P.O. Box 555', 'Lander', '82520', 'USA')\n",
      "(76, 'Suprêmes délices', 'Pascale Cartrain', 'Boulevard Tirou, 255', 'Charleroi', 'B-6000', 'Belgium')\n",
      "(77, 'The Big Cheese', 'Liz Nixon', '89 Jefferson Way Suite 2', 'Portland', '97201', 'USA')\n",
      "(78, 'The Cracker Box', 'Liu Wong', '55 Grizzly Peak Rd.', 'Butte', '59801', 'USA')\n",
      "(79, 'Toms Spezialitäten', 'Karin Josephs', 'Luisenstr. 48', 'Münster', '44087', 'Germany')\n",
      "(80, 'Tortuga Restaurante', 'Miguel Angel Paolino', 'Avda. Azteca 123', 'México D.F.', '05033', 'Mexico')\n",
      "(81, 'Tradição Hipermercados', 'Anabela Domingues', 'Av. Inês de Castro, 414', 'São Paulo', '05634-030', 'Brazil')\n",
      "(82, \"Trail's Head Gourmet Provisioners\", 'Helvetius Nagy', '722 DaVinci Blvd.', 'Kirkland', '98034', 'USA')\n",
      "(83, 'Vaffeljernet', 'Palle Ibsen', 'Smagsløget 45', 'Århus', '8200', 'Denmark')\n",
      "(84, 'Victuailles en stock', 'Mary Saveley', '2, rue du Commerce', 'Lyon', '69004', 'France')\n",
      "(85, 'Vins et alcools Chevalier', 'Paul Henriot', \"59 rue de l'Abbaye\", 'Reims', '51100', 'France')\n",
      "(86, 'Die Wandernde Kuh', 'Rita Müller', 'Adenauerallee 900', 'Stuttgart', '70563', 'Germany')\n",
      "(87, 'Wartian Herkku', 'Pirkko Koskitalo', 'Torikatu 38', 'Oulu', '90110', 'Finland')\n",
      "(88, 'Wellington Importadora', 'Paula Parente', 'Rua do Mercado, 12', 'Resende', '08737-363', 'Brazil')\n",
      "(89, 'White Clover Markets', 'Karl Jablonski', '305 - 14th Ave. S. Suite 3B', 'Seattle', '98128', 'USA')\n",
      "(90, 'Wilman Kala', 'Matti Karttunen', 'Keskuskatu 45', 'Helsinki', '21240', 'Finland')\n",
      "(91, 'Wolski', 'Zbyszek', 'ul. Filtrowa 68', 'Walla', '01-012', None)\n"
     ]
    }
   ],
   "source": [
    "query = \"\"\"\n",
    "SELECT * FROM Customers\n",
    "WHERE CustomerID NOT BETWEEN 10 AND 60;\n",
    "\"\"\"\n",
    "print_query_result(query)"
   ]
  },
  {
   "cell_type": "markdown",
   "id": "19a51983",
   "metadata": {},
   "source": [
    "## NOT IN"
   ]
  },
  {
   "cell_type": "code",
   "execution_count": 37,
   "id": "558ce9da",
   "metadata": {},
   "outputs": [
    {
     "name": "stdout",
     "output_type": "stream",
     "text": [
      "(1, 'Alfreds Futterkiste', 'Maria Anders', 'Obere Str. 57', 'Berlin', '12209', 'Germany')\n",
      "(2, 'Ana Trujillo Emparedados y helados', 'Ana Trujillo', 'Avda. de la Constitución 2222', 'México D.F.', '05021', 'Mexico')\n",
      "(3, 'Antonio Moreno Taquería', 'Antonio Moreno', 'Mataderos 2312', 'México D.F.', '05023', 'Mexico')\n",
      "(5, 'Berglunds snabbköp', 'Christina Berglund', 'Berguvsvägen 8', 'Luleå', 'S-958 22', 'Sweden')\n",
      "(6, 'Blauer See Delikatessen', 'Hanna Moos', 'Forsterstr. 57', 'Mannheim', '68306', 'Germany')\n",
      "(7, 'Blondel père et fils', 'Frédérique Citeaux', '24, place Kléber', 'Strasbourg', '67000', 'France')\n",
      "(8, 'Bólido Comidas preparadas', 'Martín Sommer', 'C/ Araquil, 67', 'Madrid', '28023', 'Spain')\n",
      "(9, \"Bon app'\", 'Laurence Lebihans', '12, rue des Bouchers', 'Marseille', '13008', 'France')\n",
      "(10, 'Bottom-Dollar Marketse', 'Elizabeth Lincoln', '23 Tsawassen Blvd.', 'Tsawassen', 'T2F 8M4', 'Canada')\n",
      "(12, 'Cactus Comidas para llevar', 'Patricio Simpson', 'Cerrito 333', 'Buenos Aires', '1010', 'Argentina')\n",
      "(13, 'Centro comercial Moctezuma', 'Francisco Chang', 'Sierras de Granada 9993', 'México D.F.', '05022', 'Mexico')\n",
      "(14, 'Chop-suey Chinese', 'Yang Wang', 'Hauptstr. 29', 'Bern', '3012', 'Switzerland')\n",
      "(15, 'Comércio Mineiro', 'Pedro Afonso', 'Av. dos Lusíadas, 23', 'São Paulo', '05432-043', 'Brazil')\n",
      "(17, 'Drachenblut Delikatessend', 'Sven Ottlieb', 'Walserweg 21', 'Aachen', '52066', 'Germany')\n",
      "(18, 'Du monde entier', 'Janine Labrune', '67, rue des Cinquante Otages', 'Nantes', '44000', 'France')\n",
      "(20, 'Ernst Handel', 'Roland Mendel', 'Kirchgasse 6', 'Graz', '8010', 'Austria')\n",
      "(21, 'Familia Arquibaldo', 'Aria Cruz', 'Rua Orós, 92', 'São Paulo', '05442-030', 'Brazil')\n",
      "(22, 'FISSA Fabrica Inter. Salchichas S.A.', 'Diego Roel', 'C/ Moralzarzal, 86', 'Madrid', '28034', 'Spain')\n",
      "(23, 'Folies gourmandes', 'Martine Rancé', '184, chaussée de Tournai', 'Lille', '59000', 'France')\n",
      "(24, 'Folk och fä HB', 'Maria Larsson', 'Åkergatan 24', 'Bräcke', 'S-844 67', 'Sweden')\n",
      "(25, 'Frankenversand', 'Peter Franken', 'Berliner Platz 43', 'München', '80805', 'Germany')\n",
      "(26, 'France restauration', 'Carine Schmitt', '54, rue Royale', 'Nantes', '44000', 'France')\n",
      "(27, 'Franchi S.p.A.', 'Paolo Accorti', 'Via Monte Bianco 34', 'Torino', '10100', 'Italy')\n",
      "(28, 'Furia Bacalhau e Frutos do Mar', 'Lino Rodriguez ', 'Jardim das rosas n. 32', 'Lisboa', '1675', 'Portugal')\n",
      "(29, 'Galería del gastrónomo', 'Eduardo Saavedra', 'Rambla de Cataluña, 23', 'Barcelona', '08022', 'Spain')\n",
      "(30, 'Godos Cocina Típica', 'José Pedro Freyre', 'C/ Romero, 33', 'Sevilla', '41101', 'Spain')\n",
      "(31, 'Gourmet Lanchonetes', 'André Fonseca', 'Av. Brasil, 442', 'Campinas', '04876-786', 'Brazil')\n",
      "(32, 'Great Lakes Food Market', 'Howard Snyder', '2732 Baker Blvd.', 'Eugene', '97403', 'USA')\n",
      "(33, 'GROSELLA-Restaurante', 'Manuel Pereira', '5ª Ave. Los Palos Grandes', 'Caracas', '1081', 'Venezuela')\n",
      "(34, 'Hanari Carnes', 'Mario Pontes', 'Rua do Paço, 67', 'Rio de Janeiro', '05454-876', 'Brazil')\n",
      "(35, 'HILARIÓN-Abastos', 'Carlos Hernández', 'Carrera 22 con Ave. Carlos Soublette #8-35', 'San Cristóbal', '5022', 'Venezuela')\n",
      "(36, 'Hungry Coyote Import Store', 'Yoshi Latimer', 'City Center Plaza 516 Main St.', 'Elgin', '97827', 'USA')\n",
      "(37, 'Hungry Owl All-Night Grocers', 'Patricia McKenna', '8 Johnstown Road', 'Cork', None, 'Ireland')\n",
      "(38, 'Island Trading', 'Helen Bennett', 'Garden House Crowther Way', 'Cowes', 'PO31 7PJ', 'UK')\n",
      "(39, 'Königlich Essen', 'Philip Cramer', 'Maubelstr. 90', 'Brandenburg', '14776', 'Germany')\n",
      "(40, \"La corne d'abondance\", 'Daniel Tonini', \"67, avenue de l'Europe\", 'Versailles', '78000', 'France')\n",
      "(41, \"La maison d'Asie\", 'Annette Roulet', '1 rue Alsace-Lorraine', 'Toulouse', '31000', 'France')\n",
      "(42, 'Laughing Bacchus Wine Cellars', 'Yoshi Tannamuri', '1900 Oak St.', 'Vancouver', 'V3F 2K1', 'Canada')\n",
      "(43, 'Lazy K Kountry Store', 'John Steel', '12 Orchestra Terrace', 'Walla Walla', '99362', 'USA')\n",
      "(44, 'Lehmanns Marktstand', 'Renate Messner', 'Magazinweg 7', 'Frankfurt a.M. ', '60528', 'Germany')\n",
      "(45, \"Let's Stop N Shop\", 'Jaime Yorres', '87 Polk St. Suite 5', 'San Francisco', '94117', 'USA')\n",
      "(46, 'LILA-Supermercado', 'Carlos González', 'Carrera 52 con Ave. Bolívar #65-98 Llano Largo', 'Barquisimeto', '3508', 'Venezuela')\n",
      "(47, 'LINO-Delicateses', 'Felipe Izquierdo', 'Ave. 5 de Mayo Porlamar', 'I. de Margarita', '4980', 'Venezuela')\n",
      "(48, 'Lonesome Pine Restaurant', 'Fran Wilson', '89 Chiaroscuro Rd.', 'Portland', '97219', 'USA')\n",
      "(49, 'Magazzini Alimentari Riuniti', 'Giovanni Rovelli', 'Via Ludovico il Moro 22', 'Bergamo', '24100', 'Italy')\n",
      "(50, 'Maison Dewey', 'Catherine Dewey', 'Rue Joseph-Bens 532', 'Bruxelles', 'B-1180', 'Belgium')\n",
      "(51, 'Mère Paillarde', 'Jean Fresnière', '43 rue St. Laurent', 'Montréal', 'H1J 1C3', 'Canada')\n",
      "(52, 'Morgenstern Gesundkost', 'Alexander Feuer', 'Heerstr. 22', 'Leipzig', '04179', 'Germany')\n",
      "(54, 'Océano Atlántico Ltda.', 'Yvonne Moncada', 'Ing. Gustavo Moncada 8585 Piso 20-A', 'Buenos Aires', '1010', 'Argentina')\n",
      "(55, 'Old World Delicatessen', 'Rene Phillips', '2743 Bering St.', 'Anchorage', '99508', 'USA')\n",
      "(56, 'Ottilies Käseladen', 'Henriette Pfalzheim', 'Mehrheimerstr. 369', 'Köln', '50739', 'Germany')\n",
      "(58, 'Pericles Comidas clásicas', 'Guillermo Fernández', 'Calle Dr. Jorge Cash 321', 'México D.F.', '05033', 'Mexico')\n",
      "(59, 'Piccolo und mehr', 'Georg Pipps', 'Geislweg 14', 'Salzburg', '5020', 'Austria')\n",
      "(60, 'Princesa Isabel Vinhoss', 'Isabel de Castro', 'Estrada da saúde n. 58', 'Lisboa', '1756', 'Portugal')\n",
      "(61, 'Que Delícia', 'Bernardo Batista', 'Rua da Panificadora, 12', 'Rio de Janeiro', '02389-673', 'Brazil')\n",
      "(62, 'Queen Cozinha', 'Lúcia Carvalho', 'Alameda dos Canàrios, 891', 'São Paulo', '05487-020', 'Brazil')\n",
      "(63, 'QUICK-Stop', 'Horst Kloss', 'Taucherstraße 10', 'Cunewalde', '01307', 'Germany')\n",
      "(64, 'Rancho grande', 'Sergio Gutiérrez', 'Av. del Libertador 900', 'Buenos Aires', '1010', 'Argentina')\n",
      "(65, 'Rattlesnake Canyon Grocery', 'Paula Wilson', '2817 Milton Dr.', 'Albuquerque', '87110', 'USA')\n",
      "(66, 'Reggiani Caseifici', 'Maurizio Moroni', 'Strada Provinciale 124', 'Reggio Emilia', '42100', 'Italy')\n",
      "(67, 'Ricardo Adocicados', 'Janete Limeira', 'Av. Copacabana, 267', 'Rio de Janeiro', '02389-890', 'Brazil')\n",
      "(68, 'Richter Supermarkt', 'Michael Holz', 'Grenzacherweg 237', 'Genève', '1203', 'Switzerland')\n",
      "(69, 'Romero y tomillo', 'Alejandra Camino', 'Gran Vía, 1', 'Madrid', '28001', 'Spain')\n",
      "(70, 'Santé Gourmet', 'Jonas Bergulfsen', 'Erling Skakkes gate 78', 'Stavern', '4110', 'Norway')\n",
      "(71, 'Save-a-lot Markets', 'Jose Pavarotti', '187 Suffolk Ln.', 'Boise', '83720', 'USA')\n",
      "(73, 'Simons bistro', 'Jytte Petersen', 'Vinbæltet 34', 'København', '1734', 'Denmark')\n",
      "(75, 'Split Rail Beer & Ale', 'Art Braunschweiger', 'P.O. Box 555', 'Lander', '82520', 'USA')\n",
      "(76, 'Suprêmes délices', 'Pascale Cartrain', 'Boulevard Tirou, 255', 'Charleroi', 'B-6000', 'Belgium')\n",
      "(77, 'The Big Cheese', 'Liz Nixon', '89 Jefferson Way Suite 2', 'Portland', '97201', 'USA')\n",
      "(78, 'The Cracker Box', 'Liu Wong', '55 Grizzly Peak Rd.', 'Butte', '59801', 'USA')\n",
      "(79, 'Toms Spezialitäten', 'Karin Josephs', 'Luisenstr. 48', 'Münster', '44087', 'Germany')\n",
      "(80, 'Tortuga Restaurante', 'Miguel Angel Paolino', 'Avda. Azteca 123', 'México D.F.', '05033', 'Mexico')\n",
      "(81, 'Tradição Hipermercados', 'Anabela Domingues', 'Av. Inês de Castro, 414', 'São Paulo', '05634-030', 'Brazil')\n",
      "(82, \"Trail's Head Gourmet Provisioners\", 'Helvetius Nagy', '722 DaVinci Blvd.', 'Kirkland', '98034', 'USA')\n",
      "(83, 'Vaffeljernet', 'Palle Ibsen', 'Smagsløget 45', 'Århus', '8200', 'Denmark')\n",
      "(84, 'Victuailles en stock', 'Mary Saveley', '2, rue du Commerce', 'Lyon', '69004', 'France')\n",
      "(85, 'Vins et alcools Chevalier', 'Paul Henriot', \"59 rue de l'Abbaye\", 'Reims', '51100', 'France')\n",
      "(86, 'Die Wandernde Kuh', 'Rita Müller', 'Adenauerallee 900', 'Stuttgart', '70563', 'Germany')\n",
      "(87, 'Wartian Herkku', 'Pirkko Koskitalo', 'Torikatu 38', 'Oulu', '90110', 'Finland')\n",
      "(88, 'Wellington Importadora', 'Paula Parente', 'Rua do Mercado, 12', 'Resende', '08737-363', 'Brazil')\n",
      "(89, 'White Clover Markets', 'Karl Jablonski', '305 - 14th Ave. S. Suite 3B', 'Seattle', '98128', 'USA')\n",
      "(90, 'Wilman Kala', 'Matti Karttunen', 'Keskuskatu 45', 'Helsinki', '21240', 'Finland')\n",
      "(91, 'Wolski', 'Zbyszek', 'ul. Filtrowa 68', 'Walla', '01-012', None)\n"
     ]
    }
   ],
   "source": [
    "query = \"\"\"\n",
    "SELECT * FROM Customers\n",
    "WHERE City NOT IN ('Paris', 'London');\n",
    "\"\"\"\n",
    "print_query_result(query)"
   ]
  },
  {
   "cell_type": "markdown",
   "id": "6cf9a404",
   "metadata": {},
   "source": [
    "## NOT Greater Than"
   ]
  },
  {
   "cell_type": "code",
   "execution_count": 38,
   "id": "de843d62",
   "metadata": {},
   "outputs": [
    {
     "name": "stdout",
     "output_type": "stream",
     "text": [
      "(1, 'Alfreds Futterkiste', 'Maria Anders', 'Obere Str. 57', 'Berlin', '12209', 'Germany')\n",
      "(2, 'Ana Trujillo Emparedados y helados', 'Ana Trujillo', 'Avda. de la Constitución 2222', 'México D.F.', '05021', 'Mexico')\n",
      "(3, 'Antonio Moreno Taquería', 'Antonio Moreno', 'Mataderos 2312', 'México D.F.', '05023', 'Mexico')\n",
      "(4, 'Around the Horn', 'Thomas Hardy', '120 Hanover Sq.', 'London', 'WA1 1DP', 'UK')\n",
      "(5, 'Berglunds snabbköp', 'Christina Berglund', 'Berguvsvägen 8', 'Luleå', 'S-958 22', 'Sweden')\n",
      "(6, 'Blauer See Delikatessen', 'Hanna Moos', 'Forsterstr. 57', 'Mannheim', '68306', 'Germany')\n",
      "(7, 'Blondel père et fils', 'Frédérique Citeaux', '24, place Kléber', 'Strasbourg', '67000', 'France')\n",
      "(8, 'Bólido Comidas preparadas', 'Martín Sommer', 'C/ Araquil, 67', 'Madrid', '28023', 'Spain')\n",
      "(9, \"Bon app'\", 'Laurence Lebihans', '12, rue des Bouchers', 'Marseille', '13008', 'France')\n",
      "(10, 'Bottom-Dollar Marketse', 'Elizabeth Lincoln', '23 Tsawassen Blvd.', 'Tsawassen', 'T2F 8M4', 'Canada')\n",
      "(11, \"B's Beverages\", 'Victoria Ashworth', 'Fauntleroy Circus', 'London', 'EC2 5NT', 'UK')\n",
      "(12, 'Cactus Comidas para llevar', 'Patricio Simpson', 'Cerrito 333', 'Buenos Aires', '1010', 'Argentina')\n",
      "(13, 'Centro comercial Moctezuma', 'Francisco Chang', 'Sierras de Granada 9993', 'México D.F.', '05022', 'Mexico')\n",
      "(14, 'Chop-suey Chinese', 'Yang Wang', 'Hauptstr. 29', 'Bern', '3012', 'Switzerland')\n",
      "(15, 'Comércio Mineiro', 'Pedro Afonso', 'Av. dos Lusíadas, 23', 'São Paulo', '05432-043', 'Brazil')\n",
      "(16, 'Consolidated Holdings', 'Elizabeth Brown', 'Berkeley Gardens 12 Brewery ', 'London', 'WX1 6LT', 'UK')\n",
      "(17, 'Drachenblut Delikatessend', 'Sven Ottlieb', 'Walserweg 21', 'Aachen', '52066', 'Germany')\n",
      "(18, 'Du monde entier', 'Janine Labrune', '67, rue des Cinquante Otages', 'Nantes', '44000', 'France')\n",
      "(19, 'Eastern Connection', 'Ann Devon', '35 King George', 'London', 'WX3 6FW', 'UK')\n",
      "(20, 'Ernst Handel', 'Roland Mendel', 'Kirchgasse 6', 'Graz', '8010', 'Austria')\n",
      "(21, 'Familia Arquibaldo', 'Aria Cruz', 'Rua Orós, 92', 'São Paulo', '05442-030', 'Brazil')\n",
      "(22, 'FISSA Fabrica Inter. Salchichas S.A.', 'Diego Roel', 'C/ Moralzarzal, 86', 'Madrid', '28034', 'Spain')\n",
      "(23, 'Folies gourmandes', 'Martine Rancé', '184, chaussée de Tournai', 'Lille', '59000', 'France')\n",
      "(24, 'Folk och fä HB', 'Maria Larsson', 'Åkergatan 24', 'Bräcke', 'S-844 67', 'Sweden')\n",
      "(25, 'Frankenversand', 'Peter Franken', 'Berliner Platz 43', 'München', '80805', 'Germany')\n",
      "(26, 'France restauration', 'Carine Schmitt', '54, rue Royale', 'Nantes', '44000', 'France')\n",
      "(27, 'Franchi S.p.A.', 'Paolo Accorti', 'Via Monte Bianco 34', 'Torino', '10100', 'Italy')\n",
      "(28, 'Furia Bacalhau e Frutos do Mar', 'Lino Rodriguez ', 'Jardim das rosas n. 32', 'Lisboa', '1675', 'Portugal')\n",
      "(29, 'Galería del gastrónomo', 'Eduardo Saavedra', 'Rambla de Cataluña, 23', 'Barcelona', '08022', 'Spain')\n",
      "(30, 'Godos Cocina Típica', 'José Pedro Freyre', 'C/ Romero, 33', 'Sevilla', '41101', 'Spain')\n",
      "(31, 'Gourmet Lanchonetes', 'André Fonseca', 'Av. Brasil, 442', 'Campinas', '04876-786', 'Brazil')\n",
      "(32, 'Great Lakes Food Market', 'Howard Snyder', '2732 Baker Blvd.', 'Eugene', '97403', 'USA')\n",
      "(33, 'GROSELLA-Restaurante', 'Manuel Pereira', '5ª Ave. Los Palos Grandes', 'Caracas', '1081', 'Venezuela')\n",
      "(34, 'Hanari Carnes', 'Mario Pontes', 'Rua do Paço, 67', 'Rio de Janeiro', '05454-876', 'Brazil')\n",
      "(35, 'HILARIÓN-Abastos', 'Carlos Hernández', 'Carrera 22 con Ave. Carlos Soublette #8-35', 'San Cristóbal', '5022', 'Venezuela')\n",
      "(36, 'Hungry Coyote Import Store', 'Yoshi Latimer', 'City Center Plaza 516 Main St.', 'Elgin', '97827', 'USA')\n",
      "(37, 'Hungry Owl All-Night Grocers', 'Patricia McKenna', '8 Johnstown Road', 'Cork', None, 'Ireland')\n",
      "(38, 'Island Trading', 'Helen Bennett', 'Garden House Crowther Way', 'Cowes', 'PO31 7PJ', 'UK')\n",
      "(39, 'Königlich Essen', 'Philip Cramer', 'Maubelstr. 90', 'Brandenburg', '14776', 'Germany')\n",
      "(40, \"La corne d'abondance\", 'Daniel Tonini', \"67, avenue de l'Europe\", 'Versailles', '78000', 'France')\n",
      "(41, \"La maison d'Asie\", 'Annette Roulet', '1 rue Alsace-Lorraine', 'Toulouse', '31000', 'France')\n",
      "(42, 'Laughing Bacchus Wine Cellars', 'Yoshi Tannamuri', '1900 Oak St.', 'Vancouver', 'V3F 2K1', 'Canada')\n",
      "(43, 'Lazy K Kountry Store', 'John Steel', '12 Orchestra Terrace', 'Walla Walla', '99362', 'USA')\n",
      "(44, 'Lehmanns Marktstand', 'Renate Messner', 'Magazinweg 7', 'Frankfurt a.M. ', '60528', 'Germany')\n",
      "(45, \"Let's Stop N Shop\", 'Jaime Yorres', '87 Polk St. Suite 5', 'San Francisco', '94117', 'USA')\n",
      "(46, 'LILA-Supermercado', 'Carlos González', 'Carrera 52 con Ave. Bolívar #65-98 Llano Largo', 'Barquisimeto', '3508', 'Venezuela')\n",
      "(47, 'LINO-Delicateses', 'Felipe Izquierdo', 'Ave. 5 de Mayo Porlamar', 'I. de Margarita', '4980', 'Venezuela')\n",
      "(48, 'Lonesome Pine Restaurant', 'Fran Wilson', '89 Chiaroscuro Rd.', 'Portland', '97219', 'USA')\n",
      "(49, 'Magazzini Alimentari Riuniti', 'Giovanni Rovelli', 'Via Ludovico il Moro 22', 'Bergamo', '24100', 'Italy')\n",
      "(50, 'Maison Dewey', 'Catherine Dewey', 'Rue Joseph-Bens 532', 'Bruxelles', 'B-1180', 'Belgium')\n"
     ]
    }
   ],
   "source": [
    "query = \"\"\"\n",
    "SELECT * FROM Customers\n",
    "WHERE NOT CustomerID > 50;\n",
    "\"\"\"\n",
    "print_query_result(query)"
   ]
  },
  {
   "cell_type": "markdown",
   "id": "f89e4b28",
   "metadata": {},
   "source": [
    "## NOT Less Than"
   ]
  },
  {
   "cell_type": "code",
   "execution_count": 39,
   "id": "527ae803",
   "metadata": {},
   "outputs": [
    {
     "name": "stdout",
     "output_type": "stream",
     "text": [
      "(50, 'Maison Dewey', 'Catherine Dewey', 'Rue Joseph-Bens 532', 'Bruxelles', 'B-1180', 'Belgium')\n",
      "(51, 'Mère Paillarde', 'Jean Fresnière', '43 rue St. Laurent', 'Montréal', 'H1J 1C3', 'Canada')\n",
      "(52, 'Morgenstern Gesundkost', 'Alexander Feuer', 'Heerstr. 22', 'Leipzig', '04179', 'Germany')\n",
      "(53, 'North/South', 'Simon Crowther', 'South House 300 Queensbridge', 'London', 'SW7 1RZ', 'UK')\n",
      "(54, 'Océano Atlántico Ltda.', 'Yvonne Moncada', 'Ing. Gustavo Moncada 8585 Piso 20-A', 'Buenos Aires', '1010', 'Argentina')\n",
      "(55, 'Old World Delicatessen', 'Rene Phillips', '2743 Bering St.', 'Anchorage', '99508', 'USA')\n",
      "(56, 'Ottilies Käseladen', 'Henriette Pfalzheim', 'Mehrheimerstr. 369', 'Köln', '50739', 'Germany')\n",
      "(57, 'Paris spécialités', 'Marie Bertrand', '265, boulevard Charonne', 'Paris', '75012', 'France')\n",
      "(58, 'Pericles Comidas clásicas', 'Guillermo Fernández', 'Calle Dr. Jorge Cash 321', 'México D.F.', '05033', 'Mexico')\n",
      "(59, 'Piccolo und mehr', 'Georg Pipps', 'Geislweg 14', 'Salzburg', '5020', 'Austria')\n",
      "(60, 'Princesa Isabel Vinhoss', 'Isabel de Castro', 'Estrada da saúde n. 58', 'Lisboa', '1756', 'Portugal')\n",
      "(61, 'Que Delícia', 'Bernardo Batista', 'Rua da Panificadora, 12', 'Rio de Janeiro', '02389-673', 'Brazil')\n",
      "(62, 'Queen Cozinha', 'Lúcia Carvalho', 'Alameda dos Canàrios, 891', 'São Paulo', '05487-020', 'Brazil')\n",
      "(63, 'QUICK-Stop', 'Horst Kloss', 'Taucherstraße 10', 'Cunewalde', '01307', 'Germany')\n",
      "(64, 'Rancho grande', 'Sergio Gutiérrez', 'Av. del Libertador 900', 'Buenos Aires', '1010', 'Argentina')\n",
      "(65, 'Rattlesnake Canyon Grocery', 'Paula Wilson', '2817 Milton Dr.', 'Albuquerque', '87110', 'USA')\n",
      "(66, 'Reggiani Caseifici', 'Maurizio Moroni', 'Strada Provinciale 124', 'Reggio Emilia', '42100', 'Italy')\n",
      "(67, 'Ricardo Adocicados', 'Janete Limeira', 'Av. Copacabana, 267', 'Rio de Janeiro', '02389-890', 'Brazil')\n",
      "(68, 'Richter Supermarkt', 'Michael Holz', 'Grenzacherweg 237', 'Genève', '1203', 'Switzerland')\n",
      "(69, 'Romero y tomillo', 'Alejandra Camino', 'Gran Vía, 1', 'Madrid', '28001', 'Spain')\n",
      "(70, 'Santé Gourmet', 'Jonas Bergulfsen', 'Erling Skakkes gate 78', 'Stavern', '4110', 'Norway')\n",
      "(71, 'Save-a-lot Markets', 'Jose Pavarotti', '187 Suffolk Ln.', 'Boise', '83720', 'USA')\n",
      "(72, 'Seven Seas Imports', 'Hari Kumar', '90 Wadhurst Rd.', 'London', 'OX15 4NB', 'UK')\n",
      "(73, 'Simons bistro', 'Jytte Petersen', 'Vinbæltet 34', 'København', '1734', 'Denmark')\n",
      "(74, 'Spécialités du monde', 'Dominique Perrier', '25, rue Lauriston', 'Paris', '75016', 'France')\n",
      "(75, 'Split Rail Beer & Ale', 'Art Braunschweiger', 'P.O. Box 555', 'Lander', '82520', 'USA')\n",
      "(76, 'Suprêmes délices', 'Pascale Cartrain', 'Boulevard Tirou, 255', 'Charleroi', 'B-6000', 'Belgium')\n",
      "(77, 'The Big Cheese', 'Liz Nixon', '89 Jefferson Way Suite 2', 'Portland', '97201', 'USA')\n",
      "(78, 'The Cracker Box', 'Liu Wong', '55 Grizzly Peak Rd.', 'Butte', '59801', 'USA')\n",
      "(79, 'Toms Spezialitäten', 'Karin Josephs', 'Luisenstr. 48', 'Münster', '44087', 'Germany')\n",
      "(80, 'Tortuga Restaurante', 'Miguel Angel Paolino', 'Avda. Azteca 123', 'México D.F.', '05033', 'Mexico')\n",
      "(81, 'Tradição Hipermercados', 'Anabela Domingues', 'Av. Inês de Castro, 414', 'São Paulo', '05634-030', 'Brazil')\n",
      "(82, \"Trail's Head Gourmet Provisioners\", 'Helvetius Nagy', '722 DaVinci Blvd.', 'Kirkland', '98034', 'USA')\n",
      "(83, 'Vaffeljernet', 'Palle Ibsen', 'Smagsløget 45', 'Århus', '8200', 'Denmark')\n",
      "(84, 'Victuailles en stock', 'Mary Saveley', '2, rue du Commerce', 'Lyon', '69004', 'France')\n",
      "(85, 'Vins et alcools Chevalier', 'Paul Henriot', \"59 rue de l'Abbaye\", 'Reims', '51100', 'France')\n",
      "(86, 'Die Wandernde Kuh', 'Rita Müller', 'Adenauerallee 900', 'Stuttgart', '70563', 'Germany')\n",
      "(87, 'Wartian Herkku', 'Pirkko Koskitalo', 'Torikatu 38', 'Oulu', '90110', 'Finland')\n",
      "(88, 'Wellington Importadora', 'Paula Parente', 'Rua do Mercado, 12', 'Resende', '08737-363', 'Brazil')\n",
      "(89, 'White Clover Markets', 'Karl Jablonski', '305 - 14th Ave. S. Suite 3B', 'Seattle', '98128', 'USA')\n",
      "(90, 'Wilman Kala', 'Matti Karttunen', 'Keskuskatu 45', 'Helsinki', '21240', 'Finland')\n",
      "(91, 'Wolski', 'Zbyszek', 'ul. Filtrowa 68', 'Walla', '01-012', None)\n"
     ]
    }
   ],
   "source": [
    "query = \"\"\"\n",
    "SELECT * FROM Customers\n",
    "WHERE NOT CustomerId < 50;\n",
    "\"\"\"\n",
    "print_query_result(query)"
   ]
  },
  {
   "cell_type": "markdown",
   "id": "7c1e3d9f",
   "metadata": {},
   "source": [
    "## SQL INSERT INTO Statement"
   ]
  },
  {
   "cell_type": "code",
   "execution_count": 40,
   "id": "28eb307d",
   "metadata": {},
   "outputs": [],
   "source": [
    "query = \"\"\"\n",
    "INSERT INTO Customers (CustomerName, ContactName, Address, City, PostalCode, Country)\n",
    "VALUES ('Cardinal', 'Tom B. Erichsen', 'Skagen 21', 'Stavanger', '4006', 'Norway');\n",
    "\"\"\"\n",
    "print_query_result(query)"
   ]
  },
  {
   "cell_type": "markdown",
   "id": "b17a3c81",
   "metadata": {},
   "source": [
    "## Insert Data Only in Specified Columns"
   ]
  },
  {
   "cell_type": "code",
   "execution_count": 41,
   "id": "36746df4",
   "metadata": {},
   "outputs": [],
   "source": [
    "query = \"\"\"\n",
    "INSERT INTO Customers (CustomerName, City, Country)\n",
    "VALUES ('Cardinal', 'Stavanger', 'Norway');\n",
    "\"\"\"\n",
    "print_query_result(query)"
   ]
  },
  {
   "cell_type": "markdown",
   "id": "5e7e8f06",
   "metadata": {},
   "source": [
    "## Insert Multiple Rows"
   ]
  },
  {
   "cell_type": "code",
   "execution_count": 42,
   "id": "eea48ec6",
   "metadata": {},
   "outputs": [],
   "source": [
    "query = \"\"\"\n",
    "INSERT INTO Customers (CustomerName, ContactName, Address, City, PostalCode, Country)\n",
    "VALUES\n",
    "('Cardinal', 'Tom B. Erichsen', 'Skagen 21', 'Stavanger', '4006', 'Norway'),\n",
    "('Greasy Burger', 'Per Olsen', 'Gateveien 15', 'Sandnes', '4306', 'Norway'),\n",
    "('Tasty Tee', 'Finn Egan', 'Streetroad 19B', 'Liverpool', 'L1 0AA', 'UK');\n",
    "\"\"\"\n",
    "print_query_result(query)"
   ]
  },
  {
   "cell_type": "markdown",
   "id": "36b38a20",
   "metadata": {},
   "source": [
    "## SQL NULL Values\n",
    "## IS NULL"
   ]
  },
  {
   "cell_type": "code",
   "execution_count": 43,
   "id": "4f249efb",
   "metadata": {},
   "outputs": [
    {
     "name": "stdout",
     "output_type": "stream",
     "text": [
      "('Cardinal', None, None)\n"
     ]
    }
   ],
   "source": [
    "query = \"\"\"\n",
    "SELECT CustomerName, ContactName, Address\n",
    "FROM Customers\n",
    "WHERE Address IS NULL;\n",
    "\"\"\"\n",
    "print_query_result(query)"
   ]
  },
  {
   "cell_type": "markdown",
   "id": "fac96516",
   "metadata": {},
   "source": [
    "## IS NOT NULL Operator"
   ]
  },
  {
   "cell_type": "code",
   "execution_count": 45,
   "id": "9191d35c",
   "metadata": {},
   "outputs": [
    {
     "name": "stdout",
     "output_type": "stream",
     "text": [
      "('Alfreds Futterkiste', 'Maria Anders', 'Obere Str. 57')\n",
      "('Ana Trujillo Emparedados y helados', 'Ana Trujillo', 'Avda. de la Constitución 2222')\n",
      "('Antonio Moreno Taquería', 'Antonio Moreno', 'Mataderos 2312')\n",
      "('Around the Horn', 'Thomas Hardy', '120 Hanover Sq.')\n",
      "('Berglunds snabbköp', 'Christina Berglund', 'Berguvsvägen 8')\n",
      "('Blauer See Delikatessen', 'Hanna Moos', 'Forsterstr. 57')\n",
      "('Blondel père et fils', 'Frédérique Citeaux', '24, place Kléber')\n",
      "('Bólido Comidas preparadas', 'Martín Sommer', 'C/ Araquil, 67')\n",
      "(\"Bon app'\", 'Laurence Lebihans', '12, rue des Bouchers')\n",
      "('Bottom-Dollar Marketse', 'Elizabeth Lincoln', '23 Tsawassen Blvd.')\n",
      "(\"B's Beverages\", 'Victoria Ashworth', 'Fauntleroy Circus')\n",
      "('Cactus Comidas para llevar', 'Patricio Simpson', 'Cerrito 333')\n",
      "('Centro comercial Moctezuma', 'Francisco Chang', 'Sierras de Granada 9993')\n",
      "('Chop-suey Chinese', 'Yang Wang', 'Hauptstr. 29')\n",
      "('Comércio Mineiro', 'Pedro Afonso', 'Av. dos Lusíadas, 23')\n",
      "('Consolidated Holdings', 'Elizabeth Brown', 'Berkeley Gardens 12 Brewery ')\n",
      "('Drachenblut Delikatessend', 'Sven Ottlieb', 'Walserweg 21')\n",
      "('Du monde entier', 'Janine Labrune', '67, rue des Cinquante Otages')\n",
      "('Eastern Connection', 'Ann Devon', '35 King George')\n",
      "('Ernst Handel', 'Roland Mendel', 'Kirchgasse 6')\n",
      "('Familia Arquibaldo', 'Aria Cruz', 'Rua Orós, 92')\n",
      "('FISSA Fabrica Inter. Salchichas S.A.', 'Diego Roel', 'C/ Moralzarzal, 86')\n",
      "('Folies gourmandes', 'Martine Rancé', '184, chaussée de Tournai')\n",
      "('Folk och fä HB', 'Maria Larsson', 'Åkergatan 24')\n",
      "('Frankenversand', 'Peter Franken', 'Berliner Platz 43')\n",
      "('France restauration', 'Carine Schmitt', '54, rue Royale')\n",
      "('Franchi S.p.A.', 'Paolo Accorti', 'Via Monte Bianco 34')\n",
      "('Furia Bacalhau e Frutos do Mar', 'Lino Rodriguez ', 'Jardim das rosas n. 32')\n",
      "('Galería del gastrónomo', 'Eduardo Saavedra', 'Rambla de Cataluña, 23')\n",
      "('Godos Cocina Típica', 'José Pedro Freyre', 'C/ Romero, 33')\n",
      "('Gourmet Lanchonetes', 'André Fonseca', 'Av. Brasil, 442')\n",
      "('Great Lakes Food Market', 'Howard Snyder', '2732 Baker Blvd.')\n",
      "('GROSELLA-Restaurante', 'Manuel Pereira', '5ª Ave. Los Palos Grandes')\n",
      "('Hanari Carnes', 'Mario Pontes', 'Rua do Paço, 67')\n",
      "('HILARIÓN-Abastos', 'Carlos Hernández', 'Carrera 22 con Ave. Carlos Soublette #8-35')\n",
      "('Hungry Coyote Import Store', 'Yoshi Latimer', 'City Center Plaza 516 Main St.')\n",
      "('Hungry Owl All-Night Grocers', 'Patricia McKenna', '8 Johnstown Road')\n",
      "('Island Trading', 'Helen Bennett', 'Garden House Crowther Way')\n",
      "('Königlich Essen', 'Philip Cramer', 'Maubelstr. 90')\n",
      "(\"La corne d'abondance\", 'Daniel Tonini', \"67, avenue de l'Europe\")\n",
      "(\"La maison d'Asie\", 'Annette Roulet', '1 rue Alsace-Lorraine')\n",
      "('Laughing Bacchus Wine Cellars', 'Yoshi Tannamuri', '1900 Oak St.')\n",
      "('Lazy K Kountry Store', 'John Steel', '12 Orchestra Terrace')\n",
      "('Lehmanns Marktstand', 'Renate Messner', 'Magazinweg 7')\n",
      "(\"Let's Stop N Shop\", 'Jaime Yorres', '87 Polk St. Suite 5')\n",
      "('LILA-Supermercado', 'Carlos González', 'Carrera 52 con Ave. Bolívar #65-98 Llano Largo')\n",
      "('LINO-Delicateses', 'Felipe Izquierdo', 'Ave. 5 de Mayo Porlamar')\n",
      "('Lonesome Pine Restaurant', 'Fran Wilson', '89 Chiaroscuro Rd.')\n",
      "('Magazzini Alimentari Riuniti', 'Giovanni Rovelli', 'Via Ludovico il Moro 22')\n",
      "('Maison Dewey', 'Catherine Dewey', 'Rue Joseph-Bens 532')\n",
      "('Mère Paillarde', 'Jean Fresnière', '43 rue St. Laurent')\n",
      "('Morgenstern Gesundkost', 'Alexander Feuer', 'Heerstr. 22')\n",
      "('North/South', 'Simon Crowther', 'South House 300 Queensbridge')\n",
      "('Océano Atlántico Ltda.', 'Yvonne Moncada', 'Ing. Gustavo Moncada 8585 Piso 20-A')\n",
      "('Old World Delicatessen', 'Rene Phillips', '2743 Bering St.')\n",
      "('Ottilies Käseladen', 'Henriette Pfalzheim', 'Mehrheimerstr. 369')\n",
      "('Paris spécialités', 'Marie Bertrand', '265, boulevard Charonne')\n",
      "('Pericles Comidas clásicas', 'Guillermo Fernández', 'Calle Dr. Jorge Cash 321')\n",
      "('Piccolo und mehr', 'Georg Pipps', 'Geislweg 14')\n",
      "('Princesa Isabel Vinhoss', 'Isabel de Castro', 'Estrada da saúde n. 58')\n",
      "('Que Delícia', 'Bernardo Batista', 'Rua da Panificadora, 12')\n",
      "('Queen Cozinha', 'Lúcia Carvalho', 'Alameda dos Canàrios, 891')\n",
      "('QUICK-Stop', 'Horst Kloss', 'Taucherstraße 10')\n",
      "('Rancho grande', 'Sergio Gutiérrez', 'Av. del Libertador 900')\n",
      "('Rattlesnake Canyon Grocery', 'Paula Wilson', '2817 Milton Dr.')\n",
      "('Reggiani Caseifici', 'Maurizio Moroni', 'Strada Provinciale 124')\n",
      "('Ricardo Adocicados', 'Janete Limeira', 'Av. Copacabana, 267')\n",
      "('Richter Supermarkt', 'Michael Holz', 'Grenzacherweg 237')\n",
      "('Romero y tomillo', 'Alejandra Camino', 'Gran Vía, 1')\n",
      "('Santé Gourmet', 'Jonas Bergulfsen', 'Erling Skakkes gate 78')\n",
      "('Save-a-lot Markets', 'Jose Pavarotti', '187 Suffolk Ln.')\n",
      "('Seven Seas Imports', 'Hari Kumar', '90 Wadhurst Rd.')\n",
      "('Simons bistro', 'Jytte Petersen', 'Vinbæltet 34')\n",
      "('Spécialités du monde', 'Dominique Perrier', '25, rue Lauriston')\n",
      "('Split Rail Beer & Ale', 'Art Braunschweiger', 'P.O. Box 555')\n",
      "('Suprêmes délices', 'Pascale Cartrain', 'Boulevard Tirou, 255')\n",
      "('The Big Cheese', 'Liz Nixon', '89 Jefferson Way Suite 2')\n",
      "('The Cracker Box', 'Liu Wong', '55 Grizzly Peak Rd.')\n",
      "('Toms Spezialitäten', 'Karin Josephs', 'Luisenstr. 48')\n",
      "('Tortuga Restaurante', 'Miguel Angel Paolino', 'Avda. Azteca 123')\n",
      "('Tradição Hipermercados', 'Anabela Domingues', 'Av. Inês de Castro, 414')\n",
      "(\"Trail's Head Gourmet Provisioners\", 'Helvetius Nagy', '722 DaVinci Blvd.')\n",
      "('Vaffeljernet', 'Palle Ibsen', 'Smagsløget 45')\n",
      "('Victuailles en stock', 'Mary Saveley', '2, rue du Commerce')\n",
      "('Vins et alcools Chevalier', 'Paul Henriot', \"59 rue de l'Abbaye\")\n",
      "('Die Wandernde Kuh', 'Rita Müller', 'Adenauerallee 900')\n",
      "('Wartian Herkku', 'Pirkko Koskitalo', 'Torikatu 38')\n",
      "('Wellington Importadora', 'Paula Parente', 'Rua do Mercado, 12')\n",
      "('White Clover Markets', 'Karl Jablonski', '305 - 14th Ave. S. Suite 3B')\n",
      "('Wilman Kala', 'Matti Karttunen', 'Keskuskatu 45')\n",
      "('Wolski', 'Zbyszek', 'ul. Filtrowa 68')\n",
      "('Cardinal', 'Tom B. Erichsen', 'Skagen 21')\n",
      "('Cardinal', 'Tom B. Erichsen', 'Skagen 21')\n",
      "('Greasy Burger', 'Per Olsen', 'Gateveien 15')\n",
      "('Tasty Tee', 'Finn Egan', 'Streetroad 19B')\n"
     ]
    }
   ],
   "source": [
    "query = \"\"\"\n",
    "SELECT CustomerName, ContactName, Address\n",
    "FROM Customers\n",
    "WHERE Address IS NOT NULL;\n",
    "\"\"\"\n",
    "print_query_result(query)"
   ]
  },
  {
   "cell_type": "markdown",
   "id": "7c5bd21b",
   "metadata": {},
   "source": [
    "## SQL UPDATE Statement"
   ]
  },
  {
   "cell_type": "code",
   "execution_count": 46,
   "id": "2a5d9277",
   "metadata": {},
   "outputs": [],
   "source": [
    "query = \"\"\"\n",
    "UPDATE Customers\n",
    "SET ContactName = 'Alfred Schmidt', City= 'Frankfurt'\n",
    "WHERE CustomerID = 1;\n",
    "\"\"\"\n",
    "print_query_result(query)"
   ]
  },
  {
   "cell_type": "markdown",
   "id": "ba688e8c",
   "metadata": {},
   "source": [
    "## UPDATE Multiple Records"
   ]
  },
  {
   "cell_type": "code",
   "execution_count": 47,
   "id": "1438bf9a",
   "metadata": {},
   "outputs": [],
   "source": [
    "query = \"\"\"\n",
    "UPDATE Customers\n",
    "SET ContactName='Juan'\n",
    "WHERE Country='Mexico';\n",
    "\"\"\"\n",
    "print_query_result(query)"
   ]
  },
  {
   "cell_type": "markdown",
   "id": "73af0ffe",
   "metadata": {},
   "source": [
    "## Update Warning!"
   ]
  },
  {
   "cell_type": "code",
   "execution_count": 48,
   "id": "50c16898",
   "metadata": {},
   "outputs": [],
   "source": [
    "query = \"\"\"\n",
    "UPDATE Customers\n",
    "SET ContactName='Juan';\n",
    "\"\"\"\n",
    "print_query_result(query)"
   ]
  },
  {
   "cell_type": "markdown",
   "id": "4e31edb7",
   "metadata": {},
   "source": [
    "## SQL DELETE Statement"
   ]
  },
  {
   "cell_type": "code",
   "execution_count": 49,
   "id": "24ed8790",
   "metadata": {},
   "outputs": [],
   "source": [
    "query = \"\"\"\n",
    "DELETE FROM Customers WHERE CustomerName='Alfreds Futterkiste';\n",
    "\"\"\"\n",
    "print_query_result(query)"
   ]
  },
  {
   "cell_type": "markdown",
   "id": "fede9552",
   "metadata": {},
   "source": [
    "## Delete All Records"
   ]
  },
  {
   "cell_type": "code",
   "execution_count": 50,
   "id": "588515c5",
   "metadata": {},
   "outputs": [],
   "source": [
    "query = \"\"\"\n",
    "DELETE FROM Customers;\n",
    "\"\"\"\n",
    "print_query_result(query)"
   ]
  },
  {
   "cell_type": "markdown",
   "id": "be93f8b2",
   "metadata": {},
   "source": [
    "## Delete a Table -> DROP !"
   ]
  },
  {
   "cell_type": "code",
   "execution_count": 51,
   "id": "75487b67",
   "metadata": {},
   "outputs": [],
   "source": [
    "query = \"\"\"\n",
    "DROP TABLE Customers;\n",
    "\"\"\"\n",
    "print_query_result(query)"
   ]
  },
  {
   "cell_type": "markdown",
   "id": "83e3b2fa",
   "metadata": {},
   "source": [
    "## SQL SELECT TOP Clause"
   ]
  },
  {
   "cell_type": "code",
   "execution_count": 57,
   "id": "62b2c372",
   "metadata": {},
   "outputs": [
    {
     "data": {
      "text/plain": [
       "91"
      ]
     },
     "execution_count": 57,
     "metadata": {},
     "output_type": "execute_result"
    }
   ],
   "source": [
    "# Customers table 다시 넣어주자 ...\n",
    "df = pd.read_csv('Customers.csv')\n",
    "df.to_sql(\"Customers\", conn, if_exists='replace', index=False)"
   ]
  },
  {
   "cell_type": "code",
   "execution_count": 59,
   "id": "399750c3",
   "metadata": {},
   "outputs": [
    {
     "name": "stdout",
     "output_type": "stream",
     "text": [
      "(1, 'Alfreds Futterkiste', 'Maria Anders', 'Obere Str. 57', 'Berlin', '12209', 'Germany')\n",
      "(2, 'Ana Trujillo Emparedados y helados', 'Ana Trujillo', 'Avda. de la Constitución 2222', 'México D.F.', '05021', 'Mexico')\n",
      "(3, 'Antonio Moreno Taquería', 'Antonio Moreno', 'Mataderos 2312', 'México D.F.', '05023', 'Mexico')\n"
     ]
    }
   ],
   "source": [
    "# SELECT TOP 3 * FROM Customers;\n",
    "# sqlite에서는 TOP 3가 없다 !\n",
    "# LIMIT도 따로 왜 있지 ?\n",
    "query = \"\"\"\n",
    "SELECT * FROM Customers LIMIT 3;\n",
    "\"\"\"\n",
    "print_query_result(query)"
   ]
  },
  {
   "cell_type": "markdown",
   "id": "f2c9f678",
   "metadata": {},
   "source": [
    "## LIMIT"
   ]
  },
  {
   "cell_type": "code",
   "execution_count": 60,
   "id": "50be0107",
   "metadata": {},
   "outputs": [
    {
     "name": "stdout",
     "output_type": "stream",
     "text": [
      "(1, 'Alfreds Futterkiste', 'Maria Anders', 'Obere Str. 57', 'Berlin', '12209', 'Germany')\n",
      "(2, 'Ana Trujillo Emparedados y helados', 'Ana Trujillo', 'Avda. de la Constitución 2222', 'México D.F.', '05021', 'Mexico')\n",
      "(3, 'Antonio Moreno Taquería', 'Antonio Moreno', 'Mataderos 2312', 'México D.F.', '05023', 'Mexico')\n"
     ]
    }
   ],
   "source": [
    "query = \"\"\"\n",
    "SELECT * FROM Customers\n",
    "LIMIT 3;\n",
    "\"\"\"\n",
    "print_query_result(query)"
   ]
  },
  {
   "cell_type": "markdown",
   "id": "f922756a",
   "metadata": {},
   "source": [
    "## FETCH FIRST"
   ]
  },
  {
   "cell_type": "code",
   "execution_count": 63,
   "id": "64308f5c",
   "metadata": {},
   "outputs": [
    {
     "name": "stdout",
     "output_type": "stream",
     "text": [
      "(1, 'Alfreds Futterkiste', 'Maria Anders', 'Obere Str. 57', 'Berlin', '12209', 'Germany')\n",
      "(2, 'Ana Trujillo Emparedados y helados', 'Ana Trujillo', 'Avda. de la Constitución 2222', 'México D.F.', '05021', 'Mexico')\n",
      "(3, 'Antonio Moreno Taquería', 'Antonio Moreno', 'Mataderos 2312', 'México D.F.', '05023', 'Mexico')\n"
     ]
    }
   ],
   "source": [
    "\"\"\"\n",
    "# 이것도 안된다 !\n",
    "SELECT * FROM Customers\n",
    "FETCH FIRST 3 ROWS ONLY;\n",
    "\"\"\"\n",
    "\n",
    "query = \"\"\"\n",
    "SELECT * FROM Customers LIMIT 3;\n",
    "\"\"\"\n",
    "print_query_result(query)"
   ]
  },
  {
   "cell_type": "markdown",
   "id": "3fe5cdc9",
   "metadata": {},
   "source": [
    "## SQL TOP PERCENT Example"
   ]
  },
  {
   "cell_type": "code",
   "execution_count": 68,
   "id": "becea379",
   "metadata": {},
   "outputs": [
    {
     "name": "stdout",
     "output_type": "stream",
     "text": [
      "total_row_num: 91\n",
      "(1, 'Alfreds Futterkiste', 'Maria Anders', 'Obere Str. 57', 'Berlin', '12209', 'Germany')\n",
      "(2, 'Ana Trujillo Emparedados y helados', 'Ana Trujillo', 'Avda. de la Constitución 2222', 'México D.F.', '05021', 'Mexico')\n",
      "(3, 'Antonio Moreno Taquería', 'Antonio Moreno', 'Mataderos 2312', 'México D.F.', '05023', 'Mexico')\n",
      "(4, 'Around the Horn', 'Thomas Hardy', '120 Hanover Sq.', 'London', 'WA1 1DP', 'UK')\n",
      "(5, 'Berglunds snabbköp', 'Christina Berglund', 'Berguvsvägen 8', 'Luleå', 'S-958 22', 'Sweden')\n",
      "(6, 'Blauer See Delikatessen', 'Hanna Moos', 'Forsterstr. 57', 'Mannheim', '68306', 'Germany')\n",
      "(7, 'Blondel père et fils', 'Frédérique Citeaux', '24, place Kléber', 'Strasbourg', '67000', 'France')\n",
      "(8, 'Bólido Comidas preparadas', 'Martín Sommer', 'C/ Araquil, 67', 'Madrid', '28023', 'Spain')\n",
      "(9, \"Bon app'\", 'Laurence Lebihans', '12, rue des Bouchers', 'Marseille', '13008', 'France')\n",
      "(10, 'Bottom-Dollar Marketse', 'Elizabeth Lincoln', '23 Tsawassen Blvd.', 'Tsawassen', 'T2F 8M4', 'Canada')\n",
      "(11, \"B's Beverages\", 'Victoria Ashworth', 'Fauntleroy Circus', 'London', 'EC2 5NT', 'UK')\n",
      "(12, 'Cactus Comidas para llevar', 'Patricio Simpson', 'Cerrito 333', 'Buenos Aires', '1010', 'Argentina')\n",
      "(13, 'Centro comercial Moctezuma', 'Francisco Chang', 'Sierras de Granada 9993', 'México D.F.', '05022', 'Mexico')\n",
      "(14, 'Chop-suey Chinese', 'Yang Wang', 'Hauptstr. 29', 'Bern', '3012', 'Switzerland')\n",
      "(15, 'Comércio Mineiro', 'Pedro Afonso', 'Av. dos Lusíadas, 23', 'São Paulo', '05432-043', 'Brazil')\n",
      "(16, 'Consolidated Holdings', 'Elizabeth Brown', 'Berkeley Gardens 12 Brewery ', 'London', 'WX1 6LT', 'UK')\n",
      "(17, 'Drachenblut Delikatessend', 'Sven Ottlieb', 'Walserweg 21', 'Aachen', '52066', 'Germany')\n",
      "(18, 'Du monde entier', 'Janine Labrune', '67, rue des Cinquante Otages', 'Nantes', '44000', 'France')\n",
      "(19, 'Eastern Connection', 'Ann Devon', '35 King George', 'London', 'WX3 6FW', 'UK')\n",
      "(20, 'Ernst Handel', 'Roland Mendel', 'Kirchgasse 6', 'Graz', '8010', 'Austria')\n",
      "(21, 'Familia Arquibaldo', 'Aria Cruz', 'Rua Orós, 92', 'São Paulo', '05442-030', 'Brazil')\n",
      "(22, 'FISSA Fabrica Inter. Salchichas S.A.', 'Diego Roel', 'C/ Moralzarzal, 86', 'Madrid', '28034', 'Spain')\n",
      "(23, 'Folies gourmandes', 'Martine Rancé', '184, chaussée de Tournai', 'Lille', '59000', 'France')\n",
      "(24, 'Folk och fä HB', 'Maria Larsson', 'Åkergatan 24', 'Bräcke', 'S-844 67', 'Sweden')\n",
      "(25, 'Frankenversand', 'Peter Franken', 'Berliner Platz 43', 'München', '80805', 'Germany')\n",
      "(26, 'France restauration', 'Carine Schmitt', '54, rue Royale', 'Nantes', '44000', 'France')\n",
      "(27, 'Franchi S.p.A.', 'Paolo Accorti', 'Via Monte Bianco 34', 'Torino', '10100', 'Italy')\n",
      "(28, 'Furia Bacalhau e Frutos do Mar', 'Lino Rodriguez ', 'Jardim das rosas n. 32', 'Lisboa', '1675', 'Portugal')\n",
      "(29, 'Galería del gastrónomo', 'Eduardo Saavedra', 'Rambla de Cataluña, 23', 'Barcelona', '08022', 'Spain')\n",
      "(30, 'Godos Cocina Típica', 'José Pedro Freyre', 'C/ Romero, 33', 'Sevilla', '41101', 'Spain')\n",
      "(31, 'Gourmet Lanchonetes', 'André Fonseca', 'Av. Brasil, 442', 'Campinas', '04876-786', 'Brazil')\n",
      "(32, 'Great Lakes Food Market', 'Howard Snyder', '2732 Baker Blvd.', 'Eugene', '97403', 'USA')\n",
      "(33, 'GROSELLA-Restaurante', 'Manuel Pereira', '5ª Ave. Los Palos Grandes', 'Caracas', '1081', 'Venezuela')\n",
      "(34, 'Hanari Carnes', 'Mario Pontes', 'Rua do Paço, 67', 'Rio de Janeiro', '05454-876', 'Brazil')\n",
      "(35, 'HILARIÓN-Abastos', 'Carlos Hernández', 'Carrera 22 con Ave. Carlos Soublette #8-35', 'San Cristóbal', '5022', 'Venezuela')\n",
      "(36, 'Hungry Coyote Import Store', 'Yoshi Latimer', 'City Center Plaza 516 Main St.', 'Elgin', '97827', 'USA')\n",
      "(37, 'Hungry Owl All-Night Grocers', 'Patricia McKenna', '8 Johnstown Road', 'Cork', None, 'Ireland')\n",
      "(38, 'Island Trading', 'Helen Bennett', 'Garden House Crowther Way', 'Cowes', 'PO31 7PJ', 'UK')\n",
      "(39, 'Königlich Essen', 'Philip Cramer', 'Maubelstr. 90', 'Brandenburg', '14776', 'Germany')\n",
      "(40, \"La corne d'abondance\", 'Daniel Tonini', \"67, avenue de l'Europe\", 'Versailles', '78000', 'France')\n",
      "(41, \"La maison d'Asie\", 'Annette Roulet', '1 rue Alsace-Lorraine', 'Toulouse', '31000', 'France')\n",
      "(42, 'Laughing Bacchus Wine Cellars', 'Yoshi Tannamuri', '1900 Oak St.', 'Vancouver', 'V3F 2K1', 'Canada')\n",
      "(43, 'Lazy K Kountry Store', 'John Steel', '12 Orchestra Terrace', 'Walla Walla', '99362', 'USA')\n",
      "(44, 'Lehmanns Marktstand', 'Renate Messner', 'Magazinweg 7', 'Frankfurt a.M. ', '60528', 'Germany')\n",
      "(45, \"Let's Stop N Shop\", 'Jaime Yorres', '87 Polk St. Suite 5', 'San Francisco', '94117', 'USA')\n"
     ]
    }
   ],
   "source": [
    "\n",
    "# 이것도 안된다 !!\n",
    "\"\"\"\n",
    "SELECT TOP 50 PERCENT * FROM Customers;\n",
    "\"\"\"\n",
    "cur = conn.cursor()\n",
    "cur.execute(\"SELECT COUNT(*) FROM Customers;\")\n",
    "total_row_num = cur.fetchone()[0]\n",
    "print(f'total_row_num: {total_row_num}')\n",
    "half = total_row_num//2\n",
    "query = f\"\"\"\n",
    "SELECT * FROM Customers\n",
    "LIMIT {half};\n",
    "\"\"\"\n",
    "print_query_result(query)"
   ]
  },
  {
   "cell_type": "markdown",
   "id": "77a8eed6",
   "metadata": {},
   "source": [
    "## ADD a WHERE CLAUSE"
   ]
  },
  {
   "cell_type": "code",
   "execution_count": 69,
   "id": "b4ca5ff9",
   "metadata": {},
   "outputs": [
    {
     "name": "stdout",
     "output_type": "stream",
     "text": [
      "(1, 'Alfreds Futterkiste', 'Maria Anders', 'Obere Str. 57', 'Berlin', '12209', 'Germany')\n",
      "(6, 'Blauer See Delikatessen', 'Hanna Moos', 'Forsterstr. 57', 'Mannheim', '68306', 'Germany')\n",
      "(17, 'Drachenblut Delikatessend', 'Sven Ottlieb', 'Walserweg 21', 'Aachen', '52066', 'Germany')\n"
     ]
    }
   ],
   "source": [
    "\"\"\"\n",
    "SELECT TOP 3 * FROM Customers\n",
    "WHERE Country='Germany';\n",
    "\"\"\"\n",
    "\n",
    "query = \"\"\"\n",
    "SELECT * FROM Customers\n",
    "WHERE Country = 'Germany'\n",
    "LIMIT 3;\n",
    "\"\"\"\n",
    "print_query_result(query)"
   ]
  },
  {
   "cell_type": "code",
   "execution_count": 70,
   "id": "f49e739c",
   "metadata": {},
   "outputs": [
    {
     "name": "stdout",
     "output_type": "stream",
     "text": [
      "(1, 'Alfreds Futterkiste', 'Maria Anders', 'Obere Str. 57', 'Berlin', '12209', 'Germany')\n",
      "(6, 'Blauer See Delikatessen', 'Hanna Moos', 'Forsterstr. 57', 'Mannheim', '68306', 'Germany')\n",
      "(17, 'Drachenblut Delikatessend', 'Sven Ottlieb', 'Walserweg 21', 'Aachen', '52066', 'Germany')\n"
     ]
    }
   ],
   "source": [
    "\"\"\"\n",
    "SELECT * FROM Customers\n",
    "WHERE Country='Germany'\n",
    "LIMIT 3;\n",
    "\"\"\"\n",
    "query = \"\"\"\n",
    "SELECT * FROM Customers\n",
    "WHERE Country='Germany'\n",
    "LIMIT 3;\n",
    "\"\"\"\n",
    "print_query_result(query)"
   ]
  },
  {
   "cell_type": "code",
   "execution_count": 71,
   "id": "ac9f7e4d",
   "metadata": {},
   "outputs": [
    {
     "name": "stdout",
     "output_type": "stream",
     "text": [
      "(1, 'Alfreds Futterkiste', 'Maria Anders', 'Obere Str. 57', 'Berlin', '12209', 'Germany')\n",
      "(6, 'Blauer See Delikatessen', 'Hanna Moos', 'Forsterstr. 57', 'Mannheim', '68306', 'Germany')\n",
      "(17, 'Drachenblut Delikatessend', 'Sven Ottlieb', 'Walserweg 21', 'Aachen', '52066', 'Germany')\n"
     ]
    }
   ],
   "source": [
    "\"\"\"\n",
    "SELECT * FROM Customers\n",
    "WHERE Country='Germany'\n",
    "FETCH FIRST 3 ROWS ONLY;\n",
    "\"\"\"\n",
    "query = \"\"\"\n",
    "SELECT * FROM Customers\n",
    "WHERE Country = \"Germany\"\n",
    "LIMIT 3;\n",
    "\"\"\"\n",
    "print_query_result(query)"
   ]
  },
  {
   "cell_type": "markdown",
   "id": "86aed359",
   "metadata": {},
   "source": [
    "## ADD the ORDER BY Keyword\n"
   ]
  },
  {
   "cell_type": "code",
   "execution_count": 73,
   "id": "8f848dc3",
   "metadata": {},
   "outputs": [
    {
     "name": "stdout",
     "output_type": "stream",
     "text": [
      "(91, 'Wolski', 'Zbyszek', 'ul. Filtrowa 68', 'Walla', '01-012', None)\n",
      "(90, 'Wilman Kala', 'Matti Karttunen', 'Keskuskatu 45', 'Helsinki', '21240', 'Finland')\n",
      "(89, 'White Clover Markets', 'Karl Jablonski', '305 - 14th Ave. S. Suite 3B', 'Seattle', '98128', 'USA')\n"
     ]
    }
   ],
   "source": [
    "\"\"\"\n",
    "SELECT TOP 3 * FROM Customers\n",
    "ORDER BY CustomerName DESC;\n",
    "\"\"\"\n",
    "query = \"\"\"\n",
    "SELECT * FROM Customers\n",
    "ORDER BY CustomerName DESC\n",
    "LIMIT 3;\n",
    "\"\"\"\n",
    "print_query_result(query)"
   ]
  },
  {
   "cell_type": "code",
   "execution_count": null,
   "id": "5d446d03",
   "metadata": {},
   "outputs": [],
   "source": [
    "query = \"\"\"\n",
    "\n",
    "\"\"\"\n",
    "print_query_result(query)"
   ]
  },
  {
   "cell_type": "code",
   "execution_count": 74,
   "id": "394da415",
   "metadata": {},
   "outputs": [
    {
     "name": "stdout",
     "output_type": "stream",
     "text": [
      "(91, 'Wolski', 'Zbyszek', 'ul. Filtrowa 68', 'Walla', '01-012', None)\n",
      "(90, 'Wilman Kala', 'Matti Karttunen', 'Keskuskatu 45', 'Helsinki', '21240', 'Finland')\n",
      "(89, 'White Clover Markets', 'Karl Jablonski', '305 - 14th Ave. S. Suite 3B', 'Seattle', '98128', 'USA')\n"
     ]
    }
   ],
   "source": [
    "query = \"\"\"\n",
    "SELECT * FROM Customers\n",
    "ORDER BY CustomerName DESC\n",
    "LIMIT 3;\n",
    "\"\"\"\n",
    "print_query_result(query)"
   ]
  },
  {
   "cell_type": "code",
   "execution_count": 75,
   "id": "eba14433",
   "metadata": {},
   "outputs": [
    {
     "name": "stdout",
     "output_type": "stream",
     "text": [
      "(91, 'Wolski', 'Zbyszek', 'ul. Filtrowa 68', 'Walla', '01-012', None)\n",
      "(90, 'Wilman Kala', 'Matti Karttunen', 'Keskuskatu 45', 'Helsinki', '21240', 'Finland')\n",
      "(89, 'White Clover Markets', 'Karl Jablonski', '305 - 14th Ave. S. Suite 3B', 'Seattle', '98128', 'USA')\n"
     ]
    }
   ],
   "source": [
    "\"\"\"\n",
    "SELECT * FROM Customers\n",
    "ORDER BY CustomerName DESC\n",
    "FETCH FIRST 3 ROWS ONLY;\n",
    "\"\"\"\n",
    "query = \"\"\"\n",
    "\n",
    "SELECT * FROM Customers\n",
    "ORDER BY CustomerName DESC\n",
    "LIMIT 3;\n",
    "\"\"\"\n",
    "print_query_result(query)"
   ]
  },
  {
   "cell_type": "markdown",
   "id": "1f1b266d",
   "metadata": {},
   "source": [
    "## SQL Aggregate Functions\n"
   ]
  },
  {
   "cell_type": "markdown",
   "id": "2f571868",
   "metadata": {},
   "source": [
    "## SQL MIN() and MAX() Functions"
   ]
  },
  {
   "cell_type": "code",
   "execution_count": 76,
   "id": "0ecf4b65",
   "metadata": {},
   "outputs": [
    {
     "name": "stdout",
     "output_type": "stream",
     "text": [
      "(2.5,)\n"
     ]
    }
   ],
   "source": [
    "query = \"\"\"\n",
    "SELECT MIN(Price)\n",
    "FROM Products;\n",
    "\"\"\"\n",
    "print_query_result(query)"
   ]
  },
  {
   "cell_type": "code",
   "execution_count": 77,
   "id": "8d058aab",
   "metadata": {},
   "outputs": [
    {
     "name": "stdout",
     "output_type": "stream",
     "text": [
      "(263.5,)\n"
     ]
    }
   ],
   "source": [
    "query = \"\"\"\n",
    "SELECT MAX(Price)\n",
    "FROM Products;\n",
    "\"\"\"\n",
    "print_query_result(query)"
   ]
  },
  {
   "cell_type": "markdown",
   "id": "f51df08e",
   "metadata": {},
   "source": [
    "## Set Column Name (Alias)"
   ]
  },
  {
   "cell_type": "code",
   "execution_count": 78,
   "id": "c9bf45b2",
   "metadata": {},
   "outputs": [
    {
     "name": "stdout",
     "output_type": "stream",
     "text": [
      "(2.5,)\n"
     ]
    }
   ],
   "source": [
    "query = \"\"\"\n",
    "SELECT MIN(Price) AS SmallestPrice\n",
    "FROM Products;\n",
    "\"\"\"\n",
    "print_query_result(query)"
   ]
  },
  {
   "cell_type": "markdown",
   "id": "a475799d",
   "metadata": {},
   "source": [
    "## Use MIN() with GROUP BY"
   ]
  },
  {
   "cell_type": "code",
   "execution_count": 79,
   "id": "bebdff01",
   "metadata": {},
   "outputs": [
    {
     "name": "stdout",
     "output_type": "stream",
     "text": [
      "(4.5, 1)\n",
      "(10.0, 2)\n",
      "(9.2, 3)\n",
      "(2.5, 4)\n",
      "(7.0, 5)\n",
      "(7.45, 6)\n",
      "(10.0, 7)\n",
      "(6.0, 8)\n"
     ]
    }
   ],
   "source": [
    "query = \"\"\"\n",
    "SELECT MIN(Price) AS SmallestPrice, CategoryID\n",
    "FROM Products\n",
    "GROUP BY CategoryID;\n",
    "\"\"\"\n",
    "print_query_result(query)"
   ]
  },
  {
   "cell_type": "markdown",
   "id": "d7afe04f",
   "metadata": {},
   "source": []
  },
  {
   "cell_type": "markdown",
   "id": "13b46b8d",
   "metadata": {},
   "source": [
    "## SQL COUNT() Function"
   ]
  },
  {
   "cell_type": "code",
   "execution_count": 80,
   "id": "2d55e97e",
   "metadata": {},
   "outputs": [
    {
     "name": "stdout",
     "output_type": "stream",
     "text": [
      "(77,)\n"
     ]
    }
   ],
   "source": [
    "query = \"\"\"\n",
    "SELECT COUNT(*)\n",
    "FROM Products;\n",
    "\"\"\"\n",
    "print_query_result(query)"
   ]
  },
  {
   "cell_type": "code",
   "execution_count": null,
   "id": "9d138537",
   "metadata": {},
   "outputs": [],
   "source": [
    "query = \"\"\"\n",
    "\n",
    "\"\"\"\n",
    "print_query_result(query)"
   ]
  },
  {
   "cell_type": "code",
   "execution_count": null,
   "id": "5003edfd",
   "metadata": {},
   "outputs": [],
   "source": [
    "query = \"\"\"\n",
    "\n",
    "\"\"\"\n",
    "print_query_result(query)"
   ]
  },
  {
   "cell_type": "code",
   "execution_count": null,
   "id": "b27b15e7",
   "metadata": {},
   "outputs": [],
   "source": [
    "query = \"\"\"\n",
    "\n",
    "\"\"\"\n",
    "print_query_result(query)"
   ]
  },
  {
   "cell_type": "code",
   "execution_count": null,
   "id": "a22c9d7c",
   "metadata": {},
   "outputs": [],
   "source": [
    "query = \"\"\"\n",
    "\n",
    "\"\"\"\n",
    "print_query_result(query)"
   ]
  },
  {
   "cell_type": "code",
   "execution_count": null,
   "id": "8cbe07cb",
   "metadata": {},
   "outputs": [],
   "source": [
    "query = \"\"\"\n",
    "\n",
    "\"\"\"\n",
    "print_query_result(query)"
   ]
  },
  {
   "cell_type": "code",
   "execution_count": null,
   "id": "5eedce80",
   "metadata": {},
   "outputs": [],
   "source": [
    "query = \"\"\"\n",
    "\n",
    "\"\"\"\n",
    "print_query_result(query)"
   ]
  },
  {
   "cell_type": "code",
   "execution_count": null,
   "id": "0a620ed9",
   "metadata": {},
   "outputs": [],
   "source": [
    "query = \"\"\"\n",
    "\n",
    "\"\"\"\n",
    "print_query_result(query)"
   ]
  },
  {
   "cell_type": "code",
   "execution_count": null,
   "id": "f65fc8b5",
   "metadata": {},
   "outputs": [],
   "source": [
    "query = \"\"\"\n",
    "\n",
    "\"\"\"\n",
    "print_query_result(query)"
   ]
  },
  {
   "cell_type": "code",
   "execution_count": null,
   "id": "c92f41a8",
   "metadata": {},
   "outputs": [],
   "source": [
    "query = \"\"\"\n",
    "\n",
    "\"\"\"\n",
    "print_query_result(query)"
   ]
  },
  {
   "cell_type": "code",
   "execution_count": null,
   "id": "8b216fd0",
   "metadata": {},
   "outputs": [],
   "source": [
    "query = \"\"\"\n",
    "\n",
    "\"\"\"\n",
    "print_query_result(query)"
   ]
  },
  {
   "cell_type": "code",
   "execution_count": null,
   "id": "212a8736",
   "metadata": {},
   "outputs": [],
   "source": [
    "query = \"\"\"\n",
    "\n",
    "\"\"\"\n",
    "print_query_result(query)"
   ]
  },
  {
   "cell_type": "code",
   "execution_count": null,
   "id": "6fc4beab",
   "metadata": {},
   "outputs": [],
   "source": [
    "query = \"\"\"\n",
    "\n",
    "\"\"\"\n",
    "print_query_result(query)"
   ]
  },
  {
   "cell_type": "code",
   "execution_count": null,
   "id": "5bd47a87",
   "metadata": {},
   "outputs": [],
   "source": [
    "query = \"\"\"\n",
    "\n",
    "\"\"\"\n",
    "print_query_result(query)"
   ]
  },
  {
   "cell_type": "code",
   "execution_count": null,
   "id": "3aa5240a",
   "metadata": {},
   "outputs": [],
   "source": [
    "query = \"\"\"\n",
    "\n",
    "\"\"\"\n",
    "print_query_result(query)"
   ]
  },
  {
   "cell_type": "code",
   "execution_count": null,
   "id": "2edef4a3",
   "metadata": {},
   "outputs": [],
   "source": [
    "query = \"\"\"\n",
    "\n",
    "\"\"\"\n",
    "print_query_result(query)"
   ]
  },
  {
   "cell_type": "code",
   "execution_count": null,
   "id": "80a59ddc",
   "metadata": {},
   "outputs": [],
   "source": [
    "query = \"\"\"\n",
    "\n",
    "\"\"\"\n",
    "print_query_result(query)"
   ]
  },
  {
   "cell_type": "code",
   "execution_count": null,
   "id": "91b6f840",
   "metadata": {},
   "outputs": [],
   "source": [
    "query = \"\"\"\n",
    "\n",
    "\"\"\"\n",
    "print_query_result(query)"
   ]
  },
  {
   "cell_type": "code",
   "execution_count": null,
   "id": "e5554d5e",
   "metadata": {},
   "outputs": [],
   "source": [
    "query = \"\"\"\n",
    "\n",
    "\"\"\"\n",
    "print_query_result(query)"
   ]
  },
  {
   "cell_type": "code",
   "execution_count": null,
   "id": "487c9a58",
   "metadata": {},
   "outputs": [],
   "source": [
    "query = \"\"\"\n",
    "\n",
    "\"\"\"\n",
    "print_query_result(query)"
   ]
  },
  {
   "cell_type": "code",
   "execution_count": null,
   "id": "0a538dea",
   "metadata": {},
   "outputs": [],
   "source": [
    "query = \"\"\"\n",
    "\n",
    "\"\"\"\n",
    "print_query_result(query)"
   ]
  },
  {
   "cell_type": "code",
   "execution_count": null,
   "id": "b1ee11d3",
   "metadata": {},
   "outputs": [],
   "source": [
    "query = \"\"\"\n",
    "\n",
    "\"\"\"\n",
    "print_query_result(query)"
   ]
  },
  {
   "cell_type": "code",
   "execution_count": null,
   "id": "cee29d0a",
   "metadata": {},
   "outputs": [],
   "source": [
    "query = \"\"\"\n",
    "\n",
    "\"\"\"\n",
    "print_query_result(query)"
   ]
  },
  {
   "cell_type": "code",
   "execution_count": null,
   "id": "cb970871",
   "metadata": {},
   "outputs": [],
   "source": [
    "query = \"\"\"\n",
    "\n",
    "\"\"\"\n",
    "print_query_result(query)"
   ]
  },
  {
   "cell_type": "code",
   "execution_count": null,
   "id": "13611f84",
   "metadata": {},
   "outputs": [],
   "source": [
    "query = \"\"\"\n",
    "\n",
    "\"\"\"\n",
    "print_query_result(query)"
   ]
  },
  {
   "cell_type": "code",
   "execution_count": null,
   "id": "e5b21178",
   "metadata": {},
   "outputs": [],
   "source": [
    "query = \"\"\"\n",
    "\n",
    "\"\"\"\n",
    "print_query_result(query)"
   ]
  },
  {
   "cell_type": "code",
   "execution_count": null,
   "id": "0ddf75bf",
   "metadata": {},
   "outputs": [],
   "source": [
    "query = \"\"\"\n",
    "\n",
    "\"\"\"\n",
    "print_query_result(query)"
   ]
  },
  {
   "cell_type": "code",
   "execution_count": null,
   "id": "cdfaa2d1",
   "metadata": {},
   "outputs": [],
   "source": [
    "query = \"\"\"\n",
    "\n",
    "\"\"\"\n",
    "print_query_result(query)"
   ]
  },
  {
   "cell_type": "code",
   "execution_count": null,
   "id": "040ae586",
   "metadata": {},
   "outputs": [],
   "source": [
    "query = \"\"\"\n",
    "\n",
    "\"\"\"\n",
    "print_query_result(query)"
   ]
  },
  {
   "cell_type": "code",
   "execution_count": null,
   "id": "a7f69007",
   "metadata": {},
   "outputs": [],
   "source": [
    "query = \"\"\"\n",
    "\n",
    "\"\"\"\n",
    "print_query_result(query)"
   ]
  },
  {
   "cell_type": "code",
   "execution_count": null,
   "id": "5c00c432",
   "metadata": {},
   "outputs": [],
   "source": [
    "query = \"\"\"\n",
    "\n",
    "\"\"\"\n",
    "print_query_result(query)"
   ]
  }
 ],
 "metadata": {
  "kernelspec": {
   "display_name": "Python 3 (ipykernel)",
   "language": "python",
   "name": "python3"
  },
  "language_info": {
   "codemirror_mode": {
    "name": "ipython",
    "version": 3
   },
   "file_extension": ".py",
   "mimetype": "text/x-python",
   "name": "python",
   "nbconvert_exporter": "python",
   "pygments_lexer": "ipython3",
   "version": "3.12.4"
  }
 },
 "nbformat": 4,
 "nbformat_minor": 5
}
