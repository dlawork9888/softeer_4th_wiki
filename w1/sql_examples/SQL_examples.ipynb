{
 "cells": [
  {
   "cell_type": "markdown",
   "id": "8e25f3ec-86da-4fc2-9c68-2b35c027811b",
   "metadata": {},
   "source": [
    "# SQL EXAMPLES"
   ]
  },
  {
   "cell_type": "code",
   "execution_count": 143,
   "id": "5ed0df64-d3ea-4f22-88a2-266882ff7124",
   "metadata": {},
   "outputs": [],
   "source": [
    "import pandas as pd\n",
    "import sqlite3\n",
    "import os\n",
    "\n",
    "# SQLite 데이터베이스 연결 (새로운 데이터베이스 생성)\n",
    "conn = sqlite3.connect('database.db')\n",
    "\n",
    "# CSV 파일을 데이터베이스에 테이블로 저장\n",
    "for file in [file for file in os.listdir() if file.endswith('.csv')]:\n",
    "    # 테이블 이름은 파일 이름 (확장자 제외)\n",
    "    table_name = os.path.splitext(file)[0]\n",
    "    df = pd.read_csv(file)\n",
    "    df.to_sql(table_name, conn, if_exists='replace', index=False)\n",
    "\n",
    "cur = conn.cursor()\n",
    "\n",
    "\n",
    "def print_query_result(query):\n",
    "    cur.execute(query)\n",
    "    rows = cur.fetchall()\n",
    "    for row in rows:\n",
    "        print(row)"
   ]
  },
  {
   "cell_type": "markdown",
   "id": "3c69f594",
   "metadata": {},
   "source": [
    "## Test !"
   ]
  },
  {
   "cell_type": "code",
   "execution_count": 144,
   "id": "cf66848d-f199-4ab8-8b1d-00db2c3e1a33",
   "metadata": {
    "jp-MarkdownHeadingCollapsed": true
   },
   "outputs": [
    {
     "name": "stdout",
     "output_type": "stream",
     "text": [
      "(1, 'Alfreds Futterkiste', 'Maria Anders', 'Obere Str. 57', 'Berlin', '12209', 'Germany')\n",
      "(2, 'Ana Trujillo Emparedados y helados', 'Ana Trujillo', 'Avda. de la Constitución 2222', 'México D.F.', '05021', 'Mexico')\n",
      "(3, 'Antonio Moreno Taquería', 'Antonio Moreno', 'Mataderos 2312', 'México D.F.', '05023', 'Mexico')\n",
      "(4, 'Around the Horn', 'Thomas Hardy', '120 Hanover Sq.', 'London', 'WA1 1DP', 'UK')\n",
      "(5, 'Berglunds snabbköp', 'Christina Berglund', 'Berguvsvägen 8', 'Luleå', 'S-958 22', 'Sweden')\n",
      "(6, 'Blauer See Delikatessen', 'Hanna Moos', 'Forsterstr. 57', 'Mannheim', '68306', 'Germany')\n",
      "(7, 'Blondel père et fils', 'Frédérique Citeaux', '24, place Kléber', 'Strasbourg', '67000', 'France')\n",
      "(8, 'Bólido Comidas preparadas', 'Martín Sommer', 'C/ Araquil, 67', 'Madrid', '28023', 'Spain')\n",
      "(9, \"Bon app'\", 'Laurence Lebihans', '12, rue des Bouchers', 'Marseille', '13008', 'France')\n",
      "(10, 'Bottom-Dollar Marketse', 'Elizabeth Lincoln', '23 Tsawassen Blvd.', 'Tsawassen', 'T2F 8M4', 'Canada')\n",
      "(11, \"B's Beverages\", 'Victoria Ashworth', 'Fauntleroy Circus', 'London', 'EC2 5NT', 'UK')\n",
      "(12, 'Cactus Comidas para llevar', 'Patricio Simpson', 'Cerrito 333', 'Buenos Aires', '1010', 'Argentina')\n",
      "(13, 'Centro comercial Moctezuma', 'Francisco Chang', 'Sierras de Granada 9993', 'México D.F.', '05022', 'Mexico')\n",
      "(14, 'Chop-suey Chinese', 'Yang Wang', 'Hauptstr. 29', 'Bern', '3012', 'Switzerland')\n",
      "(15, 'Comércio Mineiro', 'Pedro Afonso', 'Av. dos Lusíadas, 23', 'São Paulo', '05432-043', 'Brazil')\n",
      "(16, 'Consolidated Holdings', 'Elizabeth Brown', 'Berkeley Gardens 12 Brewery ', 'London', 'WX1 6LT', 'UK')\n",
      "(17, 'Drachenblut Delikatessend', 'Sven Ottlieb', 'Walserweg 21', 'Aachen', '52066', 'Germany')\n",
      "(18, 'Du monde entier', 'Janine Labrune', '67, rue des Cinquante Otages', 'Nantes', '44000', 'France')\n",
      "(19, 'Eastern Connection', 'Ann Devon', '35 King George', 'London', 'WX3 6FW', 'UK')\n",
      "(20, 'Ernst Handel', 'Roland Mendel', 'Kirchgasse 6', 'Graz', '8010', 'Austria')\n",
      "(21, 'Familia Arquibaldo', 'Aria Cruz', 'Rua Orós, 92', 'São Paulo', '05442-030', 'Brazil')\n",
      "(22, 'FISSA Fabrica Inter. Salchichas S.A.', 'Diego Roel', 'C/ Moralzarzal, 86', 'Madrid', '28034', 'Spain')\n",
      "(23, 'Folies gourmandes', 'Martine Rancé', '184, chaussée de Tournai', 'Lille', '59000', 'France')\n",
      "(24, 'Folk och fä HB', 'Maria Larsson', 'Åkergatan 24', 'Bräcke', 'S-844 67', 'Sweden')\n",
      "(25, 'Frankenversand', 'Peter Franken', 'Berliner Platz 43', 'München', '80805', 'Germany')\n",
      "(26, 'France restauration', 'Carine Schmitt', '54, rue Royale', 'Nantes', '44000', 'France')\n",
      "(27, 'Franchi S.p.A.', 'Paolo Accorti', 'Via Monte Bianco 34', 'Torino', '10100', 'Italy')\n",
      "(28, 'Furia Bacalhau e Frutos do Mar', 'Lino Rodriguez ', 'Jardim das rosas n. 32', 'Lisboa', '1675', 'Portugal')\n",
      "(29, 'Galería del gastrónomo', 'Eduardo Saavedra', 'Rambla de Cataluña, 23', 'Barcelona', '08022', 'Spain')\n",
      "(30, 'Godos Cocina Típica', 'José Pedro Freyre', 'C/ Romero, 33', 'Sevilla', '41101', 'Spain')\n",
      "(31, 'Gourmet Lanchonetes', 'André Fonseca', 'Av. Brasil, 442', 'Campinas', '04876-786', 'Brazil')\n",
      "(32, 'Great Lakes Food Market', 'Howard Snyder', '2732 Baker Blvd.', 'Eugene', '97403', 'USA')\n",
      "(33, 'GROSELLA-Restaurante', 'Manuel Pereira', '5ª Ave. Los Palos Grandes', 'Caracas', '1081', 'Venezuela')\n",
      "(34, 'Hanari Carnes', 'Mario Pontes', 'Rua do Paço, 67', 'Rio de Janeiro', '05454-876', 'Brazil')\n",
      "(35, 'HILARIÓN-Abastos', 'Carlos Hernández', 'Carrera 22 con Ave. Carlos Soublette #8-35', 'San Cristóbal', '5022', 'Venezuela')\n",
      "(36, 'Hungry Coyote Import Store', 'Yoshi Latimer', 'City Center Plaza 516 Main St.', 'Elgin', '97827', 'USA')\n",
      "(37, 'Hungry Owl All-Night Grocers', 'Patricia McKenna', '8 Johnstown Road', 'Cork', None, 'Ireland')\n",
      "(38, 'Island Trading', 'Helen Bennett', 'Garden House Crowther Way', 'Cowes', 'PO31 7PJ', 'UK')\n",
      "(39, 'Königlich Essen', 'Philip Cramer', 'Maubelstr. 90', 'Brandenburg', '14776', 'Germany')\n",
      "(40, \"La corne d'abondance\", 'Daniel Tonini', \"67, avenue de l'Europe\", 'Versailles', '78000', 'France')\n",
      "(41, \"La maison d'Asie\", 'Annette Roulet', '1 rue Alsace-Lorraine', 'Toulouse', '31000', 'France')\n",
      "(42, 'Laughing Bacchus Wine Cellars', 'Yoshi Tannamuri', '1900 Oak St.', 'Vancouver', 'V3F 2K1', 'Canada')\n",
      "(43, 'Lazy K Kountry Store', 'John Steel', '12 Orchestra Terrace', 'Walla Walla', '99362', 'USA')\n",
      "(44, 'Lehmanns Marktstand', 'Renate Messner', 'Magazinweg 7', 'Frankfurt a.M. ', '60528', 'Germany')\n",
      "(45, \"Let's Stop N Shop\", 'Jaime Yorres', '87 Polk St. Suite 5', 'San Francisco', '94117', 'USA')\n",
      "(46, 'LILA-Supermercado', 'Carlos González', 'Carrera 52 con Ave. Bolívar #65-98 Llano Largo', 'Barquisimeto', '3508', 'Venezuela')\n",
      "(47, 'LINO-Delicateses', 'Felipe Izquierdo', 'Ave. 5 de Mayo Porlamar', 'I. de Margarita', '4980', 'Venezuela')\n",
      "(48, 'Lonesome Pine Restaurant', 'Fran Wilson', '89 Chiaroscuro Rd.', 'Portland', '97219', 'USA')\n",
      "(49, 'Magazzini Alimentari Riuniti', 'Giovanni Rovelli', 'Via Ludovico il Moro 22', 'Bergamo', '24100', 'Italy')\n",
      "(50, 'Maison Dewey', 'Catherine Dewey', 'Rue Joseph-Bens 532', 'Bruxelles', 'B-1180', 'Belgium')\n",
      "(51, 'Mère Paillarde', 'Jean Fresnière', '43 rue St. Laurent', 'Montréal', 'H1J 1C3', 'Canada')\n",
      "(52, 'Morgenstern Gesundkost', 'Alexander Feuer', 'Heerstr. 22', 'Leipzig', '04179', 'Germany')\n",
      "(53, 'North/South', 'Simon Crowther', 'South House 300 Queensbridge', 'London', 'SW7 1RZ', 'UK')\n",
      "(54, 'Océano Atlántico Ltda.', 'Yvonne Moncada', 'Ing. Gustavo Moncada 8585 Piso 20-A', 'Buenos Aires', '1010', 'Argentina')\n",
      "(55, 'Old World Delicatessen', 'Rene Phillips', '2743 Bering St.', 'Anchorage', '99508', 'USA')\n",
      "(56, 'Ottilies Käseladen', 'Henriette Pfalzheim', 'Mehrheimerstr. 369', 'Köln', '50739', 'Germany')\n",
      "(57, 'Paris spécialités', 'Marie Bertrand', '265, boulevard Charonne', 'Paris', '75012', 'France')\n",
      "(58, 'Pericles Comidas clásicas', 'Guillermo Fernández', 'Calle Dr. Jorge Cash 321', 'México D.F.', '05033', 'Mexico')\n",
      "(59, 'Piccolo und mehr', 'Georg Pipps', 'Geislweg 14', 'Salzburg', '5020', 'Austria')\n",
      "(60, 'Princesa Isabel Vinhoss', 'Isabel de Castro', 'Estrada da saúde n. 58', 'Lisboa', '1756', 'Portugal')\n",
      "(61, 'Que Delícia', 'Bernardo Batista', 'Rua da Panificadora, 12', 'Rio de Janeiro', '02389-673', 'Brazil')\n",
      "(62, 'Queen Cozinha', 'Lúcia Carvalho', 'Alameda dos Canàrios, 891', 'São Paulo', '05487-020', 'Brazil')\n",
      "(63, 'QUICK-Stop', 'Horst Kloss', 'Taucherstraße 10', 'Cunewalde', '01307', 'Germany')\n",
      "(64, 'Rancho grande', 'Sergio Gutiérrez', 'Av. del Libertador 900', 'Buenos Aires', '1010', 'Argentina')\n",
      "(65, 'Rattlesnake Canyon Grocery', 'Paula Wilson', '2817 Milton Dr.', 'Albuquerque', '87110', 'USA')\n",
      "(66, 'Reggiani Caseifici', 'Maurizio Moroni', 'Strada Provinciale 124', 'Reggio Emilia', '42100', 'Italy')\n",
      "(67, 'Ricardo Adocicados', 'Janete Limeira', 'Av. Copacabana, 267', 'Rio de Janeiro', '02389-890', 'Brazil')\n",
      "(68, 'Richter Supermarkt', 'Michael Holz', 'Grenzacherweg 237', 'Genève', '1203', 'Switzerland')\n",
      "(69, 'Romero y tomillo', 'Alejandra Camino', 'Gran Vía, 1', 'Madrid', '28001', 'Spain')\n",
      "(70, 'Santé Gourmet', 'Jonas Bergulfsen', 'Erling Skakkes gate 78', 'Stavern', '4110', 'Norway')\n",
      "(71, 'Save-a-lot Markets', 'Jose Pavarotti', '187 Suffolk Ln.', 'Boise', '83720', 'USA')\n",
      "(72, 'Seven Seas Imports', 'Hari Kumar', '90 Wadhurst Rd.', 'London', 'OX15 4NB', 'UK')\n",
      "(73, 'Simons bistro', 'Jytte Petersen', 'Vinbæltet 34', 'København', '1734', 'Denmark')\n",
      "(74, 'Spécialités du monde', 'Dominique Perrier', '25, rue Lauriston', 'Paris', '75016', 'France')\n",
      "(75, 'Split Rail Beer & Ale', 'Art Braunschweiger', 'P.O. Box 555', 'Lander', '82520', 'USA')\n",
      "(76, 'Suprêmes délices', 'Pascale Cartrain', 'Boulevard Tirou, 255', 'Charleroi', 'B-6000', 'Belgium')\n",
      "(77, 'The Big Cheese', 'Liz Nixon', '89 Jefferson Way Suite 2', 'Portland', '97201', 'USA')\n",
      "(78, 'The Cracker Box', 'Liu Wong', '55 Grizzly Peak Rd.', 'Butte', '59801', 'USA')\n",
      "(79, 'Toms Spezialitäten', 'Karin Josephs', 'Luisenstr. 48', 'Münster', '44087', 'Germany')\n",
      "(80, 'Tortuga Restaurante', 'Miguel Angel Paolino', 'Avda. Azteca 123', 'México D.F.', '05033', 'Mexico')\n",
      "(81, 'Tradição Hipermercados', 'Anabela Domingues', 'Av. Inês de Castro, 414', 'São Paulo', '05634-030', 'Brazil')\n",
      "(82, \"Trail's Head Gourmet Provisioners\", 'Helvetius Nagy', '722 DaVinci Blvd.', 'Kirkland', '98034', 'USA')\n",
      "(83, 'Vaffeljernet', 'Palle Ibsen', 'Smagsløget 45', 'Århus', '8200', 'Denmark')\n",
      "(84, 'Victuailles en stock', 'Mary Saveley', '2, rue du Commerce', 'Lyon', '69004', 'France')\n",
      "(85, 'Vins et alcools Chevalier', 'Paul Henriot', \"59 rue de l'Abbaye\", 'Reims', '51100', 'France')\n",
      "(86, 'Die Wandernde Kuh', 'Rita Müller', 'Adenauerallee 900', 'Stuttgart', '70563', 'Germany')\n",
      "(87, 'Wartian Herkku', 'Pirkko Koskitalo', 'Torikatu 38', 'Oulu', '90110', 'Finland')\n",
      "(88, 'Wellington Importadora', 'Paula Parente', 'Rua do Mercado, 12', 'Resende', '08737-363', 'Brazil')\n",
      "(89, 'White Clover Markets', 'Karl Jablonski', '305 - 14th Ave. S. Suite 3B', 'Seattle', '98128', 'USA')\n",
      "(90, 'Wilman Kala', 'Matti Karttunen', 'Keskuskatu 45', 'Helsinki', '21240', 'Finland')\n",
      "(91, 'Wolski', 'Zbyszek', 'ul. Filtrowa 68', 'Walla', '01-012', None)\n"
     ]
    }
   ],
   "source": [
    "print_query_result(\"SELECT * FROM Customers;\")"
   ]
  },
  {
   "cell_type": "markdown",
   "id": "5fd4ea06",
   "metadata": {},
   "source": [
    "## SELECT"
   ]
  },
  {
   "cell_type": "code",
   "execution_count": 145,
   "id": "245a5995-c082-46fa-be72-e903bcbc1d13",
   "metadata": {},
   "outputs": [
    {
     "name": "stdout",
     "output_type": "stream",
     "text": [
      "('Alfreds Futterkiste', 'Berlin')\n",
      "('Ana Trujillo Emparedados y helados', 'México D.F.')\n",
      "('Antonio Moreno Taquería', 'México D.F.')\n",
      "('Around the Horn', 'London')\n",
      "('Berglunds snabbköp', 'Luleå')\n",
      "('Blauer See Delikatessen', 'Mannheim')\n",
      "('Blondel père et fils', 'Strasbourg')\n",
      "('Bólido Comidas preparadas', 'Madrid')\n",
      "(\"Bon app'\", 'Marseille')\n",
      "('Bottom-Dollar Marketse', 'Tsawassen')\n",
      "(\"B's Beverages\", 'London')\n",
      "('Cactus Comidas para llevar', 'Buenos Aires')\n",
      "('Centro comercial Moctezuma', 'México D.F.')\n",
      "('Chop-suey Chinese', 'Bern')\n",
      "('Comércio Mineiro', 'São Paulo')\n",
      "('Consolidated Holdings', 'London')\n",
      "('Drachenblut Delikatessend', 'Aachen')\n",
      "('Du monde entier', 'Nantes')\n",
      "('Eastern Connection', 'London')\n",
      "('Ernst Handel', 'Graz')\n",
      "('Familia Arquibaldo', 'São Paulo')\n",
      "('FISSA Fabrica Inter. Salchichas S.A.', 'Madrid')\n",
      "('Folies gourmandes', 'Lille')\n",
      "('Folk och fä HB', 'Bräcke')\n",
      "('Frankenversand', 'München')\n",
      "('France restauration', 'Nantes')\n",
      "('Franchi S.p.A.', 'Torino')\n",
      "('Furia Bacalhau e Frutos do Mar', 'Lisboa')\n",
      "('Galería del gastrónomo', 'Barcelona')\n",
      "('Godos Cocina Típica', 'Sevilla')\n",
      "('Gourmet Lanchonetes', 'Campinas')\n",
      "('Great Lakes Food Market', 'Eugene')\n",
      "('GROSELLA-Restaurante', 'Caracas')\n",
      "('Hanari Carnes', 'Rio de Janeiro')\n",
      "('HILARIÓN-Abastos', 'San Cristóbal')\n",
      "('Hungry Coyote Import Store', 'Elgin')\n",
      "('Hungry Owl All-Night Grocers', 'Cork')\n",
      "('Island Trading', 'Cowes')\n",
      "('Königlich Essen', 'Brandenburg')\n",
      "(\"La corne d'abondance\", 'Versailles')\n",
      "(\"La maison d'Asie\", 'Toulouse')\n",
      "('Laughing Bacchus Wine Cellars', 'Vancouver')\n",
      "('Lazy K Kountry Store', 'Walla Walla')\n",
      "('Lehmanns Marktstand', 'Frankfurt a.M. ')\n",
      "(\"Let's Stop N Shop\", 'San Francisco')\n",
      "('LILA-Supermercado', 'Barquisimeto')\n",
      "('LINO-Delicateses', 'I. de Margarita')\n",
      "('Lonesome Pine Restaurant', 'Portland')\n",
      "('Magazzini Alimentari Riuniti', 'Bergamo')\n",
      "('Maison Dewey', 'Bruxelles')\n",
      "('Mère Paillarde', 'Montréal')\n",
      "('Morgenstern Gesundkost', 'Leipzig')\n",
      "('North/South', 'London')\n",
      "('Océano Atlántico Ltda.', 'Buenos Aires')\n",
      "('Old World Delicatessen', 'Anchorage')\n",
      "('Ottilies Käseladen', 'Köln')\n",
      "('Paris spécialités', 'Paris')\n",
      "('Pericles Comidas clásicas', 'México D.F.')\n",
      "('Piccolo und mehr', 'Salzburg')\n",
      "('Princesa Isabel Vinhoss', 'Lisboa')\n",
      "('Que Delícia', 'Rio de Janeiro')\n",
      "('Queen Cozinha', 'São Paulo')\n",
      "('QUICK-Stop', 'Cunewalde')\n",
      "('Rancho grande', 'Buenos Aires')\n",
      "('Rattlesnake Canyon Grocery', 'Albuquerque')\n",
      "('Reggiani Caseifici', 'Reggio Emilia')\n",
      "('Ricardo Adocicados', 'Rio de Janeiro')\n",
      "('Richter Supermarkt', 'Genève')\n",
      "('Romero y tomillo', 'Madrid')\n",
      "('Santé Gourmet', 'Stavern')\n",
      "('Save-a-lot Markets', 'Boise')\n",
      "('Seven Seas Imports', 'London')\n",
      "('Simons bistro', 'København')\n",
      "('Spécialités du monde', 'Paris')\n",
      "('Split Rail Beer & Ale', 'Lander')\n",
      "('Suprêmes délices', 'Charleroi')\n",
      "('The Big Cheese', 'Portland')\n",
      "('The Cracker Box', 'Butte')\n",
      "('Toms Spezialitäten', 'Münster')\n",
      "('Tortuga Restaurante', 'México D.F.')\n",
      "('Tradição Hipermercados', 'São Paulo')\n",
      "(\"Trail's Head Gourmet Provisioners\", 'Kirkland')\n",
      "('Vaffeljernet', 'Århus')\n",
      "('Victuailles en stock', 'Lyon')\n",
      "('Vins et alcools Chevalier', 'Reims')\n",
      "('Die Wandernde Kuh', 'Stuttgart')\n",
      "('Wartian Herkku', 'Oulu')\n",
      "('Wellington Importadora', 'Resende')\n",
      "('White Clover Markets', 'Seattle')\n",
      "('Wilman Kala', 'Helsinki')\n",
      "('Wolski', 'Walla')\n"
     ]
    }
   ],
   "source": [
    "print_query_result(\"SELECT CustomerName, City FROM Customers;\")"
   ]
  },
  {
   "cell_type": "markdown",
   "id": "6420d2ea",
   "metadata": {},
   "source": [
    "## The SQL SELECT DISTINCT Statement"
   ]
  },
  {
   "cell_type": "code",
   "execution_count": 146,
   "id": "3b9d1ef2",
   "metadata": {},
   "outputs": [
    {
     "name": "stdout",
     "output_type": "stream",
     "text": [
      "('Germany',)\n",
      "('Mexico',)\n",
      "('UK',)\n",
      "('Sweden',)\n",
      "('France',)\n",
      "('Spain',)\n",
      "('Canada',)\n",
      "('Argentina',)\n",
      "('Switzerland',)\n",
      "('Brazil',)\n",
      "('Austria',)\n",
      "('Italy',)\n",
      "('Portugal',)\n",
      "('USA',)\n",
      "('Venezuela',)\n",
      "('Ireland',)\n",
      "('Belgium',)\n",
      "('Norway',)\n",
      "('Denmark',)\n",
      "('Finland',)\n",
      "(None,)\n"
     ]
    }
   ],
   "source": [
    "print_query_result(\"SELECT DISTINCT Country FROM Customers;\")"
   ]
  },
  {
   "cell_type": "markdown",
   "id": "d40783fd",
   "metadata": {},
   "source": [
    "## SELECT Example Without DISTINCT"
   ]
  },
  {
   "cell_type": "code",
   "execution_count": 147,
   "id": "80a0e0f3",
   "metadata": {},
   "outputs": [
    {
     "name": "stdout",
     "output_type": "stream",
     "text": [
      "('Germany',)\n",
      "('Mexico',)\n",
      "('Mexico',)\n",
      "('UK',)\n",
      "('Sweden',)\n",
      "('Germany',)\n",
      "('France',)\n",
      "('Spain',)\n",
      "('France',)\n",
      "('Canada',)\n",
      "('UK',)\n",
      "('Argentina',)\n",
      "('Mexico',)\n",
      "('Switzerland',)\n",
      "('Brazil',)\n",
      "('UK',)\n",
      "('Germany',)\n",
      "('France',)\n",
      "('UK',)\n",
      "('Austria',)\n",
      "('Brazil',)\n",
      "('Spain',)\n",
      "('France',)\n",
      "('Sweden',)\n",
      "('Germany',)\n",
      "('France',)\n",
      "('Italy',)\n",
      "('Portugal',)\n",
      "('Spain',)\n",
      "('Spain',)\n",
      "('Brazil',)\n",
      "('USA',)\n",
      "('Venezuela',)\n",
      "('Brazil',)\n",
      "('Venezuela',)\n",
      "('USA',)\n",
      "('Ireland',)\n",
      "('UK',)\n",
      "('Germany',)\n",
      "('France',)\n",
      "('France',)\n",
      "('Canada',)\n",
      "('USA',)\n",
      "('Germany',)\n",
      "('USA',)\n",
      "('Venezuela',)\n",
      "('Venezuela',)\n",
      "('USA',)\n",
      "('Italy',)\n",
      "('Belgium',)\n",
      "('Canada',)\n",
      "('Germany',)\n",
      "('UK',)\n",
      "('Argentina',)\n",
      "('USA',)\n",
      "('Germany',)\n",
      "('France',)\n",
      "('Mexico',)\n",
      "('Austria',)\n",
      "('Portugal',)\n",
      "('Brazil',)\n",
      "('Brazil',)\n",
      "('Germany',)\n",
      "('Argentina',)\n",
      "('USA',)\n",
      "('Italy',)\n",
      "('Brazil',)\n",
      "('Switzerland',)\n",
      "('Spain',)\n",
      "('Norway',)\n",
      "('USA',)\n",
      "('UK',)\n",
      "('Denmark',)\n",
      "('France',)\n",
      "('USA',)\n",
      "('Belgium',)\n",
      "('USA',)\n",
      "('USA',)\n",
      "('Germany',)\n",
      "('Mexico',)\n",
      "('Brazil',)\n",
      "('USA',)\n",
      "('Denmark',)\n",
      "('France',)\n",
      "('France',)\n",
      "('Germany',)\n",
      "('Finland',)\n",
      "('Brazil',)\n",
      "('USA',)\n",
      "('Finland',)\n",
      "(None,)\n"
     ]
    }
   ],
   "source": [
    "print_query_result(\"SELECT Country FROM Customers;\")"
   ]
  },
  {
   "cell_type": "markdown",
   "id": "995173cf",
   "metadata": {},
   "source": [
    "## WHERE"
   ]
  },
  {
   "cell_type": "code",
   "execution_count": 148,
   "id": "9cf22431",
   "metadata": {},
   "outputs": [
    {
     "name": "stdout",
     "output_type": "stream",
     "text": [
      "(2, 'Ana Trujillo Emparedados y helados', 'Ana Trujillo', 'Avda. de la Constitución 2222', 'México D.F.', '05021', 'Mexico')\n",
      "(3, 'Antonio Moreno Taquería', 'Antonio Moreno', 'Mataderos 2312', 'México D.F.', '05023', 'Mexico')\n",
      "(13, 'Centro comercial Moctezuma', 'Francisco Chang', 'Sierras de Granada 9993', 'México D.F.', '05022', 'Mexico')\n",
      "(58, 'Pericles Comidas clásicas', 'Guillermo Fernández', 'Calle Dr. Jorge Cash 321', 'México D.F.', '05033', 'Mexico')\n",
      "(80, 'Tortuga Restaurante', 'Miguel Angel Paolino', 'Avda. Azteca 123', 'México D.F.', '05033', 'Mexico')\n"
     ]
    }
   ],
   "source": [
    "print_query_result(\"SELECT * FROM Customers WHERE Country='Mexico';\")"
   ]
  },
  {
   "cell_type": "markdown",
   "id": "5a44b201",
   "metadata": {},
   "source": [
    "## Text Fields vs. Numeric Fields"
   ]
  },
  {
   "cell_type": "code",
   "execution_count": 149,
   "id": "6438f2a6",
   "metadata": {},
   "outputs": [
    {
     "name": "stdout",
     "output_type": "stream",
     "text": [
      "(1, 'Alfreds Futterkiste', 'Maria Anders', 'Obere Str. 57', 'Berlin', '12209', 'Germany')\n"
     ]
    }
   ],
   "source": [
    "query = \"\"\"\n",
    "SELECT * FROM Customers\n",
    "WHERE CustomerID=1;\n",
    "\"\"\"\n",
    "print_query_result(query)"
   ]
  },
  {
   "cell_type": "markdown",
   "id": "3fa248af",
   "metadata": {},
   "source": [
    "## Operators in The WHERE Clause"
   ]
  },
  {
   "cell_type": "code",
   "execution_count": 150,
   "id": "c3b904e8",
   "metadata": {},
   "outputs": [
    {
     "name": "stdout",
     "output_type": "stream",
     "text": [
      "(81, 'Tradição Hipermercados', 'Anabela Domingues', 'Av. Inês de Castro, 414', 'São Paulo', '05634-030', 'Brazil')\n",
      "(82, \"Trail's Head Gourmet Provisioners\", 'Helvetius Nagy', '722 DaVinci Blvd.', 'Kirkland', '98034', 'USA')\n",
      "(83, 'Vaffeljernet', 'Palle Ibsen', 'Smagsløget 45', 'Århus', '8200', 'Denmark')\n",
      "(84, 'Victuailles en stock', 'Mary Saveley', '2, rue du Commerce', 'Lyon', '69004', 'France')\n",
      "(85, 'Vins et alcools Chevalier', 'Paul Henriot', \"59 rue de l'Abbaye\", 'Reims', '51100', 'France')\n",
      "(86, 'Die Wandernde Kuh', 'Rita Müller', 'Adenauerallee 900', 'Stuttgart', '70563', 'Germany')\n",
      "(87, 'Wartian Herkku', 'Pirkko Koskitalo', 'Torikatu 38', 'Oulu', '90110', 'Finland')\n",
      "(88, 'Wellington Importadora', 'Paula Parente', 'Rua do Mercado, 12', 'Resende', '08737-363', 'Brazil')\n",
      "(89, 'White Clover Markets', 'Karl Jablonski', '305 - 14th Ave. S. Suite 3B', 'Seattle', '98128', 'USA')\n",
      "(90, 'Wilman Kala', 'Matti Karttunen', 'Keskuskatu 45', 'Helsinki', '21240', 'Finland')\n",
      "(91, 'Wolski', 'Zbyszek', 'ul. Filtrowa 68', 'Walla', '01-012', None)\n"
     ]
    }
   ],
   "source": [
    "query = \"\"\"\n",
    "SELECT * FROM Customers\n",
    "WHERE CustomerID > 80;\n",
    "\"\"\"\n",
    "print_query_result(query)"
   ]
  },
  {
   "cell_type": "markdown",
   "id": "351bc69b",
   "metadata": {},
   "source": [
    "## ORDER BY"
   ]
  },
  {
   "cell_type": "code",
   "execution_count": 151,
   "id": "cf151d98",
   "metadata": {},
   "outputs": [
    {
     "name": "stdout",
     "output_type": "stream",
     "text": [
      "(33, 'Geitost', 15, 4, '500 g', 2.5)\n",
      "(24, 'Guaraná Fantástica', 10, 1, '12 - 355 ml cans', 4.5)\n",
      "(13, 'Konbu', 6, 8, '2 kg box', 6.0)\n",
      "(52, 'Filo Mix', 24, 5, '16 - 2 kg boxes', 7.0)\n",
      "(54, 'Tourtière', 25, 6, '16 pies', 7.45)\n",
      "(75, 'Rhönbräu Klosterbier', 12, 1, '24 - 0.5 l bottles', 7.75)\n",
      "(23, 'Tunnbröd', 9, 5, '12 - 250 g pkgs.', 9.0)\n",
      "(19, 'Teatime Chocolate Biscuits', 8, 3, '10 boxes x 12 pieces', 9.2)\n",
      "(45, 'Røgede sild', 21, 8, '1k pkg.', 9.5)\n",
      "(47, 'Zaanse koeken', 22, 3, '10 - 4 oz boxes', 9.5)\n",
      "(41, \"Jack's New England Clam Chowder\", 19, 8, '12 - 12 oz cans', 9.65)\n",
      "(3, 'Aniseed Syrup', 1, 2, '12 - 550 ml bottles', 10.0)\n",
      "(21, \"Sir Rodney's Scones\", 8, 3, '24 pkgs. x 4 pieces', 10.0)\n",
      "(74, 'Longlife Tofu', 4, 7, '5 kg pkg.', 10.0)\n",
      "(46, 'Spegesild', 21, 8, '4 - 450 g glasses', 12.0)\n",
      "(31, 'Gorgonzola Telino', 14, 4, '12 - 100 g pkgs', 12.5)\n",
      "(68, 'Scottish Longbreads', 8, 3, '10 boxes x 8 pieces', 12.5)\n",
      "(48, 'Chocolade', 22, 3, '10 pkgs.', 12.75)\n",
      "(77, 'Original Frankfurter grüne Soße', 12, 2, '12 boxes', 13.0)\n",
      "(58, 'Escargots de Bourgogne', 27, 8, '24 pieces', 13.25)\n",
      "(25, 'NuNuCa Nuß-Nougat-Creme', 11, 3, '20 - 450 g glasses', 14.0)\n",
      "(34, 'Sasquatch Ale', 16, 1, '24 - 12 oz bottles', 14.0)\n",
      "(42, 'Singaporean Hokkien Fried Mee', 20, 5, '32 - 1 kg pkgs.', 14.0)\n",
      "(67, 'Laughing Lumberjack Lager', 16, 1, '24 - 12 oz bottles', 14.0)\n",
      "(70, 'Outback Lager', 7, 1, '24 - 355 ml bottles', 15.0)\n",
      "(73, 'Röd Kaviar', 17, 8, '24 - 150 g jars', 15.0)\n",
      "(15, 'Genen Shouyu', 6, 2, '24 - 250 ml bottles', 15.5)\n",
      "(50, 'Valkoinen suklaa', 23, 3, '12 - 100 g bars', 16.25)\n",
      "(66, 'Louisiana Hot Spiced Okra', 2, 2, '24 - 8 oz jars', 17.0)\n",
      "(16, 'Pavlova', 7, 3, '32 - 500 g boxes', 17.45)\n",
      "(1, 'Chais', 1, 1, '10 boxes x 20 bags', 18.0)\n",
      "(35, 'Steeleye Stout', 16, 1, '24 - 12 oz bottles', 18.0)\n",
      "(39, 'Chartreuse verte', 18, 1, '750 cc per bottle', 18.0)\n",
      "(76, 'Lakkalikööri', 23, 1, '500 ml ', 18.0)\n",
      "(40, 'Boston Crab Meat', 19, 8, '24 - 4 oz tins', 18.4)\n",
      "(2, 'Chang', 1, 1, '24 - 12 oz bottles', 19.0)\n",
      "(36, 'Inlagd Sill', 17, 8, '24 - 250 g jars', 19.0)\n",
      "(44, 'Gula Malacca', 20, 2, '20 - 2 kg bags', 19.45)\n",
      "(57, 'Ravioli Angelo', 26, 5, '24 - 250 g pkgs.', 19.5)\n",
      "(49, 'Maxilaku', 23, 3, '24 - 50 g pkgs.', 20.0)\n",
      "(11, 'Queso Cabrales', 5, 4, '1 kg pkg.', 21.0)\n",
      "(22, \"Gustaf's Knäckebröd\", 9, 5, '24 - 500 g pkgs.', 21.0)\n",
      "(65, 'Louisiana Fiery Hot Pepper Sauce', 2, 2, '32 - 8 oz bottles', 21.05)\n",
      "(5, \"Chef Anton's Gumbo Mix\", 2, 2, '36 boxes', 21.35)\n",
      "(71, 'Fløtemysost', 15, 4, '10 - 500 g pkgs.', 21.5)\n",
      "(4, \"Chef Anton's Cajun Seasoning\", 2, 2, '48 - 6 oz jars', 22.0)\n",
      "(14, 'Tofu', 6, 7, '40 - 100 g pkgs.', 23.25)\n",
      "(55, 'Pâté chinois', 25, 6, '24 boxes x 2 pies', 24.0)\n",
      "(6, \"Grandma's Boysenberry Spread\", 3, 2, '12 - 8 oz jars', 25.0)\n",
      "(30, 'Nord-Ost Matjeshering', 13, 8, '10 - 200 g glasses', 25.89)\n",
      "(37, 'Gravad lax', 17, 8, '12 - 500 g pkgs.', 26.0)\n",
      "(61, \"Sirop d'érable\", 29, 2, '24 - 500 ml bottles', 28.5)\n",
      "(7, \"Uncle Bob's Organic Dried Pears\", 3, 7, '12 - 1 lb pkgs.', 30.0)\n",
      "(10, 'Ikura', 4, 8, '12 - 200 ml jars', 31.0)\n",
      "(26, 'Gumbär Gummibärchen', 11, 3, '100 - 250 g bags', 31.23)\n",
      "(32, 'Mascarpone Fabioli', 14, 4, '24 - 200 g pkgs.', 32.0)\n",
      "(53, 'Perth Pasties', 24, 6, '48 pieces', 32.8)\n",
      "(64, 'Wimmers gute Semmelknödel', 12, 5, '20 bags x 4 pieces', 33.25)\n",
      "(60, 'Camembert Pierrot', 28, 4, '15 - 300 g rounds', 34.0)\n",
      "(72, 'Mozzarella di Giovanni', 14, 4, '24 - 200 g pkgs.', 34.8)\n",
      "(69, 'Gudbrandsdalsost', 15, 4, '10 kg pkg.', 36.0)\n",
      "(12, 'Queso Manchego La Pastora', 5, 4, '10 - 500 g pkgs.', 38.0)\n",
      "(56, 'Gnocchi di nonna Alice', 26, 5, '24 - 250 g pkgs.', 38.0)\n",
      "(17, 'Alice Mutton', 7, 6, '20 - 1 kg tins', 39.0)\n",
      "(8, 'Northwoods Cranberry Sauce', 3, 2, '12 - 12 oz jars', 40.0)\n",
      "(27, 'Schoggi Schokolade', 11, 3, '100 - 100 g pieces', 43.9)\n",
      "(63, 'Vegie-spread', 7, 2, '15 - 625 g jars', 43.9)\n",
      "(28, 'Rössle Sauerkraut', 12, 7, '25 - 825 g cans', 45.6)\n",
      "(43, 'Ipoh Coffee', 20, 1, '16 - 500 g tins', 46.0)\n",
      "(62, 'Tarte au sucre', 29, 3, '48 pies', 49.3)\n",
      "(51, 'Manjimup Dried Apples', 24, 7, '50 - 300 g pkgs.', 53.0)\n",
      "(59, 'Raclette Courdavault', 28, 4, '5 kg pkg.', 55.0)\n",
      "(18, 'Carnarvon Tigers', 7, 8, '16 kg pkg.', 62.5)\n",
      "(20, \"Sir Rodney's Marmalade\", 8, 3, '30 gift boxes', 81.0)\n",
      "(9, 'Mishi Kobe Niku', 4, 6, '18 - 500 g pkgs.', 97.0)\n",
      "(29, 'Thüringer Rostbratwurst', 12, 6, '50 bags x 30 sausgs.', 123.79)\n",
      "(38, 'Côte de Blaye', 18, 1, '12 - 75 cl bottles', 263.5)\n"
     ]
    }
   ],
   "source": [
    "query = \"\"\"\n",
    "SELECT * FROM Products\n",
    "ORDER BY Price;\n",
    "\"\"\"\n",
    "print_query_result(query)"
   ]
  },
  {
   "cell_type": "markdown",
   "id": "ad68b263",
   "metadata": {},
   "source": [
    "## DESC"
   ]
  },
  {
   "cell_type": "code",
   "execution_count": 152,
   "id": "12babf2b",
   "metadata": {},
   "outputs": [
    {
     "name": "stdout",
     "output_type": "stream",
     "text": [
      "(38, 'Côte de Blaye', 18, 1, '12 - 75 cl bottles', 263.5)\n",
      "(29, 'Thüringer Rostbratwurst', 12, 6, '50 bags x 30 sausgs.', 123.79)\n",
      "(9, 'Mishi Kobe Niku', 4, 6, '18 - 500 g pkgs.', 97.0)\n",
      "(20, \"Sir Rodney's Marmalade\", 8, 3, '30 gift boxes', 81.0)\n",
      "(18, 'Carnarvon Tigers', 7, 8, '16 kg pkg.', 62.5)\n",
      "(59, 'Raclette Courdavault', 28, 4, '5 kg pkg.', 55.0)\n",
      "(51, 'Manjimup Dried Apples', 24, 7, '50 - 300 g pkgs.', 53.0)\n",
      "(62, 'Tarte au sucre', 29, 3, '48 pies', 49.3)\n",
      "(43, 'Ipoh Coffee', 20, 1, '16 - 500 g tins', 46.0)\n",
      "(28, 'Rössle Sauerkraut', 12, 7, '25 - 825 g cans', 45.6)\n",
      "(27, 'Schoggi Schokolade', 11, 3, '100 - 100 g pieces', 43.9)\n",
      "(63, 'Vegie-spread', 7, 2, '15 - 625 g jars', 43.9)\n",
      "(8, 'Northwoods Cranberry Sauce', 3, 2, '12 - 12 oz jars', 40.0)\n",
      "(17, 'Alice Mutton', 7, 6, '20 - 1 kg tins', 39.0)\n",
      "(12, 'Queso Manchego La Pastora', 5, 4, '10 - 500 g pkgs.', 38.0)\n",
      "(56, 'Gnocchi di nonna Alice', 26, 5, '24 - 250 g pkgs.', 38.0)\n",
      "(69, 'Gudbrandsdalsost', 15, 4, '10 kg pkg.', 36.0)\n",
      "(72, 'Mozzarella di Giovanni', 14, 4, '24 - 200 g pkgs.', 34.8)\n",
      "(60, 'Camembert Pierrot', 28, 4, '15 - 300 g rounds', 34.0)\n",
      "(64, 'Wimmers gute Semmelknödel', 12, 5, '20 bags x 4 pieces', 33.25)\n",
      "(53, 'Perth Pasties', 24, 6, '48 pieces', 32.8)\n",
      "(32, 'Mascarpone Fabioli', 14, 4, '24 - 200 g pkgs.', 32.0)\n",
      "(26, 'Gumbär Gummibärchen', 11, 3, '100 - 250 g bags', 31.23)\n",
      "(10, 'Ikura', 4, 8, '12 - 200 ml jars', 31.0)\n",
      "(7, \"Uncle Bob's Organic Dried Pears\", 3, 7, '12 - 1 lb pkgs.', 30.0)\n",
      "(61, \"Sirop d'érable\", 29, 2, '24 - 500 ml bottles', 28.5)\n",
      "(37, 'Gravad lax', 17, 8, '12 - 500 g pkgs.', 26.0)\n",
      "(30, 'Nord-Ost Matjeshering', 13, 8, '10 - 200 g glasses', 25.89)\n",
      "(6, \"Grandma's Boysenberry Spread\", 3, 2, '12 - 8 oz jars', 25.0)\n",
      "(55, 'Pâté chinois', 25, 6, '24 boxes x 2 pies', 24.0)\n",
      "(14, 'Tofu', 6, 7, '40 - 100 g pkgs.', 23.25)\n",
      "(4, \"Chef Anton's Cajun Seasoning\", 2, 2, '48 - 6 oz jars', 22.0)\n",
      "(71, 'Fløtemysost', 15, 4, '10 - 500 g pkgs.', 21.5)\n",
      "(5, \"Chef Anton's Gumbo Mix\", 2, 2, '36 boxes', 21.35)\n",
      "(65, 'Louisiana Fiery Hot Pepper Sauce', 2, 2, '32 - 8 oz bottles', 21.05)\n",
      "(11, 'Queso Cabrales', 5, 4, '1 kg pkg.', 21.0)\n",
      "(22, \"Gustaf's Knäckebröd\", 9, 5, '24 - 500 g pkgs.', 21.0)\n",
      "(49, 'Maxilaku', 23, 3, '24 - 50 g pkgs.', 20.0)\n",
      "(57, 'Ravioli Angelo', 26, 5, '24 - 250 g pkgs.', 19.5)\n",
      "(44, 'Gula Malacca', 20, 2, '20 - 2 kg bags', 19.45)\n",
      "(2, 'Chang', 1, 1, '24 - 12 oz bottles', 19.0)\n",
      "(36, 'Inlagd Sill', 17, 8, '24 - 250 g jars', 19.0)\n",
      "(40, 'Boston Crab Meat', 19, 8, '24 - 4 oz tins', 18.4)\n",
      "(1, 'Chais', 1, 1, '10 boxes x 20 bags', 18.0)\n",
      "(35, 'Steeleye Stout', 16, 1, '24 - 12 oz bottles', 18.0)\n",
      "(39, 'Chartreuse verte', 18, 1, '750 cc per bottle', 18.0)\n",
      "(76, 'Lakkalikööri', 23, 1, '500 ml ', 18.0)\n",
      "(16, 'Pavlova', 7, 3, '32 - 500 g boxes', 17.45)\n",
      "(66, 'Louisiana Hot Spiced Okra', 2, 2, '24 - 8 oz jars', 17.0)\n",
      "(50, 'Valkoinen suklaa', 23, 3, '12 - 100 g bars', 16.25)\n",
      "(15, 'Genen Shouyu', 6, 2, '24 - 250 ml bottles', 15.5)\n",
      "(70, 'Outback Lager', 7, 1, '24 - 355 ml bottles', 15.0)\n",
      "(73, 'Röd Kaviar', 17, 8, '24 - 150 g jars', 15.0)\n",
      "(25, 'NuNuCa Nuß-Nougat-Creme', 11, 3, '20 - 450 g glasses', 14.0)\n",
      "(34, 'Sasquatch Ale', 16, 1, '24 - 12 oz bottles', 14.0)\n",
      "(42, 'Singaporean Hokkien Fried Mee', 20, 5, '32 - 1 kg pkgs.', 14.0)\n",
      "(67, 'Laughing Lumberjack Lager', 16, 1, '24 - 12 oz bottles', 14.0)\n",
      "(58, 'Escargots de Bourgogne', 27, 8, '24 pieces', 13.25)\n",
      "(77, 'Original Frankfurter grüne Soße', 12, 2, '12 boxes', 13.0)\n",
      "(48, 'Chocolade', 22, 3, '10 pkgs.', 12.75)\n",
      "(31, 'Gorgonzola Telino', 14, 4, '12 - 100 g pkgs', 12.5)\n",
      "(68, 'Scottish Longbreads', 8, 3, '10 boxes x 8 pieces', 12.5)\n",
      "(46, 'Spegesild', 21, 8, '4 - 450 g glasses', 12.0)\n",
      "(3, 'Aniseed Syrup', 1, 2, '12 - 550 ml bottles', 10.0)\n",
      "(21, \"Sir Rodney's Scones\", 8, 3, '24 pkgs. x 4 pieces', 10.0)\n",
      "(74, 'Longlife Tofu', 4, 7, '5 kg pkg.', 10.0)\n",
      "(41, \"Jack's New England Clam Chowder\", 19, 8, '12 - 12 oz cans', 9.65)\n",
      "(45, 'Røgede sild', 21, 8, '1k pkg.', 9.5)\n",
      "(47, 'Zaanse koeken', 22, 3, '10 - 4 oz boxes', 9.5)\n",
      "(19, 'Teatime Chocolate Biscuits', 8, 3, '10 boxes x 12 pieces', 9.2)\n",
      "(23, 'Tunnbröd', 9, 5, '12 - 250 g pkgs.', 9.0)\n",
      "(75, 'Rhönbräu Klosterbier', 12, 1, '24 - 0.5 l bottles', 7.75)\n",
      "(54, 'Tourtière', 25, 6, '16 pies', 7.45)\n",
      "(52, 'Filo Mix', 24, 5, '16 - 2 kg boxes', 7.0)\n",
      "(13, 'Konbu', 6, 8, '2 kg box', 6.0)\n",
      "(24, 'Guaraná Fantástica', 10, 1, '12 - 355 ml cans', 4.5)\n",
      "(33, 'Geitost', 15, 4, '500 g', 2.5)\n"
     ]
    }
   ],
   "source": [
    "query = \"\"\"\n",
    "SELECT * FROM Products\n",
    "ORDER BY Price DESC;\n",
    "\"\"\"\n",
    "print_query_result(query)"
   ]
  },
  {
   "cell_type": "markdown",
   "id": "1a9d0ff8",
   "metadata": {},
   "source": [
    "## Order Alphabetically"
   ]
  },
  {
   "cell_type": "code",
   "execution_count": 153,
   "id": "88387eee",
   "metadata": {},
   "outputs": [
    {
     "name": "stdout",
     "output_type": "stream",
     "text": [
      "(17, 'Alice Mutton', 7, 6, '20 - 1 kg tins', 39.0)\n",
      "(3, 'Aniseed Syrup', 1, 2, '12 - 550 ml bottles', 10.0)\n",
      "(40, 'Boston Crab Meat', 19, 8, '24 - 4 oz tins', 18.4)\n",
      "(60, 'Camembert Pierrot', 28, 4, '15 - 300 g rounds', 34.0)\n",
      "(18, 'Carnarvon Tigers', 7, 8, '16 kg pkg.', 62.5)\n",
      "(1, 'Chais', 1, 1, '10 boxes x 20 bags', 18.0)\n",
      "(2, 'Chang', 1, 1, '24 - 12 oz bottles', 19.0)\n",
      "(39, 'Chartreuse verte', 18, 1, '750 cc per bottle', 18.0)\n",
      "(4, \"Chef Anton's Cajun Seasoning\", 2, 2, '48 - 6 oz jars', 22.0)\n",
      "(5, \"Chef Anton's Gumbo Mix\", 2, 2, '36 boxes', 21.35)\n",
      "(48, 'Chocolade', 22, 3, '10 pkgs.', 12.75)\n",
      "(38, 'Côte de Blaye', 18, 1, '12 - 75 cl bottles', 263.5)\n",
      "(58, 'Escargots de Bourgogne', 27, 8, '24 pieces', 13.25)\n",
      "(52, 'Filo Mix', 24, 5, '16 - 2 kg boxes', 7.0)\n",
      "(71, 'Fløtemysost', 15, 4, '10 - 500 g pkgs.', 21.5)\n",
      "(33, 'Geitost', 15, 4, '500 g', 2.5)\n",
      "(15, 'Genen Shouyu', 6, 2, '24 - 250 ml bottles', 15.5)\n",
      "(56, 'Gnocchi di nonna Alice', 26, 5, '24 - 250 g pkgs.', 38.0)\n",
      "(31, 'Gorgonzola Telino', 14, 4, '12 - 100 g pkgs', 12.5)\n",
      "(6, \"Grandma's Boysenberry Spread\", 3, 2, '12 - 8 oz jars', 25.0)\n",
      "(37, 'Gravad lax', 17, 8, '12 - 500 g pkgs.', 26.0)\n",
      "(24, 'Guaraná Fantástica', 10, 1, '12 - 355 ml cans', 4.5)\n",
      "(69, 'Gudbrandsdalsost', 15, 4, '10 kg pkg.', 36.0)\n",
      "(44, 'Gula Malacca', 20, 2, '20 - 2 kg bags', 19.45)\n",
      "(26, 'Gumbär Gummibärchen', 11, 3, '100 - 250 g bags', 31.23)\n",
      "(22, \"Gustaf's Knäckebröd\", 9, 5, '24 - 500 g pkgs.', 21.0)\n",
      "(10, 'Ikura', 4, 8, '12 - 200 ml jars', 31.0)\n",
      "(36, 'Inlagd Sill', 17, 8, '24 - 250 g jars', 19.0)\n",
      "(43, 'Ipoh Coffee', 20, 1, '16 - 500 g tins', 46.0)\n",
      "(41, \"Jack's New England Clam Chowder\", 19, 8, '12 - 12 oz cans', 9.65)\n",
      "(13, 'Konbu', 6, 8, '2 kg box', 6.0)\n",
      "(76, 'Lakkalikööri', 23, 1, '500 ml ', 18.0)\n",
      "(67, 'Laughing Lumberjack Lager', 16, 1, '24 - 12 oz bottles', 14.0)\n",
      "(74, 'Longlife Tofu', 4, 7, '5 kg pkg.', 10.0)\n",
      "(65, 'Louisiana Fiery Hot Pepper Sauce', 2, 2, '32 - 8 oz bottles', 21.05)\n",
      "(66, 'Louisiana Hot Spiced Okra', 2, 2, '24 - 8 oz jars', 17.0)\n",
      "(51, 'Manjimup Dried Apples', 24, 7, '50 - 300 g pkgs.', 53.0)\n",
      "(32, 'Mascarpone Fabioli', 14, 4, '24 - 200 g pkgs.', 32.0)\n",
      "(49, 'Maxilaku', 23, 3, '24 - 50 g pkgs.', 20.0)\n",
      "(9, 'Mishi Kobe Niku', 4, 6, '18 - 500 g pkgs.', 97.0)\n",
      "(72, 'Mozzarella di Giovanni', 14, 4, '24 - 200 g pkgs.', 34.8)\n",
      "(30, 'Nord-Ost Matjeshering', 13, 8, '10 - 200 g glasses', 25.89)\n",
      "(8, 'Northwoods Cranberry Sauce', 3, 2, '12 - 12 oz jars', 40.0)\n",
      "(25, 'NuNuCa Nuß-Nougat-Creme', 11, 3, '20 - 450 g glasses', 14.0)\n",
      "(77, 'Original Frankfurter grüne Soße', 12, 2, '12 boxes', 13.0)\n",
      "(70, 'Outback Lager', 7, 1, '24 - 355 ml bottles', 15.0)\n",
      "(16, 'Pavlova', 7, 3, '32 - 500 g boxes', 17.45)\n",
      "(53, 'Perth Pasties', 24, 6, '48 pieces', 32.8)\n",
      "(55, 'Pâté chinois', 25, 6, '24 boxes x 2 pies', 24.0)\n",
      "(11, 'Queso Cabrales', 5, 4, '1 kg pkg.', 21.0)\n",
      "(12, 'Queso Manchego La Pastora', 5, 4, '10 - 500 g pkgs.', 38.0)\n",
      "(59, 'Raclette Courdavault', 28, 4, '5 kg pkg.', 55.0)\n",
      "(57, 'Ravioli Angelo', 26, 5, '24 - 250 g pkgs.', 19.5)\n",
      "(75, 'Rhönbräu Klosterbier', 12, 1, '24 - 0.5 l bottles', 7.75)\n",
      "(73, 'Röd Kaviar', 17, 8, '24 - 150 g jars', 15.0)\n",
      "(28, 'Rössle Sauerkraut', 12, 7, '25 - 825 g cans', 45.6)\n",
      "(45, 'Røgede sild', 21, 8, '1k pkg.', 9.5)\n",
      "(34, 'Sasquatch Ale', 16, 1, '24 - 12 oz bottles', 14.0)\n",
      "(27, 'Schoggi Schokolade', 11, 3, '100 - 100 g pieces', 43.9)\n",
      "(68, 'Scottish Longbreads', 8, 3, '10 boxes x 8 pieces', 12.5)\n",
      "(42, 'Singaporean Hokkien Fried Mee', 20, 5, '32 - 1 kg pkgs.', 14.0)\n",
      "(20, \"Sir Rodney's Marmalade\", 8, 3, '30 gift boxes', 81.0)\n",
      "(21, \"Sir Rodney's Scones\", 8, 3, '24 pkgs. x 4 pieces', 10.0)\n",
      "(61, \"Sirop d'érable\", 29, 2, '24 - 500 ml bottles', 28.5)\n",
      "(46, 'Spegesild', 21, 8, '4 - 450 g glasses', 12.0)\n",
      "(35, 'Steeleye Stout', 16, 1, '24 - 12 oz bottles', 18.0)\n",
      "(62, 'Tarte au sucre', 29, 3, '48 pies', 49.3)\n",
      "(19, 'Teatime Chocolate Biscuits', 8, 3, '10 boxes x 12 pieces', 9.2)\n",
      "(29, 'Thüringer Rostbratwurst', 12, 6, '50 bags x 30 sausgs.', 123.79)\n",
      "(14, 'Tofu', 6, 7, '40 - 100 g pkgs.', 23.25)\n",
      "(54, 'Tourtière', 25, 6, '16 pies', 7.45)\n",
      "(23, 'Tunnbröd', 9, 5, '12 - 250 g pkgs.', 9.0)\n",
      "(7, \"Uncle Bob's Organic Dried Pears\", 3, 7, '12 - 1 lb pkgs.', 30.0)\n",
      "(50, 'Valkoinen suklaa', 23, 3, '12 - 100 g bars', 16.25)\n",
      "(63, 'Vegie-spread', 7, 2, '15 - 625 g jars', 43.9)\n",
      "(64, 'Wimmers gute Semmelknödel', 12, 5, '20 bags x 4 pieces', 33.25)\n",
      "(47, 'Zaanse koeken', 22, 3, '10 - 4 oz boxes', 9.5)\n"
     ]
    }
   ],
   "source": [
    "query = \"\"\"\n",
    "SELECT * FROM Products\n",
    "ORDER BY ProductName;\n",
    "\"\"\"\n",
    "print_query_result(query)"
   ]
  },
  {
   "cell_type": "markdown",
   "id": "c5b23867",
   "metadata": {},
   "source": [
    "## Alphabetically DESC"
   ]
  },
  {
   "cell_type": "code",
   "execution_count": 154,
   "id": "a705c74b",
   "metadata": {},
   "outputs": [
    {
     "name": "stdout",
     "output_type": "stream",
     "text": [
      "(47, 'Zaanse koeken', 22, 3, '10 - 4 oz boxes', 9.5)\n",
      "(64, 'Wimmers gute Semmelknödel', 12, 5, '20 bags x 4 pieces', 33.25)\n",
      "(63, 'Vegie-spread', 7, 2, '15 - 625 g jars', 43.9)\n",
      "(50, 'Valkoinen suklaa', 23, 3, '12 - 100 g bars', 16.25)\n",
      "(7, \"Uncle Bob's Organic Dried Pears\", 3, 7, '12 - 1 lb pkgs.', 30.0)\n",
      "(23, 'Tunnbröd', 9, 5, '12 - 250 g pkgs.', 9.0)\n",
      "(54, 'Tourtière', 25, 6, '16 pies', 7.45)\n",
      "(14, 'Tofu', 6, 7, '40 - 100 g pkgs.', 23.25)\n",
      "(29, 'Thüringer Rostbratwurst', 12, 6, '50 bags x 30 sausgs.', 123.79)\n",
      "(19, 'Teatime Chocolate Biscuits', 8, 3, '10 boxes x 12 pieces', 9.2)\n",
      "(62, 'Tarte au sucre', 29, 3, '48 pies', 49.3)\n",
      "(35, 'Steeleye Stout', 16, 1, '24 - 12 oz bottles', 18.0)\n",
      "(46, 'Spegesild', 21, 8, '4 - 450 g glasses', 12.0)\n",
      "(61, \"Sirop d'érable\", 29, 2, '24 - 500 ml bottles', 28.5)\n",
      "(21, \"Sir Rodney's Scones\", 8, 3, '24 pkgs. x 4 pieces', 10.0)\n",
      "(20, \"Sir Rodney's Marmalade\", 8, 3, '30 gift boxes', 81.0)\n",
      "(42, 'Singaporean Hokkien Fried Mee', 20, 5, '32 - 1 kg pkgs.', 14.0)\n",
      "(68, 'Scottish Longbreads', 8, 3, '10 boxes x 8 pieces', 12.5)\n",
      "(27, 'Schoggi Schokolade', 11, 3, '100 - 100 g pieces', 43.9)\n",
      "(34, 'Sasquatch Ale', 16, 1, '24 - 12 oz bottles', 14.0)\n",
      "(45, 'Røgede sild', 21, 8, '1k pkg.', 9.5)\n",
      "(28, 'Rössle Sauerkraut', 12, 7, '25 - 825 g cans', 45.6)\n",
      "(73, 'Röd Kaviar', 17, 8, '24 - 150 g jars', 15.0)\n",
      "(75, 'Rhönbräu Klosterbier', 12, 1, '24 - 0.5 l bottles', 7.75)\n",
      "(57, 'Ravioli Angelo', 26, 5, '24 - 250 g pkgs.', 19.5)\n",
      "(59, 'Raclette Courdavault', 28, 4, '5 kg pkg.', 55.0)\n",
      "(12, 'Queso Manchego La Pastora', 5, 4, '10 - 500 g pkgs.', 38.0)\n",
      "(11, 'Queso Cabrales', 5, 4, '1 kg pkg.', 21.0)\n",
      "(55, 'Pâté chinois', 25, 6, '24 boxes x 2 pies', 24.0)\n",
      "(53, 'Perth Pasties', 24, 6, '48 pieces', 32.8)\n",
      "(16, 'Pavlova', 7, 3, '32 - 500 g boxes', 17.45)\n",
      "(70, 'Outback Lager', 7, 1, '24 - 355 ml bottles', 15.0)\n",
      "(77, 'Original Frankfurter grüne Soße', 12, 2, '12 boxes', 13.0)\n",
      "(25, 'NuNuCa Nuß-Nougat-Creme', 11, 3, '20 - 450 g glasses', 14.0)\n",
      "(8, 'Northwoods Cranberry Sauce', 3, 2, '12 - 12 oz jars', 40.0)\n",
      "(30, 'Nord-Ost Matjeshering', 13, 8, '10 - 200 g glasses', 25.89)\n",
      "(72, 'Mozzarella di Giovanni', 14, 4, '24 - 200 g pkgs.', 34.8)\n",
      "(9, 'Mishi Kobe Niku', 4, 6, '18 - 500 g pkgs.', 97.0)\n",
      "(49, 'Maxilaku', 23, 3, '24 - 50 g pkgs.', 20.0)\n",
      "(32, 'Mascarpone Fabioli', 14, 4, '24 - 200 g pkgs.', 32.0)\n",
      "(51, 'Manjimup Dried Apples', 24, 7, '50 - 300 g pkgs.', 53.0)\n",
      "(66, 'Louisiana Hot Spiced Okra', 2, 2, '24 - 8 oz jars', 17.0)\n",
      "(65, 'Louisiana Fiery Hot Pepper Sauce', 2, 2, '32 - 8 oz bottles', 21.05)\n",
      "(74, 'Longlife Tofu', 4, 7, '5 kg pkg.', 10.0)\n",
      "(67, 'Laughing Lumberjack Lager', 16, 1, '24 - 12 oz bottles', 14.0)\n",
      "(76, 'Lakkalikööri', 23, 1, '500 ml ', 18.0)\n",
      "(13, 'Konbu', 6, 8, '2 kg box', 6.0)\n",
      "(41, \"Jack's New England Clam Chowder\", 19, 8, '12 - 12 oz cans', 9.65)\n",
      "(43, 'Ipoh Coffee', 20, 1, '16 - 500 g tins', 46.0)\n",
      "(36, 'Inlagd Sill', 17, 8, '24 - 250 g jars', 19.0)\n",
      "(10, 'Ikura', 4, 8, '12 - 200 ml jars', 31.0)\n",
      "(22, \"Gustaf's Knäckebröd\", 9, 5, '24 - 500 g pkgs.', 21.0)\n",
      "(26, 'Gumbär Gummibärchen', 11, 3, '100 - 250 g bags', 31.23)\n",
      "(44, 'Gula Malacca', 20, 2, '20 - 2 kg bags', 19.45)\n",
      "(69, 'Gudbrandsdalsost', 15, 4, '10 kg pkg.', 36.0)\n",
      "(24, 'Guaraná Fantástica', 10, 1, '12 - 355 ml cans', 4.5)\n",
      "(37, 'Gravad lax', 17, 8, '12 - 500 g pkgs.', 26.0)\n",
      "(6, \"Grandma's Boysenberry Spread\", 3, 2, '12 - 8 oz jars', 25.0)\n",
      "(31, 'Gorgonzola Telino', 14, 4, '12 - 100 g pkgs', 12.5)\n",
      "(56, 'Gnocchi di nonna Alice', 26, 5, '24 - 250 g pkgs.', 38.0)\n",
      "(15, 'Genen Shouyu', 6, 2, '24 - 250 ml bottles', 15.5)\n",
      "(33, 'Geitost', 15, 4, '500 g', 2.5)\n",
      "(71, 'Fløtemysost', 15, 4, '10 - 500 g pkgs.', 21.5)\n",
      "(52, 'Filo Mix', 24, 5, '16 - 2 kg boxes', 7.0)\n",
      "(58, 'Escargots de Bourgogne', 27, 8, '24 pieces', 13.25)\n",
      "(38, 'Côte de Blaye', 18, 1, '12 - 75 cl bottles', 263.5)\n",
      "(48, 'Chocolade', 22, 3, '10 pkgs.', 12.75)\n",
      "(5, \"Chef Anton's Gumbo Mix\", 2, 2, '36 boxes', 21.35)\n",
      "(4, \"Chef Anton's Cajun Seasoning\", 2, 2, '48 - 6 oz jars', 22.0)\n",
      "(39, 'Chartreuse verte', 18, 1, '750 cc per bottle', 18.0)\n",
      "(2, 'Chang', 1, 1, '24 - 12 oz bottles', 19.0)\n",
      "(1, 'Chais', 1, 1, '10 boxes x 20 bags', 18.0)\n",
      "(18, 'Carnarvon Tigers', 7, 8, '16 kg pkg.', 62.5)\n",
      "(60, 'Camembert Pierrot', 28, 4, '15 - 300 g rounds', 34.0)\n",
      "(40, 'Boston Crab Meat', 19, 8, '24 - 4 oz tins', 18.4)\n",
      "(3, 'Aniseed Syrup', 1, 2, '12 - 550 ml bottles', 10.0)\n",
      "(17, 'Alice Mutton', 7, 6, '20 - 1 kg tins', 39.0)\n"
     ]
    }
   ],
   "source": [
    "query = \"\"\"\n",
    "SELECT * FROM Products\n",
    "ORDER BY ProductName DESC;\n",
    "\"\"\"\n",
    "print_query_result(query)"
   ]
  },
  {
   "cell_type": "markdown",
   "id": "2d4f152e",
   "metadata": {},
   "source": [
    "## ORDER BY Several Columns"
   ]
  },
  {
   "cell_type": "code",
   "execution_count": 155,
   "id": "f1096276",
   "metadata": {},
   "outputs": [
    {
     "name": "stdout",
     "output_type": "stream",
     "text": [
      "(91, 'Wolski', 'Zbyszek', 'ul. Filtrowa 68', 'Walla', '01-012', None)\n",
      "(12, 'Cactus Comidas para llevar', 'Patricio Simpson', 'Cerrito 333', 'Buenos Aires', '1010', 'Argentina')\n",
      "(54, 'Océano Atlántico Ltda.', 'Yvonne Moncada', 'Ing. Gustavo Moncada 8585 Piso 20-A', 'Buenos Aires', '1010', 'Argentina')\n",
      "(64, 'Rancho grande', 'Sergio Gutiérrez', 'Av. del Libertador 900', 'Buenos Aires', '1010', 'Argentina')\n",
      "(20, 'Ernst Handel', 'Roland Mendel', 'Kirchgasse 6', 'Graz', '8010', 'Austria')\n",
      "(59, 'Piccolo und mehr', 'Georg Pipps', 'Geislweg 14', 'Salzburg', '5020', 'Austria')\n",
      "(50, 'Maison Dewey', 'Catherine Dewey', 'Rue Joseph-Bens 532', 'Bruxelles', 'B-1180', 'Belgium')\n",
      "(76, 'Suprêmes délices', 'Pascale Cartrain', 'Boulevard Tirou, 255', 'Charleroi', 'B-6000', 'Belgium')\n",
      "(15, 'Comércio Mineiro', 'Pedro Afonso', 'Av. dos Lusíadas, 23', 'São Paulo', '05432-043', 'Brazil')\n",
      "(21, 'Familia Arquibaldo', 'Aria Cruz', 'Rua Orós, 92', 'São Paulo', '05442-030', 'Brazil')\n",
      "(31, 'Gourmet Lanchonetes', 'André Fonseca', 'Av. Brasil, 442', 'Campinas', '04876-786', 'Brazil')\n",
      "(34, 'Hanari Carnes', 'Mario Pontes', 'Rua do Paço, 67', 'Rio de Janeiro', '05454-876', 'Brazil')\n",
      "(61, 'Que Delícia', 'Bernardo Batista', 'Rua da Panificadora, 12', 'Rio de Janeiro', '02389-673', 'Brazil')\n",
      "(62, 'Queen Cozinha', 'Lúcia Carvalho', 'Alameda dos Canàrios, 891', 'São Paulo', '05487-020', 'Brazil')\n",
      "(67, 'Ricardo Adocicados', 'Janete Limeira', 'Av. Copacabana, 267', 'Rio de Janeiro', '02389-890', 'Brazil')\n",
      "(81, 'Tradição Hipermercados', 'Anabela Domingues', 'Av. Inês de Castro, 414', 'São Paulo', '05634-030', 'Brazil')\n",
      "(88, 'Wellington Importadora', 'Paula Parente', 'Rua do Mercado, 12', 'Resende', '08737-363', 'Brazil')\n",
      "(10, 'Bottom-Dollar Marketse', 'Elizabeth Lincoln', '23 Tsawassen Blvd.', 'Tsawassen', 'T2F 8M4', 'Canada')\n",
      "(42, 'Laughing Bacchus Wine Cellars', 'Yoshi Tannamuri', '1900 Oak St.', 'Vancouver', 'V3F 2K1', 'Canada')\n",
      "(51, 'Mère Paillarde', 'Jean Fresnière', '43 rue St. Laurent', 'Montréal', 'H1J 1C3', 'Canada')\n",
      "(73, 'Simons bistro', 'Jytte Petersen', 'Vinbæltet 34', 'København', '1734', 'Denmark')\n",
      "(83, 'Vaffeljernet', 'Palle Ibsen', 'Smagsløget 45', 'Århus', '8200', 'Denmark')\n",
      "(87, 'Wartian Herkku', 'Pirkko Koskitalo', 'Torikatu 38', 'Oulu', '90110', 'Finland')\n",
      "(90, 'Wilman Kala', 'Matti Karttunen', 'Keskuskatu 45', 'Helsinki', '21240', 'Finland')\n",
      "(7, 'Blondel père et fils', 'Frédérique Citeaux', '24, place Kléber', 'Strasbourg', '67000', 'France')\n",
      "(9, \"Bon app'\", 'Laurence Lebihans', '12, rue des Bouchers', 'Marseille', '13008', 'France')\n",
      "(18, 'Du monde entier', 'Janine Labrune', '67, rue des Cinquante Otages', 'Nantes', '44000', 'France')\n",
      "(23, 'Folies gourmandes', 'Martine Rancé', '184, chaussée de Tournai', 'Lille', '59000', 'France')\n",
      "(26, 'France restauration', 'Carine Schmitt', '54, rue Royale', 'Nantes', '44000', 'France')\n",
      "(40, \"La corne d'abondance\", 'Daniel Tonini', \"67, avenue de l'Europe\", 'Versailles', '78000', 'France')\n",
      "(41, \"La maison d'Asie\", 'Annette Roulet', '1 rue Alsace-Lorraine', 'Toulouse', '31000', 'France')\n",
      "(57, 'Paris spécialités', 'Marie Bertrand', '265, boulevard Charonne', 'Paris', '75012', 'France')\n",
      "(74, 'Spécialités du monde', 'Dominique Perrier', '25, rue Lauriston', 'Paris', '75016', 'France')\n",
      "(84, 'Victuailles en stock', 'Mary Saveley', '2, rue du Commerce', 'Lyon', '69004', 'France')\n",
      "(85, 'Vins et alcools Chevalier', 'Paul Henriot', \"59 rue de l'Abbaye\", 'Reims', '51100', 'France')\n",
      "(1, 'Alfreds Futterkiste', 'Maria Anders', 'Obere Str. 57', 'Berlin', '12209', 'Germany')\n",
      "(6, 'Blauer See Delikatessen', 'Hanna Moos', 'Forsterstr. 57', 'Mannheim', '68306', 'Germany')\n",
      "(86, 'Die Wandernde Kuh', 'Rita Müller', 'Adenauerallee 900', 'Stuttgart', '70563', 'Germany')\n",
      "(17, 'Drachenblut Delikatessend', 'Sven Ottlieb', 'Walserweg 21', 'Aachen', '52066', 'Germany')\n",
      "(25, 'Frankenversand', 'Peter Franken', 'Berliner Platz 43', 'München', '80805', 'Germany')\n",
      "(39, 'Königlich Essen', 'Philip Cramer', 'Maubelstr. 90', 'Brandenburg', '14776', 'Germany')\n",
      "(44, 'Lehmanns Marktstand', 'Renate Messner', 'Magazinweg 7', 'Frankfurt a.M. ', '60528', 'Germany')\n",
      "(52, 'Morgenstern Gesundkost', 'Alexander Feuer', 'Heerstr. 22', 'Leipzig', '04179', 'Germany')\n",
      "(56, 'Ottilies Käseladen', 'Henriette Pfalzheim', 'Mehrheimerstr. 369', 'Köln', '50739', 'Germany')\n",
      "(63, 'QUICK-Stop', 'Horst Kloss', 'Taucherstraße 10', 'Cunewalde', '01307', 'Germany')\n",
      "(79, 'Toms Spezialitäten', 'Karin Josephs', 'Luisenstr. 48', 'Münster', '44087', 'Germany')\n",
      "(37, 'Hungry Owl All-Night Grocers', 'Patricia McKenna', '8 Johnstown Road', 'Cork', None, 'Ireland')\n",
      "(27, 'Franchi S.p.A.', 'Paolo Accorti', 'Via Monte Bianco 34', 'Torino', '10100', 'Italy')\n",
      "(49, 'Magazzini Alimentari Riuniti', 'Giovanni Rovelli', 'Via Ludovico il Moro 22', 'Bergamo', '24100', 'Italy')\n",
      "(66, 'Reggiani Caseifici', 'Maurizio Moroni', 'Strada Provinciale 124', 'Reggio Emilia', '42100', 'Italy')\n",
      "(2, 'Ana Trujillo Emparedados y helados', 'Ana Trujillo', 'Avda. de la Constitución 2222', 'México D.F.', '05021', 'Mexico')\n",
      "(3, 'Antonio Moreno Taquería', 'Antonio Moreno', 'Mataderos 2312', 'México D.F.', '05023', 'Mexico')\n",
      "(13, 'Centro comercial Moctezuma', 'Francisco Chang', 'Sierras de Granada 9993', 'México D.F.', '05022', 'Mexico')\n",
      "(58, 'Pericles Comidas clásicas', 'Guillermo Fernández', 'Calle Dr. Jorge Cash 321', 'México D.F.', '05033', 'Mexico')\n",
      "(80, 'Tortuga Restaurante', 'Miguel Angel Paolino', 'Avda. Azteca 123', 'México D.F.', '05033', 'Mexico')\n",
      "(70, 'Santé Gourmet', 'Jonas Bergulfsen', 'Erling Skakkes gate 78', 'Stavern', '4110', 'Norway')\n",
      "(28, 'Furia Bacalhau e Frutos do Mar', 'Lino Rodriguez ', 'Jardim das rosas n. 32', 'Lisboa', '1675', 'Portugal')\n",
      "(60, 'Princesa Isabel Vinhoss', 'Isabel de Castro', 'Estrada da saúde n. 58', 'Lisboa', '1756', 'Portugal')\n",
      "(8, 'Bólido Comidas preparadas', 'Martín Sommer', 'C/ Araquil, 67', 'Madrid', '28023', 'Spain')\n",
      "(22, 'FISSA Fabrica Inter. Salchichas S.A.', 'Diego Roel', 'C/ Moralzarzal, 86', 'Madrid', '28034', 'Spain')\n",
      "(29, 'Galería del gastrónomo', 'Eduardo Saavedra', 'Rambla de Cataluña, 23', 'Barcelona', '08022', 'Spain')\n",
      "(30, 'Godos Cocina Típica', 'José Pedro Freyre', 'C/ Romero, 33', 'Sevilla', '41101', 'Spain')\n",
      "(69, 'Romero y tomillo', 'Alejandra Camino', 'Gran Vía, 1', 'Madrid', '28001', 'Spain')\n",
      "(5, 'Berglunds snabbköp', 'Christina Berglund', 'Berguvsvägen 8', 'Luleå', 'S-958 22', 'Sweden')\n",
      "(24, 'Folk och fä HB', 'Maria Larsson', 'Åkergatan 24', 'Bräcke', 'S-844 67', 'Sweden')\n",
      "(14, 'Chop-suey Chinese', 'Yang Wang', 'Hauptstr. 29', 'Bern', '3012', 'Switzerland')\n",
      "(68, 'Richter Supermarkt', 'Michael Holz', 'Grenzacherweg 237', 'Genève', '1203', 'Switzerland')\n",
      "(4, 'Around the Horn', 'Thomas Hardy', '120 Hanover Sq.', 'London', 'WA1 1DP', 'UK')\n",
      "(11, \"B's Beverages\", 'Victoria Ashworth', 'Fauntleroy Circus', 'London', 'EC2 5NT', 'UK')\n",
      "(16, 'Consolidated Holdings', 'Elizabeth Brown', 'Berkeley Gardens 12 Brewery ', 'London', 'WX1 6LT', 'UK')\n",
      "(19, 'Eastern Connection', 'Ann Devon', '35 King George', 'London', 'WX3 6FW', 'UK')\n",
      "(38, 'Island Trading', 'Helen Bennett', 'Garden House Crowther Way', 'Cowes', 'PO31 7PJ', 'UK')\n",
      "(53, 'North/South', 'Simon Crowther', 'South House 300 Queensbridge', 'London', 'SW7 1RZ', 'UK')\n",
      "(72, 'Seven Seas Imports', 'Hari Kumar', '90 Wadhurst Rd.', 'London', 'OX15 4NB', 'UK')\n",
      "(32, 'Great Lakes Food Market', 'Howard Snyder', '2732 Baker Blvd.', 'Eugene', '97403', 'USA')\n",
      "(36, 'Hungry Coyote Import Store', 'Yoshi Latimer', 'City Center Plaza 516 Main St.', 'Elgin', '97827', 'USA')\n",
      "(43, 'Lazy K Kountry Store', 'John Steel', '12 Orchestra Terrace', 'Walla Walla', '99362', 'USA')\n",
      "(45, \"Let's Stop N Shop\", 'Jaime Yorres', '87 Polk St. Suite 5', 'San Francisco', '94117', 'USA')\n",
      "(48, 'Lonesome Pine Restaurant', 'Fran Wilson', '89 Chiaroscuro Rd.', 'Portland', '97219', 'USA')\n",
      "(55, 'Old World Delicatessen', 'Rene Phillips', '2743 Bering St.', 'Anchorage', '99508', 'USA')\n",
      "(65, 'Rattlesnake Canyon Grocery', 'Paula Wilson', '2817 Milton Dr.', 'Albuquerque', '87110', 'USA')\n",
      "(71, 'Save-a-lot Markets', 'Jose Pavarotti', '187 Suffolk Ln.', 'Boise', '83720', 'USA')\n",
      "(75, 'Split Rail Beer & Ale', 'Art Braunschweiger', 'P.O. Box 555', 'Lander', '82520', 'USA')\n",
      "(77, 'The Big Cheese', 'Liz Nixon', '89 Jefferson Way Suite 2', 'Portland', '97201', 'USA')\n",
      "(78, 'The Cracker Box', 'Liu Wong', '55 Grizzly Peak Rd.', 'Butte', '59801', 'USA')\n",
      "(82, \"Trail's Head Gourmet Provisioners\", 'Helvetius Nagy', '722 DaVinci Blvd.', 'Kirkland', '98034', 'USA')\n",
      "(89, 'White Clover Markets', 'Karl Jablonski', '305 - 14th Ave. S. Suite 3B', 'Seattle', '98128', 'USA')\n",
      "(33, 'GROSELLA-Restaurante', 'Manuel Pereira', '5ª Ave. Los Palos Grandes', 'Caracas', '1081', 'Venezuela')\n",
      "(35, 'HILARIÓN-Abastos', 'Carlos Hernández', 'Carrera 22 con Ave. Carlos Soublette #8-35', 'San Cristóbal', '5022', 'Venezuela')\n",
      "(46, 'LILA-Supermercado', 'Carlos González', 'Carrera 52 con Ave. Bolívar #65-98 Llano Largo', 'Barquisimeto', '3508', 'Venezuela')\n",
      "(47, 'LINO-Delicateses', 'Felipe Izquierdo', 'Ave. 5 de Mayo Porlamar', 'I. de Margarita', '4980', 'Venezuela')\n"
     ]
    }
   ],
   "source": [
    "query = \"\"\"\n",
    "SELECT * FROM Customers\n",
    "ORDER BY Country, CustomerName;\n",
    "\n",
    "\"\"\"\n",
    "print_query_result(query)"
   ]
  },
  {
   "cell_type": "markdown",
   "id": "dbb67e0a",
   "metadata": {},
   "source": [
    "## Using Both ASC and DESC"
   ]
  },
  {
   "cell_type": "code",
   "execution_count": 156,
   "id": "8a120f77",
   "metadata": {},
   "outputs": [
    {
     "name": "stdout",
     "output_type": "stream",
     "text": [
      "(91, 'Wolski', 'Zbyszek', 'ul. Filtrowa 68', 'Walla', '01-012', None)\n",
      "(64, 'Rancho grande', 'Sergio Gutiérrez', 'Av. del Libertador 900', 'Buenos Aires', '1010', 'Argentina')\n",
      "(54, 'Océano Atlántico Ltda.', 'Yvonne Moncada', 'Ing. Gustavo Moncada 8585 Piso 20-A', 'Buenos Aires', '1010', 'Argentina')\n",
      "(12, 'Cactus Comidas para llevar', 'Patricio Simpson', 'Cerrito 333', 'Buenos Aires', '1010', 'Argentina')\n",
      "(59, 'Piccolo und mehr', 'Georg Pipps', 'Geislweg 14', 'Salzburg', '5020', 'Austria')\n",
      "(20, 'Ernst Handel', 'Roland Mendel', 'Kirchgasse 6', 'Graz', '8010', 'Austria')\n",
      "(76, 'Suprêmes délices', 'Pascale Cartrain', 'Boulevard Tirou, 255', 'Charleroi', 'B-6000', 'Belgium')\n",
      "(50, 'Maison Dewey', 'Catherine Dewey', 'Rue Joseph-Bens 532', 'Bruxelles', 'B-1180', 'Belgium')\n",
      "(88, 'Wellington Importadora', 'Paula Parente', 'Rua do Mercado, 12', 'Resende', '08737-363', 'Brazil')\n",
      "(81, 'Tradição Hipermercados', 'Anabela Domingues', 'Av. Inês de Castro, 414', 'São Paulo', '05634-030', 'Brazil')\n",
      "(67, 'Ricardo Adocicados', 'Janete Limeira', 'Av. Copacabana, 267', 'Rio de Janeiro', '02389-890', 'Brazil')\n",
      "(62, 'Queen Cozinha', 'Lúcia Carvalho', 'Alameda dos Canàrios, 891', 'São Paulo', '05487-020', 'Brazil')\n",
      "(61, 'Que Delícia', 'Bernardo Batista', 'Rua da Panificadora, 12', 'Rio de Janeiro', '02389-673', 'Brazil')\n",
      "(34, 'Hanari Carnes', 'Mario Pontes', 'Rua do Paço, 67', 'Rio de Janeiro', '05454-876', 'Brazil')\n",
      "(31, 'Gourmet Lanchonetes', 'André Fonseca', 'Av. Brasil, 442', 'Campinas', '04876-786', 'Brazil')\n",
      "(21, 'Familia Arquibaldo', 'Aria Cruz', 'Rua Orós, 92', 'São Paulo', '05442-030', 'Brazil')\n",
      "(15, 'Comércio Mineiro', 'Pedro Afonso', 'Av. dos Lusíadas, 23', 'São Paulo', '05432-043', 'Brazil')\n",
      "(51, 'Mère Paillarde', 'Jean Fresnière', '43 rue St. Laurent', 'Montréal', 'H1J 1C3', 'Canada')\n",
      "(42, 'Laughing Bacchus Wine Cellars', 'Yoshi Tannamuri', '1900 Oak St.', 'Vancouver', 'V3F 2K1', 'Canada')\n",
      "(10, 'Bottom-Dollar Marketse', 'Elizabeth Lincoln', '23 Tsawassen Blvd.', 'Tsawassen', 'T2F 8M4', 'Canada')\n",
      "(83, 'Vaffeljernet', 'Palle Ibsen', 'Smagsløget 45', 'Århus', '8200', 'Denmark')\n",
      "(73, 'Simons bistro', 'Jytte Petersen', 'Vinbæltet 34', 'København', '1734', 'Denmark')\n",
      "(90, 'Wilman Kala', 'Matti Karttunen', 'Keskuskatu 45', 'Helsinki', '21240', 'Finland')\n",
      "(87, 'Wartian Herkku', 'Pirkko Koskitalo', 'Torikatu 38', 'Oulu', '90110', 'Finland')\n",
      "(85, 'Vins et alcools Chevalier', 'Paul Henriot', \"59 rue de l'Abbaye\", 'Reims', '51100', 'France')\n",
      "(84, 'Victuailles en stock', 'Mary Saveley', '2, rue du Commerce', 'Lyon', '69004', 'France')\n",
      "(74, 'Spécialités du monde', 'Dominique Perrier', '25, rue Lauriston', 'Paris', '75016', 'France')\n",
      "(57, 'Paris spécialités', 'Marie Bertrand', '265, boulevard Charonne', 'Paris', '75012', 'France')\n",
      "(41, \"La maison d'Asie\", 'Annette Roulet', '1 rue Alsace-Lorraine', 'Toulouse', '31000', 'France')\n",
      "(40, \"La corne d'abondance\", 'Daniel Tonini', \"67, avenue de l'Europe\", 'Versailles', '78000', 'France')\n",
      "(26, 'France restauration', 'Carine Schmitt', '54, rue Royale', 'Nantes', '44000', 'France')\n",
      "(23, 'Folies gourmandes', 'Martine Rancé', '184, chaussée de Tournai', 'Lille', '59000', 'France')\n",
      "(18, 'Du monde entier', 'Janine Labrune', '67, rue des Cinquante Otages', 'Nantes', '44000', 'France')\n",
      "(9, \"Bon app'\", 'Laurence Lebihans', '12, rue des Bouchers', 'Marseille', '13008', 'France')\n",
      "(7, 'Blondel père et fils', 'Frédérique Citeaux', '24, place Kléber', 'Strasbourg', '67000', 'France')\n",
      "(79, 'Toms Spezialitäten', 'Karin Josephs', 'Luisenstr. 48', 'Münster', '44087', 'Germany')\n",
      "(63, 'QUICK-Stop', 'Horst Kloss', 'Taucherstraße 10', 'Cunewalde', '01307', 'Germany')\n",
      "(56, 'Ottilies Käseladen', 'Henriette Pfalzheim', 'Mehrheimerstr. 369', 'Köln', '50739', 'Germany')\n",
      "(52, 'Morgenstern Gesundkost', 'Alexander Feuer', 'Heerstr. 22', 'Leipzig', '04179', 'Germany')\n",
      "(44, 'Lehmanns Marktstand', 'Renate Messner', 'Magazinweg 7', 'Frankfurt a.M. ', '60528', 'Germany')\n",
      "(39, 'Königlich Essen', 'Philip Cramer', 'Maubelstr. 90', 'Brandenburg', '14776', 'Germany')\n",
      "(25, 'Frankenversand', 'Peter Franken', 'Berliner Platz 43', 'München', '80805', 'Germany')\n",
      "(17, 'Drachenblut Delikatessend', 'Sven Ottlieb', 'Walserweg 21', 'Aachen', '52066', 'Germany')\n",
      "(86, 'Die Wandernde Kuh', 'Rita Müller', 'Adenauerallee 900', 'Stuttgart', '70563', 'Germany')\n",
      "(6, 'Blauer See Delikatessen', 'Hanna Moos', 'Forsterstr. 57', 'Mannheim', '68306', 'Germany')\n",
      "(1, 'Alfreds Futterkiste', 'Maria Anders', 'Obere Str. 57', 'Berlin', '12209', 'Germany')\n",
      "(37, 'Hungry Owl All-Night Grocers', 'Patricia McKenna', '8 Johnstown Road', 'Cork', None, 'Ireland')\n",
      "(66, 'Reggiani Caseifici', 'Maurizio Moroni', 'Strada Provinciale 124', 'Reggio Emilia', '42100', 'Italy')\n",
      "(49, 'Magazzini Alimentari Riuniti', 'Giovanni Rovelli', 'Via Ludovico il Moro 22', 'Bergamo', '24100', 'Italy')\n",
      "(27, 'Franchi S.p.A.', 'Paolo Accorti', 'Via Monte Bianco 34', 'Torino', '10100', 'Italy')\n",
      "(80, 'Tortuga Restaurante', 'Miguel Angel Paolino', 'Avda. Azteca 123', 'México D.F.', '05033', 'Mexico')\n",
      "(58, 'Pericles Comidas clásicas', 'Guillermo Fernández', 'Calle Dr. Jorge Cash 321', 'México D.F.', '05033', 'Mexico')\n",
      "(13, 'Centro comercial Moctezuma', 'Francisco Chang', 'Sierras de Granada 9993', 'México D.F.', '05022', 'Mexico')\n",
      "(3, 'Antonio Moreno Taquería', 'Antonio Moreno', 'Mataderos 2312', 'México D.F.', '05023', 'Mexico')\n",
      "(2, 'Ana Trujillo Emparedados y helados', 'Ana Trujillo', 'Avda. de la Constitución 2222', 'México D.F.', '05021', 'Mexico')\n",
      "(70, 'Santé Gourmet', 'Jonas Bergulfsen', 'Erling Skakkes gate 78', 'Stavern', '4110', 'Norway')\n",
      "(60, 'Princesa Isabel Vinhoss', 'Isabel de Castro', 'Estrada da saúde n. 58', 'Lisboa', '1756', 'Portugal')\n",
      "(28, 'Furia Bacalhau e Frutos do Mar', 'Lino Rodriguez ', 'Jardim das rosas n. 32', 'Lisboa', '1675', 'Portugal')\n",
      "(69, 'Romero y tomillo', 'Alejandra Camino', 'Gran Vía, 1', 'Madrid', '28001', 'Spain')\n",
      "(30, 'Godos Cocina Típica', 'José Pedro Freyre', 'C/ Romero, 33', 'Sevilla', '41101', 'Spain')\n",
      "(29, 'Galería del gastrónomo', 'Eduardo Saavedra', 'Rambla de Cataluña, 23', 'Barcelona', '08022', 'Spain')\n",
      "(22, 'FISSA Fabrica Inter. Salchichas S.A.', 'Diego Roel', 'C/ Moralzarzal, 86', 'Madrid', '28034', 'Spain')\n",
      "(8, 'Bólido Comidas preparadas', 'Martín Sommer', 'C/ Araquil, 67', 'Madrid', '28023', 'Spain')\n",
      "(24, 'Folk och fä HB', 'Maria Larsson', 'Åkergatan 24', 'Bräcke', 'S-844 67', 'Sweden')\n",
      "(5, 'Berglunds snabbköp', 'Christina Berglund', 'Berguvsvägen 8', 'Luleå', 'S-958 22', 'Sweden')\n",
      "(68, 'Richter Supermarkt', 'Michael Holz', 'Grenzacherweg 237', 'Genève', '1203', 'Switzerland')\n",
      "(14, 'Chop-suey Chinese', 'Yang Wang', 'Hauptstr. 29', 'Bern', '3012', 'Switzerland')\n",
      "(72, 'Seven Seas Imports', 'Hari Kumar', '90 Wadhurst Rd.', 'London', 'OX15 4NB', 'UK')\n",
      "(53, 'North/South', 'Simon Crowther', 'South House 300 Queensbridge', 'London', 'SW7 1RZ', 'UK')\n",
      "(38, 'Island Trading', 'Helen Bennett', 'Garden House Crowther Way', 'Cowes', 'PO31 7PJ', 'UK')\n",
      "(19, 'Eastern Connection', 'Ann Devon', '35 King George', 'London', 'WX3 6FW', 'UK')\n",
      "(16, 'Consolidated Holdings', 'Elizabeth Brown', 'Berkeley Gardens 12 Brewery ', 'London', 'WX1 6LT', 'UK')\n",
      "(11, \"B's Beverages\", 'Victoria Ashworth', 'Fauntleroy Circus', 'London', 'EC2 5NT', 'UK')\n",
      "(4, 'Around the Horn', 'Thomas Hardy', '120 Hanover Sq.', 'London', 'WA1 1DP', 'UK')\n",
      "(89, 'White Clover Markets', 'Karl Jablonski', '305 - 14th Ave. S. Suite 3B', 'Seattle', '98128', 'USA')\n",
      "(82, \"Trail's Head Gourmet Provisioners\", 'Helvetius Nagy', '722 DaVinci Blvd.', 'Kirkland', '98034', 'USA')\n",
      "(78, 'The Cracker Box', 'Liu Wong', '55 Grizzly Peak Rd.', 'Butte', '59801', 'USA')\n",
      "(77, 'The Big Cheese', 'Liz Nixon', '89 Jefferson Way Suite 2', 'Portland', '97201', 'USA')\n",
      "(75, 'Split Rail Beer & Ale', 'Art Braunschweiger', 'P.O. Box 555', 'Lander', '82520', 'USA')\n",
      "(71, 'Save-a-lot Markets', 'Jose Pavarotti', '187 Suffolk Ln.', 'Boise', '83720', 'USA')\n",
      "(65, 'Rattlesnake Canyon Grocery', 'Paula Wilson', '2817 Milton Dr.', 'Albuquerque', '87110', 'USA')\n",
      "(55, 'Old World Delicatessen', 'Rene Phillips', '2743 Bering St.', 'Anchorage', '99508', 'USA')\n",
      "(48, 'Lonesome Pine Restaurant', 'Fran Wilson', '89 Chiaroscuro Rd.', 'Portland', '97219', 'USA')\n",
      "(45, \"Let's Stop N Shop\", 'Jaime Yorres', '87 Polk St. Suite 5', 'San Francisco', '94117', 'USA')\n",
      "(43, 'Lazy K Kountry Store', 'John Steel', '12 Orchestra Terrace', 'Walla Walla', '99362', 'USA')\n",
      "(36, 'Hungry Coyote Import Store', 'Yoshi Latimer', 'City Center Plaza 516 Main St.', 'Elgin', '97827', 'USA')\n",
      "(32, 'Great Lakes Food Market', 'Howard Snyder', '2732 Baker Blvd.', 'Eugene', '97403', 'USA')\n",
      "(47, 'LINO-Delicateses', 'Felipe Izquierdo', 'Ave. 5 de Mayo Porlamar', 'I. de Margarita', '4980', 'Venezuela')\n",
      "(46, 'LILA-Supermercado', 'Carlos González', 'Carrera 52 con Ave. Bolívar #65-98 Llano Largo', 'Barquisimeto', '3508', 'Venezuela')\n",
      "(35, 'HILARIÓN-Abastos', 'Carlos Hernández', 'Carrera 22 con Ave. Carlos Soublette #8-35', 'San Cristóbal', '5022', 'Venezuela')\n",
      "(33, 'GROSELLA-Restaurante', 'Manuel Pereira', '5ª Ave. Los Palos Grandes', 'Caracas', '1081', 'Venezuela')\n"
     ]
    }
   ],
   "source": [
    "query = \"\"\"\n",
    "SELECT * FROM Customers\n",
    "ORDER BY Country ASC, CustomerName DESC;\n",
    "\n",
    "\"\"\"\n",
    "print_query_result(query)"
   ]
  },
  {
   "cell_type": "markdown",
   "id": "910aac01",
   "metadata": {},
   "source": [
    "## SQL AND Operator"
   ]
  },
  {
   "cell_type": "code",
   "execution_count": 157,
   "id": "58965206",
   "metadata": {},
   "outputs": [
    {
     "name": "stdout",
     "output_type": "stream",
     "text": [
      "(29, 'Galería del gastrónomo', 'Eduardo Saavedra', 'Rambla de Cataluña, 23', 'Barcelona', '08022', 'Spain')\n",
      "(30, 'Godos Cocina Típica', 'José Pedro Freyre', 'C/ Romero, 33', 'Sevilla', '41101', 'Spain')\n"
     ]
    }
   ],
   "source": [
    "query = \"\"\"\n",
    "SELECT *\n",
    "FROM Customers\n",
    "WHERE Country = 'Spain' AND CustomerName LIKE 'G%';\n",
    "\"\"\"\n",
    "print_query_result(query)"
   ]
  },
  {
   "cell_type": "markdown",
   "id": "a6636ab9",
   "metadata": {},
   "source": [
    "## AND -> All Conditions Must Be True"
   ]
  },
  {
   "cell_type": "code",
   "execution_count": 158,
   "id": "576da2a4",
   "metadata": {},
   "outputs": [
    {
     "name": "stdout",
     "output_type": "stream",
     "text": [
      "(1, 'Alfreds Futterkiste', 'Maria Anders', 'Obere Str. 57', 'Berlin', '12209', 'Germany')\n"
     ]
    }
   ],
   "source": [
    "query = \"\"\"\n",
    "SELECT * FROM Customers\n",
    "WHERE Country = 'Germany'\n",
    "AND City = 'Berlin'\n",
    "AND PostalCode > 12000;\n",
    "\"\"\"\n",
    "print_query_result(query)"
   ]
  },
  {
   "cell_type": "markdown",
   "id": "729483d4",
   "metadata": {},
   "source": [
    "## Combining AND and OR"
   ]
  },
  {
   "cell_type": "code",
   "execution_count": 159,
   "id": "7e44c8d2",
   "metadata": {},
   "outputs": [
    {
     "name": "stdout",
     "output_type": "stream",
     "text": [
      "(29, 'Galería del gastrónomo', 'Eduardo Saavedra', 'Rambla de Cataluña, 23', 'Barcelona', '08022', 'Spain')\n",
      "(30, 'Godos Cocina Típica', 'José Pedro Freyre', 'C/ Romero, 33', 'Sevilla', '41101', 'Spain')\n",
      "(69, 'Romero y tomillo', 'Alejandra Camino', 'Gran Vía, 1', 'Madrid', '28001', 'Spain')\n"
     ]
    }
   ],
   "source": [
    "query = \"\"\"\n",
    "SELECT * FROM Customers\n",
    "WHERE Country = 'Spain' AND (CustomerName LIKE 'G%' OR CustomerName LIKE 'R%');\n",
    "\"\"\"\n",
    "print_query_result(query)"
   ]
  },
  {
   "cell_type": "code",
   "execution_count": 160,
   "id": "fb97e8c9",
   "metadata": {},
   "outputs": [
    {
     "name": "stdout",
     "output_type": "stream",
     "text": [
      "(29, 'Galería del gastrónomo', 'Eduardo Saavedra', 'Rambla de Cataluña, 23', 'Barcelona', '08022', 'Spain')\n",
      "(30, 'Godos Cocina Típica', 'José Pedro Freyre', 'C/ Romero, 33', 'Sevilla', '41101', 'Spain')\n",
      "(64, 'Rancho grande', 'Sergio Gutiérrez', 'Av. del Libertador 900', 'Buenos Aires', '1010', 'Argentina')\n",
      "(65, 'Rattlesnake Canyon Grocery', 'Paula Wilson', '2817 Milton Dr.', 'Albuquerque', '87110', 'USA')\n",
      "(66, 'Reggiani Caseifici', 'Maurizio Moroni', 'Strada Provinciale 124', 'Reggio Emilia', '42100', 'Italy')\n",
      "(67, 'Ricardo Adocicados', 'Janete Limeira', 'Av. Copacabana, 267', 'Rio de Janeiro', '02389-890', 'Brazil')\n",
      "(68, 'Richter Supermarkt', 'Michael Holz', 'Grenzacherweg 237', 'Genève', '1203', 'Switzerland')\n",
      "(69, 'Romero y tomillo', 'Alejandra Camino', 'Gran Vía, 1', 'Madrid', '28001', 'Spain')\n"
     ]
    }
   ],
   "source": [
    "query = \"\"\"\n",
    "SELECT * FROM Customers\n",
    "WHERE Country = 'Spain' AND CustomerName LIKE 'G%' OR CustomerName LIKE 'R%';\n",
    "\"\"\"\n",
    "print_query_result(query)"
   ]
  },
  {
   "cell_type": "markdown",
   "id": "393b65ec",
   "metadata": {},
   "source": [
    "## SQL OR Operator"
   ]
  },
  {
   "cell_type": "code",
   "execution_count": 161,
   "id": "ae238005",
   "metadata": {},
   "outputs": [
    {
     "name": "stdout",
     "output_type": "stream",
     "text": [
      "(1, 'Alfreds Futterkiste', 'Maria Anders', 'Obere Str. 57', 'Berlin', '12209', 'Germany')\n",
      "(6, 'Blauer See Delikatessen', 'Hanna Moos', 'Forsterstr. 57', 'Mannheim', '68306', 'Germany')\n",
      "(8, 'Bólido Comidas preparadas', 'Martín Sommer', 'C/ Araquil, 67', 'Madrid', '28023', 'Spain')\n",
      "(17, 'Drachenblut Delikatessend', 'Sven Ottlieb', 'Walserweg 21', 'Aachen', '52066', 'Germany')\n",
      "(22, 'FISSA Fabrica Inter. Salchichas S.A.', 'Diego Roel', 'C/ Moralzarzal, 86', 'Madrid', '28034', 'Spain')\n",
      "(25, 'Frankenversand', 'Peter Franken', 'Berliner Platz 43', 'München', '80805', 'Germany')\n",
      "(29, 'Galería del gastrónomo', 'Eduardo Saavedra', 'Rambla de Cataluña, 23', 'Barcelona', '08022', 'Spain')\n",
      "(30, 'Godos Cocina Típica', 'José Pedro Freyre', 'C/ Romero, 33', 'Sevilla', '41101', 'Spain')\n",
      "(39, 'Königlich Essen', 'Philip Cramer', 'Maubelstr. 90', 'Brandenburg', '14776', 'Germany')\n",
      "(44, 'Lehmanns Marktstand', 'Renate Messner', 'Magazinweg 7', 'Frankfurt a.M. ', '60528', 'Germany')\n",
      "(52, 'Morgenstern Gesundkost', 'Alexander Feuer', 'Heerstr. 22', 'Leipzig', '04179', 'Germany')\n",
      "(56, 'Ottilies Käseladen', 'Henriette Pfalzheim', 'Mehrheimerstr. 369', 'Köln', '50739', 'Germany')\n",
      "(63, 'QUICK-Stop', 'Horst Kloss', 'Taucherstraße 10', 'Cunewalde', '01307', 'Germany')\n",
      "(69, 'Romero y tomillo', 'Alejandra Camino', 'Gran Vía, 1', 'Madrid', '28001', 'Spain')\n",
      "(79, 'Toms Spezialitäten', 'Karin Josephs', 'Luisenstr. 48', 'Münster', '44087', 'Germany')\n",
      "(86, 'Die Wandernde Kuh', 'Rita Müller', 'Adenauerallee 900', 'Stuttgart', '70563', 'Germany')\n"
     ]
    }
   ],
   "source": [
    "query = \"\"\"\n",
    "SELECT *\n",
    "FROM Customers\n",
    "WHERE Country = 'Germany' OR Country = 'Spain';\n",
    "\"\"\"\n",
    "print_query_result(query)"
   ]
  },
  {
   "cell_type": "markdown",
   "id": "9f543345",
   "metadata": {},
   "source": [
    "## At Least One Condition Must Be True\n"
   ]
  },
  {
   "cell_type": "code",
   "execution_count": 162,
   "id": "f62a1ea5",
   "metadata": {},
   "outputs": [
    {
     "name": "stdout",
     "output_type": "stream",
     "text": [
      "(1, 'Alfreds Futterkiste', 'Maria Anders', 'Obere Str. 57', 'Berlin', '12209', 'Germany')\n",
      "(29, 'Galería del gastrónomo', 'Eduardo Saavedra', 'Rambla de Cataluña, 23', 'Barcelona', '08022', 'Spain')\n",
      "(30, 'Godos Cocina Típica', 'José Pedro Freyre', 'C/ Romero, 33', 'Sevilla', '41101', 'Spain')\n",
      "(31, 'Gourmet Lanchonetes', 'André Fonseca', 'Av. Brasil, 442', 'Campinas', '04876-786', 'Brazil')\n",
      "(32, 'Great Lakes Food Market', 'Howard Snyder', '2732 Baker Blvd.', 'Eugene', '97403', 'USA')\n",
      "(33, 'GROSELLA-Restaurante', 'Manuel Pereira', '5ª Ave. Los Palos Grandes', 'Caracas', '1081', 'Venezuela')\n",
      "(70, 'Santé Gourmet', 'Jonas Bergulfsen', 'Erling Skakkes gate 78', 'Stavern', '4110', 'Norway')\n"
     ]
    }
   ],
   "source": [
    "query = \"\"\"\n",
    "SELECT * FROM Customers\n",
    "WHERE City = 'Berlin' OR CustomerName LIKE 'G%' OR Country = 'Norway';\n",
    "\"\"\"\n",
    "print_query_result(query)"
   ]
  },
  {
   "cell_type": "markdown",
   "id": "6a585ada",
   "metadata": {},
   "source": [
    "## Combining AND and OR"
   ]
  },
  {
   "cell_type": "code",
   "execution_count": 163,
   "id": "22289879",
   "metadata": {},
   "outputs": [
    {
     "name": "stdout",
     "output_type": "stream",
     "text": [
      "(29, 'Galería del gastrónomo', 'Eduardo Saavedra', 'Rambla de Cataluña, 23', 'Barcelona', '08022', 'Spain')\n",
      "(30, 'Godos Cocina Típica', 'José Pedro Freyre', 'C/ Romero, 33', 'Sevilla', '41101', 'Spain')\n",
      "(69, 'Romero y tomillo', 'Alejandra Camino', 'Gran Vía, 1', 'Madrid', '28001', 'Spain')\n"
     ]
    }
   ],
   "source": [
    "query = \"\"\"\n",
    "SELECT * FROM Customers\n",
    "WHERE Country = 'Spain' AND (CustomerName LIKE 'G%' OR CustomerName LIKE 'R%');\n",
    "\"\"\"\n",
    "print_query_result(query)"
   ]
  },
  {
   "cell_type": "markdown",
   "id": "04b22c16",
   "metadata": {},
   "source": [
    "## NOT Operator"
   ]
  },
  {
   "cell_type": "code",
   "execution_count": 164,
   "id": "c838fc5d",
   "metadata": {},
   "outputs": [
    {
     "name": "stdout",
     "output_type": "stream",
     "text": [
      "(1, 'Alfreds Futterkiste', 'Maria Anders', 'Obere Str. 57', 'Berlin', '12209', 'Germany')\n",
      "(2, 'Ana Trujillo Emparedados y helados', 'Ana Trujillo', 'Avda. de la Constitución 2222', 'México D.F.', '05021', 'Mexico')\n",
      "(3, 'Antonio Moreno Taquería', 'Antonio Moreno', 'Mataderos 2312', 'México D.F.', '05023', 'Mexico')\n",
      "(4, 'Around the Horn', 'Thomas Hardy', '120 Hanover Sq.', 'London', 'WA1 1DP', 'UK')\n",
      "(5, 'Berglunds snabbköp', 'Christina Berglund', 'Berguvsvägen 8', 'Luleå', 'S-958 22', 'Sweden')\n",
      "(6, 'Blauer See Delikatessen', 'Hanna Moos', 'Forsterstr. 57', 'Mannheim', '68306', 'Germany')\n",
      "(7, 'Blondel père et fils', 'Frédérique Citeaux', '24, place Kléber', 'Strasbourg', '67000', 'France')\n",
      "(9, \"Bon app'\", 'Laurence Lebihans', '12, rue des Bouchers', 'Marseille', '13008', 'France')\n",
      "(10, 'Bottom-Dollar Marketse', 'Elizabeth Lincoln', '23 Tsawassen Blvd.', 'Tsawassen', 'T2F 8M4', 'Canada')\n",
      "(11, \"B's Beverages\", 'Victoria Ashworth', 'Fauntleroy Circus', 'London', 'EC2 5NT', 'UK')\n",
      "(12, 'Cactus Comidas para llevar', 'Patricio Simpson', 'Cerrito 333', 'Buenos Aires', '1010', 'Argentina')\n",
      "(13, 'Centro comercial Moctezuma', 'Francisco Chang', 'Sierras de Granada 9993', 'México D.F.', '05022', 'Mexico')\n",
      "(14, 'Chop-suey Chinese', 'Yang Wang', 'Hauptstr. 29', 'Bern', '3012', 'Switzerland')\n",
      "(15, 'Comércio Mineiro', 'Pedro Afonso', 'Av. dos Lusíadas, 23', 'São Paulo', '05432-043', 'Brazil')\n",
      "(16, 'Consolidated Holdings', 'Elizabeth Brown', 'Berkeley Gardens 12 Brewery ', 'London', 'WX1 6LT', 'UK')\n",
      "(17, 'Drachenblut Delikatessend', 'Sven Ottlieb', 'Walserweg 21', 'Aachen', '52066', 'Germany')\n",
      "(18, 'Du monde entier', 'Janine Labrune', '67, rue des Cinquante Otages', 'Nantes', '44000', 'France')\n",
      "(19, 'Eastern Connection', 'Ann Devon', '35 King George', 'London', 'WX3 6FW', 'UK')\n",
      "(20, 'Ernst Handel', 'Roland Mendel', 'Kirchgasse 6', 'Graz', '8010', 'Austria')\n",
      "(21, 'Familia Arquibaldo', 'Aria Cruz', 'Rua Orós, 92', 'São Paulo', '05442-030', 'Brazil')\n",
      "(23, 'Folies gourmandes', 'Martine Rancé', '184, chaussée de Tournai', 'Lille', '59000', 'France')\n",
      "(24, 'Folk och fä HB', 'Maria Larsson', 'Åkergatan 24', 'Bräcke', 'S-844 67', 'Sweden')\n",
      "(25, 'Frankenversand', 'Peter Franken', 'Berliner Platz 43', 'München', '80805', 'Germany')\n",
      "(26, 'France restauration', 'Carine Schmitt', '54, rue Royale', 'Nantes', '44000', 'France')\n",
      "(27, 'Franchi S.p.A.', 'Paolo Accorti', 'Via Monte Bianco 34', 'Torino', '10100', 'Italy')\n",
      "(28, 'Furia Bacalhau e Frutos do Mar', 'Lino Rodriguez ', 'Jardim das rosas n. 32', 'Lisboa', '1675', 'Portugal')\n",
      "(31, 'Gourmet Lanchonetes', 'André Fonseca', 'Av. Brasil, 442', 'Campinas', '04876-786', 'Brazil')\n",
      "(32, 'Great Lakes Food Market', 'Howard Snyder', '2732 Baker Blvd.', 'Eugene', '97403', 'USA')\n",
      "(33, 'GROSELLA-Restaurante', 'Manuel Pereira', '5ª Ave. Los Palos Grandes', 'Caracas', '1081', 'Venezuela')\n",
      "(34, 'Hanari Carnes', 'Mario Pontes', 'Rua do Paço, 67', 'Rio de Janeiro', '05454-876', 'Brazil')\n",
      "(35, 'HILARIÓN-Abastos', 'Carlos Hernández', 'Carrera 22 con Ave. Carlos Soublette #8-35', 'San Cristóbal', '5022', 'Venezuela')\n",
      "(36, 'Hungry Coyote Import Store', 'Yoshi Latimer', 'City Center Plaza 516 Main St.', 'Elgin', '97827', 'USA')\n",
      "(37, 'Hungry Owl All-Night Grocers', 'Patricia McKenna', '8 Johnstown Road', 'Cork', None, 'Ireland')\n",
      "(38, 'Island Trading', 'Helen Bennett', 'Garden House Crowther Way', 'Cowes', 'PO31 7PJ', 'UK')\n",
      "(39, 'Königlich Essen', 'Philip Cramer', 'Maubelstr. 90', 'Brandenburg', '14776', 'Germany')\n",
      "(40, \"La corne d'abondance\", 'Daniel Tonini', \"67, avenue de l'Europe\", 'Versailles', '78000', 'France')\n",
      "(41, \"La maison d'Asie\", 'Annette Roulet', '1 rue Alsace-Lorraine', 'Toulouse', '31000', 'France')\n",
      "(42, 'Laughing Bacchus Wine Cellars', 'Yoshi Tannamuri', '1900 Oak St.', 'Vancouver', 'V3F 2K1', 'Canada')\n",
      "(43, 'Lazy K Kountry Store', 'John Steel', '12 Orchestra Terrace', 'Walla Walla', '99362', 'USA')\n",
      "(44, 'Lehmanns Marktstand', 'Renate Messner', 'Magazinweg 7', 'Frankfurt a.M. ', '60528', 'Germany')\n",
      "(45, \"Let's Stop N Shop\", 'Jaime Yorres', '87 Polk St. Suite 5', 'San Francisco', '94117', 'USA')\n",
      "(46, 'LILA-Supermercado', 'Carlos González', 'Carrera 52 con Ave. Bolívar #65-98 Llano Largo', 'Barquisimeto', '3508', 'Venezuela')\n",
      "(47, 'LINO-Delicateses', 'Felipe Izquierdo', 'Ave. 5 de Mayo Porlamar', 'I. de Margarita', '4980', 'Venezuela')\n",
      "(48, 'Lonesome Pine Restaurant', 'Fran Wilson', '89 Chiaroscuro Rd.', 'Portland', '97219', 'USA')\n",
      "(49, 'Magazzini Alimentari Riuniti', 'Giovanni Rovelli', 'Via Ludovico il Moro 22', 'Bergamo', '24100', 'Italy')\n",
      "(50, 'Maison Dewey', 'Catherine Dewey', 'Rue Joseph-Bens 532', 'Bruxelles', 'B-1180', 'Belgium')\n",
      "(51, 'Mère Paillarde', 'Jean Fresnière', '43 rue St. Laurent', 'Montréal', 'H1J 1C3', 'Canada')\n",
      "(52, 'Morgenstern Gesundkost', 'Alexander Feuer', 'Heerstr. 22', 'Leipzig', '04179', 'Germany')\n",
      "(53, 'North/South', 'Simon Crowther', 'South House 300 Queensbridge', 'London', 'SW7 1RZ', 'UK')\n",
      "(54, 'Océano Atlántico Ltda.', 'Yvonne Moncada', 'Ing. Gustavo Moncada 8585 Piso 20-A', 'Buenos Aires', '1010', 'Argentina')\n",
      "(55, 'Old World Delicatessen', 'Rene Phillips', '2743 Bering St.', 'Anchorage', '99508', 'USA')\n",
      "(56, 'Ottilies Käseladen', 'Henriette Pfalzheim', 'Mehrheimerstr. 369', 'Köln', '50739', 'Germany')\n",
      "(57, 'Paris spécialités', 'Marie Bertrand', '265, boulevard Charonne', 'Paris', '75012', 'France')\n",
      "(58, 'Pericles Comidas clásicas', 'Guillermo Fernández', 'Calle Dr. Jorge Cash 321', 'México D.F.', '05033', 'Mexico')\n",
      "(59, 'Piccolo und mehr', 'Georg Pipps', 'Geislweg 14', 'Salzburg', '5020', 'Austria')\n",
      "(60, 'Princesa Isabel Vinhoss', 'Isabel de Castro', 'Estrada da saúde n. 58', 'Lisboa', '1756', 'Portugal')\n",
      "(61, 'Que Delícia', 'Bernardo Batista', 'Rua da Panificadora, 12', 'Rio de Janeiro', '02389-673', 'Brazil')\n",
      "(62, 'Queen Cozinha', 'Lúcia Carvalho', 'Alameda dos Canàrios, 891', 'São Paulo', '05487-020', 'Brazil')\n",
      "(63, 'QUICK-Stop', 'Horst Kloss', 'Taucherstraße 10', 'Cunewalde', '01307', 'Germany')\n",
      "(64, 'Rancho grande', 'Sergio Gutiérrez', 'Av. del Libertador 900', 'Buenos Aires', '1010', 'Argentina')\n",
      "(65, 'Rattlesnake Canyon Grocery', 'Paula Wilson', '2817 Milton Dr.', 'Albuquerque', '87110', 'USA')\n",
      "(66, 'Reggiani Caseifici', 'Maurizio Moroni', 'Strada Provinciale 124', 'Reggio Emilia', '42100', 'Italy')\n",
      "(67, 'Ricardo Adocicados', 'Janete Limeira', 'Av. Copacabana, 267', 'Rio de Janeiro', '02389-890', 'Brazil')\n",
      "(68, 'Richter Supermarkt', 'Michael Holz', 'Grenzacherweg 237', 'Genève', '1203', 'Switzerland')\n",
      "(70, 'Santé Gourmet', 'Jonas Bergulfsen', 'Erling Skakkes gate 78', 'Stavern', '4110', 'Norway')\n",
      "(71, 'Save-a-lot Markets', 'Jose Pavarotti', '187 Suffolk Ln.', 'Boise', '83720', 'USA')\n",
      "(72, 'Seven Seas Imports', 'Hari Kumar', '90 Wadhurst Rd.', 'London', 'OX15 4NB', 'UK')\n",
      "(73, 'Simons bistro', 'Jytte Petersen', 'Vinbæltet 34', 'København', '1734', 'Denmark')\n",
      "(74, 'Spécialités du monde', 'Dominique Perrier', '25, rue Lauriston', 'Paris', '75016', 'France')\n",
      "(75, 'Split Rail Beer & Ale', 'Art Braunschweiger', 'P.O. Box 555', 'Lander', '82520', 'USA')\n",
      "(76, 'Suprêmes délices', 'Pascale Cartrain', 'Boulevard Tirou, 255', 'Charleroi', 'B-6000', 'Belgium')\n",
      "(77, 'The Big Cheese', 'Liz Nixon', '89 Jefferson Way Suite 2', 'Portland', '97201', 'USA')\n",
      "(78, 'The Cracker Box', 'Liu Wong', '55 Grizzly Peak Rd.', 'Butte', '59801', 'USA')\n",
      "(79, 'Toms Spezialitäten', 'Karin Josephs', 'Luisenstr. 48', 'Münster', '44087', 'Germany')\n",
      "(80, 'Tortuga Restaurante', 'Miguel Angel Paolino', 'Avda. Azteca 123', 'México D.F.', '05033', 'Mexico')\n",
      "(81, 'Tradição Hipermercados', 'Anabela Domingues', 'Av. Inês de Castro, 414', 'São Paulo', '05634-030', 'Brazil')\n",
      "(82, \"Trail's Head Gourmet Provisioners\", 'Helvetius Nagy', '722 DaVinci Blvd.', 'Kirkland', '98034', 'USA')\n",
      "(83, 'Vaffeljernet', 'Palle Ibsen', 'Smagsløget 45', 'Århus', '8200', 'Denmark')\n",
      "(84, 'Victuailles en stock', 'Mary Saveley', '2, rue du Commerce', 'Lyon', '69004', 'France')\n",
      "(85, 'Vins et alcools Chevalier', 'Paul Henriot', \"59 rue de l'Abbaye\", 'Reims', '51100', 'France')\n",
      "(86, 'Die Wandernde Kuh', 'Rita Müller', 'Adenauerallee 900', 'Stuttgart', '70563', 'Germany')\n",
      "(87, 'Wartian Herkku', 'Pirkko Koskitalo', 'Torikatu 38', 'Oulu', '90110', 'Finland')\n",
      "(88, 'Wellington Importadora', 'Paula Parente', 'Rua do Mercado, 12', 'Resende', '08737-363', 'Brazil')\n",
      "(89, 'White Clover Markets', 'Karl Jablonski', '305 - 14th Ave. S. Suite 3B', 'Seattle', '98128', 'USA')\n",
      "(90, 'Wilman Kala', 'Matti Karttunen', 'Keskuskatu 45', 'Helsinki', '21240', 'Finland')\n"
     ]
    }
   ],
   "source": [
    "query = \"\"\"\n",
    "SELECT * FROM Customers\n",
    "WHERE NOT Country = 'Spain';\n",
    "\"\"\"\n",
    "print_query_result(query)"
   ]
  },
  {
   "cell_type": "markdown",
   "id": "81e87b3a",
   "metadata": {},
   "source": [
    "## NOT LIKE"
   ]
  },
  {
   "cell_type": "code",
   "execution_count": 165,
   "id": "da4bd2ff",
   "metadata": {},
   "outputs": [
    {
     "name": "stdout",
     "output_type": "stream",
     "text": [
      "(5, 'Berglunds snabbköp', 'Christina Berglund', 'Berguvsvägen 8', 'Luleå', 'S-958 22', 'Sweden')\n",
      "(6, 'Blauer See Delikatessen', 'Hanna Moos', 'Forsterstr. 57', 'Mannheim', '68306', 'Germany')\n",
      "(7, 'Blondel père et fils', 'Frédérique Citeaux', '24, place Kléber', 'Strasbourg', '67000', 'France')\n",
      "(8, 'Bólido Comidas preparadas', 'Martín Sommer', 'C/ Araquil, 67', 'Madrid', '28023', 'Spain')\n",
      "(9, \"Bon app'\", 'Laurence Lebihans', '12, rue des Bouchers', 'Marseille', '13008', 'France')\n",
      "(10, 'Bottom-Dollar Marketse', 'Elizabeth Lincoln', '23 Tsawassen Blvd.', 'Tsawassen', 'T2F 8M4', 'Canada')\n",
      "(11, \"B's Beverages\", 'Victoria Ashworth', 'Fauntleroy Circus', 'London', 'EC2 5NT', 'UK')\n",
      "(12, 'Cactus Comidas para llevar', 'Patricio Simpson', 'Cerrito 333', 'Buenos Aires', '1010', 'Argentina')\n",
      "(13, 'Centro comercial Moctezuma', 'Francisco Chang', 'Sierras de Granada 9993', 'México D.F.', '05022', 'Mexico')\n",
      "(14, 'Chop-suey Chinese', 'Yang Wang', 'Hauptstr. 29', 'Bern', '3012', 'Switzerland')\n",
      "(15, 'Comércio Mineiro', 'Pedro Afonso', 'Av. dos Lusíadas, 23', 'São Paulo', '05432-043', 'Brazil')\n",
      "(16, 'Consolidated Holdings', 'Elizabeth Brown', 'Berkeley Gardens 12 Brewery ', 'London', 'WX1 6LT', 'UK')\n",
      "(17, 'Drachenblut Delikatessend', 'Sven Ottlieb', 'Walserweg 21', 'Aachen', '52066', 'Germany')\n",
      "(18, 'Du monde entier', 'Janine Labrune', '67, rue des Cinquante Otages', 'Nantes', '44000', 'France')\n",
      "(19, 'Eastern Connection', 'Ann Devon', '35 King George', 'London', 'WX3 6FW', 'UK')\n",
      "(20, 'Ernst Handel', 'Roland Mendel', 'Kirchgasse 6', 'Graz', '8010', 'Austria')\n",
      "(21, 'Familia Arquibaldo', 'Aria Cruz', 'Rua Orós, 92', 'São Paulo', '05442-030', 'Brazil')\n",
      "(22, 'FISSA Fabrica Inter. Salchichas S.A.', 'Diego Roel', 'C/ Moralzarzal, 86', 'Madrid', '28034', 'Spain')\n",
      "(23, 'Folies gourmandes', 'Martine Rancé', '184, chaussée de Tournai', 'Lille', '59000', 'France')\n",
      "(24, 'Folk och fä HB', 'Maria Larsson', 'Åkergatan 24', 'Bräcke', 'S-844 67', 'Sweden')\n",
      "(25, 'Frankenversand', 'Peter Franken', 'Berliner Platz 43', 'München', '80805', 'Germany')\n",
      "(26, 'France restauration', 'Carine Schmitt', '54, rue Royale', 'Nantes', '44000', 'France')\n",
      "(27, 'Franchi S.p.A.', 'Paolo Accorti', 'Via Monte Bianco 34', 'Torino', '10100', 'Italy')\n",
      "(28, 'Furia Bacalhau e Frutos do Mar', 'Lino Rodriguez ', 'Jardim das rosas n. 32', 'Lisboa', '1675', 'Portugal')\n",
      "(29, 'Galería del gastrónomo', 'Eduardo Saavedra', 'Rambla de Cataluña, 23', 'Barcelona', '08022', 'Spain')\n",
      "(30, 'Godos Cocina Típica', 'José Pedro Freyre', 'C/ Romero, 33', 'Sevilla', '41101', 'Spain')\n",
      "(31, 'Gourmet Lanchonetes', 'André Fonseca', 'Av. Brasil, 442', 'Campinas', '04876-786', 'Brazil')\n",
      "(32, 'Great Lakes Food Market', 'Howard Snyder', '2732 Baker Blvd.', 'Eugene', '97403', 'USA')\n",
      "(33, 'GROSELLA-Restaurante', 'Manuel Pereira', '5ª Ave. Los Palos Grandes', 'Caracas', '1081', 'Venezuela')\n",
      "(34, 'Hanari Carnes', 'Mario Pontes', 'Rua do Paço, 67', 'Rio de Janeiro', '05454-876', 'Brazil')\n",
      "(35, 'HILARIÓN-Abastos', 'Carlos Hernández', 'Carrera 22 con Ave. Carlos Soublette #8-35', 'San Cristóbal', '5022', 'Venezuela')\n",
      "(36, 'Hungry Coyote Import Store', 'Yoshi Latimer', 'City Center Plaza 516 Main St.', 'Elgin', '97827', 'USA')\n",
      "(37, 'Hungry Owl All-Night Grocers', 'Patricia McKenna', '8 Johnstown Road', 'Cork', None, 'Ireland')\n",
      "(38, 'Island Trading', 'Helen Bennett', 'Garden House Crowther Way', 'Cowes', 'PO31 7PJ', 'UK')\n",
      "(39, 'Königlich Essen', 'Philip Cramer', 'Maubelstr. 90', 'Brandenburg', '14776', 'Germany')\n",
      "(40, \"La corne d'abondance\", 'Daniel Tonini', \"67, avenue de l'Europe\", 'Versailles', '78000', 'France')\n",
      "(41, \"La maison d'Asie\", 'Annette Roulet', '1 rue Alsace-Lorraine', 'Toulouse', '31000', 'France')\n",
      "(42, 'Laughing Bacchus Wine Cellars', 'Yoshi Tannamuri', '1900 Oak St.', 'Vancouver', 'V3F 2K1', 'Canada')\n",
      "(43, 'Lazy K Kountry Store', 'John Steel', '12 Orchestra Terrace', 'Walla Walla', '99362', 'USA')\n",
      "(44, 'Lehmanns Marktstand', 'Renate Messner', 'Magazinweg 7', 'Frankfurt a.M. ', '60528', 'Germany')\n",
      "(45, \"Let's Stop N Shop\", 'Jaime Yorres', '87 Polk St. Suite 5', 'San Francisco', '94117', 'USA')\n",
      "(46, 'LILA-Supermercado', 'Carlos González', 'Carrera 52 con Ave. Bolívar #65-98 Llano Largo', 'Barquisimeto', '3508', 'Venezuela')\n",
      "(47, 'LINO-Delicateses', 'Felipe Izquierdo', 'Ave. 5 de Mayo Porlamar', 'I. de Margarita', '4980', 'Venezuela')\n",
      "(48, 'Lonesome Pine Restaurant', 'Fran Wilson', '89 Chiaroscuro Rd.', 'Portland', '97219', 'USA')\n",
      "(49, 'Magazzini Alimentari Riuniti', 'Giovanni Rovelli', 'Via Ludovico il Moro 22', 'Bergamo', '24100', 'Italy')\n",
      "(50, 'Maison Dewey', 'Catherine Dewey', 'Rue Joseph-Bens 532', 'Bruxelles', 'B-1180', 'Belgium')\n",
      "(51, 'Mère Paillarde', 'Jean Fresnière', '43 rue St. Laurent', 'Montréal', 'H1J 1C3', 'Canada')\n",
      "(52, 'Morgenstern Gesundkost', 'Alexander Feuer', 'Heerstr. 22', 'Leipzig', '04179', 'Germany')\n",
      "(53, 'North/South', 'Simon Crowther', 'South House 300 Queensbridge', 'London', 'SW7 1RZ', 'UK')\n",
      "(54, 'Océano Atlántico Ltda.', 'Yvonne Moncada', 'Ing. Gustavo Moncada 8585 Piso 20-A', 'Buenos Aires', '1010', 'Argentina')\n",
      "(55, 'Old World Delicatessen', 'Rene Phillips', '2743 Bering St.', 'Anchorage', '99508', 'USA')\n",
      "(56, 'Ottilies Käseladen', 'Henriette Pfalzheim', 'Mehrheimerstr. 369', 'Köln', '50739', 'Germany')\n",
      "(57, 'Paris spécialités', 'Marie Bertrand', '265, boulevard Charonne', 'Paris', '75012', 'France')\n",
      "(58, 'Pericles Comidas clásicas', 'Guillermo Fernández', 'Calle Dr. Jorge Cash 321', 'México D.F.', '05033', 'Mexico')\n",
      "(59, 'Piccolo und mehr', 'Georg Pipps', 'Geislweg 14', 'Salzburg', '5020', 'Austria')\n",
      "(60, 'Princesa Isabel Vinhoss', 'Isabel de Castro', 'Estrada da saúde n. 58', 'Lisboa', '1756', 'Portugal')\n",
      "(61, 'Que Delícia', 'Bernardo Batista', 'Rua da Panificadora, 12', 'Rio de Janeiro', '02389-673', 'Brazil')\n",
      "(62, 'Queen Cozinha', 'Lúcia Carvalho', 'Alameda dos Canàrios, 891', 'São Paulo', '05487-020', 'Brazil')\n",
      "(63, 'QUICK-Stop', 'Horst Kloss', 'Taucherstraße 10', 'Cunewalde', '01307', 'Germany')\n",
      "(64, 'Rancho grande', 'Sergio Gutiérrez', 'Av. del Libertador 900', 'Buenos Aires', '1010', 'Argentina')\n",
      "(65, 'Rattlesnake Canyon Grocery', 'Paula Wilson', '2817 Milton Dr.', 'Albuquerque', '87110', 'USA')\n",
      "(66, 'Reggiani Caseifici', 'Maurizio Moroni', 'Strada Provinciale 124', 'Reggio Emilia', '42100', 'Italy')\n",
      "(67, 'Ricardo Adocicados', 'Janete Limeira', 'Av. Copacabana, 267', 'Rio de Janeiro', '02389-890', 'Brazil')\n",
      "(68, 'Richter Supermarkt', 'Michael Holz', 'Grenzacherweg 237', 'Genève', '1203', 'Switzerland')\n",
      "(69, 'Romero y tomillo', 'Alejandra Camino', 'Gran Vía, 1', 'Madrid', '28001', 'Spain')\n",
      "(70, 'Santé Gourmet', 'Jonas Bergulfsen', 'Erling Skakkes gate 78', 'Stavern', '4110', 'Norway')\n",
      "(71, 'Save-a-lot Markets', 'Jose Pavarotti', '187 Suffolk Ln.', 'Boise', '83720', 'USA')\n",
      "(72, 'Seven Seas Imports', 'Hari Kumar', '90 Wadhurst Rd.', 'London', 'OX15 4NB', 'UK')\n",
      "(73, 'Simons bistro', 'Jytte Petersen', 'Vinbæltet 34', 'København', '1734', 'Denmark')\n",
      "(74, 'Spécialités du monde', 'Dominique Perrier', '25, rue Lauriston', 'Paris', '75016', 'France')\n",
      "(75, 'Split Rail Beer & Ale', 'Art Braunschweiger', 'P.O. Box 555', 'Lander', '82520', 'USA')\n",
      "(76, 'Suprêmes délices', 'Pascale Cartrain', 'Boulevard Tirou, 255', 'Charleroi', 'B-6000', 'Belgium')\n",
      "(77, 'The Big Cheese', 'Liz Nixon', '89 Jefferson Way Suite 2', 'Portland', '97201', 'USA')\n",
      "(78, 'The Cracker Box', 'Liu Wong', '55 Grizzly Peak Rd.', 'Butte', '59801', 'USA')\n",
      "(79, 'Toms Spezialitäten', 'Karin Josephs', 'Luisenstr. 48', 'Münster', '44087', 'Germany')\n",
      "(80, 'Tortuga Restaurante', 'Miguel Angel Paolino', 'Avda. Azteca 123', 'México D.F.', '05033', 'Mexico')\n",
      "(81, 'Tradição Hipermercados', 'Anabela Domingues', 'Av. Inês de Castro, 414', 'São Paulo', '05634-030', 'Brazil')\n",
      "(82, \"Trail's Head Gourmet Provisioners\", 'Helvetius Nagy', '722 DaVinci Blvd.', 'Kirkland', '98034', 'USA')\n",
      "(83, 'Vaffeljernet', 'Palle Ibsen', 'Smagsløget 45', 'Århus', '8200', 'Denmark')\n",
      "(84, 'Victuailles en stock', 'Mary Saveley', '2, rue du Commerce', 'Lyon', '69004', 'France')\n",
      "(85, 'Vins et alcools Chevalier', 'Paul Henriot', \"59 rue de l'Abbaye\", 'Reims', '51100', 'France')\n",
      "(86, 'Die Wandernde Kuh', 'Rita Müller', 'Adenauerallee 900', 'Stuttgart', '70563', 'Germany')\n",
      "(87, 'Wartian Herkku', 'Pirkko Koskitalo', 'Torikatu 38', 'Oulu', '90110', 'Finland')\n",
      "(88, 'Wellington Importadora', 'Paula Parente', 'Rua do Mercado, 12', 'Resende', '08737-363', 'Brazil')\n",
      "(89, 'White Clover Markets', 'Karl Jablonski', '305 - 14th Ave. S. Suite 3B', 'Seattle', '98128', 'USA')\n",
      "(90, 'Wilman Kala', 'Matti Karttunen', 'Keskuskatu 45', 'Helsinki', '21240', 'Finland')\n",
      "(91, 'Wolski', 'Zbyszek', 'ul. Filtrowa 68', 'Walla', '01-012', None)\n"
     ]
    }
   ],
   "source": [
    "query = \"\"\"\n",
    "SELECT * FROM Customers\n",
    "WHERE CustomerName NOT LIKE 'A%';\n",
    "\"\"\"\n",
    "print_query_result(query)"
   ]
  },
  {
   "cell_type": "markdown",
   "id": "97eca8f6",
   "metadata": {},
   "source": [
    "## NOT BETWEEN"
   ]
  },
  {
   "cell_type": "code",
   "execution_count": 166,
   "id": "9830463f",
   "metadata": {},
   "outputs": [
    {
     "name": "stdout",
     "output_type": "stream",
     "text": [
      "(1, 'Alfreds Futterkiste', 'Maria Anders', 'Obere Str. 57', 'Berlin', '12209', 'Germany')\n",
      "(2, 'Ana Trujillo Emparedados y helados', 'Ana Trujillo', 'Avda. de la Constitución 2222', 'México D.F.', '05021', 'Mexico')\n",
      "(3, 'Antonio Moreno Taquería', 'Antonio Moreno', 'Mataderos 2312', 'México D.F.', '05023', 'Mexico')\n",
      "(4, 'Around the Horn', 'Thomas Hardy', '120 Hanover Sq.', 'London', 'WA1 1DP', 'UK')\n",
      "(5, 'Berglunds snabbköp', 'Christina Berglund', 'Berguvsvägen 8', 'Luleå', 'S-958 22', 'Sweden')\n",
      "(6, 'Blauer See Delikatessen', 'Hanna Moos', 'Forsterstr. 57', 'Mannheim', '68306', 'Germany')\n",
      "(7, 'Blondel père et fils', 'Frédérique Citeaux', '24, place Kléber', 'Strasbourg', '67000', 'France')\n",
      "(8, 'Bólido Comidas preparadas', 'Martín Sommer', 'C/ Araquil, 67', 'Madrid', '28023', 'Spain')\n",
      "(9, \"Bon app'\", 'Laurence Lebihans', '12, rue des Bouchers', 'Marseille', '13008', 'France')\n",
      "(61, 'Que Delícia', 'Bernardo Batista', 'Rua da Panificadora, 12', 'Rio de Janeiro', '02389-673', 'Brazil')\n",
      "(62, 'Queen Cozinha', 'Lúcia Carvalho', 'Alameda dos Canàrios, 891', 'São Paulo', '05487-020', 'Brazil')\n",
      "(63, 'QUICK-Stop', 'Horst Kloss', 'Taucherstraße 10', 'Cunewalde', '01307', 'Germany')\n",
      "(64, 'Rancho grande', 'Sergio Gutiérrez', 'Av. del Libertador 900', 'Buenos Aires', '1010', 'Argentina')\n",
      "(65, 'Rattlesnake Canyon Grocery', 'Paula Wilson', '2817 Milton Dr.', 'Albuquerque', '87110', 'USA')\n",
      "(66, 'Reggiani Caseifici', 'Maurizio Moroni', 'Strada Provinciale 124', 'Reggio Emilia', '42100', 'Italy')\n",
      "(67, 'Ricardo Adocicados', 'Janete Limeira', 'Av. Copacabana, 267', 'Rio de Janeiro', '02389-890', 'Brazil')\n",
      "(68, 'Richter Supermarkt', 'Michael Holz', 'Grenzacherweg 237', 'Genève', '1203', 'Switzerland')\n",
      "(69, 'Romero y tomillo', 'Alejandra Camino', 'Gran Vía, 1', 'Madrid', '28001', 'Spain')\n",
      "(70, 'Santé Gourmet', 'Jonas Bergulfsen', 'Erling Skakkes gate 78', 'Stavern', '4110', 'Norway')\n",
      "(71, 'Save-a-lot Markets', 'Jose Pavarotti', '187 Suffolk Ln.', 'Boise', '83720', 'USA')\n",
      "(72, 'Seven Seas Imports', 'Hari Kumar', '90 Wadhurst Rd.', 'London', 'OX15 4NB', 'UK')\n",
      "(73, 'Simons bistro', 'Jytte Petersen', 'Vinbæltet 34', 'København', '1734', 'Denmark')\n",
      "(74, 'Spécialités du monde', 'Dominique Perrier', '25, rue Lauriston', 'Paris', '75016', 'France')\n",
      "(75, 'Split Rail Beer & Ale', 'Art Braunschweiger', 'P.O. Box 555', 'Lander', '82520', 'USA')\n",
      "(76, 'Suprêmes délices', 'Pascale Cartrain', 'Boulevard Tirou, 255', 'Charleroi', 'B-6000', 'Belgium')\n",
      "(77, 'The Big Cheese', 'Liz Nixon', '89 Jefferson Way Suite 2', 'Portland', '97201', 'USA')\n",
      "(78, 'The Cracker Box', 'Liu Wong', '55 Grizzly Peak Rd.', 'Butte', '59801', 'USA')\n",
      "(79, 'Toms Spezialitäten', 'Karin Josephs', 'Luisenstr. 48', 'Münster', '44087', 'Germany')\n",
      "(80, 'Tortuga Restaurante', 'Miguel Angel Paolino', 'Avda. Azteca 123', 'México D.F.', '05033', 'Mexico')\n",
      "(81, 'Tradição Hipermercados', 'Anabela Domingues', 'Av. Inês de Castro, 414', 'São Paulo', '05634-030', 'Brazil')\n",
      "(82, \"Trail's Head Gourmet Provisioners\", 'Helvetius Nagy', '722 DaVinci Blvd.', 'Kirkland', '98034', 'USA')\n",
      "(83, 'Vaffeljernet', 'Palle Ibsen', 'Smagsløget 45', 'Århus', '8200', 'Denmark')\n",
      "(84, 'Victuailles en stock', 'Mary Saveley', '2, rue du Commerce', 'Lyon', '69004', 'France')\n",
      "(85, 'Vins et alcools Chevalier', 'Paul Henriot', \"59 rue de l'Abbaye\", 'Reims', '51100', 'France')\n",
      "(86, 'Die Wandernde Kuh', 'Rita Müller', 'Adenauerallee 900', 'Stuttgart', '70563', 'Germany')\n",
      "(87, 'Wartian Herkku', 'Pirkko Koskitalo', 'Torikatu 38', 'Oulu', '90110', 'Finland')\n",
      "(88, 'Wellington Importadora', 'Paula Parente', 'Rua do Mercado, 12', 'Resende', '08737-363', 'Brazil')\n",
      "(89, 'White Clover Markets', 'Karl Jablonski', '305 - 14th Ave. S. Suite 3B', 'Seattle', '98128', 'USA')\n",
      "(90, 'Wilman Kala', 'Matti Karttunen', 'Keskuskatu 45', 'Helsinki', '21240', 'Finland')\n",
      "(91, 'Wolski', 'Zbyszek', 'ul. Filtrowa 68', 'Walla', '01-012', None)\n"
     ]
    }
   ],
   "source": [
    "query = \"\"\"\n",
    "SELECT * FROM Customers\n",
    "WHERE CustomerID NOT BETWEEN 10 AND 60;\n",
    "\"\"\"\n",
    "print_query_result(query)"
   ]
  },
  {
   "cell_type": "markdown",
   "id": "19a51983",
   "metadata": {},
   "source": [
    "## NOT IN"
   ]
  },
  {
   "cell_type": "code",
   "execution_count": 167,
   "id": "558ce9da",
   "metadata": {},
   "outputs": [
    {
     "name": "stdout",
     "output_type": "stream",
     "text": [
      "(1, 'Alfreds Futterkiste', 'Maria Anders', 'Obere Str. 57', 'Berlin', '12209', 'Germany')\n",
      "(2, 'Ana Trujillo Emparedados y helados', 'Ana Trujillo', 'Avda. de la Constitución 2222', 'México D.F.', '05021', 'Mexico')\n",
      "(3, 'Antonio Moreno Taquería', 'Antonio Moreno', 'Mataderos 2312', 'México D.F.', '05023', 'Mexico')\n",
      "(5, 'Berglunds snabbköp', 'Christina Berglund', 'Berguvsvägen 8', 'Luleå', 'S-958 22', 'Sweden')\n",
      "(6, 'Blauer See Delikatessen', 'Hanna Moos', 'Forsterstr. 57', 'Mannheim', '68306', 'Germany')\n",
      "(7, 'Blondel père et fils', 'Frédérique Citeaux', '24, place Kléber', 'Strasbourg', '67000', 'France')\n",
      "(8, 'Bólido Comidas preparadas', 'Martín Sommer', 'C/ Araquil, 67', 'Madrid', '28023', 'Spain')\n",
      "(9, \"Bon app'\", 'Laurence Lebihans', '12, rue des Bouchers', 'Marseille', '13008', 'France')\n",
      "(10, 'Bottom-Dollar Marketse', 'Elizabeth Lincoln', '23 Tsawassen Blvd.', 'Tsawassen', 'T2F 8M4', 'Canada')\n",
      "(12, 'Cactus Comidas para llevar', 'Patricio Simpson', 'Cerrito 333', 'Buenos Aires', '1010', 'Argentina')\n",
      "(13, 'Centro comercial Moctezuma', 'Francisco Chang', 'Sierras de Granada 9993', 'México D.F.', '05022', 'Mexico')\n",
      "(14, 'Chop-suey Chinese', 'Yang Wang', 'Hauptstr. 29', 'Bern', '3012', 'Switzerland')\n",
      "(15, 'Comércio Mineiro', 'Pedro Afonso', 'Av. dos Lusíadas, 23', 'São Paulo', '05432-043', 'Brazil')\n",
      "(17, 'Drachenblut Delikatessend', 'Sven Ottlieb', 'Walserweg 21', 'Aachen', '52066', 'Germany')\n",
      "(18, 'Du monde entier', 'Janine Labrune', '67, rue des Cinquante Otages', 'Nantes', '44000', 'France')\n",
      "(20, 'Ernst Handel', 'Roland Mendel', 'Kirchgasse 6', 'Graz', '8010', 'Austria')\n",
      "(21, 'Familia Arquibaldo', 'Aria Cruz', 'Rua Orós, 92', 'São Paulo', '05442-030', 'Brazil')\n",
      "(22, 'FISSA Fabrica Inter. Salchichas S.A.', 'Diego Roel', 'C/ Moralzarzal, 86', 'Madrid', '28034', 'Spain')\n",
      "(23, 'Folies gourmandes', 'Martine Rancé', '184, chaussée de Tournai', 'Lille', '59000', 'France')\n",
      "(24, 'Folk och fä HB', 'Maria Larsson', 'Åkergatan 24', 'Bräcke', 'S-844 67', 'Sweden')\n",
      "(25, 'Frankenversand', 'Peter Franken', 'Berliner Platz 43', 'München', '80805', 'Germany')\n",
      "(26, 'France restauration', 'Carine Schmitt', '54, rue Royale', 'Nantes', '44000', 'France')\n",
      "(27, 'Franchi S.p.A.', 'Paolo Accorti', 'Via Monte Bianco 34', 'Torino', '10100', 'Italy')\n",
      "(28, 'Furia Bacalhau e Frutos do Mar', 'Lino Rodriguez ', 'Jardim das rosas n. 32', 'Lisboa', '1675', 'Portugal')\n",
      "(29, 'Galería del gastrónomo', 'Eduardo Saavedra', 'Rambla de Cataluña, 23', 'Barcelona', '08022', 'Spain')\n",
      "(30, 'Godos Cocina Típica', 'José Pedro Freyre', 'C/ Romero, 33', 'Sevilla', '41101', 'Spain')\n",
      "(31, 'Gourmet Lanchonetes', 'André Fonseca', 'Av. Brasil, 442', 'Campinas', '04876-786', 'Brazil')\n",
      "(32, 'Great Lakes Food Market', 'Howard Snyder', '2732 Baker Blvd.', 'Eugene', '97403', 'USA')\n",
      "(33, 'GROSELLA-Restaurante', 'Manuel Pereira', '5ª Ave. Los Palos Grandes', 'Caracas', '1081', 'Venezuela')\n",
      "(34, 'Hanari Carnes', 'Mario Pontes', 'Rua do Paço, 67', 'Rio de Janeiro', '05454-876', 'Brazil')\n",
      "(35, 'HILARIÓN-Abastos', 'Carlos Hernández', 'Carrera 22 con Ave. Carlos Soublette #8-35', 'San Cristóbal', '5022', 'Venezuela')\n",
      "(36, 'Hungry Coyote Import Store', 'Yoshi Latimer', 'City Center Plaza 516 Main St.', 'Elgin', '97827', 'USA')\n",
      "(37, 'Hungry Owl All-Night Grocers', 'Patricia McKenna', '8 Johnstown Road', 'Cork', None, 'Ireland')\n",
      "(38, 'Island Trading', 'Helen Bennett', 'Garden House Crowther Way', 'Cowes', 'PO31 7PJ', 'UK')\n",
      "(39, 'Königlich Essen', 'Philip Cramer', 'Maubelstr. 90', 'Brandenburg', '14776', 'Germany')\n",
      "(40, \"La corne d'abondance\", 'Daniel Tonini', \"67, avenue de l'Europe\", 'Versailles', '78000', 'France')\n",
      "(41, \"La maison d'Asie\", 'Annette Roulet', '1 rue Alsace-Lorraine', 'Toulouse', '31000', 'France')\n",
      "(42, 'Laughing Bacchus Wine Cellars', 'Yoshi Tannamuri', '1900 Oak St.', 'Vancouver', 'V3F 2K1', 'Canada')\n",
      "(43, 'Lazy K Kountry Store', 'John Steel', '12 Orchestra Terrace', 'Walla Walla', '99362', 'USA')\n",
      "(44, 'Lehmanns Marktstand', 'Renate Messner', 'Magazinweg 7', 'Frankfurt a.M. ', '60528', 'Germany')\n",
      "(45, \"Let's Stop N Shop\", 'Jaime Yorres', '87 Polk St. Suite 5', 'San Francisco', '94117', 'USA')\n",
      "(46, 'LILA-Supermercado', 'Carlos González', 'Carrera 52 con Ave. Bolívar #65-98 Llano Largo', 'Barquisimeto', '3508', 'Venezuela')\n",
      "(47, 'LINO-Delicateses', 'Felipe Izquierdo', 'Ave. 5 de Mayo Porlamar', 'I. de Margarita', '4980', 'Venezuela')\n",
      "(48, 'Lonesome Pine Restaurant', 'Fran Wilson', '89 Chiaroscuro Rd.', 'Portland', '97219', 'USA')\n",
      "(49, 'Magazzini Alimentari Riuniti', 'Giovanni Rovelli', 'Via Ludovico il Moro 22', 'Bergamo', '24100', 'Italy')\n",
      "(50, 'Maison Dewey', 'Catherine Dewey', 'Rue Joseph-Bens 532', 'Bruxelles', 'B-1180', 'Belgium')\n",
      "(51, 'Mère Paillarde', 'Jean Fresnière', '43 rue St. Laurent', 'Montréal', 'H1J 1C3', 'Canada')\n",
      "(52, 'Morgenstern Gesundkost', 'Alexander Feuer', 'Heerstr. 22', 'Leipzig', '04179', 'Germany')\n",
      "(54, 'Océano Atlántico Ltda.', 'Yvonne Moncada', 'Ing. Gustavo Moncada 8585 Piso 20-A', 'Buenos Aires', '1010', 'Argentina')\n",
      "(55, 'Old World Delicatessen', 'Rene Phillips', '2743 Bering St.', 'Anchorage', '99508', 'USA')\n",
      "(56, 'Ottilies Käseladen', 'Henriette Pfalzheim', 'Mehrheimerstr. 369', 'Köln', '50739', 'Germany')\n",
      "(58, 'Pericles Comidas clásicas', 'Guillermo Fernández', 'Calle Dr. Jorge Cash 321', 'México D.F.', '05033', 'Mexico')\n",
      "(59, 'Piccolo und mehr', 'Georg Pipps', 'Geislweg 14', 'Salzburg', '5020', 'Austria')\n",
      "(60, 'Princesa Isabel Vinhoss', 'Isabel de Castro', 'Estrada da saúde n. 58', 'Lisboa', '1756', 'Portugal')\n",
      "(61, 'Que Delícia', 'Bernardo Batista', 'Rua da Panificadora, 12', 'Rio de Janeiro', '02389-673', 'Brazil')\n",
      "(62, 'Queen Cozinha', 'Lúcia Carvalho', 'Alameda dos Canàrios, 891', 'São Paulo', '05487-020', 'Brazil')\n",
      "(63, 'QUICK-Stop', 'Horst Kloss', 'Taucherstraße 10', 'Cunewalde', '01307', 'Germany')\n",
      "(64, 'Rancho grande', 'Sergio Gutiérrez', 'Av. del Libertador 900', 'Buenos Aires', '1010', 'Argentina')\n",
      "(65, 'Rattlesnake Canyon Grocery', 'Paula Wilson', '2817 Milton Dr.', 'Albuquerque', '87110', 'USA')\n",
      "(66, 'Reggiani Caseifici', 'Maurizio Moroni', 'Strada Provinciale 124', 'Reggio Emilia', '42100', 'Italy')\n",
      "(67, 'Ricardo Adocicados', 'Janete Limeira', 'Av. Copacabana, 267', 'Rio de Janeiro', '02389-890', 'Brazil')\n",
      "(68, 'Richter Supermarkt', 'Michael Holz', 'Grenzacherweg 237', 'Genève', '1203', 'Switzerland')\n",
      "(69, 'Romero y tomillo', 'Alejandra Camino', 'Gran Vía, 1', 'Madrid', '28001', 'Spain')\n",
      "(70, 'Santé Gourmet', 'Jonas Bergulfsen', 'Erling Skakkes gate 78', 'Stavern', '4110', 'Norway')\n",
      "(71, 'Save-a-lot Markets', 'Jose Pavarotti', '187 Suffolk Ln.', 'Boise', '83720', 'USA')\n",
      "(73, 'Simons bistro', 'Jytte Petersen', 'Vinbæltet 34', 'København', '1734', 'Denmark')\n",
      "(75, 'Split Rail Beer & Ale', 'Art Braunschweiger', 'P.O. Box 555', 'Lander', '82520', 'USA')\n",
      "(76, 'Suprêmes délices', 'Pascale Cartrain', 'Boulevard Tirou, 255', 'Charleroi', 'B-6000', 'Belgium')\n",
      "(77, 'The Big Cheese', 'Liz Nixon', '89 Jefferson Way Suite 2', 'Portland', '97201', 'USA')\n",
      "(78, 'The Cracker Box', 'Liu Wong', '55 Grizzly Peak Rd.', 'Butte', '59801', 'USA')\n",
      "(79, 'Toms Spezialitäten', 'Karin Josephs', 'Luisenstr. 48', 'Münster', '44087', 'Germany')\n",
      "(80, 'Tortuga Restaurante', 'Miguel Angel Paolino', 'Avda. Azteca 123', 'México D.F.', '05033', 'Mexico')\n",
      "(81, 'Tradição Hipermercados', 'Anabela Domingues', 'Av. Inês de Castro, 414', 'São Paulo', '05634-030', 'Brazil')\n",
      "(82, \"Trail's Head Gourmet Provisioners\", 'Helvetius Nagy', '722 DaVinci Blvd.', 'Kirkland', '98034', 'USA')\n",
      "(83, 'Vaffeljernet', 'Palle Ibsen', 'Smagsløget 45', 'Århus', '8200', 'Denmark')\n",
      "(84, 'Victuailles en stock', 'Mary Saveley', '2, rue du Commerce', 'Lyon', '69004', 'France')\n",
      "(85, 'Vins et alcools Chevalier', 'Paul Henriot', \"59 rue de l'Abbaye\", 'Reims', '51100', 'France')\n",
      "(86, 'Die Wandernde Kuh', 'Rita Müller', 'Adenauerallee 900', 'Stuttgart', '70563', 'Germany')\n",
      "(87, 'Wartian Herkku', 'Pirkko Koskitalo', 'Torikatu 38', 'Oulu', '90110', 'Finland')\n",
      "(88, 'Wellington Importadora', 'Paula Parente', 'Rua do Mercado, 12', 'Resende', '08737-363', 'Brazil')\n",
      "(89, 'White Clover Markets', 'Karl Jablonski', '305 - 14th Ave. S. Suite 3B', 'Seattle', '98128', 'USA')\n",
      "(90, 'Wilman Kala', 'Matti Karttunen', 'Keskuskatu 45', 'Helsinki', '21240', 'Finland')\n",
      "(91, 'Wolski', 'Zbyszek', 'ul. Filtrowa 68', 'Walla', '01-012', None)\n"
     ]
    }
   ],
   "source": [
    "query = \"\"\"\n",
    "SELECT * FROM Customers\n",
    "WHERE City NOT IN ('Paris', 'London');\n",
    "\"\"\"\n",
    "print_query_result(query)"
   ]
  },
  {
   "cell_type": "markdown",
   "id": "6cf9a404",
   "metadata": {},
   "source": [
    "## NOT Greater Than"
   ]
  },
  {
   "cell_type": "code",
   "execution_count": 168,
   "id": "de843d62",
   "metadata": {},
   "outputs": [
    {
     "name": "stdout",
     "output_type": "stream",
     "text": [
      "(1, 'Alfreds Futterkiste', 'Maria Anders', 'Obere Str. 57', 'Berlin', '12209', 'Germany')\n",
      "(2, 'Ana Trujillo Emparedados y helados', 'Ana Trujillo', 'Avda. de la Constitución 2222', 'México D.F.', '05021', 'Mexico')\n",
      "(3, 'Antonio Moreno Taquería', 'Antonio Moreno', 'Mataderos 2312', 'México D.F.', '05023', 'Mexico')\n",
      "(4, 'Around the Horn', 'Thomas Hardy', '120 Hanover Sq.', 'London', 'WA1 1DP', 'UK')\n",
      "(5, 'Berglunds snabbköp', 'Christina Berglund', 'Berguvsvägen 8', 'Luleå', 'S-958 22', 'Sweden')\n",
      "(6, 'Blauer See Delikatessen', 'Hanna Moos', 'Forsterstr. 57', 'Mannheim', '68306', 'Germany')\n",
      "(7, 'Blondel père et fils', 'Frédérique Citeaux', '24, place Kléber', 'Strasbourg', '67000', 'France')\n",
      "(8, 'Bólido Comidas preparadas', 'Martín Sommer', 'C/ Araquil, 67', 'Madrid', '28023', 'Spain')\n",
      "(9, \"Bon app'\", 'Laurence Lebihans', '12, rue des Bouchers', 'Marseille', '13008', 'France')\n",
      "(10, 'Bottom-Dollar Marketse', 'Elizabeth Lincoln', '23 Tsawassen Blvd.', 'Tsawassen', 'T2F 8M4', 'Canada')\n",
      "(11, \"B's Beverages\", 'Victoria Ashworth', 'Fauntleroy Circus', 'London', 'EC2 5NT', 'UK')\n",
      "(12, 'Cactus Comidas para llevar', 'Patricio Simpson', 'Cerrito 333', 'Buenos Aires', '1010', 'Argentina')\n",
      "(13, 'Centro comercial Moctezuma', 'Francisco Chang', 'Sierras de Granada 9993', 'México D.F.', '05022', 'Mexico')\n",
      "(14, 'Chop-suey Chinese', 'Yang Wang', 'Hauptstr. 29', 'Bern', '3012', 'Switzerland')\n",
      "(15, 'Comércio Mineiro', 'Pedro Afonso', 'Av. dos Lusíadas, 23', 'São Paulo', '05432-043', 'Brazil')\n",
      "(16, 'Consolidated Holdings', 'Elizabeth Brown', 'Berkeley Gardens 12 Brewery ', 'London', 'WX1 6LT', 'UK')\n",
      "(17, 'Drachenblut Delikatessend', 'Sven Ottlieb', 'Walserweg 21', 'Aachen', '52066', 'Germany')\n",
      "(18, 'Du monde entier', 'Janine Labrune', '67, rue des Cinquante Otages', 'Nantes', '44000', 'France')\n",
      "(19, 'Eastern Connection', 'Ann Devon', '35 King George', 'London', 'WX3 6FW', 'UK')\n",
      "(20, 'Ernst Handel', 'Roland Mendel', 'Kirchgasse 6', 'Graz', '8010', 'Austria')\n",
      "(21, 'Familia Arquibaldo', 'Aria Cruz', 'Rua Orós, 92', 'São Paulo', '05442-030', 'Brazil')\n",
      "(22, 'FISSA Fabrica Inter. Salchichas S.A.', 'Diego Roel', 'C/ Moralzarzal, 86', 'Madrid', '28034', 'Spain')\n",
      "(23, 'Folies gourmandes', 'Martine Rancé', '184, chaussée de Tournai', 'Lille', '59000', 'France')\n",
      "(24, 'Folk och fä HB', 'Maria Larsson', 'Åkergatan 24', 'Bräcke', 'S-844 67', 'Sweden')\n",
      "(25, 'Frankenversand', 'Peter Franken', 'Berliner Platz 43', 'München', '80805', 'Germany')\n",
      "(26, 'France restauration', 'Carine Schmitt', '54, rue Royale', 'Nantes', '44000', 'France')\n",
      "(27, 'Franchi S.p.A.', 'Paolo Accorti', 'Via Monte Bianco 34', 'Torino', '10100', 'Italy')\n",
      "(28, 'Furia Bacalhau e Frutos do Mar', 'Lino Rodriguez ', 'Jardim das rosas n. 32', 'Lisboa', '1675', 'Portugal')\n",
      "(29, 'Galería del gastrónomo', 'Eduardo Saavedra', 'Rambla de Cataluña, 23', 'Barcelona', '08022', 'Spain')\n",
      "(30, 'Godos Cocina Típica', 'José Pedro Freyre', 'C/ Romero, 33', 'Sevilla', '41101', 'Spain')\n",
      "(31, 'Gourmet Lanchonetes', 'André Fonseca', 'Av. Brasil, 442', 'Campinas', '04876-786', 'Brazil')\n",
      "(32, 'Great Lakes Food Market', 'Howard Snyder', '2732 Baker Blvd.', 'Eugene', '97403', 'USA')\n",
      "(33, 'GROSELLA-Restaurante', 'Manuel Pereira', '5ª Ave. Los Palos Grandes', 'Caracas', '1081', 'Venezuela')\n",
      "(34, 'Hanari Carnes', 'Mario Pontes', 'Rua do Paço, 67', 'Rio de Janeiro', '05454-876', 'Brazil')\n",
      "(35, 'HILARIÓN-Abastos', 'Carlos Hernández', 'Carrera 22 con Ave. Carlos Soublette #8-35', 'San Cristóbal', '5022', 'Venezuela')\n",
      "(36, 'Hungry Coyote Import Store', 'Yoshi Latimer', 'City Center Plaza 516 Main St.', 'Elgin', '97827', 'USA')\n",
      "(37, 'Hungry Owl All-Night Grocers', 'Patricia McKenna', '8 Johnstown Road', 'Cork', None, 'Ireland')\n",
      "(38, 'Island Trading', 'Helen Bennett', 'Garden House Crowther Way', 'Cowes', 'PO31 7PJ', 'UK')\n",
      "(39, 'Königlich Essen', 'Philip Cramer', 'Maubelstr. 90', 'Brandenburg', '14776', 'Germany')\n",
      "(40, \"La corne d'abondance\", 'Daniel Tonini', \"67, avenue de l'Europe\", 'Versailles', '78000', 'France')\n",
      "(41, \"La maison d'Asie\", 'Annette Roulet', '1 rue Alsace-Lorraine', 'Toulouse', '31000', 'France')\n",
      "(42, 'Laughing Bacchus Wine Cellars', 'Yoshi Tannamuri', '1900 Oak St.', 'Vancouver', 'V3F 2K1', 'Canada')\n",
      "(43, 'Lazy K Kountry Store', 'John Steel', '12 Orchestra Terrace', 'Walla Walla', '99362', 'USA')\n",
      "(44, 'Lehmanns Marktstand', 'Renate Messner', 'Magazinweg 7', 'Frankfurt a.M. ', '60528', 'Germany')\n",
      "(45, \"Let's Stop N Shop\", 'Jaime Yorres', '87 Polk St. Suite 5', 'San Francisco', '94117', 'USA')\n",
      "(46, 'LILA-Supermercado', 'Carlos González', 'Carrera 52 con Ave. Bolívar #65-98 Llano Largo', 'Barquisimeto', '3508', 'Venezuela')\n",
      "(47, 'LINO-Delicateses', 'Felipe Izquierdo', 'Ave. 5 de Mayo Porlamar', 'I. de Margarita', '4980', 'Venezuela')\n",
      "(48, 'Lonesome Pine Restaurant', 'Fran Wilson', '89 Chiaroscuro Rd.', 'Portland', '97219', 'USA')\n",
      "(49, 'Magazzini Alimentari Riuniti', 'Giovanni Rovelli', 'Via Ludovico il Moro 22', 'Bergamo', '24100', 'Italy')\n",
      "(50, 'Maison Dewey', 'Catherine Dewey', 'Rue Joseph-Bens 532', 'Bruxelles', 'B-1180', 'Belgium')\n"
     ]
    }
   ],
   "source": [
    "query = \"\"\"\n",
    "SELECT * FROM Customers\n",
    "WHERE NOT CustomerID > 50;\n",
    "\"\"\"\n",
    "print_query_result(query)"
   ]
  },
  {
   "cell_type": "markdown",
   "id": "f89e4b28",
   "metadata": {},
   "source": [
    "## NOT Less Than"
   ]
  },
  {
   "cell_type": "code",
   "execution_count": 169,
   "id": "527ae803",
   "metadata": {},
   "outputs": [
    {
     "name": "stdout",
     "output_type": "stream",
     "text": [
      "(50, 'Maison Dewey', 'Catherine Dewey', 'Rue Joseph-Bens 532', 'Bruxelles', 'B-1180', 'Belgium')\n",
      "(51, 'Mère Paillarde', 'Jean Fresnière', '43 rue St. Laurent', 'Montréal', 'H1J 1C3', 'Canada')\n",
      "(52, 'Morgenstern Gesundkost', 'Alexander Feuer', 'Heerstr. 22', 'Leipzig', '04179', 'Germany')\n",
      "(53, 'North/South', 'Simon Crowther', 'South House 300 Queensbridge', 'London', 'SW7 1RZ', 'UK')\n",
      "(54, 'Océano Atlántico Ltda.', 'Yvonne Moncada', 'Ing. Gustavo Moncada 8585 Piso 20-A', 'Buenos Aires', '1010', 'Argentina')\n",
      "(55, 'Old World Delicatessen', 'Rene Phillips', '2743 Bering St.', 'Anchorage', '99508', 'USA')\n",
      "(56, 'Ottilies Käseladen', 'Henriette Pfalzheim', 'Mehrheimerstr. 369', 'Köln', '50739', 'Germany')\n",
      "(57, 'Paris spécialités', 'Marie Bertrand', '265, boulevard Charonne', 'Paris', '75012', 'France')\n",
      "(58, 'Pericles Comidas clásicas', 'Guillermo Fernández', 'Calle Dr. Jorge Cash 321', 'México D.F.', '05033', 'Mexico')\n",
      "(59, 'Piccolo und mehr', 'Georg Pipps', 'Geislweg 14', 'Salzburg', '5020', 'Austria')\n",
      "(60, 'Princesa Isabel Vinhoss', 'Isabel de Castro', 'Estrada da saúde n. 58', 'Lisboa', '1756', 'Portugal')\n",
      "(61, 'Que Delícia', 'Bernardo Batista', 'Rua da Panificadora, 12', 'Rio de Janeiro', '02389-673', 'Brazil')\n",
      "(62, 'Queen Cozinha', 'Lúcia Carvalho', 'Alameda dos Canàrios, 891', 'São Paulo', '05487-020', 'Brazil')\n",
      "(63, 'QUICK-Stop', 'Horst Kloss', 'Taucherstraße 10', 'Cunewalde', '01307', 'Germany')\n",
      "(64, 'Rancho grande', 'Sergio Gutiérrez', 'Av. del Libertador 900', 'Buenos Aires', '1010', 'Argentina')\n",
      "(65, 'Rattlesnake Canyon Grocery', 'Paula Wilson', '2817 Milton Dr.', 'Albuquerque', '87110', 'USA')\n",
      "(66, 'Reggiani Caseifici', 'Maurizio Moroni', 'Strada Provinciale 124', 'Reggio Emilia', '42100', 'Italy')\n",
      "(67, 'Ricardo Adocicados', 'Janete Limeira', 'Av. Copacabana, 267', 'Rio de Janeiro', '02389-890', 'Brazil')\n",
      "(68, 'Richter Supermarkt', 'Michael Holz', 'Grenzacherweg 237', 'Genève', '1203', 'Switzerland')\n",
      "(69, 'Romero y tomillo', 'Alejandra Camino', 'Gran Vía, 1', 'Madrid', '28001', 'Spain')\n",
      "(70, 'Santé Gourmet', 'Jonas Bergulfsen', 'Erling Skakkes gate 78', 'Stavern', '4110', 'Norway')\n",
      "(71, 'Save-a-lot Markets', 'Jose Pavarotti', '187 Suffolk Ln.', 'Boise', '83720', 'USA')\n",
      "(72, 'Seven Seas Imports', 'Hari Kumar', '90 Wadhurst Rd.', 'London', 'OX15 4NB', 'UK')\n",
      "(73, 'Simons bistro', 'Jytte Petersen', 'Vinbæltet 34', 'København', '1734', 'Denmark')\n",
      "(74, 'Spécialités du monde', 'Dominique Perrier', '25, rue Lauriston', 'Paris', '75016', 'France')\n",
      "(75, 'Split Rail Beer & Ale', 'Art Braunschweiger', 'P.O. Box 555', 'Lander', '82520', 'USA')\n",
      "(76, 'Suprêmes délices', 'Pascale Cartrain', 'Boulevard Tirou, 255', 'Charleroi', 'B-6000', 'Belgium')\n",
      "(77, 'The Big Cheese', 'Liz Nixon', '89 Jefferson Way Suite 2', 'Portland', '97201', 'USA')\n",
      "(78, 'The Cracker Box', 'Liu Wong', '55 Grizzly Peak Rd.', 'Butte', '59801', 'USA')\n",
      "(79, 'Toms Spezialitäten', 'Karin Josephs', 'Luisenstr. 48', 'Münster', '44087', 'Germany')\n",
      "(80, 'Tortuga Restaurante', 'Miguel Angel Paolino', 'Avda. Azteca 123', 'México D.F.', '05033', 'Mexico')\n",
      "(81, 'Tradição Hipermercados', 'Anabela Domingues', 'Av. Inês de Castro, 414', 'São Paulo', '05634-030', 'Brazil')\n",
      "(82, \"Trail's Head Gourmet Provisioners\", 'Helvetius Nagy', '722 DaVinci Blvd.', 'Kirkland', '98034', 'USA')\n",
      "(83, 'Vaffeljernet', 'Palle Ibsen', 'Smagsløget 45', 'Århus', '8200', 'Denmark')\n",
      "(84, 'Victuailles en stock', 'Mary Saveley', '2, rue du Commerce', 'Lyon', '69004', 'France')\n",
      "(85, 'Vins et alcools Chevalier', 'Paul Henriot', \"59 rue de l'Abbaye\", 'Reims', '51100', 'France')\n",
      "(86, 'Die Wandernde Kuh', 'Rita Müller', 'Adenauerallee 900', 'Stuttgart', '70563', 'Germany')\n",
      "(87, 'Wartian Herkku', 'Pirkko Koskitalo', 'Torikatu 38', 'Oulu', '90110', 'Finland')\n",
      "(88, 'Wellington Importadora', 'Paula Parente', 'Rua do Mercado, 12', 'Resende', '08737-363', 'Brazil')\n",
      "(89, 'White Clover Markets', 'Karl Jablonski', '305 - 14th Ave. S. Suite 3B', 'Seattle', '98128', 'USA')\n",
      "(90, 'Wilman Kala', 'Matti Karttunen', 'Keskuskatu 45', 'Helsinki', '21240', 'Finland')\n",
      "(91, 'Wolski', 'Zbyszek', 'ul. Filtrowa 68', 'Walla', '01-012', None)\n"
     ]
    }
   ],
   "source": [
    "query = \"\"\"\n",
    "SELECT * FROM Customers\n",
    "WHERE NOT CustomerId < 50;\n",
    "\"\"\"\n",
    "print_query_result(query)"
   ]
  },
  {
   "cell_type": "markdown",
   "id": "7c1e3d9f",
   "metadata": {},
   "source": [
    "## SQL INSERT INTO Statement"
   ]
  },
  {
   "cell_type": "code",
   "execution_count": 170,
   "id": "28eb307d",
   "metadata": {},
   "outputs": [],
   "source": [
    "query = \"\"\"\n",
    "INSERT INTO Customers (CustomerName, ContactName, Address, City, PostalCode, Country)\n",
    "VALUES ('Cardinal', 'Tom B. Erichsen', 'Skagen 21', 'Stavanger', '4006', 'Norway');\n",
    "\"\"\"\n",
    "print_query_result(query)"
   ]
  },
  {
   "cell_type": "markdown",
   "id": "b17a3c81",
   "metadata": {},
   "source": [
    "## Insert Data Only in Specified Columns"
   ]
  },
  {
   "cell_type": "code",
   "execution_count": 171,
   "id": "36746df4",
   "metadata": {},
   "outputs": [],
   "source": [
    "query = \"\"\"\n",
    "INSERT INTO Customers (CustomerName, City, Country)\n",
    "VALUES ('Cardinal', 'Stavanger', 'Norway');\n",
    "\"\"\"\n",
    "print_query_result(query)"
   ]
  },
  {
   "cell_type": "markdown",
   "id": "5e7e8f06",
   "metadata": {},
   "source": [
    "## Insert Multiple Rows"
   ]
  },
  {
   "cell_type": "code",
   "execution_count": 172,
   "id": "eea48ec6",
   "metadata": {},
   "outputs": [],
   "source": [
    "query = \"\"\"\n",
    "INSERT INTO Customers (CustomerName, ContactName, Address, City, PostalCode, Country)\n",
    "VALUES\n",
    "('Cardinal', 'Tom B. Erichsen', 'Skagen 21', 'Stavanger', '4006', 'Norway'),\n",
    "('Greasy Burger', 'Per Olsen', 'Gateveien 15', 'Sandnes', '4306', 'Norway'),\n",
    "('Tasty Tee', 'Finn Egan', 'Streetroad 19B', 'Liverpool', 'L1 0AA', 'UK');\n",
    "\"\"\"\n",
    "print_query_result(query)"
   ]
  },
  {
   "cell_type": "markdown",
   "id": "36b38a20",
   "metadata": {},
   "source": [
    "## SQL NULL Values\n",
    "## IS NULL"
   ]
  },
  {
   "cell_type": "code",
   "execution_count": 173,
   "id": "4f249efb",
   "metadata": {},
   "outputs": [
    {
     "name": "stdout",
     "output_type": "stream",
     "text": [
      "('Cardinal', None, None)\n"
     ]
    }
   ],
   "source": [
    "query = \"\"\"\n",
    "SELECT CustomerName, ContactName, Address\n",
    "FROM Customers\n",
    "WHERE Address IS NULL;\n",
    "\"\"\"\n",
    "print_query_result(query)"
   ]
  },
  {
   "cell_type": "markdown",
   "id": "fac96516",
   "metadata": {},
   "source": [
    "## IS NOT NULL Operator"
   ]
  },
  {
   "cell_type": "code",
   "execution_count": 174,
   "id": "9191d35c",
   "metadata": {},
   "outputs": [
    {
     "name": "stdout",
     "output_type": "stream",
     "text": [
      "('Alfreds Futterkiste', 'Maria Anders', 'Obere Str. 57')\n",
      "('Ana Trujillo Emparedados y helados', 'Ana Trujillo', 'Avda. de la Constitución 2222')\n",
      "('Antonio Moreno Taquería', 'Antonio Moreno', 'Mataderos 2312')\n",
      "('Around the Horn', 'Thomas Hardy', '120 Hanover Sq.')\n",
      "('Berglunds snabbköp', 'Christina Berglund', 'Berguvsvägen 8')\n",
      "('Blauer See Delikatessen', 'Hanna Moos', 'Forsterstr. 57')\n",
      "('Blondel père et fils', 'Frédérique Citeaux', '24, place Kléber')\n",
      "('Bólido Comidas preparadas', 'Martín Sommer', 'C/ Araquil, 67')\n",
      "(\"Bon app'\", 'Laurence Lebihans', '12, rue des Bouchers')\n",
      "('Bottom-Dollar Marketse', 'Elizabeth Lincoln', '23 Tsawassen Blvd.')\n",
      "(\"B's Beverages\", 'Victoria Ashworth', 'Fauntleroy Circus')\n",
      "('Cactus Comidas para llevar', 'Patricio Simpson', 'Cerrito 333')\n",
      "('Centro comercial Moctezuma', 'Francisco Chang', 'Sierras de Granada 9993')\n",
      "('Chop-suey Chinese', 'Yang Wang', 'Hauptstr. 29')\n",
      "('Comércio Mineiro', 'Pedro Afonso', 'Av. dos Lusíadas, 23')\n",
      "('Consolidated Holdings', 'Elizabeth Brown', 'Berkeley Gardens 12 Brewery ')\n",
      "('Drachenblut Delikatessend', 'Sven Ottlieb', 'Walserweg 21')\n",
      "('Du monde entier', 'Janine Labrune', '67, rue des Cinquante Otages')\n",
      "('Eastern Connection', 'Ann Devon', '35 King George')\n",
      "('Ernst Handel', 'Roland Mendel', 'Kirchgasse 6')\n",
      "('Familia Arquibaldo', 'Aria Cruz', 'Rua Orós, 92')\n",
      "('FISSA Fabrica Inter. Salchichas S.A.', 'Diego Roel', 'C/ Moralzarzal, 86')\n",
      "('Folies gourmandes', 'Martine Rancé', '184, chaussée de Tournai')\n",
      "('Folk och fä HB', 'Maria Larsson', 'Åkergatan 24')\n",
      "('Frankenversand', 'Peter Franken', 'Berliner Platz 43')\n",
      "('France restauration', 'Carine Schmitt', '54, rue Royale')\n",
      "('Franchi S.p.A.', 'Paolo Accorti', 'Via Monte Bianco 34')\n",
      "('Furia Bacalhau e Frutos do Mar', 'Lino Rodriguez ', 'Jardim das rosas n. 32')\n",
      "('Galería del gastrónomo', 'Eduardo Saavedra', 'Rambla de Cataluña, 23')\n",
      "('Godos Cocina Típica', 'José Pedro Freyre', 'C/ Romero, 33')\n",
      "('Gourmet Lanchonetes', 'André Fonseca', 'Av. Brasil, 442')\n",
      "('Great Lakes Food Market', 'Howard Snyder', '2732 Baker Blvd.')\n",
      "('GROSELLA-Restaurante', 'Manuel Pereira', '5ª Ave. Los Palos Grandes')\n",
      "('Hanari Carnes', 'Mario Pontes', 'Rua do Paço, 67')\n",
      "('HILARIÓN-Abastos', 'Carlos Hernández', 'Carrera 22 con Ave. Carlos Soublette #8-35')\n",
      "('Hungry Coyote Import Store', 'Yoshi Latimer', 'City Center Plaza 516 Main St.')\n",
      "('Hungry Owl All-Night Grocers', 'Patricia McKenna', '8 Johnstown Road')\n",
      "('Island Trading', 'Helen Bennett', 'Garden House Crowther Way')\n",
      "('Königlich Essen', 'Philip Cramer', 'Maubelstr. 90')\n",
      "(\"La corne d'abondance\", 'Daniel Tonini', \"67, avenue de l'Europe\")\n",
      "(\"La maison d'Asie\", 'Annette Roulet', '1 rue Alsace-Lorraine')\n",
      "('Laughing Bacchus Wine Cellars', 'Yoshi Tannamuri', '1900 Oak St.')\n",
      "('Lazy K Kountry Store', 'John Steel', '12 Orchestra Terrace')\n",
      "('Lehmanns Marktstand', 'Renate Messner', 'Magazinweg 7')\n",
      "(\"Let's Stop N Shop\", 'Jaime Yorres', '87 Polk St. Suite 5')\n",
      "('LILA-Supermercado', 'Carlos González', 'Carrera 52 con Ave. Bolívar #65-98 Llano Largo')\n",
      "('LINO-Delicateses', 'Felipe Izquierdo', 'Ave. 5 de Mayo Porlamar')\n",
      "('Lonesome Pine Restaurant', 'Fran Wilson', '89 Chiaroscuro Rd.')\n",
      "('Magazzini Alimentari Riuniti', 'Giovanni Rovelli', 'Via Ludovico il Moro 22')\n",
      "('Maison Dewey', 'Catherine Dewey', 'Rue Joseph-Bens 532')\n",
      "('Mère Paillarde', 'Jean Fresnière', '43 rue St. Laurent')\n",
      "('Morgenstern Gesundkost', 'Alexander Feuer', 'Heerstr. 22')\n",
      "('North/South', 'Simon Crowther', 'South House 300 Queensbridge')\n",
      "('Océano Atlántico Ltda.', 'Yvonne Moncada', 'Ing. Gustavo Moncada 8585 Piso 20-A')\n",
      "('Old World Delicatessen', 'Rene Phillips', '2743 Bering St.')\n",
      "('Ottilies Käseladen', 'Henriette Pfalzheim', 'Mehrheimerstr. 369')\n",
      "('Paris spécialités', 'Marie Bertrand', '265, boulevard Charonne')\n",
      "('Pericles Comidas clásicas', 'Guillermo Fernández', 'Calle Dr. Jorge Cash 321')\n",
      "('Piccolo und mehr', 'Georg Pipps', 'Geislweg 14')\n",
      "('Princesa Isabel Vinhoss', 'Isabel de Castro', 'Estrada da saúde n. 58')\n",
      "('Que Delícia', 'Bernardo Batista', 'Rua da Panificadora, 12')\n",
      "('Queen Cozinha', 'Lúcia Carvalho', 'Alameda dos Canàrios, 891')\n",
      "('QUICK-Stop', 'Horst Kloss', 'Taucherstraße 10')\n",
      "('Rancho grande', 'Sergio Gutiérrez', 'Av. del Libertador 900')\n",
      "('Rattlesnake Canyon Grocery', 'Paula Wilson', '2817 Milton Dr.')\n",
      "('Reggiani Caseifici', 'Maurizio Moroni', 'Strada Provinciale 124')\n",
      "('Ricardo Adocicados', 'Janete Limeira', 'Av. Copacabana, 267')\n",
      "('Richter Supermarkt', 'Michael Holz', 'Grenzacherweg 237')\n",
      "('Romero y tomillo', 'Alejandra Camino', 'Gran Vía, 1')\n",
      "('Santé Gourmet', 'Jonas Bergulfsen', 'Erling Skakkes gate 78')\n",
      "('Save-a-lot Markets', 'Jose Pavarotti', '187 Suffolk Ln.')\n",
      "('Seven Seas Imports', 'Hari Kumar', '90 Wadhurst Rd.')\n",
      "('Simons bistro', 'Jytte Petersen', 'Vinbæltet 34')\n",
      "('Spécialités du monde', 'Dominique Perrier', '25, rue Lauriston')\n",
      "('Split Rail Beer & Ale', 'Art Braunschweiger', 'P.O. Box 555')\n",
      "('Suprêmes délices', 'Pascale Cartrain', 'Boulevard Tirou, 255')\n",
      "('The Big Cheese', 'Liz Nixon', '89 Jefferson Way Suite 2')\n",
      "('The Cracker Box', 'Liu Wong', '55 Grizzly Peak Rd.')\n",
      "('Toms Spezialitäten', 'Karin Josephs', 'Luisenstr. 48')\n",
      "('Tortuga Restaurante', 'Miguel Angel Paolino', 'Avda. Azteca 123')\n",
      "('Tradição Hipermercados', 'Anabela Domingues', 'Av. Inês de Castro, 414')\n",
      "(\"Trail's Head Gourmet Provisioners\", 'Helvetius Nagy', '722 DaVinci Blvd.')\n",
      "('Vaffeljernet', 'Palle Ibsen', 'Smagsløget 45')\n",
      "('Victuailles en stock', 'Mary Saveley', '2, rue du Commerce')\n",
      "('Vins et alcools Chevalier', 'Paul Henriot', \"59 rue de l'Abbaye\")\n",
      "('Die Wandernde Kuh', 'Rita Müller', 'Adenauerallee 900')\n",
      "('Wartian Herkku', 'Pirkko Koskitalo', 'Torikatu 38')\n",
      "('Wellington Importadora', 'Paula Parente', 'Rua do Mercado, 12')\n",
      "('White Clover Markets', 'Karl Jablonski', '305 - 14th Ave. S. Suite 3B')\n",
      "('Wilman Kala', 'Matti Karttunen', 'Keskuskatu 45')\n",
      "('Wolski', 'Zbyszek', 'ul. Filtrowa 68')\n",
      "('Cardinal', 'Tom B. Erichsen', 'Skagen 21')\n",
      "('Cardinal', 'Tom B. Erichsen', 'Skagen 21')\n",
      "('Greasy Burger', 'Per Olsen', 'Gateveien 15')\n",
      "('Tasty Tee', 'Finn Egan', 'Streetroad 19B')\n"
     ]
    }
   ],
   "source": [
    "query = \"\"\"\n",
    "SELECT CustomerName, ContactName, Address\n",
    "FROM Customers\n",
    "WHERE Address IS NOT NULL;\n",
    "\"\"\"\n",
    "print_query_result(query)"
   ]
  },
  {
   "cell_type": "markdown",
   "id": "7c5bd21b",
   "metadata": {},
   "source": [
    "## SQL UPDATE Statement"
   ]
  },
  {
   "cell_type": "code",
   "execution_count": 175,
   "id": "2a5d9277",
   "metadata": {},
   "outputs": [],
   "source": [
    "query = \"\"\"\n",
    "UPDATE Customers\n",
    "SET ContactName = 'Alfred Schmidt', City= 'Frankfurt'\n",
    "WHERE CustomerID = 1;\n",
    "\"\"\"\n",
    "print_query_result(query)"
   ]
  },
  {
   "cell_type": "markdown",
   "id": "ba688e8c",
   "metadata": {},
   "source": [
    "## UPDATE Multiple Records"
   ]
  },
  {
   "cell_type": "code",
   "execution_count": 176,
   "id": "1438bf9a",
   "metadata": {},
   "outputs": [],
   "source": [
    "query = \"\"\"\n",
    "UPDATE Customers\n",
    "SET ContactName='Juan'\n",
    "WHERE Country='Mexico';\n",
    "\"\"\"\n",
    "print_query_result(query)"
   ]
  },
  {
   "cell_type": "markdown",
   "id": "73af0ffe",
   "metadata": {},
   "source": [
    "## Update Warning!"
   ]
  },
  {
   "cell_type": "code",
   "execution_count": 177,
   "id": "50c16898",
   "metadata": {},
   "outputs": [],
   "source": [
    "query = \"\"\"\n",
    "UPDATE Customers\n",
    "SET ContactName='Juan';\n",
    "\"\"\"\n",
    "print_query_result(query)"
   ]
  },
  {
   "cell_type": "markdown",
   "id": "4e31edb7",
   "metadata": {},
   "source": [
    "## SQL DELETE Statement"
   ]
  },
  {
   "cell_type": "code",
   "execution_count": 178,
   "id": "24ed8790",
   "metadata": {},
   "outputs": [],
   "source": [
    "query = \"\"\"\n",
    "DELETE FROM Customers WHERE CustomerName='Alfreds Futterkiste';\n",
    "\"\"\"\n",
    "print_query_result(query)"
   ]
  },
  {
   "cell_type": "markdown",
   "id": "fede9552",
   "metadata": {},
   "source": [
    "## Delete All Records"
   ]
  },
  {
   "cell_type": "code",
   "execution_count": 179,
   "id": "588515c5",
   "metadata": {},
   "outputs": [],
   "source": [
    "query = \"\"\"\n",
    "DELETE FROM Customers;\n",
    "\"\"\"\n",
    "print_query_result(query)"
   ]
  },
  {
   "cell_type": "markdown",
   "id": "be93f8b2",
   "metadata": {},
   "source": [
    "## Delete a Table -> DROP !"
   ]
  },
  {
   "cell_type": "code",
   "execution_count": 180,
   "id": "75487b67",
   "metadata": {},
   "outputs": [],
   "source": [
    "query = \"\"\"\n",
    "DROP TABLE Customers;\n",
    "\"\"\"\n",
    "print_query_result(query)"
   ]
  },
  {
   "cell_type": "markdown",
   "id": "83e3b2fa",
   "metadata": {},
   "source": [
    "## SQL SELECT TOP Clause"
   ]
  },
  {
   "cell_type": "code",
   "execution_count": 181,
   "id": "62b2c372",
   "metadata": {},
   "outputs": [
    {
     "data": {
      "text/plain": [
       "91"
      ]
     },
     "execution_count": 181,
     "metadata": {},
     "output_type": "execute_result"
    }
   ],
   "source": [
    "# Customers table 다시 넣어주자 ...\n",
    "df = pd.read_csv('Customers.csv')\n",
    "df.to_sql(\"Customers\", conn, if_exists='replace', index=False)"
   ]
  },
  {
   "cell_type": "code",
   "execution_count": 182,
   "id": "399750c3",
   "metadata": {},
   "outputs": [
    {
     "name": "stdout",
     "output_type": "stream",
     "text": [
      "(1, 'Alfreds Futterkiste', 'Maria Anders', 'Obere Str. 57', 'Berlin', '12209', 'Germany')\n",
      "(2, 'Ana Trujillo Emparedados y helados', 'Ana Trujillo', 'Avda. de la Constitución 2222', 'México D.F.', '05021', 'Mexico')\n",
      "(3, 'Antonio Moreno Taquería', 'Antonio Moreno', 'Mataderos 2312', 'México D.F.', '05023', 'Mexico')\n"
     ]
    }
   ],
   "source": [
    "# SELECT TOP 3 * FROM Customers;\n",
    "# sqlite에서는 TOP 3가 없다 !\n",
    "# LIMIT도 따로 왜 있지 ?\n",
    "query = \"\"\"\n",
    "SELECT * FROM Customers LIMIT 3;\n",
    "\"\"\"\n",
    "print_query_result(query)"
   ]
  },
  {
   "cell_type": "markdown",
   "id": "f2c9f678",
   "metadata": {},
   "source": [
    "## LIMIT"
   ]
  },
  {
   "cell_type": "code",
   "execution_count": 183,
   "id": "50be0107",
   "metadata": {},
   "outputs": [
    {
     "name": "stdout",
     "output_type": "stream",
     "text": [
      "(1, 'Alfreds Futterkiste', 'Maria Anders', 'Obere Str. 57', 'Berlin', '12209', 'Germany')\n",
      "(2, 'Ana Trujillo Emparedados y helados', 'Ana Trujillo', 'Avda. de la Constitución 2222', 'México D.F.', '05021', 'Mexico')\n",
      "(3, 'Antonio Moreno Taquería', 'Antonio Moreno', 'Mataderos 2312', 'México D.F.', '05023', 'Mexico')\n"
     ]
    }
   ],
   "source": [
    "query = \"\"\"\n",
    "SELECT * FROM Customers\n",
    "LIMIT 3;\n",
    "\"\"\"\n",
    "print_query_result(query)"
   ]
  },
  {
   "cell_type": "markdown",
   "id": "f922756a",
   "metadata": {},
   "source": [
    "## FETCH FIRST"
   ]
  },
  {
   "cell_type": "code",
   "execution_count": 184,
   "id": "64308f5c",
   "metadata": {},
   "outputs": [
    {
     "name": "stdout",
     "output_type": "stream",
     "text": [
      "(1, 'Alfreds Futterkiste', 'Maria Anders', 'Obere Str. 57', 'Berlin', '12209', 'Germany')\n",
      "(2, 'Ana Trujillo Emparedados y helados', 'Ana Trujillo', 'Avda. de la Constitución 2222', 'México D.F.', '05021', 'Mexico')\n",
      "(3, 'Antonio Moreno Taquería', 'Antonio Moreno', 'Mataderos 2312', 'México D.F.', '05023', 'Mexico')\n"
     ]
    }
   ],
   "source": [
    "\"\"\"\n",
    "# 이것도 안된다 !\n",
    "SELECT * FROM Customers\n",
    "FETCH FIRST 3 ROWS ONLY;\n",
    "\"\"\"\n",
    "\n",
    "query = \"\"\"\n",
    "SELECT * FROM Customers LIMIT 3;\n",
    "\"\"\"\n",
    "print_query_result(query)"
   ]
  },
  {
   "cell_type": "markdown",
   "id": "3fe5cdc9",
   "metadata": {},
   "source": [
    "## SQL TOP PERCENT Example"
   ]
  },
  {
   "cell_type": "code",
   "execution_count": 185,
   "id": "becea379",
   "metadata": {},
   "outputs": [
    {
     "name": "stdout",
     "output_type": "stream",
     "text": [
      "total_row_num: 91\n",
      "(1, 'Alfreds Futterkiste', 'Maria Anders', 'Obere Str. 57', 'Berlin', '12209', 'Germany')\n",
      "(2, 'Ana Trujillo Emparedados y helados', 'Ana Trujillo', 'Avda. de la Constitución 2222', 'México D.F.', '05021', 'Mexico')\n",
      "(3, 'Antonio Moreno Taquería', 'Antonio Moreno', 'Mataderos 2312', 'México D.F.', '05023', 'Mexico')\n",
      "(4, 'Around the Horn', 'Thomas Hardy', '120 Hanover Sq.', 'London', 'WA1 1DP', 'UK')\n",
      "(5, 'Berglunds snabbköp', 'Christina Berglund', 'Berguvsvägen 8', 'Luleå', 'S-958 22', 'Sweden')\n",
      "(6, 'Blauer See Delikatessen', 'Hanna Moos', 'Forsterstr. 57', 'Mannheim', '68306', 'Germany')\n",
      "(7, 'Blondel père et fils', 'Frédérique Citeaux', '24, place Kléber', 'Strasbourg', '67000', 'France')\n",
      "(8, 'Bólido Comidas preparadas', 'Martín Sommer', 'C/ Araquil, 67', 'Madrid', '28023', 'Spain')\n",
      "(9, \"Bon app'\", 'Laurence Lebihans', '12, rue des Bouchers', 'Marseille', '13008', 'France')\n",
      "(10, 'Bottom-Dollar Marketse', 'Elizabeth Lincoln', '23 Tsawassen Blvd.', 'Tsawassen', 'T2F 8M4', 'Canada')\n",
      "(11, \"B's Beverages\", 'Victoria Ashworth', 'Fauntleroy Circus', 'London', 'EC2 5NT', 'UK')\n",
      "(12, 'Cactus Comidas para llevar', 'Patricio Simpson', 'Cerrito 333', 'Buenos Aires', '1010', 'Argentina')\n",
      "(13, 'Centro comercial Moctezuma', 'Francisco Chang', 'Sierras de Granada 9993', 'México D.F.', '05022', 'Mexico')\n",
      "(14, 'Chop-suey Chinese', 'Yang Wang', 'Hauptstr. 29', 'Bern', '3012', 'Switzerland')\n",
      "(15, 'Comércio Mineiro', 'Pedro Afonso', 'Av. dos Lusíadas, 23', 'São Paulo', '05432-043', 'Brazil')\n",
      "(16, 'Consolidated Holdings', 'Elizabeth Brown', 'Berkeley Gardens 12 Brewery ', 'London', 'WX1 6LT', 'UK')\n",
      "(17, 'Drachenblut Delikatessend', 'Sven Ottlieb', 'Walserweg 21', 'Aachen', '52066', 'Germany')\n",
      "(18, 'Du monde entier', 'Janine Labrune', '67, rue des Cinquante Otages', 'Nantes', '44000', 'France')\n",
      "(19, 'Eastern Connection', 'Ann Devon', '35 King George', 'London', 'WX3 6FW', 'UK')\n",
      "(20, 'Ernst Handel', 'Roland Mendel', 'Kirchgasse 6', 'Graz', '8010', 'Austria')\n",
      "(21, 'Familia Arquibaldo', 'Aria Cruz', 'Rua Orós, 92', 'São Paulo', '05442-030', 'Brazil')\n",
      "(22, 'FISSA Fabrica Inter. Salchichas S.A.', 'Diego Roel', 'C/ Moralzarzal, 86', 'Madrid', '28034', 'Spain')\n",
      "(23, 'Folies gourmandes', 'Martine Rancé', '184, chaussée de Tournai', 'Lille', '59000', 'France')\n",
      "(24, 'Folk och fä HB', 'Maria Larsson', 'Åkergatan 24', 'Bräcke', 'S-844 67', 'Sweden')\n",
      "(25, 'Frankenversand', 'Peter Franken', 'Berliner Platz 43', 'München', '80805', 'Germany')\n",
      "(26, 'France restauration', 'Carine Schmitt', '54, rue Royale', 'Nantes', '44000', 'France')\n",
      "(27, 'Franchi S.p.A.', 'Paolo Accorti', 'Via Monte Bianco 34', 'Torino', '10100', 'Italy')\n",
      "(28, 'Furia Bacalhau e Frutos do Mar', 'Lino Rodriguez ', 'Jardim das rosas n. 32', 'Lisboa', '1675', 'Portugal')\n",
      "(29, 'Galería del gastrónomo', 'Eduardo Saavedra', 'Rambla de Cataluña, 23', 'Barcelona', '08022', 'Spain')\n",
      "(30, 'Godos Cocina Típica', 'José Pedro Freyre', 'C/ Romero, 33', 'Sevilla', '41101', 'Spain')\n",
      "(31, 'Gourmet Lanchonetes', 'André Fonseca', 'Av. Brasil, 442', 'Campinas', '04876-786', 'Brazil')\n",
      "(32, 'Great Lakes Food Market', 'Howard Snyder', '2732 Baker Blvd.', 'Eugene', '97403', 'USA')\n",
      "(33, 'GROSELLA-Restaurante', 'Manuel Pereira', '5ª Ave. Los Palos Grandes', 'Caracas', '1081', 'Venezuela')\n",
      "(34, 'Hanari Carnes', 'Mario Pontes', 'Rua do Paço, 67', 'Rio de Janeiro', '05454-876', 'Brazil')\n",
      "(35, 'HILARIÓN-Abastos', 'Carlos Hernández', 'Carrera 22 con Ave. Carlos Soublette #8-35', 'San Cristóbal', '5022', 'Venezuela')\n",
      "(36, 'Hungry Coyote Import Store', 'Yoshi Latimer', 'City Center Plaza 516 Main St.', 'Elgin', '97827', 'USA')\n",
      "(37, 'Hungry Owl All-Night Grocers', 'Patricia McKenna', '8 Johnstown Road', 'Cork', None, 'Ireland')\n",
      "(38, 'Island Trading', 'Helen Bennett', 'Garden House Crowther Way', 'Cowes', 'PO31 7PJ', 'UK')\n",
      "(39, 'Königlich Essen', 'Philip Cramer', 'Maubelstr. 90', 'Brandenburg', '14776', 'Germany')\n",
      "(40, \"La corne d'abondance\", 'Daniel Tonini', \"67, avenue de l'Europe\", 'Versailles', '78000', 'France')\n",
      "(41, \"La maison d'Asie\", 'Annette Roulet', '1 rue Alsace-Lorraine', 'Toulouse', '31000', 'France')\n",
      "(42, 'Laughing Bacchus Wine Cellars', 'Yoshi Tannamuri', '1900 Oak St.', 'Vancouver', 'V3F 2K1', 'Canada')\n",
      "(43, 'Lazy K Kountry Store', 'John Steel', '12 Orchestra Terrace', 'Walla Walla', '99362', 'USA')\n",
      "(44, 'Lehmanns Marktstand', 'Renate Messner', 'Magazinweg 7', 'Frankfurt a.M. ', '60528', 'Germany')\n",
      "(45, \"Let's Stop N Shop\", 'Jaime Yorres', '87 Polk St. Suite 5', 'San Francisco', '94117', 'USA')\n"
     ]
    }
   ],
   "source": [
    "\n",
    "# 이것도 안된다 !!\n",
    "\"\"\"\n",
    "SELECT TOP 50 PERCENT * FROM Customers;\n",
    "\"\"\"\n",
    "cur = conn.cursor()\n",
    "cur.execute(\"SELECT COUNT(*) FROM Customers;\")\n",
    "total_row_num = cur.fetchone()[0]\n",
    "print(f'total_row_num: {total_row_num}')\n",
    "half = total_row_num//2\n",
    "query = f\"\"\"\n",
    "SELECT * FROM Customers\n",
    "LIMIT {half};\n",
    "\"\"\"\n",
    "print_query_result(query)"
   ]
  },
  {
   "cell_type": "markdown",
   "id": "77a8eed6",
   "metadata": {},
   "source": [
    "## ADD a WHERE CLAUSE"
   ]
  },
  {
   "cell_type": "code",
   "execution_count": 186,
   "id": "b4ca5ff9",
   "metadata": {},
   "outputs": [
    {
     "name": "stdout",
     "output_type": "stream",
     "text": [
      "(1, 'Alfreds Futterkiste', 'Maria Anders', 'Obere Str. 57', 'Berlin', '12209', 'Germany')\n",
      "(6, 'Blauer See Delikatessen', 'Hanna Moos', 'Forsterstr. 57', 'Mannheim', '68306', 'Germany')\n",
      "(17, 'Drachenblut Delikatessend', 'Sven Ottlieb', 'Walserweg 21', 'Aachen', '52066', 'Germany')\n"
     ]
    }
   ],
   "source": [
    "\"\"\"\n",
    "SELECT TOP 3 * FROM Customers\n",
    "WHERE Country='Germany';\n",
    "\"\"\"\n",
    "\n",
    "query = \"\"\"\n",
    "SELECT * FROM Customers\n",
    "WHERE Country = 'Germany'\n",
    "LIMIT 3;\n",
    "\"\"\"\n",
    "print_query_result(query)"
   ]
  },
  {
   "cell_type": "code",
   "execution_count": 187,
   "id": "f49e739c",
   "metadata": {},
   "outputs": [
    {
     "name": "stdout",
     "output_type": "stream",
     "text": [
      "(1, 'Alfreds Futterkiste', 'Maria Anders', 'Obere Str. 57', 'Berlin', '12209', 'Germany')\n",
      "(6, 'Blauer See Delikatessen', 'Hanna Moos', 'Forsterstr. 57', 'Mannheim', '68306', 'Germany')\n",
      "(17, 'Drachenblut Delikatessend', 'Sven Ottlieb', 'Walserweg 21', 'Aachen', '52066', 'Germany')\n"
     ]
    }
   ],
   "source": [
    "\"\"\"\n",
    "SELECT * FROM Customers\n",
    "WHERE Country='Germany'\n",
    "LIMIT 3;\n",
    "\"\"\"\n",
    "query = \"\"\"\n",
    "SELECT * FROM Customers\n",
    "WHERE Country='Germany'\n",
    "LIMIT 3;\n",
    "\"\"\"\n",
    "print_query_result(query)"
   ]
  },
  {
   "cell_type": "code",
   "execution_count": 188,
   "id": "ac9f7e4d",
   "metadata": {},
   "outputs": [
    {
     "name": "stdout",
     "output_type": "stream",
     "text": [
      "(1, 'Alfreds Futterkiste', 'Maria Anders', 'Obere Str. 57', 'Berlin', '12209', 'Germany')\n",
      "(6, 'Blauer See Delikatessen', 'Hanna Moos', 'Forsterstr. 57', 'Mannheim', '68306', 'Germany')\n",
      "(17, 'Drachenblut Delikatessend', 'Sven Ottlieb', 'Walserweg 21', 'Aachen', '52066', 'Germany')\n"
     ]
    }
   ],
   "source": [
    "\"\"\"\n",
    "SELECT * FROM Customers\n",
    "WHERE Country='Germany'\n",
    "FETCH FIRST 3 ROWS ONLY;\n",
    "\"\"\"\n",
    "query = \"\"\"\n",
    "SELECT * FROM Customers\n",
    "WHERE Country = \"Germany\"\n",
    "LIMIT 3;\n",
    "\"\"\"\n",
    "print_query_result(query)"
   ]
  },
  {
   "cell_type": "markdown",
   "id": "86aed359",
   "metadata": {},
   "source": [
    "## ADD the ORDER BY Keyword\n"
   ]
  },
  {
   "cell_type": "code",
   "execution_count": 189,
   "id": "8f848dc3",
   "metadata": {},
   "outputs": [
    {
     "name": "stdout",
     "output_type": "stream",
     "text": [
      "(91, 'Wolski', 'Zbyszek', 'ul. Filtrowa 68', 'Walla', '01-012', None)\n",
      "(90, 'Wilman Kala', 'Matti Karttunen', 'Keskuskatu 45', 'Helsinki', '21240', 'Finland')\n",
      "(89, 'White Clover Markets', 'Karl Jablonski', '305 - 14th Ave. S. Suite 3B', 'Seattle', '98128', 'USA')\n"
     ]
    }
   ],
   "source": [
    "\"\"\"\n",
    "SELECT TOP 3 * FROM Customers\n",
    "ORDER BY CustomerName DESC;\n",
    "\"\"\"\n",
    "query = \"\"\"\n",
    "SELECT * FROM Customers\n",
    "ORDER BY CustomerName DESC\n",
    "LIMIT 3;\n",
    "\"\"\"\n",
    "print_query_result(query)"
   ]
  },
  {
   "cell_type": "code",
   "execution_count": 190,
   "id": "5d446d03",
   "metadata": {},
   "outputs": [],
   "source": [
    "query = \"\"\"\n",
    "\n",
    "\"\"\"\n",
    "print_query_result(query)"
   ]
  },
  {
   "cell_type": "code",
   "execution_count": 191,
   "id": "394da415",
   "metadata": {},
   "outputs": [
    {
     "name": "stdout",
     "output_type": "stream",
     "text": [
      "(91, 'Wolski', 'Zbyszek', 'ul. Filtrowa 68', 'Walla', '01-012', None)\n",
      "(90, 'Wilman Kala', 'Matti Karttunen', 'Keskuskatu 45', 'Helsinki', '21240', 'Finland')\n",
      "(89, 'White Clover Markets', 'Karl Jablonski', '305 - 14th Ave. S. Suite 3B', 'Seattle', '98128', 'USA')\n"
     ]
    }
   ],
   "source": [
    "query = \"\"\"\n",
    "SELECT * FROM Customers\n",
    "ORDER BY CustomerName DESC\n",
    "LIMIT 3;\n",
    "\"\"\"\n",
    "print_query_result(query)"
   ]
  },
  {
   "cell_type": "code",
   "execution_count": 192,
   "id": "eba14433",
   "metadata": {},
   "outputs": [
    {
     "name": "stdout",
     "output_type": "stream",
     "text": [
      "(91, 'Wolski', 'Zbyszek', 'ul. Filtrowa 68', 'Walla', '01-012', None)\n",
      "(90, 'Wilman Kala', 'Matti Karttunen', 'Keskuskatu 45', 'Helsinki', '21240', 'Finland')\n",
      "(89, 'White Clover Markets', 'Karl Jablonski', '305 - 14th Ave. S. Suite 3B', 'Seattle', '98128', 'USA')\n"
     ]
    }
   ],
   "source": [
    "\"\"\"\n",
    "SELECT * FROM Customers\n",
    "ORDER BY CustomerName DESC\n",
    "FETCH FIRST 3 ROWS ONLY;\n",
    "\"\"\"\n",
    "query = \"\"\"\n",
    "\n",
    "SELECT * FROM Customers\n",
    "ORDER BY CustomerName DESC\n",
    "LIMIT 3;\n",
    "\"\"\"\n",
    "print_query_result(query)"
   ]
  },
  {
   "cell_type": "markdown",
   "id": "1f1b266d",
   "metadata": {},
   "source": [
    "## SQL Aggregate Functions\n"
   ]
  },
  {
   "cell_type": "markdown",
   "id": "2f571868",
   "metadata": {},
   "source": [
    "## SQL MIN() and MAX() Functions"
   ]
  },
  {
   "cell_type": "code",
   "execution_count": 193,
   "id": "0ecf4b65",
   "metadata": {},
   "outputs": [
    {
     "name": "stdout",
     "output_type": "stream",
     "text": [
      "(2.5,)\n"
     ]
    }
   ],
   "source": [
    "query = \"\"\"\n",
    "SELECT MIN(Price)\n",
    "FROM Products;\n",
    "\"\"\"\n",
    "print_query_result(query)"
   ]
  },
  {
   "cell_type": "code",
   "execution_count": 194,
   "id": "8d058aab",
   "metadata": {},
   "outputs": [
    {
     "name": "stdout",
     "output_type": "stream",
     "text": [
      "(263.5,)\n"
     ]
    }
   ],
   "source": [
    "query = \"\"\"\n",
    "SELECT MAX(Price)\n",
    "FROM Products;\n",
    "\"\"\"\n",
    "print_query_result(query)"
   ]
  },
  {
   "cell_type": "markdown",
   "id": "f51df08e",
   "metadata": {},
   "source": [
    "## Set Column Name (Alias)"
   ]
  },
  {
   "cell_type": "code",
   "execution_count": 195,
   "id": "c9bf45b2",
   "metadata": {},
   "outputs": [
    {
     "name": "stdout",
     "output_type": "stream",
     "text": [
      "(2.5,)\n"
     ]
    }
   ],
   "source": [
    "query = \"\"\"\n",
    "SELECT MIN(Price) AS SmallestPrice\n",
    "FROM Products;\n",
    "\"\"\"\n",
    "print_query_result(query)"
   ]
  },
  {
   "cell_type": "markdown",
   "id": "a475799d",
   "metadata": {},
   "source": [
    "## Use MIN() with GROUP BY"
   ]
  },
  {
   "cell_type": "code",
   "execution_count": 196,
   "id": "bebdff01",
   "metadata": {},
   "outputs": [
    {
     "name": "stdout",
     "output_type": "stream",
     "text": [
      "(4.5, 1)\n",
      "(10.0, 2)\n",
      "(9.2, 3)\n",
      "(2.5, 4)\n",
      "(7.0, 5)\n",
      "(7.45, 6)\n",
      "(10.0, 7)\n",
      "(6.0, 8)\n"
     ]
    }
   ],
   "source": [
    "query = \"\"\"\n",
    "SELECT MIN(Price) AS SmallestPrice, CategoryID\n",
    "FROM Products\n",
    "GROUP BY CategoryID;\n",
    "\"\"\"\n",
    "print_query_result(query)"
   ]
  },
  {
   "cell_type": "markdown",
   "id": "13b46b8d",
   "metadata": {},
   "source": [
    "## SQL COUNT() Function"
   ]
  },
  {
   "cell_type": "code",
   "execution_count": 197,
   "id": "2d55e97e",
   "metadata": {},
   "outputs": [
    {
     "name": "stdout",
     "output_type": "stream",
     "text": [
      "(77,)\n"
     ]
    }
   ],
   "source": [
    "query = \"\"\"\n",
    "SELECT COUNT(*)\n",
    "FROM Products;\n",
    "\"\"\"\n",
    "print_query_result(query)"
   ]
  },
  {
   "cell_type": "markdown",
   "id": "b62dd56a",
   "metadata": {},
   "source": [
    "## Specify Column"
   ]
  },
  {
   "cell_type": "code",
   "execution_count": 198,
   "id": "9d138537",
   "metadata": {},
   "outputs": [
    {
     "name": "stdout",
     "output_type": "stream",
     "text": [
      "(77,)\n"
     ]
    }
   ],
   "source": [
    "query = \"\"\"\n",
    "SELECT COUNT(ProductName)\n",
    "FROM Products;\n",
    "\"\"\"\n",
    "print_query_result(query)"
   ]
  },
  {
   "cell_type": "markdown",
   "id": "07499088",
   "metadata": {},
   "source": [
    "## Add a WHERE Clause"
   ]
  },
  {
   "cell_type": "code",
   "execution_count": 199,
   "id": "5003edfd",
   "metadata": {},
   "outputs": [
    {
     "name": "stdout",
     "output_type": "stream",
     "text": [
      "(37,)\n"
     ]
    }
   ],
   "source": [
    "query = \"\"\"\n",
    "SELECT COUNT(ProductID)\n",
    "FROM Products\n",
    "WHERE Price > 20;\n",
    "\"\"\"\n",
    "print_query_result(query)"
   ]
  },
  {
   "cell_type": "markdown",
   "id": "da72bc1f",
   "metadata": {},
   "source": [
    "## Ignore Duplicates"
   ]
  },
  {
   "cell_type": "code",
   "execution_count": 200,
   "id": "b27b15e7",
   "metadata": {},
   "outputs": [
    {
     "name": "stdout",
     "output_type": "stream",
     "text": [
      "(62,)\n"
     ]
    }
   ],
   "source": [
    "query = \"\"\"\n",
    "SELECT COUNT(DISTINCT Price)\n",
    "FROM Products;\n",
    "\"\"\"\n",
    "print_query_result(query)"
   ]
  },
  {
   "cell_type": "markdown",
   "id": "fe38de49",
   "metadata": {},
   "source": [
    "## Use an Alias"
   ]
  },
  {
   "cell_type": "code",
   "execution_count": 201,
   "id": "a22c9d7c",
   "metadata": {},
   "outputs": [
    {
     "name": "stdout",
     "output_type": "stream",
     "text": [
      "(77,)\n"
     ]
    }
   ],
   "source": [
    "query = \"\"\"\n",
    "SELECT COUNT(*) AS [Number of records]\n",
    "FROM Products;\n",
    "\"\"\"\n",
    "print_query_result(query)"
   ]
  },
  {
   "cell_type": "markdown",
   "id": "60809c50",
   "metadata": {},
   "source": [
    "## Use COUNT() with GROUP BY"
   ]
  },
  {
   "cell_type": "code",
   "execution_count": 202,
   "id": "8cbe07cb",
   "metadata": {},
   "outputs": [
    {
     "name": "stdout",
     "output_type": "stream",
     "text": [
      "(12, 1)\n",
      "(12, 2)\n",
      "(13, 3)\n",
      "(10, 4)\n",
      "(7, 5)\n",
      "(6, 6)\n",
      "(5, 7)\n",
      "(12, 8)\n"
     ]
    }
   ],
   "source": [
    "query = \"\"\"\n",
    "SELECT COUNT(*) AS [Number of records], CategoryID\n",
    "FROM Products\n",
    "GROUP BY CategoryID;\n",
    "\"\"\"\n",
    "print_query_result(query)"
   ]
  },
  {
   "cell_type": "markdown",
   "id": "c3bf578d",
   "metadata": {},
   "source": [
    "## SQL SUM() Function"
   ]
  },
  {
   "cell_type": "code",
   "execution_count": 203,
   "id": "5eedce80",
   "metadata": {},
   "outputs": [
    {
     "name": "stdout",
     "output_type": "stream",
     "text": [
      "(12743,)\n"
     ]
    }
   ],
   "source": [
    "query = \"\"\"\n",
    "SELECT SUM(Quantity)\n",
    "FROM OrderDetails;\n",
    "\"\"\"\n",
    "print_query_result(query)"
   ]
  },
  {
   "cell_type": "markdown",
   "id": "14c1e408",
   "metadata": {},
   "source": [
    "## Add a WHERE Clause"
   ]
  },
  {
   "cell_type": "code",
   "execution_count": 204,
   "id": "0a620ed9",
   "metadata": {},
   "outputs": [
    {
     "name": "stdout",
     "output_type": "stream",
     "text": [
      "(182,)\n"
     ]
    }
   ],
   "source": [
    "query = \"\"\"\n",
    "SELECT SUM(Quantity)\n",
    "FROM OrderDetails\n",
    "WHERE ProductId = 11;\n",
    "\"\"\"\n",
    "print_query_result(query)"
   ]
  },
  {
   "cell_type": "markdown",
   "id": "83f9f17e",
   "metadata": {},
   "source": [
    "## Use an Alias"
   ]
  },
  {
   "cell_type": "code",
   "execution_count": 205,
   "id": "f65fc8b5",
   "metadata": {},
   "outputs": [
    {
     "name": "stdout",
     "output_type": "stream",
     "text": [
      "(12743,)\n"
     ]
    }
   ],
   "source": [
    "query = \"\"\"\n",
    "SELECT SUM(Quantity) AS total\n",
    "FROM OrderDetails;\n",
    "\"\"\"\n",
    "print_query_result(query)"
   ]
  },
  {
   "cell_type": "markdown",
   "id": "5f5ec7cd",
   "metadata": {},
   "source": [
    "# Use SUM() with GROUP BY"
   ]
  },
  {
   "cell_type": "code",
   "execution_count": 206,
   "id": "c92f41a8",
   "metadata": {},
   "outputs": [
    {
     "name": "stdout",
     "output_type": "stream",
     "text": [
      "(10248, 27)\n",
      "(10249, 49)\n",
      "(10250, 60)\n",
      "(10251, 41)\n",
      "(10252, 105)\n",
      "(10253, 102)\n",
      "(10254, 57)\n",
      "(10255, 110)\n",
      "(10256, 27)\n",
      "(10257, 46)\n",
      "(10258, 121)\n",
      "(10259, 11)\n",
      "(10260, 102)\n",
      "(10261, 40)\n",
      "(10262, 29)\n",
      "(10263, 184)\n",
      "(10264, 60)\n",
      "(10265, 50)\n",
      "(10266, 12)\n",
      "(10267, 135)\n",
      "(10268, 14)\n",
      "(10269, 80)\n",
      "(10270, 55)\n",
      "(10271, 24)\n",
      "(10272, 70)\n",
      "(10273, 152)\n",
      "(10274, 27)\n",
      "(10275, 18)\n",
      "(10276, 25)\n",
      "(10277, 32)\n",
      "(10278, 64)\n",
      "(10279, 15)\n",
      "(10280, 62)\n",
      "(10281, 11)\n",
      "(10282, 8)\n",
      "(10283, 76)\n",
      "(10284, 61)\n",
      "(10285, 121)\n",
      "(10286, 140)\n",
      "(10287, 75)\n",
      "(10288, 13)\n",
      "(10289, 39)\n",
      "(10290, 60)\n",
      "(10291, 46)\n",
      "(10292, 20)\n",
      "(10293, 33)\n",
      "(10294, 75)\n",
      "(10295, 4)\n",
      "(10296, 57)\n",
      "(10297, 80)\n",
      "(10298, 125)\n",
      "(10299, 35)\n",
      "(10300, 50)\n",
      "(10301, 30)\n",
      "(10302, 80)\n",
      "(10303, 85)\n",
      "(10304, 42)\n",
      "(10305, 80)\n",
      "(10306, 25)\n",
      "(10307, 13)\n",
      "(10308, 6)\n",
      "(10309, 75)\n",
      "(10310, 15)\n",
      "(10311, 13)\n",
      "(10312, 58)\n",
      "(10313, 12)\n",
      "(10314, 95)\n",
      "(10315, 44)\n",
      "(10316, 80)\n",
      "(10317, 20)\n",
      "(10318, 26)\n",
      "(10319, 52)\n",
      "(10320, 30)\n",
      "(10321, 10)\n",
      "(10322, 20)\n",
      "(10323, 13)\n",
      "(10324, 241)\n",
      "(10325, 71)\n",
      "(10326, 90)\n",
      "(10327, 140)\n",
      "(10328, 59)\n",
      "(10329, 50)\n",
      "(10330, 75)\n",
      "(10331, 15)\n",
      "(10332, 66)\n",
      "(10333, 60)\n",
      "(10334, 18)\n",
      "(10335, 86)\n",
      "(10336, 18)\n",
      "(10337, 137)\n",
      "(10338, 35)\n",
      "(10339, 108)\n",
      "(10340, 72)\n",
      "(10341, 17)\n",
      "(10342, 160)\n",
      "(10343, 69)\n",
      "(10344, 105)\n",
      "(10345, 159)\n",
      "(10346, 56)\n",
      "(10347, 70)\n",
      "(10348, 40)\n",
      "(10349, 24)\n",
      "(10350, 33)\n",
      "(10351, 120)\n",
      "(10352, 30)\n",
      "(10353, 62)\n",
      "(10354, 16)\n",
      "(10355, 50)\n",
      "(10356, 62)\n",
      "(10357, 54)\n",
      "(10358, 40)\n",
      "(10359, 206)\n",
      "(10360, 138)\n",
      "(10361, 109)\n",
      "(10362, 94)\n",
      "(10363, 44)\n",
      "(10364, 35)\n",
      "(10365, 24)\n",
      "(10366, 10)\n",
      "(10367, 76)\n",
      "(10368, 78)\n",
      "(10369, 38)\n",
      "(10370, 65)\n",
      "(10371, 6)\n",
      "(10372, 164)\n",
      "(10373, 130)\n",
      "(10374, 45)\n",
      "(10375, 25)\n",
      "(10376, 42)\n",
      "(10377, 40)\n",
      "(10378, 6)\n",
      "(10379, 44)\n",
      "(10380, 74)\n",
      "(10381, 14)\n",
      "(10382, 165)\n",
      "(10383, 55)\n",
      "(10384, 43)\n",
      "(10385, 38)\n",
      "(10386, 25)\n",
      "(10387, 48)\n",
      "(10388, 75)\n",
      "(10389, 81)\n",
      "(10390, 169)\n",
      "(10391, 18)\n",
      "(10392, 50)\n",
      "(10393, 176)\n",
      "(10394, 20)\n",
      "(10395, 106)\n",
      "(10396, 121)\n",
      "(10397, 28)\n",
      "(10398, 150)\n",
      "(10399, 139)\n",
      "(10400, 86)\n",
      "(10401, 168)\n",
      "(10402, 125)\n",
      "(10403, 91)\n",
      "(10404, 100)\n",
      "(10405, 50)\n",
      "(10406, 89)\n",
      "(10407, 60)\n",
      "(10408, 51)\n",
      "(10409, 24)\n",
      "(10410, 65)\n",
      "(10411, 74)\n",
      "(10412, 20)\n",
      "(10413, 78)\n",
      "(10414, 68)\n",
      "(10415, 22)\n",
      "(10416, 50)\n",
      "(10417, 123)\n",
      "(10418, 146)\n",
      "(10419, 80)\n",
      "(10420, 50)\n",
      "(10421, 59)\n",
      "(10422, 2)\n",
      "(10423, 34)\n",
      "(10424, 139)\n",
      "(10425, 30)\n",
      "(10426, 12)\n",
      "(10427, 35)\n",
      "(10428, 20)\n",
      "(10429, 75)\n",
      "(10430, 195)\n",
      "(10431, 130)\n",
      "(10432, 50)\n",
      "(10433, 28)\n",
      "(10434, 24)\n",
      "(10435, 32)\n",
      "(10436, 99)\n",
      "(10437, 15)\n",
      "(10438, 50)\n",
      "(10439, 67)\n",
      "(10440, 208)\n",
      "(10441, 50)\n",
      "(10442, 170)\n",
      "(10443, 18)\n"
     ]
    }
   ],
   "source": [
    "query = \"\"\"\n",
    "SELECT OrderID, SUM(Quantity) AS [Total Quantity]\n",
    "FROM OrderDetails\n",
    "GROUP BY OrderID;\n",
    "\"\"\"\n",
    "print_query_result(query)"
   ]
  },
  {
   "cell_type": "markdown",
   "id": "0f744569",
   "metadata": {},
   "source": [
    "## SUM() With an Expression\n"
   ]
  },
  {
   "cell_type": "code",
   "execution_count": 207,
   "id": "8b216fd0",
   "metadata": {},
   "outputs": [
    {
     "name": "stdout",
     "output_type": "stream",
     "text": [
      "(127430,)\n"
     ]
    }
   ],
   "source": [
    "query = \"\"\"\n",
    "SELECT SUM(Quantity * 10)\n",
    "FROM OrderDetails;\n",
    "\"\"\"\n",
    "print_query_result(query)"
   ]
  },
  {
   "cell_type": "code",
   "execution_count": 208,
   "id": "212a8736",
   "metadata": {},
   "outputs": [
    {
     "name": "stdout",
     "output_type": "stream",
     "text": [
      "(386424.23,)\n"
     ]
    }
   ],
   "source": [
    "query = \"\"\"\n",
    "SELECT SUM(Price * Quantity)\n",
    "FROM OrderDetails\n",
    "LEFT JOIN Products ON OrderDetails.ProductID = Products.ProductID;\n",
    "\"\"\"\n",
    "print_query_result(query)"
   ]
  },
  {
   "cell_type": "markdown",
   "id": "5c0dc214",
   "metadata": {},
   "source": [
    "## SQL AVG() Function"
   ]
  },
  {
   "cell_type": "code",
   "execution_count": 209,
   "id": "6fc4beab",
   "metadata": {},
   "outputs": [
    {
     "name": "stdout",
     "output_type": "stream",
     "text": [
      "(28.866363636363637,)\n"
     ]
    }
   ],
   "source": [
    "query = \"\"\"\n",
    "SELECT AVG(Price)\n",
    "FROM Products;\n",
    "\"\"\"\n",
    "print_query_result(query)"
   ]
  },
  {
   "cell_type": "markdown",
   "id": "2d8eed74",
   "metadata": {},
   "source": [
    "## Add a WHERE Clause"
   ]
  },
  {
   "cell_type": "code",
   "execution_count": 210,
   "id": "5bd47a87",
   "metadata": {},
   "outputs": [
    {
     "name": "stdout",
     "output_type": "stream",
     "text": [
      "(37.979166666666664,)\n"
     ]
    }
   ],
   "source": [
    "query = \"\"\"\n",
    "SELECT AVG(Price)\n",
    "FROM Products\n",
    "WHERE CategoryID = 1;\n",
    "\"\"\"\n",
    "print_query_result(query)"
   ]
  },
  {
   "cell_type": "markdown",
   "id": "fac24cfb",
   "metadata": {},
   "source": [
    "## Use an Alias"
   ]
  },
  {
   "cell_type": "code",
   "execution_count": 211,
   "id": "3aa5240a",
   "metadata": {},
   "outputs": [
    {
     "name": "stdout",
     "output_type": "stream",
     "text": [
      "(28.866363636363637,)\n"
     ]
    }
   ],
   "source": [
    "query = \"\"\"\n",
    "SELECT AVG(Price) AS [average price]\n",
    "FROM Products;\n",
    "\"\"\"\n",
    "print_query_result(query)"
   ]
  },
  {
   "cell_type": "markdown",
   "id": "859050fd",
   "metadata": {},
   "source": [
    "## Higher Than Average"
   ]
  },
  {
   "cell_type": "code",
   "execution_count": 212,
   "id": "2edef4a3",
   "metadata": {},
   "outputs": [
    {
     "name": "stdout",
     "output_type": "stream",
     "text": [
      "(7, \"Uncle Bob's Organic Dried Pears\", 3, 7, '12 - 1 lb pkgs.', 30.0)\n",
      "(8, 'Northwoods Cranberry Sauce', 3, 2, '12 - 12 oz jars', 40.0)\n",
      "(9, 'Mishi Kobe Niku', 4, 6, '18 - 500 g pkgs.', 97.0)\n",
      "(10, 'Ikura', 4, 8, '12 - 200 ml jars', 31.0)\n",
      "(12, 'Queso Manchego La Pastora', 5, 4, '10 - 500 g pkgs.', 38.0)\n",
      "(17, 'Alice Mutton', 7, 6, '20 - 1 kg tins', 39.0)\n",
      "(18, 'Carnarvon Tigers', 7, 8, '16 kg pkg.', 62.5)\n",
      "(20, \"Sir Rodney's Marmalade\", 8, 3, '30 gift boxes', 81.0)\n",
      "(26, 'Gumbär Gummibärchen', 11, 3, '100 - 250 g bags', 31.23)\n",
      "(27, 'Schoggi Schokolade', 11, 3, '100 - 100 g pieces', 43.9)\n",
      "(28, 'Rössle Sauerkraut', 12, 7, '25 - 825 g cans', 45.6)\n",
      "(29, 'Thüringer Rostbratwurst', 12, 6, '50 bags x 30 sausgs.', 123.79)\n",
      "(32, 'Mascarpone Fabioli', 14, 4, '24 - 200 g pkgs.', 32.0)\n",
      "(38, 'Côte de Blaye', 18, 1, '12 - 75 cl bottles', 263.5)\n",
      "(43, 'Ipoh Coffee', 20, 1, '16 - 500 g tins', 46.0)\n",
      "(51, 'Manjimup Dried Apples', 24, 7, '50 - 300 g pkgs.', 53.0)\n",
      "(53, 'Perth Pasties', 24, 6, '48 pieces', 32.8)\n",
      "(56, 'Gnocchi di nonna Alice', 26, 5, '24 - 250 g pkgs.', 38.0)\n",
      "(59, 'Raclette Courdavault', 28, 4, '5 kg pkg.', 55.0)\n",
      "(60, 'Camembert Pierrot', 28, 4, '15 - 300 g rounds', 34.0)\n",
      "(62, 'Tarte au sucre', 29, 3, '48 pies', 49.3)\n",
      "(63, 'Vegie-spread', 7, 2, '15 - 625 g jars', 43.9)\n",
      "(64, 'Wimmers gute Semmelknödel', 12, 5, '20 bags x 4 pieces', 33.25)\n",
      "(69, 'Gudbrandsdalsost', 15, 4, '10 kg pkg.', 36.0)\n",
      "(72, 'Mozzarella di Giovanni', 14, 4, '24 - 200 g pkgs.', 34.8)\n"
     ]
    }
   ],
   "source": [
    "query = \"\"\"\n",
    "SELECT * FROM Products\n",
    "WHERE price > (SELECT AVG(price) FROM Products);\n",
    "\"\"\"\n",
    "print_query_result(query)"
   ]
  },
  {
   "cell_type": "markdown",
   "id": "512f5c40",
   "metadata": {},
   "source": [
    "# Use AVG() with GROUP BY"
   ]
  },
  {
   "cell_type": "code",
   "execution_count": 213,
   "id": "80a59ddc",
   "metadata": {},
   "outputs": [
    {
     "name": "stdout",
     "output_type": "stream",
     "text": [
      "(37.979166666666664, 1)\n",
      "(23.0625, 2)\n",
      "(25.16, 3)\n",
      "(28.73, 4)\n",
      "(20.25, 5)\n",
      "(54.00666666666667, 6)\n",
      "(32.37, 7)\n",
      "(20.6825, 8)\n"
     ]
    }
   ],
   "source": [
    "query = \"\"\"\n",
    "SELECT AVG(Price) AS AveragePrice, CategoryID\n",
    "FROM Products\n",
    "GROUP BY CategoryID;\n",
    "\"\"\"\n",
    "print_query_result(query)"
   ]
  },
  {
   "cell_type": "markdown",
   "id": "ed51388a",
   "metadata": {},
   "source": [
    "# SQL LIKE Operator"
   ]
  },
  {
   "cell_type": "code",
   "execution_count": 214,
   "id": "91b6f840",
   "metadata": {},
   "outputs": [
    {
     "name": "stdout",
     "output_type": "stream",
     "text": [
      "(1, 'Alfreds Futterkiste', 'Maria Anders', 'Obere Str. 57', 'Berlin', '12209', 'Germany')\n",
      "(2, 'Ana Trujillo Emparedados y helados', 'Ana Trujillo', 'Avda. de la Constitución 2222', 'México D.F.', '05021', 'Mexico')\n",
      "(3, 'Antonio Moreno Taquería', 'Antonio Moreno', 'Mataderos 2312', 'México D.F.', '05023', 'Mexico')\n",
      "(4, 'Around the Horn', 'Thomas Hardy', '120 Hanover Sq.', 'London', 'WA1 1DP', 'UK')\n"
     ]
    }
   ],
   "source": [
    "query = \"\"\"\n",
    "SELECT * FROM Customers\n",
    "WHERE CustomerName LIKE 'a%';\n",
    "\"\"\"\n",
    "print_query_result(query)"
   ]
  },
  {
   "cell_type": "markdown",
   "id": "b1d7c6bd",
   "metadata": {},
   "source": [
    "## The _ Wildcard"
   ]
  },
  {
   "cell_type": "code",
   "execution_count": 215,
   "id": "e5554d5e",
   "metadata": {},
   "outputs": [
    {
     "name": "stdout",
     "output_type": "stream",
     "text": [
      "(4, 'Around the Horn', 'Thomas Hardy', '120 Hanover Sq.', 'London', 'WA1 1DP', 'UK')\n",
      "(11, \"B's Beverages\", 'Victoria Ashworth', 'Fauntleroy Circus', 'London', 'EC2 5NT', 'UK')\n",
      "(16, 'Consolidated Holdings', 'Elizabeth Brown', 'Berkeley Gardens 12 Brewery ', 'London', 'WX1 6LT', 'UK')\n",
      "(19, 'Eastern Connection', 'Ann Devon', '35 King George', 'London', 'WX3 6FW', 'UK')\n",
      "(53, 'North/South', 'Simon Crowther', 'South House 300 Queensbridge', 'London', 'SW7 1RZ', 'UK')\n",
      "(72, 'Seven Seas Imports', 'Hari Kumar', '90 Wadhurst Rd.', 'London', 'OX15 4NB', 'UK')\n",
      "(75, 'Split Rail Beer & Ale', 'Art Braunschweiger', 'P.O. Box 555', 'Lander', '82520', 'USA')\n"
     ]
    }
   ],
   "source": [
    "query = \"\"\"\n",
    "SELECT * FROM Customers\n",
    "WHERE city LIKE 'L_nd__';\n",
    "\"\"\"\n",
    "print_query_result(query)"
   ]
  },
  {
   "cell_type": "markdown",
   "id": "5ea62d45",
   "metadata": {},
   "source": [
    "# The % Wildcard"
   ]
  },
  {
   "cell_type": "code",
   "execution_count": 216,
   "id": "487c9a58",
   "metadata": {},
   "outputs": [
    {
     "name": "stdout",
     "output_type": "stream",
     "text": [
      "(1, 'Alfreds Futterkiste', 'Maria Anders', 'Obere Str. 57', 'Berlin', '12209', 'Germany')\n",
      "(4, 'Around the Horn', 'Thomas Hardy', '120 Hanover Sq.', 'London', 'WA1 1DP', 'UK')\n",
      "(5, 'Berglunds snabbköp', 'Christina Berglund', 'Berguvsvägen 8', 'Luleå', 'S-958 22', 'Sweden')\n",
      "(9, \"Bon app'\", 'Laurence Lebihans', '12, rue des Bouchers', 'Marseille', '13008', 'France')\n",
      "(11, \"B's Beverages\", 'Victoria Ashworth', 'Fauntleroy Circus', 'London', 'EC2 5NT', 'UK')\n",
      "(15, 'Comércio Mineiro', 'Pedro Afonso', 'Av. dos Lusíadas, 23', 'São Paulo', '05432-043', 'Brazil')\n",
      "(16, 'Consolidated Holdings', 'Elizabeth Brown', 'Berkeley Gardens 12 Brewery ', 'London', 'WX1 6LT', 'UK')\n",
      "(19, 'Eastern Connection', 'Ann Devon', '35 King George', 'London', 'WX3 6FW', 'UK')\n",
      "(21, 'Familia Arquibaldo', 'Aria Cruz', 'Rua Orós, 92', 'São Paulo', '05442-030', 'Brazil')\n",
      "(23, 'Folies gourmandes', 'Martine Rancé', '184, chaussée de Tournai', 'Lille', '59000', 'France')\n",
      "(28, 'Furia Bacalhau e Frutos do Mar', 'Lino Rodriguez ', 'Jardim das rosas n. 32', 'Lisboa', '1675', 'Portugal')\n",
      "(29, 'Galería del gastrónomo', 'Eduardo Saavedra', 'Rambla de Cataluña, 23', 'Barcelona', '08022', 'Spain')\n",
      "(30, 'Godos Cocina Típica', 'José Pedro Freyre', 'C/ Romero, 33', 'Sevilla', '41101', 'Spain')\n",
      "(35, 'HILARIÓN-Abastos', 'Carlos Hernández', 'Carrera 22 con Ave. Carlos Soublette #8-35', 'San Cristóbal', '5022', 'Venezuela')\n",
      "(36, 'Hungry Coyote Import Store', 'Yoshi Latimer', 'City Center Plaza 516 Main St.', 'Elgin', '97827', 'USA')\n",
      "(40, \"La corne d'abondance\", 'Daniel Tonini', \"67, avenue de l'Europe\", 'Versailles', '78000', 'France')\n",
      "(41, \"La maison d'Asie\", 'Annette Roulet', '1 rue Alsace-Lorraine', 'Toulouse', '31000', 'France')\n",
      "(43, 'Lazy K Kountry Store', 'John Steel', '12 Orchestra Terrace', 'Walla Walla', '99362', 'USA')\n",
      "(48, 'Lonesome Pine Restaurant', 'Fran Wilson', '89 Chiaroscuro Rd.', 'Portland', '97219', 'USA')\n",
      "(50, 'Maison Dewey', 'Catherine Dewey', 'Rue Joseph-Bens 532', 'Bruxelles', 'B-1180', 'Belgium')\n",
      "(51, 'Mère Paillarde', 'Jean Fresnière', '43 rue St. Laurent', 'Montréal', 'H1J 1C3', 'Canada')\n",
      "(52, 'Morgenstern Gesundkost', 'Alexander Feuer', 'Heerstr. 22', 'Leipzig', '04179', 'Germany')\n",
      "(53, 'North/South', 'Simon Crowther', 'South House 300 Queensbridge', 'London', 'SW7 1RZ', 'UK')\n",
      "(56, 'Ottilies Käseladen', 'Henriette Pfalzheim', 'Mehrheimerstr. 369', 'Köln', '50739', 'Germany')\n",
      "(59, 'Piccolo und mehr', 'Georg Pipps', 'Geislweg 14', 'Salzburg', '5020', 'Austria')\n",
      "(60, 'Princesa Isabel Vinhoss', 'Isabel de Castro', 'Estrada da saúde n. 58', 'Lisboa', '1756', 'Portugal')\n",
      "(62, 'Queen Cozinha', 'Lúcia Carvalho', 'Alameda dos Canàrios, 891', 'São Paulo', '05487-020', 'Brazil')\n",
      "(63, 'QUICK-Stop', 'Horst Kloss', 'Taucherstraße 10', 'Cunewalde', '01307', 'Germany')\n",
      "(65, 'Rattlesnake Canyon Grocery', 'Paula Wilson', '2817 Milton Dr.', 'Albuquerque', '87110', 'USA')\n",
      "(66, 'Reggiani Caseifici', 'Maurizio Moroni', 'Strada Provinciale 124', 'Reggio Emilia', '42100', 'Italy')\n",
      "(72, 'Seven Seas Imports', 'Hari Kumar', '90 Wadhurst Rd.', 'London', 'OX15 4NB', 'UK')\n",
      "(75, 'Split Rail Beer & Ale', 'Art Braunschweiger', 'P.O. Box 555', 'Lander', '82520', 'USA')\n",
      "(76, 'Suprêmes délices', 'Pascale Cartrain', 'Boulevard Tirou, 255', 'Charleroi', 'B-6000', 'Belgium')\n",
      "(77, 'The Big Cheese', 'Liz Nixon', '89 Jefferson Way Suite 2', 'Portland', '97201', 'USA')\n",
      "(81, 'Tradição Hipermercados', 'Anabela Domingues', 'Av. Inês de Castro, 414', 'São Paulo', '05634-030', 'Brazil')\n",
      "(82, \"Trail's Head Gourmet Provisioners\", 'Helvetius Nagy', '722 DaVinci Blvd.', 'Kirkland', '98034', 'USA')\n",
      "(84, 'Victuailles en stock', 'Mary Saveley', '2, rue du Commerce', 'Lyon', '69004', 'France')\n",
      "(87, 'Wartian Herkku', 'Pirkko Koskitalo', 'Torikatu 38', 'Oulu', '90110', 'Finland')\n",
      "(89, 'White Clover Markets', 'Karl Jablonski', '305 - 14th Ave. S. Suite 3B', 'Seattle', '98128', 'USA')\n",
      "(90, 'Wilman Kala', 'Matti Karttunen', 'Keskuskatu 45', 'Helsinki', '21240', 'Finland')\n",
      "(91, 'Wolski', 'Zbyszek', 'ul. Filtrowa 68', 'Walla', '01-012', None)\n"
     ]
    }
   ],
   "source": [
    "query = \"\"\"\n",
    "SELECT * FROM Customers\n",
    "WHERE city LIKE '%L%';\n",
    "\"\"\"\n",
    "print_query_result(query)"
   ]
  },
  {
   "cell_type": "markdown",
   "id": "98094369",
   "metadata": {},
   "source": [
    "# Starts With"
   ]
  },
  {
   "cell_type": "code",
   "execution_count": 217,
   "id": "0a538dea",
   "metadata": {},
   "outputs": [
    {
     "name": "stdout",
     "output_type": "stream",
     "text": [
      "(40, \"La corne d'abondance\", 'Daniel Tonini', \"67, avenue de l'Europe\", 'Versailles', '78000', 'France')\n",
      "(41, \"La maison d'Asie\", 'Annette Roulet', '1 rue Alsace-Lorraine', 'Toulouse', '31000', 'France')\n",
      "(42, 'Laughing Bacchus Wine Cellars', 'Yoshi Tannamuri', '1900 Oak St.', 'Vancouver', 'V3F 2K1', 'Canada')\n",
      "(43, 'Lazy K Kountry Store', 'John Steel', '12 Orchestra Terrace', 'Walla Walla', '99362', 'USA')\n"
     ]
    }
   ],
   "source": [
    "query = \"\"\"\n",
    "SELECT * FROM Customers\n",
    "WHERE CustomerName LIKE 'La%';\n",
    "\"\"\"\n",
    "print_query_result(query)"
   ]
  },
  {
   "cell_type": "code",
   "execution_count": 218,
   "id": "b1ee11d3",
   "metadata": {},
   "outputs": [
    {
     "name": "stdout",
     "output_type": "stream",
     "text": [
      "(1, 'Alfreds Futterkiste', 'Maria Anders', 'Obere Str. 57', 'Berlin', '12209', 'Germany')\n",
      "(2, 'Ana Trujillo Emparedados y helados', 'Ana Trujillo', 'Avda. de la Constitución 2222', 'México D.F.', '05021', 'Mexico')\n",
      "(3, 'Antonio Moreno Taquería', 'Antonio Moreno', 'Mataderos 2312', 'México D.F.', '05023', 'Mexico')\n",
      "(4, 'Around the Horn', 'Thomas Hardy', '120 Hanover Sq.', 'London', 'WA1 1DP', 'UK')\n",
      "(5, 'Berglunds snabbköp', 'Christina Berglund', 'Berguvsvägen 8', 'Luleå', 'S-958 22', 'Sweden')\n",
      "(6, 'Blauer See Delikatessen', 'Hanna Moos', 'Forsterstr. 57', 'Mannheim', '68306', 'Germany')\n",
      "(7, 'Blondel père et fils', 'Frédérique Citeaux', '24, place Kléber', 'Strasbourg', '67000', 'France')\n",
      "(8, 'Bólido Comidas preparadas', 'Martín Sommer', 'C/ Araquil, 67', 'Madrid', '28023', 'Spain')\n",
      "(9, \"Bon app'\", 'Laurence Lebihans', '12, rue des Bouchers', 'Marseille', '13008', 'France')\n",
      "(10, 'Bottom-Dollar Marketse', 'Elizabeth Lincoln', '23 Tsawassen Blvd.', 'Tsawassen', 'T2F 8M4', 'Canada')\n",
      "(11, \"B's Beverages\", 'Victoria Ashworth', 'Fauntleroy Circus', 'London', 'EC2 5NT', 'UK')\n"
     ]
    }
   ],
   "source": [
    "query = \"\"\"\n",
    "SELECT * FROM Customers\n",
    "WHERE CustomerName LIKE 'a%' OR CustomerName LIKE 'b%';\n",
    "\"\"\"\n",
    "print_query_result(query)"
   ]
  },
  {
   "cell_type": "markdown",
   "id": "f98becce",
   "metadata": {},
   "source": [
    "# Ends With"
   ]
  },
  {
   "cell_type": "code",
   "execution_count": 219,
   "id": "cee29d0a",
   "metadata": {},
   "outputs": [
    {
     "name": "stdout",
     "output_type": "stream",
     "text": [
      "(3, 'Antonio Moreno Taquería', 'Antonio Moreno', 'Mataderos 2312', 'México D.F.', '05023', 'Mexico')\n",
      "(13, 'Centro comercial Moctezuma', 'Francisco Chang', 'Sierras de Granada 9993', 'México D.F.', '05022', 'Mexico')\n",
      "(30, 'Godos Cocina Típica', 'José Pedro Freyre', 'C/ Romero, 33', 'Sevilla', '41101', 'Spain')\n",
      "(61, 'Que Delícia', 'Bernardo Batista', 'Rua da Panificadora, 12', 'Rio de Janeiro', '02389-673', 'Brazil')\n",
      "(62, 'Queen Cozinha', 'Lúcia Carvalho', 'Alameda dos Canàrios, 891', 'São Paulo', '05487-020', 'Brazil')\n",
      "(88, 'Wellington Importadora', 'Paula Parente', 'Rua do Mercado, 12', 'Resende', '08737-363', 'Brazil')\n",
      "(90, 'Wilman Kala', 'Matti Karttunen', 'Keskuskatu 45', 'Helsinki', '21240', 'Finland')\n"
     ]
    }
   ],
   "source": [
    "query = \"\"\"\n",
    "SELECT * FROM Customers\n",
    "WHERE CustomerName LIKE '%a';\n",
    "\"\"\"\n",
    "print_query_result(query)"
   ]
  },
  {
   "cell_type": "code",
   "execution_count": 220,
   "id": "cb970871",
   "metadata": {},
   "outputs": [
    {
     "name": "stdout",
     "output_type": "stream",
     "text": [
      "(7, 'Blondel père et fils', 'Frédérique Citeaux', '24, place Kléber', 'Strasbourg', '67000', 'France')\n",
      "(8, 'Bólido Comidas preparadas', 'Martín Sommer', 'C/ Araquil, 67', 'Madrid', '28023', 'Spain')\n",
      "(11, \"B's Beverages\", 'Victoria Ashworth', 'Fauntleroy Circus', 'London', 'EC2 5NT', 'UK')\n"
     ]
    }
   ],
   "source": [
    "query = \"\"\"\n",
    "SELECT * FROM Customers\n",
    "WHERE CustomerName LIKE 'b%s';\n",
    "\"\"\"\n",
    "print_query_result(query)"
   ]
  },
  {
   "cell_type": "markdown",
   "id": "aa732f58",
   "metadata": {},
   "source": [
    "## Contains"
   ]
  },
  {
   "cell_type": "code",
   "execution_count": 221,
   "id": "13611f84",
   "metadata": {},
   "outputs": [
    {
     "name": "stdout",
     "output_type": "stream",
     "text": [
      "(3, 'Antonio Moreno Taquería', 'Antonio Moreno', 'Mataderos 2312', 'México D.F.', '05023', 'Mexico')\n",
      "(4, 'Around the Horn', 'Thomas Hardy', '120 Hanover Sq.', 'London', 'WA1 1DP', 'UK')\n",
      "(36, 'Hungry Coyote Import Store', 'Yoshi Latimer', 'City Center Plaza 516 Main St.', 'Elgin', '97827', 'USA')\n",
      "(40, \"La corne d'abondance\", 'Daniel Tonini', \"67, avenue de l'Europe\", 'Versailles', '78000', 'France')\n",
      "(43, 'Lazy K Kountry Store', 'John Steel', '12 Orchestra Terrace', 'Walla Walla', '99362', 'USA')\n",
      "(52, 'Morgenstern Gesundkost', 'Alexander Feuer', 'Heerstr. 22', 'Leipzig', '04179', 'Germany')\n",
      "(53, 'North/South', 'Simon Crowther', 'South House 300 Queensbridge', 'London', 'SW7 1RZ', 'UK')\n",
      "(55, 'Old World Delicatessen', 'Rene Phillips', '2743 Bering St.', 'Anchorage', '99508', 'USA')\n",
      "(72, 'Seven Seas Imports', 'Hari Kumar', '90 Wadhurst Rd.', 'London', 'OX15 4NB', 'UK')\n",
      "(80, 'Tortuga Restaurante', 'Miguel Angel Paolino', 'Avda. Azteca 123', 'México D.F.', '05033', 'Mexico')\n",
      "(88, 'Wellington Importadora', 'Paula Parente', 'Rua do Mercado, 12', 'Resende', '08737-363', 'Brazil')\n"
     ]
    }
   ],
   "source": [
    "query = \"\"\"\n",
    "SELECT * FROM Customers\n",
    "WHERE CustomerName LIKE '%or%';\n",
    "\"\"\"\n",
    "print_query_result(query)"
   ]
  },
  {
   "cell_type": "markdown",
   "id": "2589d210",
   "metadata": {},
   "source": [
    "## Combine Wildcards"
   ]
  },
  {
   "cell_type": "code",
   "execution_count": 222,
   "id": "e5b21178",
   "metadata": {},
   "outputs": [
    {
     "name": "stdout",
     "output_type": "stream",
     "text": [
      "(1, 'Alfreds Futterkiste', 'Maria Anders', 'Obere Str. 57', 'Berlin', '12209', 'Germany')\n",
      "(2, 'Ana Trujillo Emparedados y helados', 'Ana Trujillo', 'Avda. de la Constitución 2222', 'México D.F.', '05021', 'Mexico')\n",
      "(3, 'Antonio Moreno Taquería', 'Antonio Moreno', 'Mataderos 2312', 'México D.F.', '05023', 'Mexico')\n",
      "(4, 'Around the Horn', 'Thomas Hardy', '120 Hanover Sq.', 'London', 'WA1 1DP', 'UK')\n"
     ]
    }
   ],
   "source": [
    "query = \"\"\"\n",
    "SELECT * FROM Customers\n",
    "WHERE CustomerName LIKE 'a__%';\n",
    "\"\"\"\n",
    "print_query_result(query)"
   ]
  },
  {
   "cell_type": "code",
   "execution_count": 223,
   "id": "0ddf75bf",
   "metadata": {},
   "outputs": [
    {
     "name": "stdout",
     "output_type": "stream",
     "text": [
      "(4, 'Around the Horn', 'Thomas Hardy', '120 Hanover Sq.', 'London', 'WA1 1DP', 'UK')\n",
      "(17, 'Drachenblut Delikatessend', 'Sven Ottlieb', 'Walserweg 21', 'Aachen', '52066', 'Germany')\n",
      "(20, 'Ernst Handel', 'Roland Mendel', 'Kirchgasse 6', 'Graz', '8010', 'Austria')\n",
      "(25, 'Frankenversand', 'Peter Franken', 'Berliner Platz 43', 'München', '80805', 'Germany')\n",
      "(26, 'France restauration', 'Carine Schmitt', '54, rue Royale', 'Nantes', '44000', 'France')\n",
      "(27, 'Franchi S.p.A.', 'Paolo Accorti', 'Via Monte Bianco 34', 'Torino', '10100', 'Italy')\n",
      "(32, 'Great Lakes Food Market', 'Howard Snyder', '2732 Baker Blvd.', 'Eugene', '97403', 'USA')\n",
      "(33, 'GROSELLA-Restaurante', 'Manuel Pereira', '5ª Ave. Los Palos Grandes', 'Caracas', '1081', 'Venezuela')\n",
      "(60, 'Princesa Isabel Vinhoss', 'Isabel de Castro', 'Estrada da saúde n. 58', 'Lisboa', '1756', 'Portugal')\n",
      "(81, 'Tradição Hipermercados', 'Anabela Domingues', 'Av. Inês de Castro, 414', 'São Paulo', '05634-030', 'Brazil')\n",
      "(82, \"Trail's Head Gourmet Provisioners\", 'Helvetius Nagy', '722 DaVinci Blvd.', 'Kirkland', '98034', 'USA')\n"
     ]
    }
   ],
   "source": [
    "query = \"\"\"\n",
    "SELECT * FROM Customers\n",
    "WHERE CustomerName LIKE '_r%';\n",
    "\"\"\"\n",
    "print_query_result(query)"
   ]
  },
  {
   "cell_type": "markdown",
   "id": "8d8407d2",
   "metadata": {},
   "source": [
    "## Without Wildcard"
   ]
  },
  {
   "cell_type": "code",
   "execution_count": 224,
   "id": "cdfaa2d1",
   "metadata": {},
   "outputs": [
    {
     "name": "stdout",
     "output_type": "stream",
     "text": [
      "(8, 'Bólido Comidas preparadas', 'Martín Sommer', 'C/ Araquil, 67', 'Madrid', '28023', 'Spain')\n",
      "(22, 'FISSA Fabrica Inter. Salchichas S.A.', 'Diego Roel', 'C/ Moralzarzal, 86', 'Madrid', '28034', 'Spain')\n",
      "(29, 'Galería del gastrónomo', 'Eduardo Saavedra', 'Rambla de Cataluña, 23', 'Barcelona', '08022', 'Spain')\n",
      "(30, 'Godos Cocina Típica', 'José Pedro Freyre', 'C/ Romero, 33', 'Sevilla', '41101', 'Spain')\n",
      "(69, 'Romero y tomillo', 'Alejandra Camino', 'Gran Vía, 1', 'Madrid', '28001', 'Spain')\n"
     ]
    }
   ],
   "source": [
    "query = \"\"\"\n",
    "SELECT * FROM Customers\n",
    "WHERE Country LIKE 'Spain';\n",
    "\"\"\"\n",
    "print_query_result(query)"
   ]
  },
  {
   "cell_type": "markdown",
   "id": "280eee2c",
   "metadata": {},
   "source": [
    "## SQL Wildcard Characters\n"
   ]
  },
  {
   "cell_type": "code",
   "execution_count": 225,
   "id": "040ae586",
   "metadata": {},
   "outputs": [
    {
     "name": "stdout",
     "output_type": "stream",
     "text": [
      "(1, 'Alfreds Futterkiste', 'Maria Anders', 'Obere Str. 57', 'Berlin', '12209', 'Germany')\n",
      "(2, 'Ana Trujillo Emparedados y helados', 'Ana Trujillo', 'Avda. de la Constitución 2222', 'México D.F.', '05021', 'Mexico')\n",
      "(3, 'Antonio Moreno Taquería', 'Antonio Moreno', 'Mataderos 2312', 'México D.F.', '05023', 'Mexico')\n",
      "(4, 'Around the Horn', 'Thomas Hardy', '120 Hanover Sq.', 'London', 'WA1 1DP', 'UK')\n"
     ]
    }
   ],
   "source": [
    "query = \"\"\"\n",
    "SELECT * FROM Customers\n",
    "WHERE CustomerName LIKE 'a%';\n",
    "\"\"\"\n",
    "print_query_result(query)"
   ]
  },
  {
   "cell_type": "markdown",
   "id": "ec5af6e3",
   "metadata": {},
   "source": [
    "# Using the % Wildcard"
   ]
  },
  {
   "cell_type": "code",
   "execution_count": 226,
   "id": "a7f69007",
   "metadata": {},
   "outputs": [
    {
     "name": "stdout",
     "output_type": "stream",
     "text": [
      "(11, \"B's Beverages\", 'Victoria Ashworth', 'Fauntleroy Circus', 'London', 'EC2 5NT', 'UK')\n",
      "(23, 'Folies gourmandes', 'Martine Rancé', '184, chaussée de Tournai', 'Lille', '59000', 'France')\n",
      "(31, 'Gourmet Lanchonetes', 'André Fonseca', 'Av. Brasil, 442', 'Campinas', '04876-786', 'Brazil')\n",
      "(34, 'Hanari Carnes', 'Mario Pontes', 'Rua do Paço, 67', 'Rio de Janeiro', '05454-876', 'Brazil')\n",
      "(47, 'LINO-Delicateses', 'Felipe Izquierdo', 'Ave. 5 de Mayo Porlamar', 'I. de Margarita', '4980', 'Venezuela')\n",
      "(76, 'Suprêmes délices', 'Pascale Cartrain', 'Boulevard Tirou, 255', 'Charleroi', 'B-6000', 'Belgium')\n"
     ]
    }
   ],
   "source": [
    "query = \"\"\"\n",
    "SELECT * FROM Customers\n",
    "WHERE CustomerName LIKE '%es';\n",
    "\"\"\"\n",
    "print_query_result(query)"
   ]
  },
  {
   "cell_type": "code",
   "execution_count": 227,
   "id": "5c00c432",
   "metadata": {},
   "outputs": [
    {
     "name": "stdout",
     "output_type": "stream",
     "text": [
      "(13, 'Centro comercial Moctezuma', 'Francisco Chang', 'Sierras de Granada 9993', 'México D.F.', '05022', 'Mexico')\n",
      "(46, 'LILA-Supermercado', 'Carlos González', 'Carrera 52 con Ave. Bolívar #65-98 Llano Largo', 'Barquisimeto', '3508', 'Venezuela')\n",
      "(69, 'Romero y tomillo', 'Alejandra Camino', 'Gran Vía, 1', 'Madrid', '28001', 'Spain')\n",
      "(81, 'Tradição Hipermercados', 'Anabela Domingues', 'Av. Inês de Castro, 414', 'São Paulo', '05634-030', 'Brazil')\n"
     ]
    }
   ],
   "source": [
    "query = \"\"\"\n",
    "SELECT * FROM Customers\n",
    "WHERE CustomerName LIKE '%mer%';\n",
    "\"\"\"\n",
    "print_query_result(query)"
   ]
  },
  {
   "cell_type": "markdown",
   "id": "d9179b04",
   "metadata": {},
   "source": [
    "# Using the _ Wildcard"
   ]
  },
  {
   "cell_type": "code",
   "execution_count": 228,
   "id": "c78900b2",
   "metadata": {},
   "outputs": [
    {
     "name": "stdout",
     "output_type": "stream",
     "text": [
      "(4, 'Around the Horn', 'Thomas Hardy', '120 Hanover Sq.', 'London', 'WA1 1DP', 'UK')\n",
      "(11, \"B's Beverages\", 'Victoria Ashworth', 'Fauntleroy Circus', 'London', 'EC2 5NT', 'UK')\n",
      "(16, 'Consolidated Holdings', 'Elizabeth Brown', 'Berkeley Gardens 12 Brewery ', 'London', 'WX1 6LT', 'UK')\n",
      "(19, 'Eastern Connection', 'Ann Devon', '35 King George', 'London', 'WX3 6FW', 'UK')\n",
      "(53, 'North/South', 'Simon Crowther', 'South House 300 Queensbridge', 'London', 'SW7 1RZ', 'UK')\n",
      "(72, 'Seven Seas Imports', 'Hari Kumar', '90 Wadhurst Rd.', 'London', 'OX15 4NB', 'UK')\n"
     ]
    }
   ],
   "source": [
    "query = \"\"\"\n",
    "SELECT * FROM Customers\n",
    "WHERE City LIKE '_ondon';\n",
    "\"\"\"\n",
    "print_query_result(query)"
   ]
  },
  {
   "cell_type": "code",
   "execution_count": 229,
   "id": "bc9d5edb",
   "metadata": {},
   "outputs": [
    {
     "name": "stdout",
     "output_type": "stream",
     "text": [
      "(4, 'Around the Horn', 'Thomas Hardy', '120 Hanover Sq.', 'London', 'WA1 1DP', 'UK')\n",
      "(11, \"B's Beverages\", 'Victoria Ashworth', 'Fauntleroy Circus', 'London', 'EC2 5NT', 'UK')\n",
      "(16, 'Consolidated Holdings', 'Elizabeth Brown', 'Berkeley Gardens 12 Brewery ', 'London', 'WX1 6LT', 'UK')\n",
      "(19, 'Eastern Connection', 'Ann Devon', '35 King George', 'London', 'WX3 6FW', 'UK')\n",
      "(53, 'North/South', 'Simon Crowther', 'South House 300 Queensbridge', 'London', 'SW7 1RZ', 'UK')\n",
      "(72, 'Seven Seas Imports', 'Hari Kumar', '90 Wadhurst Rd.', 'London', 'OX15 4NB', 'UK')\n"
     ]
    }
   ],
   "source": [
    "query = \"\"\"\n",
    "SELECT * FROM Customers\n",
    "WHERE City LIKE 'L___on';\n",
    "\"\"\"\n",
    "print_query_result(query)"
   ]
  },
  {
   "cell_type": "markdown",
   "id": "62cc9a11",
   "metadata": {},
   "source": [
    "## Using the [] Wildcard"
   ]
  },
  {
   "cell_type": "code",
   "execution_count": 230,
   "id": "d34ba0cb",
   "metadata": {},
   "outputs": [
    {
     "name": "stdout",
     "output_type": "stream",
     "text": [
      "(5, 'Berglunds snabbköp', 'Christina Berglund', 'Berguvsvägen 8', 'Luleå', 'S-958 22', 'Sweden')\n",
      "(6, 'Blauer See Delikatessen', 'Hanna Moos', 'Forsterstr. 57', 'Mannheim', '68306', 'Germany')\n",
      "(7, 'Blondel père et fils', 'Frédérique Citeaux', '24, place Kléber', 'Strasbourg', '67000', 'France')\n",
      "(8, 'Bólido Comidas preparadas', 'Martín Sommer', 'C/ Araquil, 67', 'Madrid', '28023', 'Spain')\n",
      "(9, \"Bon app'\", 'Laurence Lebihans', '12, rue des Bouchers', 'Marseille', '13008', 'France')\n",
      "(10, 'Bottom-Dollar Marketse', 'Elizabeth Lincoln', '23 Tsawassen Blvd.', 'Tsawassen', 'T2F 8M4', 'Canada')\n",
      "(11, \"B's Beverages\", 'Victoria Ashworth', 'Fauntleroy Circus', 'London', 'EC2 5NT', 'UK')\n",
      "(57, 'Paris spécialités', 'Marie Bertrand', '265, boulevard Charonne', 'Paris', '75012', 'France')\n",
      "(58, 'Pericles Comidas clásicas', 'Guillermo Fernández', 'Calle Dr. Jorge Cash 321', 'México D.F.', '05033', 'Mexico')\n",
      "(59, 'Piccolo und mehr', 'Georg Pipps', 'Geislweg 14', 'Salzburg', '5020', 'Austria')\n",
      "(60, 'Princesa Isabel Vinhoss', 'Isabel de Castro', 'Estrada da saúde n. 58', 'Lisboa', '1756', 'Portugal')\n",
      "(70, 'Santé Gourmet', 'Jonas Bergulfsen', 'Erling Skakkes gate 78', 'Stavern', '4110', 'Norway')\n",
      "(71, 'Save-a-lot Markets', 'Jose Pavarotti', '187 Suffolk Ln.', 'Boise', '83720', 'USA')\n",
      "(72, 'Seven Seas Imports', 'Hari Kumar', '90 Wadhurst Rd.', 'London', 'OX15 4NB', 'UK')\n",
      "(73, 'Simons bistro', 'Jytte Petersen', 'Vinbæltet 34', 'København', '1734', 'Denmark')\n",
      "(74, 'Spécialités du monde', 'Dominique Perrier', '25, rue Lauriston', 'Paris', '75016', 'France')\n",
      "(75, 'Split Rail Beer & Ale', 'Art Braunschweiger', 'P.O. Box 555', 'Lander', '82520', 'USA')\n",
      "(76, 'Suprêmes délices', 'Pascale Cartrain', 'Boulevard Tirou, 255', 'Charleroi', 'B-6000', 'Belgium')\n"
     ]
    }
   ],
   "source": [
    "query = \"\"\"\n",
    "SELECT * FROM Customers\n",
    "WHERE CustomerName LIKE '[bsp]%';\n",
    "\"\"\"\n",
    "# sqlite는 [] 지원 안함 !\n",
    "# 아래와 같이 변경\n",
    "query = \"\"\"\n",
    "SELECT * FROM Customers\n",
    "WHERE CustomerName LIKE 'b%'\n",
    "OR CustomerName LIKE 's%'\n",
    "OR CustomerName LIKE 'p%';\n",
    "\"\"\"\n",
    "print_query_result(query)"
   ]
  },
  {
   "cell_type": "markdown",
   "id": "5b93f780",
   "metadata": {},
   "source": [
    "## Using the - Wildcard"
   ]
  },
  {
   "cell_type": "code",
   "execution_count": 231,
   "id": "a5edffdb",
   "metadata": {},
   "outputs": [
    {
     "name": "stdout",
     "output_type": "stream",
     "text": [
      "(1, 'Alfreds Futterkiste', 'Maria Anders', 'Obere Str. 57', 'Berlin', '12209', 'Germany')\n",
      "(2, 'Ana Trujillo Emparedados y helados', 'Ana Trujillo', 'Avda. de la Constitución 2222', 'México D.F.', '05021', 'Mexico')\n",
      "(3, 'Antonio Moreno Taquería', 'Antonio Moreno', 'Mataderos 2312', 'México D.F.', '05023', 'Mexico')\n",
      "(4, 'Around the Horn', 'Thomas Hardy', '120 Hanover Sq.', 'London', 'WA1 1DP', 'UK')\n",
      "(5, 'Berglunds snabbköp', 'Christina Berglund', 'Berguvsvägen 8', 'Luleå', 'S-958 22', 'Sweden')\n",
      "(6, 'Blauer See Delikatessen', 'Hanna Moos', 'Forsterstr. 57', 'Mannheim', '68306', 'Germany')\n",
      "(7, 'Blondel père et fils', 'Frédérique Citeaux', '24, place Kléber', 'Strasbourg', '67000', 'France')\n",
      "(8, 'Bólido Comidas preparadas', 'Martín Sommer', 'C/ Araquil, 67', 'Madrid', '28023', 'Spain')\n",
      "(9, \"Bon app'\", 'Laurence Lebihans', '12, rue des Bouchers', 'Marseille', '13008', 'France')\n",
      "(10, 'Bottom-Dollar Marketse', 'Elizabeth Lincoln', '23 Tsawassen Blvd.', 'Tsawassen', 'T2F 8M4', 'Canada')\n",
      "(11, \"B's Beverages\", 'Victoria Ashworth', 'Fauntleroy Circus', 'London', 'EC2 5NT', 'UK')\n",
      "(12, 'Cactus Comidas para llevar', 'Patricio Simpson', 'Cerrito 333', 'Buenos Aires', '1010', 'Argentina')\n",
      "(13, 'Centro comercial Moctezuma', 'Francisco Chang', 'Sierras de Granada 9993', 'México D.F.', '05022', 'Mexico')\n",
      "(14, 'Chop-suey Chinese', 'Yang Wang', 'Hauptstr. 29', 'Bern', '3012', 'Switzerland')\n",
      "(15, 'Comércio Mineiro', 'Pedro Afonso', 'Av. dos Lusíadas, 23', 'São Paulo', '05432-043', 'Brazil')\n",
      "(16, 'Consolidated Holdings', 'Elizabeth Brown', 'Berkeley Gardens 12 Brewery ', 'London', 'WX1 6LT', 'UK')\n",
      "(17, 'Drachenblut Delikatessend', 'Sven Ottlieb', 'Walserweg 21', 'Aachen', '52066', 'Germany')\n",
      "(18, 'Du monde entier', 'Janine Labrune', '67, rue des Cinquante Otages', 'Nantes', '44000', 'France')\n",
      "(19, 'Eastern Connection', 'Ann Devon', '35 King George', 'London', 'WX3 6FW', 'UK')\n",
      "(20, 'Ernst Handel', 'Roland Mendel', 'Kirchgasse 6', 'Graz', '8010', 'Austria')\n",
      "(21, 'Familia Arquibaldo', 'Aria Cruz', 'Rua Orós, 92', 'São Paulo', '05442-030', 'Brazil')\n",
      "(22, 'FISSA Fabrica Inter. Salchichas S.A.', 'Diego Roel', 'C/ Moralzarzal, 86', 'Madrid', '28034', 'Spain')\n",
      "(23, 'Folies gourmandes', 'Martine Rancé', '184, chaussée de Tournai', 'Lille', '59000', 'France')\n",
      "(24, 'Folk och fä HB', 'Maria Larsson', 'Åkergatan 24', 'Bräcke', 'S-844 67', 'Sweden')\n",
      "(25, 'Frankenversand', 'Peter Franken', 'Berliner Platz 43', 'München', '80805', 'Germany')\n",
      "(26, 'France restauration', 'Carine Schmitt', '54, rue Royale', 'Nantes', '44000', 'France')\n",
      "(27, 'Franchi S.p.A.', 'Paolo Accorti', 'Via Monte Bianco 34', 'Torino', '10100', 'Italy')\n",
      "(28, 'Furia Bacalhau e Frutos do Mar', 'Lino Rodriguez ', 'Jardim das rosas n. 32', 'Lisboa', '1675', 'Portugal')\n",
      "(86, 'Die Wandernde Kuh', 'Rita Müller', 'Adenauerallee 900', 'Stuttgart', '70563', 'Germany')\n"
     ]
    }
   ],
   "source": [
    "query = \"\"\"\n",
    "SELECT * FROM Customers\n",
    "WHERE CustomerName LIKE '[a-f]%';\n",
    "\"\"\"\n",
    "# 얘도 아래와 같이 변경\n",
    "query = \"\"\"\n",
    "SELECT * FROM Customers\n",
    "WHERE CustomerName LIKE 'a%' \n",
    "OR CustomerName LIKE 'b%' \n",
    "OR CustomerName LIKE 'c%' \n",
    "OR CustomerName LIKE 'd%' \n",
    "OR CustomerName LIKE 'e%' \n",
    "OR CustomerName LIKE 'f%';\n",
    "\"\"\"\n",
    "print_query_result(query)"
   ]
  },
  {
   "cell_type": "markdown",
   "id": "07bee041",
   "metadata": {},
   "source": [
    "## Combine Wildcards"
   ]
  },
  {
   "cell_type": "code",
   "execution_count": 232,
   "id": "2c4ae73b",
   "metadata": {},
   "outputs": [
    {
     "name": "stdout",
     "output_type": "stream",
     "text": [
      "(1, 'Alfreds Futterkiste', 'Maria Anders', 'Obere Str. 57', 'Berlin', '12209', 'Germany')\n",
      "(2, 'Ana Trujillo Emparedados y helados', 'Ana Trujillo', 'Avda. de la Constitución 2222', 'México D.F.', '05021', 'Mexico')\n",
      "(3, 'Antonio Moreno Taquería', 'Antonio Moreno', 'Mataderos 2312', 'México D.F.', '05023', 'Mexico')\n",
      "(4, 'Around the Horn', 'Thomas Hardy', '120 Hanover Sq.', 'London', 'WA1 1DP', 'UK')\n"
     ]
    }
   ],
   "source": [
    "query = \"\"\"\n",
    "SELECT * FROM Customers\n",
    "WHERE CustomerName LIKE 'a__%';\n",
    "\"\"\"\n",
    "print_query_result(query)"
   ]
  },
  {
   "cell_type": "code",
   "execution_count": 233,
   "id": "c6114b5e",
   "metadata": {},
   "outputs": [
    {
     "name": "stdout",
     "output_type": "stream",
     "text": [
      "(4, 'Around the Horn', 'Thomas Hardy', '120 Hanover Sq.', 'London', 'WA1 1DP', 'UK')\n",
      "(17, 'Drachenblut Delikatessend', 'Sven Ottlieb', 'Walserweg 21', 'Aachen', '52066', 'Germany')\n",
      "(20, 'Ernst Handel', 'Roland Mendel', 'Kirchgasse 6', 'Graz', '8010', 'Austria')\n",
      "(25, 'Frankenversand', 'Peter Franken', 'Berliner Platz 43', 'München', '80805', 'Germany')\n",
      "(26, 'France restauration', 'Carine Schmitt', '54, rue Royale', 'Nantes', '44000', 'France')\n",
      "(27, 'Franchi S.p.A.', 'Paolo Accorti', 'Via Monte Bianco 34', 'Torino', '10100', 'Italy')\n",
      "(32, 'Great Lakes Food Market', 'Howard Snyder', '2732 Baker Blvd.', 'Eugene', '97403', 'USA')\n",
      "(33, 'GROSELLA-Restaurante', 'Manuel Pereira', '5ª Ave. Los Palos Grandes', 'Caracas', '1081', 'Venezuela')\n",
      "(60, 'Princesa Isabel Vinhoss', 'Isabel de Castro', 'Estrada da saúde n. 58', 'Lisboa', '1756', 'Portugal')\n",
      "(81, 'Tradição Hipermercados', 'Anabela Domingues', 'Av. Inês de Castro, 414', 'São Paulo', '05634-030', 'Brazil')\n",
      "(82, \"Trail's Head Gourmet Provisioners\", 'Helvetius Nagy', '722 DaVinci Blvd.', 'Kirkland', '98034', 'USA')\n"
     ]
    }
   ],
   "source": [
    "query = \"\"\"\n",
    "SELECT * FROM Customers\n",
    "WHERE CustomerName LIKE '_r%';\n",
    "\"\"\"\n",
    "print_query_result(query)"
   ]
  },
  {
   "cell_type": "markdown",
   "id": "ae69e733",
   "metadata": {},
   "source": [
    "## Without Wildcard"
   ]
  },
  {
   "cell_type": "code",
   "execution_count": 234,
   "id": "5ef3e881",
   "metadata": {},
   "outputs": [
    {
     "name": "stdout",
     "output_type": "stream",
     "text": [
      "(8, 'Bólido Comidas preparadas', 'Martín Sommer', 'C/ Araquil, 67', 'Madrid', '28023', 'Spain')\n",
      "(22, 'FISSA Fabrica Inter. Salchichas S.A.', 'Diego Roel', 'C/ Moralzarzal, 86', 'Madrid', '28034', 'Spain')\n",
      "(29, 'Galería del gastrónomo', 'Eduardo Saavedra', 'Rambla de Cataluña, 23', 'Barcelona', '08022', 'Spain')\n",
      "(30, 'Godos Cocina Típica', 'José Pedro Freyre', 'C/ Romero, 33', 'Sevilla', '41101', 'Spain')\n",
      "(69, 'Romero y tomillo', 'Alejandra Camino', 'Gran Vía, 1', 'Madrid', '28001', 'Spain')\n"
     ]
    }
   ],
   "source": [
    "query = \"\"\"\n",
    "SELECT * FROM Customers\n",
    "WHERE Country LIKE 'Spain';\n",
    "\"\"\"\n",
    "print_query_result(query)"
   ]
  },
  {
   "cell_type": "markdown",
   "id": "ee7e51e0",
   "metadata": {},
   "source": [
    "## SQL IN Operator"
   ]
  },
  {
   "cell_type": "code",
   "execution_count": 235,
   "id": "45efcefa",
   "metadata": {},
   "outputs": [
    {
     "name": "stdout",
     "output_type": "stream",
     "text": [
      "(1, 'Alfreds Futterkiste', 'Maria Anders', 'Obere Str. 57', 'Berlin', '12209', 'Germany')\n",
      "(4, 'Around the Horn', 'Thomas Hardy', '120 Hanover Sq.', 'London', 'WA1 1DP', 'UK')\n",
      "(6, 'Blauer See Delikatessen', 'Hanna Moos', 'Forsterstr. 57', 'Mannheim', '68306', 'Germany')\n",
      "(7, 'Blondel père et fils', 'Frédérique Citeaux', '24, place Kléber', 'Strasbourg', '67000', 'France')\n",
      "(9, \"Bon app'\", 'Laurence Lebihans', '12, rue des Bouchers', 'Marseille', '13008', 'France')\n",
      "(11, \"B's Beverages\", 'Victoria Ashworth', 'Fauntleroy Circus', 'London', 'EC2 5NT', 'UK')\n",
      "(16, 'Consolidated Holdings', 'Elizabeth Brown', 'Berkeley Gardens 12 Brewery ', 'London', 'WX1 6LT', 'UK')\n",
      "(17, 'Drachenblut Delikatessend', 'Sven Ottlieb', 'Walserweg 21', 'Aachen', '52066', 'Germany')\n",
      "(18, 'Du monde entier', 'Janine Labrune', '67, rue des Cinquante Otages', 'Nantes', '44000', 'France')\n",
      "(19, 'Eastern Connection', 'Ann Devon', '35 King George', 'London', 'WX3 6FW', 'UK')\n",
      "(23, 'Folies gourmandes', 'Martine Rancé', '184, chaussée de Tournai', 'Lille', '59000', 'France')\n",
      "(25, 'Frankenversand', 'Peter Franken', 'Berliner Platz 43', 'München', '80805', 'Germany')\n",
      "(26, 'France restauration', 'Carine Schmitt', '54, rue Royale', 'Nantes', '44000', 'France')\n",
      "(38, 'Island Trading', 'Helen Bennett', 'Garden House Crowther Way', 'Cowes', 'PO31 7PJ', 'UK')\n",
      "(39, 'Königlich Essen', 'Philip Cramer', 'Maubelstr. 90', 'Brandenburg', '14776', 'Germany')\n",
      "(40, \"La corne d'abondance\", 'Daniel Tonini', \"67, avenue de l'Europe\", 'Versailles', '78000', 'France')\n",
      "(41, \"La maison d'Asie\", 'Annette Roulet', '1 rue Alsace-Lorraine', 'Toulouse', '31000', 'France')\n",
      "(44, 'Lehmanns Marktstand', 'Renate Messner', 'Magazinweg 7', 'Frankfurt a.M. ', '60528', 'Germany')\n",
      "(52, 'Morgenstern Gesundkost', 'Alexander Feuer', 'Heerstr. 22', 'Leipzig', '04179', 'Germany')\n",
      "(53, 'North/South', 'Simon Crowther', 'South House 300 Queensbridge', 'London', 'SW7 1RZ', 'UK')\n",
      "(56, 'Ottilies Käseladen', 'Henriette Pfalzheim', 'Mehrheimerstr. 369', 'Köln', '50739', 'Germany')\n",
      "(57, 'Paris spécialités', 'Marie Bertrand', '265, boulevard Charonne', 'Paris', '75012', 'France')\n",
      "(63, 'QUICK-Stop', 'Horst Kloss', 'Taucherstraße 10', 'Cunewalde', '01307', 'Germany')\n",
      "(72, 'Seven Seas Imports', 'Hari Kumar', '90 Wadhurst Rd.', 'London', 'OX15 4NB', 'UK')\n",
      "(74, 'Spécialités du monde', 'Dominique Perrier', '25, rue Lauriston', 'Paris', '75016', 'France')\n",
      "(79, 'Toms Spezialitäten', 'Karin Josephs', 'Luisenstr. 48', 'Münster', '44087', 'Germany')\n",
      "(84, 'Victuailles en stock', 'Mary Saveley', '2, rue du Commerce', 'Lyon', '69004', 'France')\n",
      "(85, 'Vins et alcools Chevalier', 'Paul Henriot', \"59 rue de l'Abbaye\", 'Reims', '51100', 'France')\n",
      "(86, 'Die Wandernde Kuh', 'Rita Müller', 'Adenauerallee 900', 'Stuttgart', '70563', 'Germany')\n"
     ]
    }
   ],
   "source": [
    "query = \"\"\"\n",
    "SELECT * FROM Customers\n",
    "WHERE Country IN ('Germany', 'France', 'UK');\n",
    "\"\"\"\n",
    "print_query_result(query)"
   ]
  },
  {
   "cell_type": "markdown",
   "id": "862c9037",
   "metadata": {},
   "source": [
    "## NOT IN"
   ]
  },
  {
   "cell_type": "code",
   "execution_count": 236,
   "id": "1d06e65f",
   "metadata": {},
   "outputs": [
    {
     "name": "stdout",
     "output_type": "stream",
     "text": [
      "(2, 'Ana Trujillo Emparedados y helados', 'Ana Trujillo', 'Avda. de la Constitución 2222', 'México D.F.', '05021', 'Mexico')\n",
      "(3, 'Antonio Moreno Taquería', 'Antonio Moreno', 'Mataderos 2312', 'México D.F.', '05023', 'Mexico')\n",
      "(5, 'Berglunds snabbköp', 'Christina Berglund', 'Berguvsvägen 8', 'Luleå', 'S-958 22', 'Sweden')\n",
      "(8, 'Bólido Comidas preparadas', 'Martín Sommer', 'C/ Araquil, 67', 'Madrid', '28023', 'Spain')\n",
      "(10, 'Bottom-Dollar Marketse', 'Elizabeth Lincoln', '23 Tsawassen Blvd.', 'Tsawassen', 'T2F 8M4', 'Canada')\n",
      "(12, 'Cactus Comidas para llevar', 'Patricio Simpson', 'Cerrito 333', 'Buenos Aires', '1010', 'Argentina')\n",
      "(13, 'Centro comercial Moctezuma', 'Francisco Chang', 'Sierras de Granada 9993', 'México D.F.', '05022', 'Mexico')\n",
      "(14, 'Chop-suey Chinese', 'Yang Wang', 'Hauptstr. 29', 'Bern', '3012', 'Switzerland')\n",
      "(15, 'Comércio Mineiro', 'Pedro Afonso', 'Av. dos Lusíadas, 23', 'São Paulo', '05432-043', 'Brazil')\n",
      "(20, 'Ernst Handel', 'Roland Mendel', 'Kirchgasse 6', 'Graz', '8010', 'Austria')\n",
      "(21, 'Familia Arquibaldo', 'Aria Cruz', 'Rua Orós, 92', 'São Paulo', '05442-030', 'Brazil')\n",
      "(22, 'FISSA Fabrica Inter. Salchichas S.A.', 'Diego Roel', 'C/ Moralzarzal, 86', 'Madrid', '28034', 'Spain')\n",
      "(24, 'Folk och fä HB', 'Maria Larsson', 'Åkergatan 24', 'Bräcke', 'S-844 67', 'Sweden')\n",
      "(27, 'Franchi S.p.A.', 'Paolo Accorti', 'Via Monte Bianco 34', 'Torino', '10100', 'Italy')\n",
      "(28, 'Furia Bacalhau e Frutos do Mar', 'Lino Rodriguez ', 'Jardim das rosas n. 32', 'Lisboa', '1675', 'Portugal')\n",
      "(29, 'Galería del gastrónomo', 'Eduardo Saavedra', 'Rambla de Cataluña, 23', 'Barcelona', '08022', 'Spain')\n",
      "(30, 'Godos Cocina Típica', 'José Pedro Freyre', 'C/ Romero, 33', 'Sevilla', '41101', 'Spain')\n",
      "(31, 'Gourmet Lanchonetes', 'André Fonseca', 'Av. Brasil, 442', 'Campinas', '04876-786', 'Brazil')\n",
      "(32, 'Great Lakes Food Market', 'Howard Snyder', '2732 Baker Blvd.', 'Eugene', '97403', 'USA')\n",
      "(33, 'GROSELLA-Restaurante', 'Manuel Pereira', '5ª Ave. Los Palos Grandes', 'Caracas', '1081', 'Venezuela')\n",
      "(34, 'Hanari Carnes', 'Mario Pontes', 'Rua do Paço, 67', 'Rio de Janeiro', '05454-876', 'Brazil')\n",
      "(35, 'HILARIÓN-Abastos', 'Carlos Hernández', 'Carrera 22 con Ave. Carlos Soublette #8-35', 'San Cristóbal', '5022', 'Venezuela')\n",
      "(36, 'Hungry Coyote Import Store', 'Yoshi Latimer', 'City Center Plaza 516 Main St.', 'Elgin', '97827', 'USA')\n",
      "(37, 'Hungry Owl All-Night Grocers', 'Patricia McKenna', '8 Johnstown Road', 'Cork', None, 'Ireland')\n",
      "(42, 'Laughing Bacchus Wine Cellars', 'Yoshi Tannamuri', '1900 Oak St.', 'Vancouver', 'V3F 2K1', 'Canada')\n",
      "(43, 'Lazy K Kountry Store', 'John Steel', '12 Orchestra Terrace', 'Walla Walla', '99362', 'USA')\n",
      "(45, \"Let's Stop N Shop\", 'Jaime Yorres', '87 Polk St. Suite 5', 'San Francisco', '94117', 'USA')\n",
      "(46, 'LILA-Supermercado', 'Carlos González', 'Carrera 52 con Ave. Bolívar #65-98 Llano Largo', 'Barquisimeto', '3508', 'Venezuela')\n",
      "(47, 'LINO-Delicateses', 'Felipe Izquierdo', 'Ave. 5 de Mayo Porlamar', 'I. de Margarita', '4980', 'Venezuela')\n",
      "(48, 'Lonesome Pine Restaurant', 'Fran Wilson', '89 Chiaroscuro Rd.', 'Portland', '97219', 'USA')\n",
      "(49, 'Magazzini Alimentari Riuniti', 'Giovanni Rovelli', 'Via Ludovico il Moro 22', 'Bergamo', '24100', 'Italy')\n",
      "(50, 'Maison Dewey', 'Catherine Dewey', 'Rue Joseph-Bens 532', 'Bruxelles', 'B-1180', 'Belgium')\n",
      "(51, 'Mère Paillarde', 'Jean Fresnière', '43 rue St. Laurent', 'Montréal', 'H1J 1C3', 'Canada')\n",
      "(54, 'Océano Atlántico Ltda.', 'Yvonne Moncada', 'Ing. Gustavo Moncada 8585 Piso 20-A', 'Buenos Aires', '1010', 'Argentina')\n",
      "(55, 'Old World Delicatessen', 'Rene Phillips', '2743 Bering St.', 'Anchorage', '99508', 'USA')\n",
      "(58, 'Pericles Comidas clásicas', 'Guillermo Fernández', 'Calle Dr. Jorge Cash 321', 'México D.F.', '05033', 'Mexico')\n",
      "(59, 'Piccolo und mehr', 'Georg Pipps', 'Geislweg 14', 'Salzburg', '5020', 'Austria')\n",
      "(60, 'Princesa Isabel Vinhoss', 'Isabel de Castro', 'Estrada da saúde n. 58', 'Lisboa', '1756', 'Portugal')\n",
      "(61, 'Que Delícia', 'Bernardo Batista', 'Rua da Panificadora, 12', 'Rio de Janeiro', '02389-673', 'Brazil')\n",
      "(62, 'Queen Cozinha', 'Lúcia Carvalho', 'Alameda dos Canàrios, 891', 'São Paulo', '05487-020', 'Brazil')\n",
      "(64, 'Rancho grande', 'Sergio Gutiérrez', 'Av. del Libertador 900', 'Buenos Aires', '1010', 'Argentina')\n",
      "(65, 'Rattlesnake Canyon Grocery', 'Paula Wilson', '2817 Milton Dr.', 'Albuquerque', '87110', 'USA')\n",
      "(66, 'Reggiani Caseifici', 'Maurizio Moroni', 'Strada Provinciale 124', 'Reggio Emilia', '42100', 'Italy')\n",
      "(67, 'Ricardo Adocicados', 'Janete Limeira', 'Av. Copacabana, 267', 'Rio de Janeiro', '02389-890', 'Brazil')\n",
      "(68, 'Richter Supermarkt', 'Michael Holz', 'Grenzacherweg 237', 'Genève', '1203', 'Switzerland')\n",
      "(69, 'Romero y tomillo', 'Alejandra Camino', 'Gran Vía, 1', 'Madrid', '28001', 'Spain')\n",
      "(70, 'Santé Gourmet', 'Jonas Bergulfsen', 'Erling Skakkes gate 78', 'Stavern', '4110', 'Norway')\n",
      "(71, 'Save-a-lot Markets', 'Jose Pavarotti', '187 Suffolk Ln.', 'Boise', '83720', 'USA')\n",
      "(73, 'Simons bistro', 'Jytte Petersen', 'Vinbæltet 34', 'København', '1734', 'Denmark')\n",
      "(75, 'Split Rail Beer & Ale', 'Art Braunschweiger', 'P.O. Box 555', 'Lander', '82520', 'USA')\n",
      "(76, 'Suprêmes délices', 'Pascale Cartrain', 'Boulevard Tirou, 255', 'Charleroi', 'B-6000', 'Belgium')\n",
      "(77, 'The Big Cheese', 'Liz Nixon', '89 Jefferson Way Suite 2', 'Portland', '97201', 'USA')\n",
      "(78, 'The Cracker Box', 'Liu Wong', '55 Grizzly Peak Rd.', 'Butte', '59801', 'USA')\n",
      "(80, 'Tortuga Restaurante', 'Miguel Angel Paolino', 'Avda. Azteca 123', 'México D.F.', '05033', 'Mexico')\n",
      "(81, 'Tradição Hipermercados', 'Anabela Domingues', 'Av. Inês de Castro, 414', 'São Paulo', '05634-030', 'Brazil')\n",
      "(82, \"Trail's Head Gourmet Provisioners\", 'Helvetius Nagy', '722 DaVinci Blvd.', 'Kirkland', '98034', 'USA')\n",
      "(83, 'Vaffeljernet', 'Palle Ibsen', 'Smagsløget 45', 'Århus', '8200', 'Denmark')\n",
      "(87, 'Wartian Herkku', 'Pirkko Koskitalo', 'Torikatu 38', 'Oulu', '90110', 'Finland')\n",
      "(88, 'Wellington Importadora', 'Paula Parente', 'Rua do Mercado, 12', 'Resende', '08737-363', 'Brazil')\n",
      "(89, 'White Clover Markets', 'Karl Jablonski', '305 - 14th Ave. S. Suite 3B', 'Seattle', '98128', 'USA')\n",
      "(90, 'Wilman Kala', 'Matti Karttunen', 'Keskuskatu 45', 'Helsinki', '21240', 'Finland')\n"
     ]
    }
   ],
   "source": [
    "query = \"\"\"\n",
    "SELECT * FROM Customers\n",
    "WHERE Country NOT IN ('Germany', 'France', 'UK');\n",
    "\"\"\"\n",
    "print_query_result(query)"
   ]
  },
  {
   "cell_type": "markdown",
   "id": "930cf847",
   "metadata": {},
   "source": [
    "## IN (SELECT)"
   ]
  },
  {
   "cell_type": "code",
   "execution_count": 237,
   "id": "ae55d4bf",
   "metadata": {},
   "outputs": [
    {
     "name": "stdout",
     "output_type": "stream",
     "text": [
      "(2, 'Ana Trujillo Emparedados y helados', 'Ana Trujillo', 'Avda. de la Constitución 2222', 'México D.F.', '05021', 'Mexico')\n",
      "(3, 'Antonio Moreno Taquería', 'Antonio Moreno', 'Mataderos 2312', 'México D.F.', '05023', 'Mexico')\n",
      "(4, 'Around the Horn', 'Thomas Hardy', '120 Hanover Sq.', 'London', 'WA1 1DP', 'UK')\n",
      "(5, 'Berglunds snabbköp', 'Christina Berglund', 'Berguvsvägen 8', 'Luleå', 'S-958 22', 'Sweden')\n",
      "(7, 'Blondel père et fils', 'Frédérique Citeaux', '24, place Kléber', 'Strasbourg', '67000', 'France')\n",
      "(8, 'Bólido Comidas preparadas', 'Martín Sommer', 'C/ Araquil, 67', 'Madrid', '28023', 'Spain')\n",
      "(9, \"Bon app'\", 'Laurence Lebihans', '12, rue des Bouchers', 'Marseille', '13008', 'France')\n",
      "(10, 'Bottom-Dollar Marketse', 'Elizabeth Lincoln', '23 Tsawassen Blvd.', 'Tsawassen', 'T2F 8M4', 'Canada')\n",
      "(11, \"B's Beverages\", 'Victoria Ashworth', 'Fauntleroy Circus', 'London', 'EC2 5NT', 'UK')\n",
      "(13, 'Centro comercial Moctezuma', 'Francisco Chang', 'Sierras de Granada 9993', 'México D.F.', '05022', 'Mexico')\n",
      "(14, 'Chop-suey Chinese', 'Yang Wang', 'Hauptstr. 29', 'Bern', '3012', 'Switzerland')\n",
      "(15, 'Comércio Mineiro', 'Pedro Afonso', 'Av. dos Lusíadas, 23', 'São Paulo', '05432-043', 'Brazil')\n",
      "(16, 'Consolidated Holdings', 'Elizabeth Brown', 'Berkeley Gardens 12 Brewery ', 'London', 'WX1 6LT', 'UK')\n",
      "(17, 'Drachenblut Delikatessend', 'Sven Ottlieb', 'Walserweg 21', 'Aachen', '52066', 'Germany')\n",
      "(18, 'Du monde entier', 'Janine Labrune', '67, rue des Cinquante Otages', 'Nantes', '44000', 'France')\n",
      "(19, 'Eastern Connection', 'Ann Devon', '35 King George', 'London', 'WX3 6FW', 'UK')\n",
      "(20, 'Ernst Handel', 'Roland Mendel', 'Kirchgasse 6', 'Graz', '8010', 'Austria')\n",
      "(21, 'Familia Arquibaldo', 'Aria Cruz', 'Rua Orós, 92', 'São Paulo', '05442-030', 'Brazil')\n",
      "(23, 'Folies gourmandes', 'Martine Rancé', '184, chaussée de Tournai', 'Lille', '59000', 'France')\n",
      "(24, 'Folk och fä HB', 'Maria Larsson', 'Åkergatan 24', 'Bräcke', 'S-844 67', 'Sweden')\n",
      "(25, 'Frankenversand', 'Peter Franken', 'Berliner Platz 43', 'München', '80805', 'Germany')\n",
      "(27, 'Franchi S.p.A.', 'Paolo Accorti', 'Via Monte Bianco 34', 'Torino', '10100', 'Italy')\n",
      "(28, 'Furia Bacalhau e Frutos do Mar', 'Lino Rodriguez ', 'Jardim das rosas n. 32', 'Lisboa', '1675', 'Portugal')\n",
      "(29, 'Galería del gastrónomo', 'Eduardo Saavedra', 'Rambla de Cataluña, 23', 'Barcelona', '08022', 'Spain')\n",
      "(30, 'Godos Cocina Típica', 'José Pedro Freyre', 'C/ Romero, 33', 'Sevilla', '41101', 'Spain')\n",
      "(31, 'Gourmet Lanchonetes', 'André Fonseca', 'Av. Brasil, 442', 'Campinas', '04876-786', 'Brazil')\n",
      "(33, 'GROSELLA-Restaurante', 'Manuel Pereira', '5ª Ave. Los Palos Grandes', 'Caracas', '1081', 'Venezuela')\n",
      "(34, 'Hanari Carnes', 'Mario Pontes', 'Rua do Paço, 67', 'Rio de Janeiro', '05454-876', 'Brazil')\n",
      "(35, 'HILARIÓN-Abastos', 'Carlos Hernández', 'Carrera 22 con Ave. Carlos Soublette #8-35', 'San Cristóbal', '5022', 'Venezuela')\n",
      "(36, 'Hungry Coyote Import Store', 'Yoshi Latimer', 'City Center Plaza 516 Main St.', 'Elgin', '97827', 'USA')\n",
      "(37, 'Hungry Owl All-Night Grocers', 'Patricia McKenna', '8 Johnstown Road', 'Cork', None, 'Ireland')\n",
      "(38, 'Island Trading', 'Helen Bennett', 'Garden House Crowther Way', 'Cowes', 'PO31 7PJ', 'UK')\n",
      "(39, 'Königlich Essen', 'Philip Cramer', 'Maubelstr. 90', 'Brandenburg', '14776', 'Germany')\n",
      "(41, \"La maison d'Asie\", 'Annette Roulet', '1 rue Alsace-Lorraine', 'Toulouse', '31000', 'France')\n",
      "(44, 'Lehmanns Marktstand', 'Renate Messner', 'Magazinweg 7', 'Frankfurt a.M. ', '60528', 'Germany')\n",
      "(46, 'LILA-Supermercado', 'Carlos González', 'Carrera 52 con Ave. Bolívar #65-98 Llano Largo', 'Barquisimeto', '3508', 'Venezuela')\n",
      "(47, 'LINO-Delicateses', 'Felipe Izquierdo', 'Ave. 5 de Mayo Porlamar', 'I. de Margarita', '4980', 'Venezuela')\n",
      "(48, 'Lonesome Pine Restaurant', 'Fran Wilson', '89 Chiaroscuro Rd.', 'Portland', '97219', 'USA')\n",
      "(49, 'Magazzini Alimentari Riuniti', 'Giovanni Rovelli', 'Via Ludovico il Moro 22', 'Bergamo', '24100', 'Italy')\n",
      "(51, 'Mère Paillarde', 'Jean Fresnière', '43 rue St. Laurent', 'Montréal', 'H1J 1C3', 'Canada')\n",
      "(52, 'Morgenstern Gesundkost', 'Alexander Feuer', 'Heerstr. 22', 'Leipzig', '04179', 'Germany')\n",
      "(54, 'Océano Atlántico Ltda.', 'Yvonne Moncada', 'Ing. Gustavo Moncada 8585 Piso 20-A', 'Buenos Aires', '1010', 'Argentina')\n",
      "(55, 'Old World Delicatessen', 'Rene Phillips', '2743 Bering St.', 'Anchorage', '99508', 'USA')\n",
      "(56, 'Ottilies Käseladen', 'Henriette Pfalzheim', 'Mehrheimerstr. 369', 'Köln', '50739', 'Germany')\n",
      "(58, 'Pericles Comidas clásicas', 'Guillermo Fernández', 'Calle Dr. Jorge Cash 321', 'México D.F.', '05033', 'Mexico')\n",
      "(59, 'Piccolo und mehr', 'Georg Pipps', 'Geislweg 14', 'Salzburg', '5020', 'Austria')\n",
      "(60, 'Princesa Isabel Vinhoss', 'Isabel de Castro', 'Estrada da saúde n. 58', 'Lisboa', '1756', 'Portugal')\n",
      "(61, 'Que Delícia', 'Bernardo Batista', 'Rua da Panificadora, 12', 'Rio de Janeiro', '02389-673', 'Brazil')\n",
      "(62, 'Queen Cozinha', 'Lúcia Carvalho', 'Alameda dos Canàrios, 891', 'São Paulo', '05487-020', 'Brazil')\n",
      "(63, 'QUICK-Stop', 'Horst Kloss', 'Taucherstraße 10', 'Cunewalde', '01307', 'Germany')\n",
      "(65, 'Rattlesnake Canyon Grocery', 'Paula Wilson', '2817 Milton Dr.', 'Albuquerque', '87110', 'USA')\n",
      "(66, 'Reggiani Caseifici', 'Maurizio Moroni', 'Strada Provinciale 124', 'Reggio Emilia', '42100', 'Italy')\n",
      "(67, 'Ricardo Adocicados', 'Janete Limeira', 'Av. Copacabana, 267', 'Rio de Janeiro', '02389-890', 'Brazil')\n",
      "(68, 'Richter Supermarkt', 'Michael Holz', 'Grenzacherweg 237', 'Genève', '1203', 'Switzerland')\n",
      "(69, 'Romero y tomillo', 'Alejandra Camino', 'Gran Vía, 1', 'Madrid', '28001', 'Spain')\n",
      "(70, 'Santé Gourmet', 'Jonas Bergulfsen', 'Erling Skakkes gate 78', 'Stavern', '4110', 'Norway')\n",
      "(71, 'Save-a-lot Markets', 'Jose Pavarotti', '187 Suffolk Ln.', 'Boise', '83720', 'USA')\n",
      "(72, 'Seven Seas Imports', 'Hari Kumar', '90 Wadhurst Rd.', 'London', 'OX15 4NB', 'UK')\n",
      "(73, 'Simons bistro', 'Jytte Petersen', 'Vinbæltet 34', 'København', '1734', 'Denmark')\n",
      "(75, 'Split Rail Beer & Ale', 'Art Braunschweiger', 'P.O. Box 555', 'Lander', '82520', 'USA')\n",
      "(76, 'Suprêmes délices', 'Pascale Cartrain', 'Boulevard Tirou, 255', 'Charleroi', 'B-6000', 'Belgium')\n",
      "(77, 'The Big Cheese', 'Liz Nixon', '89 Jefferson Way Suite 2', 'Portland', '97201', 'USA')\n",
      "(79, 'Toms Spezialitäten', 'Karin Josephs', 'Luisenstr. 48', 'Münster', '44087', 'Germany')\n",
      "(80, 'Tortuga Restaurante', 'Miguel Angel Paolino', 'Avda. Azteca 123', 'México D.F.', '05033', 'Mexico')\n",
      "(81, 'Tradição Hipermercados', 'Anabela Domingues', 'Av. Inês de Castro, 414', 'São Paulo', '05634-030', 'Brazil')\n",
      "(83, 'Vaffeljernet', 'Palle Ibsen', 'Smagsløget 45', 'Århus', '8200', 'Denmark')\n",
      "(84, 'Victuailles en stock', 'Mary Saveley', '2, rue du Commerce', 'Lyon', '69004', 'France')\n",
      "(85, 'Vins et alcools Chevalier', 'Paul Henriot', \"59 rue de l'Abbaye\", 'Reims', '51100', 'France')\n",
      "(86, 'Die Wandernde Kuh', 'Rita Müller', 'Adenauerallee 900', 'Stuttgart', '70563', 'Germany')\n",
      "(87, 'Wartian Herkku', 'Pirkko Koskitalo', 'Torikatu 38', 'Oulu', '90110', 'Finland')\n",
      "(88, 'Wellington Importadora', 'Paula Parente', 'Rua do Mercado, 12', 'Resende', '08737-363', 'Brazil')\n",
      "(89, 'White Clover Markets', 'Karl Jablonski', '305 - 14th Ave. S. Suite 3B', 'Seattle', '98128', 'USA')\n",
      "(90, 'Wilman Kala', 'Matti Karttunen', 'Keskuskatu 45', 'Helsinki', '21240', 'Finland')\n",
      "(91, 'Wolski', 'Zbyszek', 'ul. Filtrowa 68', 'Walla', '01-012', None)\n"
     ]
    }
   ],
   "source": [
    "query = \"\"\"\n",
    "SELECT * FROM Customers\n",
    "WHERE CustomerID IN (SELECT CustomerID FROM Orders);\n",
    "\"\"\"\n",
    "print_query_result(query)"
   ]
  },
  {
   "cell_type": "markdown",
   "id": "255ff9fd",
   "metadata": {},
   "source": [
    "## NOT IN (SELECT)\n"
   ]
  },
  {
   "cell_type": "code",
   "execution_count": 238,
   "id": "12d967fe",
   "metadata": {},
   "outputs": [
    {
     "name": "stdout",
     "output_type": "stream",
     "text": [
      "(1, 'Alfreds Futterkiste', 'Maria Anders', 'Obere Str. 57', 'Berlin', '12209', 'Germany')\n",
      "(6, 'Blauer See Delikatessen', 'Hanna Moos', 'Forsterstr. 57', 'Mannheim', '68306', 'Germany')\n",
      "(12, 'Cactus Comidas para llevar', 'Patricio Simpson', 'Cerrito 333', 'Buenos Aires', '1010', 'Argentina')\n",
      "(22, 'FISSA Fabrica Inter. Salchichas S.A.', 'Diego Roel', 'C/ Moralzarzal, 86', 'Madrid', '28034', 'Spain')\n",
      "(26, 'France restauration', 'Carine Schmitt', '54, rue Royale', 'Nantes', '44000', 'France')\n",
      "(32, 'Great Lakes Food Market', 'Howard Snyder', '2732 Baker Blvd.', 'Eugene', '97403', 'USA')\n",
      "(40, \"La corne d'abondance\", 'Daniel Tonini', \"67, avenue de l'Europe\", 'Versailles', '78000', 'France')\n",
      "(42, 'Laughing Bacchus Wine Cellars', 'Yoshi Tannamuri', '1900 Oak St.', 'Vancouver', 'V3F 2K1', 'Canada')\n",
      "(43, 'Lazy K Kountry Store', 'John Steel', '12 Orchestra Terrace', 'Walla Walla', '99362', 'USA')\n",
      "(45, \"Let's Stop N Shop\", 'Jaime Yorres', '87 Polk St. Suite 5', 'San Francisco', '94117', 'USA')\n",
      "(50, 'Maison Dewey', 'Catherine Dewey', 'Rue Joseph-Bens 532', 'Bruxelles', 'B-1180', 'Belgium')\n",
      "(53, 'North/South', 'Simon Crowther', 'South House 300 Queensbridge', 'London', 'SW7 1RZ', 'UK')\n",
      "(57, 'Paris spécialités', 'Marie Bertrand', '265, boulevard Charonne', 'Paris', '75012', 'France')\n",
      "(64, 'Rancho grande', 'Sergio Gutiérrez', 'Av. del Libertador 900', 'Buenos Aires', '1010', 'Argentina')\n",
      "(74, 'Spécialités du monde', 'Dominique Perrier', '25, rue Lauriston', 'Paris', '75016', 'France')\n",
      "(78, 'The Cracker Box', 'Liu Wong', '55 Grizzly Peak Rd.', 'Butte', '59801', 'USA')\n",
      "(82, \"Trail's Head Gourmet Provisioners\", 'Helvetius Nagy', '722 DaVinci Blvd.', 'Kirkland', '98034', 'USA')\n"
     ]
    }
   ],
   "source": [
    "query = \"\"\"\n",
    "SELECT * FROM Customers\n",
    "WHERE CustomerID NOT IN (SELECT CustomerID FROM Orders);\n",
    "\"\"\"\n",
    "print_query_result(query)"
   ]
  },
  {
   "cell_type": "markdown",
   "id": "6308f89b",
   "metadata": {},
   "source": [
    "## SQL BETWEEN Operator"
   ]
  },
  {
   "cell_type": "code",
   "execution_count": 239,
   "id": "e86defaf",
   "metadata": {},
   "outputs": [
    {
     "name": "stdout",
     "output_type": "stream",
     "text": [
      "(1, 'Chais', 1, 1, '10 boxes x 20 bags', 18.0)\n",
      "(2, 'Chang', 1, 1, '24 - 12 oz bottles', 19.0)\n",
      "(3, 'Aniseed Syrup', 1, 2, '12 - 550 ml bottles', 10.0)\n",
      "(15, 'Genen Shouyu', 6, 2, '24 - 250 ml bottles', 15.5)\n",
      "(16, 'Pavlova', 7, 3, '32 - 500 g boxes', 17.45)\n",
      "(21, \"Sir Rodney's Scones\", 8, 3, '24 pkgs. x 4 pieces', 10.0)\n",
      "(25, 'NuNuCa Nuß-Nougat-Creme', 11, 3, '20 - 450 g glasses', 14.0)\n",
      "(31, 'Gorgonzola Telino', 14, 4, '12 - 100 g pkgs', 12.5)\n",
      "(34, 'Sasquatch Ale', 16, 1, '24 - 12 oz bottles', 14.0)\n",
      "(35, 'Steeleye Stout', 16, 1, '24 - 12 oz bottles', 18.0)\n",
      "(36, 'Inlagd Sill', 17, 8, '24 - 250 g jars', 19.0)\n",
      "(39, 'Chartreuse verte', 18, 1, '750 cc per bottle', 18.0)\n",
      "(40, 'Boston Crab Meat', 19, 8, '24 - 4 oz tins', 18.4)\n",
      "(42, 'Singaporean Hokkien Fried Mee', 20, 5, '32 - 1 kg pkgs.', 14.0)\n",
      "(44, 'Gula Malacca', 20, 2, '20 - 2 kg bags', 19.45)\n",
      "(46, 'Spegesild', 21, 8, '4 - 450 g glasses', 12.0)\n",
      "(48, 'Chocolade', 22, 3, '10 pkgs.', 12.75)\n",
      "(49, 'Maxilaku', 23, 3, '24 - 50 g pkgs.', 20.0)\n",
      "(50, 'Valkoinen suklaa', 23, 3, '12 - 100 g bars', 16.25)\n",
      "(57, 'Ravioli Angelo', 26, 5, '24 - 250 g pkgs.', 19.5)\n",
      "(58, 'Escargots de Bourgogne', 27, 8, '24 pieces', 13.25)\n",
      "(66, 'Louisiana Hot Spiced Okra', 2, 2, '24 - 8 oz jars', 17.0)\n",
      "(67, 'Laughing Lumberjack Lager', 16, 1, '24 - 12 oz bottles', 14.0)\n",
      "(68, 'Scottish Longbreads', 8, 3, '10 boxes x 8 pieces', 12.5)\n",
      "(70, 'Outback Lager', 7, 1, '24 - 355 ml bottles', 15.0)\n",
      "(73, 'Röd Kaviar', 17, 8, '24 - 150 g jars', 15.0)\n",
      "(74, 'Longlife Tofu', 4, 7, '5 kg pkg.', 10.0)\n",
      "(76, 'Lakkalikööri', 23, 1, '500 ml ', 18.0)\n",
      "(77, 'Original Frankfurter grüne Soße', 12, 2, '12 boxes', 13.0)\n"
     ]
    }
   ],
   "source": [
    "query = \"\"\"\n",
    "SELECT * FROM Products\n",
    "WHERE Price BETWEEN 10 AND 20;\n",
    "\"\"\"\n",
    "print_query_result(query)"
   ]
  },
  {
   "cell_type": "markdown",
   "id": "b35b413b",
   "metadata": {},
   "source": [
    "## NOT BETWEEN"
   ]
  },
  {
   "cell_type": "code",
   "execution_count": 240,
   "id": "b2c7cde0",
   "metadata": {},
   "outputs": [
    {
     "name": "stdout",
     "output_type": "stream",
     "text": [
      "(4, \"Chef Anton's Cajun Seasoning\", 2, 2, '48 - 6 oz jars', 22.0)\n",
      "(5, \"Chef Anton's Gumbo Mix\", 2, 2, '36 boxes', 21.35)\n",
      "(6, \"Grandma's Boysenberry Spread\", 3, 2, '12 - 8 oz jars', 25.0)\n",
      "(7, \"Uncle Bob's Organic Dried Pears\", 3, 7, '12 - 1 lb pkgs.', 30.0)\n",
      "(8, 'Northwoods Cranberry Sauce', 3, 2, '12 - 12 oz jars', 40.0)\n",
      "(9, 'Mishi Kobe Niku', 4, 6, '18 - 500 g pkgs.', 97.0)\n",
      "(10, 'Ikura', 4, 8, '12 - 200 ml jars', 31.0)\n",
      "(11, 'Queso Cabrales', 5, 4, '1 kg pkg.', 21.0)\n",
      "(12, 'Queso Manchego La Pastora', 5, 4, '10 - 500 g pkgs.', 38.0)\n",
      "(13, 'Konbu', 6, 8, '2 kg box', 6.0)\n",
      "(14, 'Tofu', 6, 7, '40 - 100 g pkgs.', 23.25)\n",
      "(17, 'Alice Mutton', 7, 6, '20 - 1 kg tins', 39.0)\n",
      "(18, 'Carnarvon Tigers', 7, 8, '16 kg pkg.', 62.5)\n",
      "(19, 'Teatime Chocolate Biscuits', 8, 3, '10 boxes x 12 pieces', 9.2)\n",
      "(20, \"Sir Rodney's Marmalade\", 8, 3, '30 gift boxes', 81.0)\n",
      "(22, \"Gustaf's Knäckebröd\", 9, 5, '24 - 500 g pkgs.', 21.0)\n",
      "(23, 'Tunnbröd', 9, 5, '12 - 250 g pkgs.', 9.0)\n",
      "(24, 'Guaraná Fantástica', 10, 1, '12 - 355 ml cans', 4.5)\n",
      "(26, 'Gumbär Gummibärchen', 11, 3, '100 - 250 g bags', 31.23)\n",
      "(27, 'Schoggi Schokolade', 11, 3, '100 - 100 g pieces', 43.9)\n",
      "(28, 'Rössle Sauerkraut', 12, 7, '25 - 825 g cans', 45.6)\n",
      "(29, 'Thüringer Rostbratwurst', 12, 6, '50 bags x 30 sausgs.', 123.79)\n",
      "(30, 'Nord-Ost Matjeshering', 13, 8, '10 - 200 g glasses', 25.89)\n",
      "(32, 'Mascarpone Fabioli', 14, 4, '24 - 200 g pkgs.', 32.0)\n",
      "(33, 'Geitost', 15, 4, '500 g', 2.5)\n",
      "(37, 'Gravad lax', 17, 8, '12 - 500 g pkgs.', 26.0)\n",
      "(38, 'Côte de Blaye', 18, 1, '12 - 75 cl bottles', 263.5)\n",
      "(41, \"Jack's New England Clam Chowder\", 19, 8, '12 - 12 oz cans', 9.65)\n",
      "(43, 'Ipoh Coffee', 20, 1, '16 - 500 g tins', 46.0)\n",
      "(45, 'Røgede sild', 21, 8, '1k pkg.', 9.5)\n",
      "(47, 'Zaanse koeken', 22, 3, '10 - 4 oz boxes', 9.5)\n",
      "(51, 'Manjimup Dried Apples', 24, 7, '50 - 300 g pkgs.', 53.0)\n",
      "(52, 'Filo Mix', 24, 5, '16 - 2 kg boxes', 7.0)\n",
      "(53, 'Perth Pasties', 24, 6, '48 pieces', 32.8)\n",
      "(54, 'Tourtière', 25, 6, '16 pies', 7.45)\n",
      "(55, 'Pâté chinois', 25, 6, '24 boxes x 2 pies', 24.0)\n",
      "(56, 'Gnocchi di nonna Alice', 26, 5, '24 - 250 g pkgs.', 38.0)\n",
      "(59, 'Raclette Courdavault', 28, 4, '5 kg pkg.', 55.0)\n",
      "(60, 'Camembert Pierrot', 28, 4, '15 - 300 g rounds', 34.0)\n",
      "(61, \"Sirop d'érable\", 29, 2, '24 - 500 ml bottles', 28.5)\n",
      "(62, 'Tarte au sucre', 29, 3, '48 pies', 49.3)\n",
      "(63, 'Vegie-spread', 7, 2, '15 - 625 g jars', 43.9)\n",
      "(64, 'Wimmers gute Semmelknödel', 12, 5, '20 bags x 4 pieces', 33.25)\n",
      "(65, 'Louisiana Fiery Hot Pepper Sauce', 2, 2, '32 - 8 oz bottles', 21.05)\n",
      "(69, 'Gudbrandsdalsost', 15, 4, '10 kg pkg.', 36.0)\n",
      "(71, 'Fløtemysost', 15, 4, '10 - 500 g pkgs.', 21.5)\n",
      "(72, 'Mozzarella di Giovanni', 14, 4, '24 - 200 g pkgs.', 34.8)\n",
      "(75, 'Rhönbräu Klosterbier', 12, 1, '24 - 0.5 l bottles', 7.75)\n"
     ]
    }
   ],
   "source": [
    "query = \"\"\"\n",
    "SELECT * FROM Products\n",
    "WHERE Price NOT BETWEEN 10 AND 20;\n",
    "\"\"\"\n",
    "print_query_result(query)"
   ]
  },
  {
   "cell_type": "markdown",
   "id": "64fc4cd8",
   "metadata": {},
   "source": [
    "## BETWEEN with IN"
   ]
  },
  {
   "cell_type": "code",
   "execution_count": 241,
   "id": "fb9f0e5a",
   "metadata": {},
   "outputs": [
    {
     "name": "stdout",
     "output_type": "stream",
     "text": [
      "(1, 'Chais', 1, 1, '10 boxes x 20 bags', 18.0)\n",
      "(2, 'Chang', 1, 1, '24 - 12 oz bottles', 19.0)\n",
      "(3, 'Aniseed Syrup', 1, 2, '12 - 550 ml bottles', 10.0)\n",
      "(15, 'Genen Shouyu', 6, 2, '24 - 250 ml bottles', 15.5)\n",
      "(16, 'Pavlova', 7, 3, '32 - 500 g boxes', 17.45)\n",
      "(21, \"Sir Rodney's Scones\", 8, 3, '24 pkgs. x 4 pieces', 10.0)\n",
      "(25, 'NuNuCa Nuß-Nougat-Creme', 11, 3, '20 - 450 g glasses', 14.0)\n",
      "(34, 'Sasquatch Ale', 16, 1, '24 - 12 oz bottles', 14.0)\n",
      "(35, 'Steeleye Stout', 16, 1, '24 - 12 oz bottles', 18.0)\n",
      "(39, 'Chartreuse verte', 18, 1, '750 cc per bottle', 18.0)\n",
      "(44, 'Gula Malacca', 20, 2, '20 - 2 kg bags', 19.45)\n",
      "(48, 'Chocolade', 22, 3, '10 pkgs.', 12.75)\n",
      "(49, 'Maxilaku', 23, 3, '24 - 50 g pkgs.', 20.0)\n",
      "(50, 'Valkoinen suklaa', 23, 3, '12 - 100 g bars', 16.25)\n",
      "(66, 'Louisiana Hot Spiced Okra', 2, 2, '24 - 8 oz jars', 17.0)\n",
      "(67, 'Laughing Lumberjack Lager', 16, 1, '24 - 12 oz bottles', 14.0)\n",
      "(68, 'Scottish Longbreads', 8, 3, '10 boxes x 8 pieces', 12.5)\n",
      "(70, 'Outback Lager', 7, 1, '24 - 355 ml bottles', 15.0)\n",
      "(76, 'Lakkalikööri', 23, 1, '500 ml ', 18.0)\n",
      "(77, 'Original Frankfurter grüne Soße', 12, 2, '12 boxes', 13.0)\n"
     ]
    }
   ],
   "source": [
    "query = \"\"\"\n",
    "SELECT * FROM Products\n",
    "WHERE Price BETWEEN 10 AND 20\n",
    "AND CategoryID IN (1,2,3);\n",
    "\"\"\"\n",
    "print_query_result(query)"
   ]
  },
  {
   "cell_type": "markdown",
   "id": "34f1bf31",
   "metadata": {},
   "source": [
    "## BETWEEN Text Values"
   ]
  },
  {
   "cell_type": "code",
   "execution_count": 242,
   "id": "49be559d",
   "metadata": {},
   "outputs": [
    {
     "name": "stdout",
     "output_type": "stream",
     "text": [
      "(18, 'Carnarvon Tigers', 7, 8, '16 kg pkg.', 62.5)\n",
      "(1, 'Chais', 1, 1, '10 boxes x 20 bags', 18.0)\n",
      "(2, 'Chang', 1, 1, '24 - 12 oz bottles', 19.0)\n",
      "(39, 'Chartreuse verte', 18, 1, '750 cc per bottle', 18.0)\n",
      "(4, \"Chef Anton's Cajun Seasoning\", 2, 2, '48 - 6 oz jars', 22.0)\n",
      "(5, \"Chef Anton's Gumbo Mix\", 2, 2, '36 boxes', 21.35)\n",
      "(48, 'Chocolade', 22, 3, '10 pkgs.', 12.75)\n",
      "(38, 'Côte de Blaye', 18, 1, '12 - 75 cl bottles', 263.5)\n",
      "(58, 'Escargots de Bourgogne', 27, 8, '24 pieces', 13.25)\n",
      "(52, 'Filo Mix', 24, 5, '16 - 2 kg boxes', 7.0)\n",
      "(71, 'Fløtemysost', 15, 4, '10 - 500 g pkgs.', 21.5)\n",
      "(33, 'Geitost', 15, 4, '500 g', 2.5)\n",
      "(15, 'Genen Shouyu', 6, 2, '24 - 250 ml bottles', 15.5)\n",
      "(56, 'Gnocchi di nonna Alice', 26, 5, '24 - 250 g pkgs.', 38.0)\n",
      "(31, 'Gorgonzola Telino', 14, 4, '12 - 100 g pkgs', 12.5)\n",
      "(6, \"Grandma's Boysenberry Spread\", 3, 2, '12 - 8 oz jars', 25.0)\n",
      "(37, 'Gravad lax', 17, 8, '12 - 500 g pkgs.', 26.0)\n",
      "(24, 'Guaraná Fantástica', 10, 1, '12 - 355 ml cans', 4.5)\n",
      "(69, 'Gudbrandsdalsost', 15, 4, '10 kg pkg.', 36.0)\n",
      "(44, 'Gula Malacca', 20, 2, '20 - 2 kg bags', 19.45)\n",
      "(26, 'Gumbär Gummibärchen', 11, 3, '100 - 250 g bags', 31.23)\n",
      "(22, \"Gustaf's Knäckebröd\", 9, 5, '24 - 500 g pkgs.', 21.0)\n",
      "(10, 'Ikura', 4, 8, '12 - 200 ml jars', 31.0)\n",
      "(36, 'Inlagd Sill', 17, 8, '24 - 250 g jars', 19.0)\n",
      "(43, 'Ipoh Coffee', 20, 1, '16 - 500 g tins', 46.0)\n",
      "(41, \"Jack's New England Clam Chowder\", 19, 8, '12 - 12 oz cans', 9.65)\n",
      "(13, 'Konbu', 6, 8, '2 kg box', 6.0)\n",
      "(76, 'Lakkalikööri', 23, 1, '500 ml ', 18.0)\n",
      "(67, 'Laughing Lumberjack Lager', 16, 1, '24 - 12 oz bottles', 14.0)\n",
      "(74, 'Longlife Tofu', 4, 7, '5 kg pkg.', 10.0)\n",
      "(65, 'Louisiana Fiery Hot Pepper Sauce', 2, 2, '32 - 8 oz bottles', 21.05)\n",
      "(66, 'Louisiana Hot Spiced Okra', 2, 2, '24 - 8 oz jars', 17.0)\n",
      "(51, 'Manjimup Dried Apples', 24, 7, '50 - 300 g pkgs.', 53.0)\n",
      "(32, 'Mascarpone Fabioli', 14, 4, '24 - 200 g pkgs.', 32.0)\n",
      "(49, 'Maxilaku', 23, 3, '24 - 50 g pkgs.', 20.0)\n",
      "(9, 'Mishi Kobe Niku', 4, 6, '18 - 500 g pkgs.', 97.0)\n",
      "(72, 'Mozzarella di Giovanni', 14, 4, '24 - 200 g pkgs.', 34.8)\n"
     ]
    }
   ],
   "source": [
    "query = \"\"\"\n",
    "SELECT * FROM Products\n",
    "WHERE ProductName BETWEEN 'Carnarvon Tigers' AND 'Mozzarella di Giovanni'\n",
    "ORDER BY ProductName;\n",
    "\"\"\"\n",
    "print_query_result(query)"
   ]
  },
  {
   "cell_type": "code",
   "execution_count": 243,
   "id": "e8c53bdc",
   "metadata": {},
   "outputs": [
    {
     "name": "stdout",
     "output_type": "stream",
     "text": [
      "(18, 'Carnarvon Tigers', 7, 8, '16 kg pkg.', 62.5)\n",
      "(1, 'Chais', 1, 1, '10 boxes x 20 bags', 18.0)\n",
      "(2, 'Chang', 1, 1, '24 - 12 oz bottles', 19.0)\n",
      "(39, 'Chartreuse verte', 18, 1, '750 cc per bottle', 18.0)\n",
      "(4, \"Chef Anton's Cajun Seasoning\", 2, 2, '48 - 6 oz jars', 22.0)\n"
     ]
    }
   ],
   "source": [
    "query = \"\"\"\n",
    "SELECT * FROM Products\n",
    "WHERE ProductName BETWEEN \"Carnarvon Tigers\" AND \"Chef Anton's Cajun Seasoning\"\n",
    "ORDER BY ProductName;\n",
    "\"\"\"\n",
    "print_query_result(query)"
   ]
  },
  {
   "cell_type": "markdown",
   "id": "f518aa67",
   "metadata": {},
   "source": [
    "## NOT BETWEEN Text Values"
   ]
  },
  {
   "cell_type": "code",
   "execution_count": 244,
   "id": "fac5b0d5",
   "metadata": {},
   "outputs": [
    {
     "name": "stdout",
     "output_type": "stream",
     "text": [
      "(17, 'Alice Mutton', 7, 6, '20 - 1 kg tins', 39.0)\n",
      "(3, 'Aniseed Syrup', 1, 2, '12 - 550 ml bottles', 10.0)\n",
      "(40, 'Boston Crab Meat', 19, 8, '24 - 4 oz tins', 18.4)\n",
      "(60, 'Camembert Pierrot', 28, 4, '15 - 300 g rounds', 34.0)\n",
      "(30, 'Nord-Ost Matjeshering', 13, 8, '10 - 200 g glasses', 25.89)\n",
      "(8, 'Northwoods Cranberry Sauce', 3, 2, '12 - 12 oz jars', 40.0)\n",
      "(25, 'NuNuCa Nuß-Nougat-Creme', 11, 3, '20 - 450 g glasses', 14.0)\n",
      "(77, 'Original Frankfurter grüne Soße', 12, 2, '12 boxes', 13.0)\n",
      "(70, 'Outback Lager', 7, 1, '24 - 355 ml bottles', 15.0)\n",
      "(16, 'Pavlova', 7, 3, '32 - 500 g boxes', 17.45)\n",
      "(53, 'Perth Pasties', 24, 6, '48 pieces', 32.8)\n",
      "(55, 'Pâté chinois', 25, 6, '24 boxes x 2 pies', 24.0)\n",
      "(11, 'Queso Cabrales', 5, 4, '1 kg pkg.', 21.0)\n",
      "(12, 'Queso Manchego La Pastora', 5, 4, '10 - 500 g pkgs.', 38.0)\n",
      "(59, 'Raclette Courdavault', 28, 4, '5 kg pkg.', 55.0)\n",
      "(57, 'Ravioli Angelo', 26, 5, '24 - 250 g pkgs.', 19.5)\n",
      "(75, 'Rhönbräu Klosterbier', 12, 1, '24 - 0.5 l bottles', 7.75)\n",
      "(73, 'Röd Kaviar', 17, 8, '24 - 150 g jars', 15.0)\n",
      "(28, 'Rössle Sauerkraut', 12, 7, '25 - 825 g cans', 45.6)\n",
      "(45, 'Røgede sild', 21, 8, '1k pkg.', 9.5)\n",
      "(34, 'Sasquatch Ale', 16, 1, '24 - 12 oz bottles', 14.0)\n",
      "(27, 'Schoggi Schokolade', 11, 3, '100 - 100 g pieces', 43.9)\n",
      "(68, 'Scottish Longbreads', 8, 3, '10 boxes x 8 pieces', 12.5)\n",
      "(42, 'Singaporean Hokkien Fried Mee', 20, 5, '32 - 1 kg pkgs.', 14.0)\n",
      "(20, \"Sir Rodney's Marmalade\", 8, 3, '30 gift boxes', 81.0)\n",
      "(21, \"Sir Rodney's Scones\", 8, 3, '24 pkgs. x 4 pieces', 10.0)\n",
      "(61, \"Sirop d'érable\", 29, 2, '24 - 500 ml bottles', 28.5)\n",
      "(46, 'Spegesild', 21, 8, '4 - 450 g glasses', 12.0)\n",
      "(35, 'Steeleye Stout', 16, 1, '24 - 12 oz bottles', 18.0)\n",
      "(62, 'Tarte au sucre', 29, 3, '48 pies', 49.3)\n",
      "(19, 'Teatime Chocolate Biscuits', 8, 3, '10 boxes x 12 pieces', 9.2)\n",
      "(29, 'Thüringer Rostbratwurst', 12, 6, '50 bags x 30 sausgs.', 123.79)\n",
      "(14, 'Tofu', 6, 7, '40 - 100 g pkgs.', 23.25)\n",
      "(54, 'Tourtière', 25, 6, '16 pies', 7.45)\n",
      "(23, 'Tunnbröd', 9, 5, '12 - 250 g pkgs.', 9.0)\n",
      "(7, \"Uncle Bob's Organic Dried Pears\", 3, 7, '12 - 1 lb pkgs.', 30.0)\n",
      "(50, 'Valkoinen suklaa', 23, 3, '12 - 100 g bars', 16.25)\n",
      "(63, 'Vegie-spread', 7, 2, '15 - 625 g jars', 43.9)\n",
      "(64, 'Wimmers gute Semmelknödel', 12, 5, '20 bags x 4 pieces', 33.25)\n",
      "(47, 'Zaanse koeken', 22, 3, '10 - 4 oz boxes', 9.5)\n"
     ]
    }
   ],
   "source": [
    "query = \"\"\"\n",
    "SELECT * FROM Products\n",
    "WHERE ProductName NOT BETWEEN 'Carnarvon Tigers' AND 'Mozzarella di Giovanni'\n",
    "ORDER BY ProductName;\n",
    "\"\"\"\n",
    "print_query_result(query)"
   ]
  },
  {
   "cell_type": "markdown",
   "id": "40dd1c38",
   "metadata": {},
   "source": [
    "## BETWEEN Dates"
   ]
  },
  {
   "cell_type": "code",
   "execution_count": 245,
   "id": "ca0c9f9b",
   "metadata": {},
   "outputs": [
    {
     "name": "stdout",
     "output_type": "stream",
     "text": [
      "(0, 'OrderID', 'INTEGER', 0, None, 0)\n",
      "(1, 'CustomerID', 'INTEGER', 0, None, 0)\n",
      "(2, 'EmployeeID', 'INTEGER', 0, None, 0)\n",
      "(3, 'OrderDate', 'TEXT', 0, None, 0)\n",
      "(4, 'ShipperID', 'INTEGER', 0, None, 0)\n",
      "[(10248, 90, 5, '7/4/1996', 3)]\n"
     ]
    }
   ],
   "source": [
    "query = \"\"\"\n",
    "SELECT * FROM Orders\n",
    "WHERE OrderDate BETWEEN #07/01/1996# AND #07/31/1996#;\n",
    "\"\"\"\n",
    "cursor = conn.cursor()\n",
    "cursor.execute(\"PRAGMA table_info(Orders)\")\n",
    "for row in cursor.fetchall():\n",
    "    print(row)\n",
    "# 데이터 확인\n",
    "cursor.execute(\"SELECT * FROM Orders LIMIT 1\")\n",
    "print(cursor.fetchall())\n",
    "# 쿼리를 아래와 같이 수정\n",
    "query = \"\"\"\n",
    "SELECT * FROM Orders\n",
    "WHERE OrderDate BETWEEN '07/01/1996' AND '07/31/1996';\n",
    "\"\"\"\n",
    "# sqlite에서는 Date를 TEXT로 저장 !\n",
    "print_query_result(query)\n",
    "\n",
    "# 그런데 안나옴 !?"
   ]
  },
  {
   "cell_type": "markdown",
   "id": "cacdb457",
   "metadata": {},
   "source": [
    "## SQL Aliases"
   ]
  },
  {
   "cell_type": "code",
   "execution_count": 246,
   "id": "cdc4ac08",
   "metadata": {},
   "outputs": [
    {
     "name": "stdout",
     "output_type": "stream",
     "text": [
      "(1,)\n",
      "(2,)\n",
      "(3,)\n",
      "(4,)\n",
      "(5,)\n",
      "(6,)\n",
      "(7,)\n",
      "(8,)\n",
      "(9,)\n",
      "(10,)\n",
      "(11,)\n",
      "(12,)\n",
      "(13,)\n",
      "(14,)\n",
      "(15,)\n",
      "(16,)\n",
      "(17,)\n",
      "(18,)\n",
      "(19,)\n",
      "(20,)\n",
      "(21,)\n",
      "(22,)\n",
      "(23,)\n",
      "(24,)\n",
      "(25,)\n",
      "(26,)\n",
      "(27,)\n",
      "(28,)\n",
      "(29,)\n",
      "(30,)\n",
      "(31,)\n",
      "(32,)\n",
      "(33,)\n",
      "(34,)\n",
      "(35,)\n",
      "(36,)\n",
      "(37,)\n",
      "(38,)\n",
      "(39,)\n",
      "(40,)\n",
      "(41,)\n",
      "(42,)\n",
      "(43,)\n",
      "(44,)\n",
      "(45,)\n",
      "(46,)\n",
      "(47,)\n",
      "(48,)\n",
      "(49,)\n",
      "(50,)\n",
      "(51,)\n",
      "(52,)\n",
      "(53,)\n",
      "(54,)\n",
      "(55,)\n",
      "(56,)\n",
      "(57,)\n",
      "(58,)\n",
      "(59,)\n",
      "(60,)\n",
      "(61,)\n",
      "(62,)\n",
      "(63,)\n",
      "(64,)\n",
      "(65,)\n",
      "(66,)\n",
      "(67,)\n",
      "(68,)\n",
      "(69,)\n",
      "(70,)\n",
      "(71,)\n",
      "(72,)\n",
      "(73,)\n",
      "(74,)\n",
      "(75,)\n",
      "(76,)\n",
      "(77,)\n",
      "(78,)\n",
      "(79,)\n",
      "(80,)\n",
      "(81,)\n",
      "(82,)\n",
      "(83,)\n",
      "(84,)\n",
      "(85,)\n",
      "(86,)\n",
      "(87,)\n",
      "(88,)\n",
      "(89,)\n",
      "(90,)\n",
      "(91,)\n"
     ]
    }
   ],
   "source": [
    "query = \"\"\"\n",
    "SELECT CustomerID AS ID\n",
    "FROM Customers;\n",
    "\"\"\"\n",
    "print_query_result(query)"
   ]
  },
  {
   "cell_type": "markdown",
   "id": "d9c5f79b",
   "metadata": {},
   "source": [
    "## AS is Optional"
   ]
  },
  {
   "cell_type": "code",
   "execution_count": 247,
   "id": "747e6e61",
   "metadata": {},
   "outputs": [
    {
     "name": "stdout",
     "output_type": "stream",
     "text": [
      "(1,)\n",
      "(2,)\n",
      "(3,)\n",
      "(4,)\n",
      "(5,)\n",
      "(6,)\n",
      "(7,)\n",
      "(8,)\n",
      "(9,)\n",
      "(10,)\n",
      "(11,)\n",
      "(12,)\n",
      "(13,)\n",
      "(14,)\n",
      "(15,)\n",
      "(16,)\n",
      "(17,)\n",
      "(18,)\n",
      "(19,)\n",
      "(20,)\n",
      "(21,)\n",
      "(22,)\n",
      "(23,)\n",
      "(24,)\n",
      "(25,)\n",
      "(26,)\n",
      "(27,)\n",
      "(28,)\n",
      "(29,)\n",
      "(30,)\n",
      "(31,)\n",
      "(32,)\n",
      "(33,)\n",
      "(34,)\n",
      "(35,)\n",
      "(36,)\n",
      "(37,)\n",
      "(38,)\n",
      "(39,)\n",
      "(40,)\n",
      "(41,)\n",
      "(42,)\n",
      "(43,)\n",
      "(44,)\n",
      "(45,)\n",
      "(46,)\n",
      "(47,)\n",
      "(48,)\n",
      "(49,)\n",
      "(50,)\n",
      "(51,)\n",
      "(52,)\n",
      "(53,)\n",
      "(54,)\n",
      "(55,)\n",
      "(56,)\n",
      "(57,)\n",
      "(58,)\n",
      "(59,)\n",
      "(60,)\n",
      "(61,)\n",
      "(62,)\n",
      "(63,)\n",
      "(64,)\n",
      "(65,)\n",
      "(66,)\n",
      "(67,)\n",
      "(68,)\n",
      "(69,)\n",
      "(70,)\n",
      "(71,)\n",
      "(72,)\n",
      "(73,)\n",
      "(74,)\n",
      "(75,)\n",
      "(76,)\n",
      "(77,)\n",
      "(78,)\n",
      "(79,)\n",
      "(80,)\n",
      "(81,)\n",
      "(82,)\n",
      "(83,)\n",
      "(84,)\n",
      "(85,)\n",
      "(86,)\n",
      "(87,)\n",
      "(88,)\n",
      "(89,)\n",
      "(90,)\n",
      "(91,)\n"
     ]
    }
   ],
   "source": [
    "query = \"\"\"\n",
    "SELECT CustomerID ID\n",
    "FROM Customers;\n",
    "\"\"\"\n",
    "print_query_result(query)"
   ]
  },
  {
   "cell_type": "markdown",
   "id": "10ebd60d",
   "metadata": {},
   "source": [
    "## Alias for Columns"
   ]
  },
  {
   "cell_type": "code",
   "execution_count": 248,
   "id": "d444156e",
   "metadata": {},
   "outputs": [
    {
     "name": "stdout",
     "output_type": "stream",
     "text": [
      "(1, 'Alfreds Futterkiste')\n",
      "(2, 'Ana Trujillo Emparedados y helados')\n",
      "(3, 'Antonio Moreno Taquería')\n",
      "(4, 'Around the Horn')\n",
      "(5, 'Berglunds snabbköp')\n",
      "(6, 'Blauer See Delikatessen')\n",
      "(7, 'Blondel père et fils')\n",
      "(8, 'Bólido Comidas preparadas')\n",
      "(9, \"Bon app'\")\n",
      "(10, 'Bottom-Dollar Marketse')\n",
      "(11, \"B's Beverages\")\n",
      "(12, 'Cactus Comidas para llevar')\n",
      "(13, 'Centro comercial Moctezuma')\n",
      "(14, 'Chop-suey Chinese')\n",
      "(15, 'Comércio Mineiro')\n",
      "(16, 'Consolidated Holdings')\n",
      "(17, 'Drachenblut Delikatessend')\n",
      "(18, 'Du monde entier')\n",
      "(19, 'Eastern Connection')\n",
      "(20, 'Ernst Handel')\n",
      "(21, 'Familia Arquibaldo')\n",
      "(22, 'FISSA Fabrica Inter. Salchichas S.A.')\n",
      "(23, 'Folies gourmandes')\n",
      "(24, 'Folk och fä HB')\n",
      "(25, 'Frankenversand')\n",
      "(26, 'France restauration')\n",
      "(27, 'Franchi S.p.A.')\n",
      "(28, 'Furia Bacalhau e Frutos do Mar')\n",
      "(29, 'Galería del gastrónomo')\n",
      "(30, 'Godos Cocina Típica')\n",
      "(31, 'Gourmet Lanchonetes')\n",
      "(32, 'Great Lakes Food Market')\n",
      "(33, 'GROSELLA-Restaurante')\n",
      "(34, 'Hanari Carnes')\n",
      "(35, 'HILARIÓN-Abastos')\n",
      "(36, 'Hungry Coyote Import Store')\n",
      "(37, 'Hungry Owl All-Night Grocers')\n",
      "(38, 'Island Trading')\n",
      "(39, 'Königlich Essen')\n",
      "(40, \"La corne d'abondance\")\n",
      "(41, \"La maison d'Asie\")\n",
      "(42, 'Laughing Bacchus Wine Cellars')\n",
      "(43, 'Lazy K Kountry Store')\n",
      "(44, 'Lehmanns Marktstand')\n",
      "(45, \"Let's Stop N Shop\")\n",
      "(46, 'LILA-Supermercado')\n",
      "(47, 'LINO-Delicateses')\n",
      "(48, 'Lonesome Pine Restaurant')\n",
      "(49, 'Magazzini Alimentari Riuniti')\n",
      "(50, 'Maison Dewey')\n",
      "(51, 'Mère Paillarde')\n",
      "(52, 'Morgenstern Gesundkost')\n",
      "(53, 'North/South')\n",
      "(54, 'Océano Atlántico Ltda.')\n",
      "(55, 'Old World Delicatessen')\n",
      "(56, 'Ottilies Käseladen')\n",
      "(57, 'Paris spécialités')\n",
      "(58, 'Pericles Comidas clásicas')\n",
      "(59, 'Piccolo und mehr')\n",
      "(60, 'Princesa Isabel Vinhoss')\n",
      "(61, 'Que Delícia')\n",
      "(62, 'Queen Cozinha')\n",
      "(63, 'QUICK-Stop')\n",
      "(64, 'Rancho grande')\n",
      "(65, 'Rattlesnake Canyon Grocery')\n",
      "(66, 'Reggiani Caseifici')\n",
      "(67, 'Ricardo Adocicados')\n",
      "(68, 'Richter Supermarkt')\n",
      "(69, 'Romero y tomillo')\n",
      "(70, 'Santé Gourmet')\n",
      "(71, 'Save-a-lot Markets')\n",
      "(72, 'Seven Seas Imports')\n",
      "(73, 'Simons bistro')\n",
      "(74, 'Spécialités du monde')\n",
      "(75, 'Split Rail Beer & Ale')\n",
      "(76, 'Suprêmes délices')\n",
      "(77, 'The Big Cheese')\n",
      "(78, 'The Cracker Box')\n",
      "(79, 'Toms Spezialitäten')\n",
      "(80, 'Tortuga Restaurante')\n",
      "(81, 'Tradição Hipermercados')\n",
      "(82, \"Trail's Head Gourmet Provisioners\")\n",
      "(83, 'Vaffeljernet')\n",
      "(84, 'Victuailles en stock')\n",
      "(85, 'Vins et alcools Chevalier')\n",
      "(86, 'Die Wandernde Kuh')\n",
      "(87, 'Wartian Herkku')\n",
      "(88, 'Wellington Importadora')\n",
      "(89, 'White Clover Markets')\n",
      "(90, 'Wilman Kala')\n",
      "(91, 'Wolski')\n"
     ]
    }
   ],
   "source": [
    "query = \"\"\"\n",
    "SELECT CustomerID AS ID, CustomerName AS Customer\n",
    "FROM Customers;\n",
    "\"\"\"\n",
    "print_query_result(query)"
   ]
  },
  {
   "cell_type": "markdown",
   "id": "7b2aa537",
   "metadata": {},
   "source": [
    "## Using Aliases With a Space Character"
   ]
  },
  {
   "cell_type": "code",
   "execution_count": 249,
   "id": "4b237b20",
   "metadata": {},
   "outputs": [
    {
     "name": "stdout",
     "output_type": "stream",
     "text": [
      "('Chais',)\n",
      "('Chang',)\n",
      "('Aniseed Syrup',)\n",
      "(\"Chef Anton's Cajun Seasoning\",)\n",
      "(\"Chef Anton's Gumbo Mix\",)\n",
      "(\"Grandma's Boysenberry Spread\",)\n",
      "(\"Uncle Bob's Organic Dried Pears\",)\n",
      "('Northwoods Cranberry Sauce',)\n",
      "('Mishi Kobe Niku',)\n",
      "('Ikura',)\n",
      "('Queso Cabrales',)\n",
      "('Queso Manchego La Pastora',)\n",
      "('Konbu',)\n",
      "('Tofu',)\n",
      "('Genen Shouyu',)\n",
      "('Pavlova',)\n",
      "('Alice Mutton',)\n",
      "('Carnarvon Tigers',)\n",
      "('Teatime Chocolate Biscuits',)\n",
      "(\"Sir Rodney's Marmalade\",)\n",
      "(\"Sir Rodney's Scones\",)\n",
      "(\"Gustaf's Knäckebröd\",)\n",
      "('Tunnbröd',)\n",
      "('Guaraná Fantástica',)\n",
      "('NuNuCa Nuß-Nougat-Creme',)\n",
      "('Gumbär Gummibärchen',)\n",
      "('Schoggi Schokolade',)\n",
      "('Rössle Sauerkraut',)\n",
      "('Thüringer Rostbratwurst',)\n",
      "('Nord-Ost Matjeshering',)\n",
      "('Gorgonzola Telino',)\n",
      "('Mascarpone Fabioli',)\n",
      "('Geitost',)\n",
      "('Sasquatch Ale',)\n",
      "('Steeleye Stout',)\n",
      "('Inlagd Sill',)\n",
      "('Gravad lax',)\n",
      "('Côte de Blaye',)\n",
      "('Chartreuse verte',)\n",
      "('Boston Crab Meat',)\n",
      "(\"Jack's New England Clam Chowder\",)\n",
      "('Singaporean Hokkien Fried Mee',)\n",
      "('Ipoh Coffee',)\n",
      "('Gula Malacca',)\n",
      "('Røgede sild',)\n",
      "('Spegesild',)\n",
      "('Zaanse koeken',)\n",
      "('Chocolade',)\n",
      "('Maxilaku',)\n",
      "('Valkoinen suklaa',)\n",
      "('Manjimup Dried Apples',)\n",
      "('Filo Mix',)\n",
      "('Perth Pasties',)\n",
      "('Tourtière',)\n",
      "('Pâté chinois',)\n",
      "('Gnocchi di nonna Alice',)\n",
      "('Ravioli Angelo',)\n",
      "('Escargots de Bourgogne',)\n",
      "('Raclette Courdavault',)\n",
      "('Camembert Pierrot',)\n",
      "(\"Sirop d'érable\",)\n",
      "('Tarte au sucre',)\n",
      "('Vegie-spread',)\n",
      "('Wimmers gute Semmelknödel',)\n",
      "('Louisiana Fiery Hot Pepper Sauce',)\n",
      "('Louisiana Hot Spiced Okra',)\n",
      "('Laughing Lumberjack Lager',)\n",
      "('Scottish Longbreads',)\n",
      "('Gudbrandsdalsost',)\n",
      "('Outback Lager',)\n",
      "('Fløtemysost',)\n",
      "('Mozzarella di Giovanni',)\n",
      "('Röd Kaviar',)\n",
      "('Longlife Tofu',)\n",
      "('Rhönbräu Klosterbier',)\n",
      "('Lakkalikööri',)\n",
      "('Original Frankfurter grüne Soße',)\n"
     ]
    }
   ],
   "source": [
    "query = \"\"\"\n",
    "SELECT ProductName AS [My Great Products]\n",
    "FROM Products;\n",
    "\"\"\"\n",
    "print_query_result(query)"
   ]
  },
  {
   "cell_type": "code",
   "execution_count": 250,
   "id": "1f8a78a7",
   "metadata": {},
   "outputs": [
    {
     "name": "stdout",
     "output_type": "stream",
     "text": [
      "('Chais',)\n",
      "('Chang',)\n",
      "('Aniseed Syrup',)\n",
      "(\"Chef Anton's Cajun Seasoning\",)\n",
      "(\"Chef Anton's Gumbo Mix\",)\n",
      "(\"Grandma's Boysenberry Spread\",)\n",
      "(\"Uncle Bob's Organic Dried Pears\",)\n",
      "('Northwoods Cranberry Sauce',)\n",
      "('Mishi Kobe Niku',)\n",
      "('Ikura',)\n",
      "('Queso Cabrales',)\n",
      "('Queso Manchego La Pastora',)\n",
      "('Konbu',)\n",
      "('Tofu',)\n",
      "('Genen Shouyu',)\n",
      "('Pavlova',)\n",
      "('Alice Mutton',)\n",
      "('Carnarvon Tigers',)\n",
      "('Teatime Chocolate Biscuits',)\n",
      "(\"Sir Rodney's Marmalade\",)\n",
      "(\"Sir Rodney's Scones\",)\n",
      "(\"Gustaf's Knäckebröd\",)\n",
      "('Tunnbröd',)\n",
      "('Guaraná Fantástica',)\n",
      "('NuNuCa Nuß-Nougat-Creme',)\n",
      "('Gumbär Gummibärchen',)\n",
      "('Schoggi Schokolade',)\n",
      "('Rössle Sauerkraut',)\n",
      "('Thüringer Rostbratwurst',)\n",
      "('Nord-Ost Matjeshering',)\n",
      "('Gorgonzola Telino',)\n",
      "('Mascarpone Fabioli',)\n",
      "('Geitost',)\n",
      "('Sasquatch Ale',)\n",
      "('Steeleye Stout',)\n",
      "('Inlagd Sill',)\n",
      "('Gravad lax',)\n",
      "('Côte de Blaye',)\n",
      "('Chartreuse verte',)\n",
      "('Boston Crab Meat',)\n",
      "(\"Jack's New England Clam Chowder\",)\n",
      "('Singaporean Hokkien Fried Mee',)\n",
      "('Ipoh Coffee',)\n",
      "('Gula Malacca',)\n",
      "('Røgede sild',)\n",
      "('Spegesild',)\n",
      "('Zaanse koeken',)\n",
      "('Chocolade',)\n",
      "('Maxilaku',)\n",
      "('Valkoinen suklaa',)\n",
      "('Manjimup Dried Apples',)\n",
      "('Filo Mix',)\n",
      "('Perth Pasties',)\n",
      "('Tourtière',)\n",
      "('Pâté chinois',)\n",
      "('Gnocchi di nonna Alice',)\n",
      "('Ravioli Angelo',)\n",
      "('Escargots de Bourgogne',)\n",
      "('Raclette Courdavault',)\n",
      "('Camembert Pierrot',)\n",
      "(\"Sirop d'érable\",)\n",
      "('Tarte au sucre',)\n",
      "('Vegie-spread',)\n",
      "('Wimmers gute Semmelknödel',)\n",
      "('Louisiana Fiery Hot Pepper Sauce',)\n",
      "('Louisiana Hot Spiced Okra',)\n",
      "('Laughing Lumberjack Lager',)\n",
      "('Scottish Longbreads',)\n",
      "('Gudbrandsdalsost',)\n",
      "('Outback Lager',)\n",
      "('Fløtemysost',)\n",
      "('Mozzarella di Giovanni',)\n",
      "('Röd Kaviar',)\n",
      "('Longlife Tofu',)\n",
      "('Rhönbräu Klosterbier',)\n",
      "('Lakkalikööri',)\n",
      "('Original Frankfurter grüne Soße',)\n"
     ]
    }
   ],
   "source": [
    "query = \"\"\"\n",
    "SELECT ProductName AS \"My Great Products\"\n",
    "FROM Products;\n",
    "\"\"\"\n",
    "print_query_result(query)"
   ]
  },
  {
   "cell_type": "markdown",
   "id": "362de874",
   "metadata": {},
   "source": [
    "## Concatenate Columns"
   ]
  },
  {
   "cell_type": "code",
   "execution_count": 251,
   "id": "91385252",
   "metadata": {},
   "outputs": [
    {
     "name": "stdout",
     "output_type": "stream",
     "text": [
      "('Alfreds Futterkiste', 12209)\n",
      "('Ana Trujillo Emparedados y helados', 5021)\n",
      "('Antonio Moreno Taquería', 5023)\n",
      "('Around the Horn', 120)\n",
      "('Berglunds snabbköp', 0)\n",
      "('Blauer See Delikatessen', 68306)\n",
      "('Blondel père et fils', 67024)\n",
      "('Bólido Comidas preparadas', 28023)\n",
      "(\"Bon app'\", 13020)\n",
      "('Bottom-Dollar Marketse', 23)\n",
      "(\"B's Beverages\", 0)\n",
      "('Cactus Comidas para llevar', 1010)\n",
      "('Centro comercial Moctezuma', 5022)\n",
      "('Chop-suey Chinese', 3012)\n",
      "('Comércio Mineiro', 5432)\n",
      "('Consolidated Holdings', 0)\n",
      "('Drachenblut Delikatessend', 52066)\n",
      "('Du monde entier', 44067)\n",
      "('Eastern Connection', 35)\n",
      "('Ernst Handel', 8010)\n",
      "('Familia Arquibaldo', 5442)\n",
      "('FISSA Fabrica Inter. Salchichas S.A.', 28034)\n",
      "('Folies gourmandes', 59184)\n",
      "('Folk och fä HB', 0)\n",
      "('Frankenversand', 80805)\n",
      "('France restauration', 44054)\n",
      "('Franchi S.p.A.', 10100)\n",
      "('Furia Bacalhau e Frutos do Mar', 1675)\n",
      "('Galería del gastrónomo', 8022)\n",
      "('Godos Cocina Típica', 41101)\n",
      "('Gourmet Lanchonetes', 4876)\n",
      "('Great Lakes Food Market', 100135)\n",
      "('GROSELLA-Restaurante', 1086)\n",
      "('Hanari Carnes', 5454)\n",
      "('HILARIÓN-Abastos', 5022)\n",
      "('Hungry Coyote Import Store', 97827)\n",
      "('Hungry Owl All-Night Grocers', None)\n",
      "('Island Trading', 0)\n",
      "('Königlich Essen', 14776)\n",
      "(\"La corne d'abondance\", 78067)\n",
      "(\"La maison d'Asie\", 31001)\n",
      "('Laughing Bacchus Wine Cellars', 1900)\n",
      "('Lazy K Kountry Store', 99374)\n",
      "('Lehmanns Marktstand', 60528)\n",
      "(\"Let's Stop N Shop\", 94204)\n",
      "('LILA-Supermercado', 3508)\n",
      "('LINO-Delicateses', 4980)\n",
      "('Lonesome Pine Restaurant', 97308)\n",
      "('Magazzini Alimentari Riuniti', 24100)\n",
      "('Maison Dewey', 0)\n",
      "('Mère Paillarde', 43)\n",
      "('Morgenstern Gesundkost', 4179)\n",
      "('North/South', 0)\n",
      "('Océano Atlántico Ltda.', 1010)\n",
      "('Old World Delicatessen', 102251)\n",
      "('Ottilies Käseladen', 50739)\n",
      "('Paris spécialités', 75277)\n",
      "('Pericles Comidas clásicas', 5033)\n",
      "('Piccolo und mehr', 5020)\n",
      "('Princesa Isabel Vinhoss', 1756)\n",
      "('Que Delícia', 2389)\n",
      "('Queen Cozinha', 5487)\n",
      "('QUICK-Stop', 1307)\n",
      "('Rancho grande', 1010)\n",
      "('Rattlesnake Canyon Grocery', 89927)\n",
      "('Reggiani Caseifici', 42100)\n",
      "('Ricardo Adocicados', 2389)\n",
      "('Richter Supermarkt', 1203)\n",
      "('Romero y tomillo', 28001)\n",
      "('Santé Gourmet', 4110)\n",
      "('Save-a-lot Markets', 83907)\n",
      "('Seven Seas Imports', 90)\n",
      "('Simons bistro', 1734)\n",
      "('Spécialités du monde', 75041)\n",
      "('Split Rail Beer & Ale', 82520)\n",
      "('Suprêmes délices', 0)\n",
      "('The Big Cheese', 97290)\n",
      "('The Cracker Box', 59856)\n",
      "('Toms Spezialitäten', 44087)\n",
      "('Tortuga Restaurante', 5033)\n",
      "('Tradição Hipermercados', 5634)\n",
      "(\"Trail's Head Gourmet Provisioners\", 98756)\n",
      "('Vaffeljernet', 8200)\n",
      "('Victuailles en stock', 69006)\n",
      "('Vins et alcools Chevalier', 51159)\n",
      "('Die Wandernde Kuh', 70563)\n",
      "('Wartian Herkku', 90110)\n",
      "('Wellington Importadora', 8737)\n",
      "('White Clover Markets', 98433)\n",
      "('Wilman Kala', 21240)\n",
      "('Wolski', None)\n"
     ]
    }
   ],
   "source": [
    "query = \"\"\"\n",
    "SELECT CustomerName, Address + ', ' + PostalCode + ' ' + City + ', ' + Country AS Address\n",
    "FROM Customers;\n",
    "\"\"\"\n",
    "print_query_result(query)"
   ]
  },
  {
   "cell_type": "markdown",
   "id": "82f65797",
   "metadata": {},
   "source": [
    "## Alias for Tables"
   ]
  },
  {
   "cell_type": "code",
   "execution_count": 252,
   "id": "16566ca2",
   "metadata": {},
   "outputs": [
    {
     "name": "stdout",
     "output_type": "stream",
     "text": [
      "(1, 'Alfreds Futterkiste', 'Maria Anders', 'Obere Str. 57', 'Berlin', '12209', 'Germany')\n",
      "(2, 'Ana Trujillo Emparedados y helados', 'Ana Trujillo', 'Avda. de la Constitución 2222', 'México D.F.', '05021', 'Mexico')\n",
      "(3, 'Antonio Moreno Taquería', 'Antonio Moreno', 'Mataderos 2312', 'México D.F.', '05023', 'Mexico')\n",
      "(4, 'Around the Horn', 'Thomas Hardy', '120 Hanover Sq.', 'London', 'WA1 1DP', 'UK')\n",
      "(5, 'Berglunds snabbköp', 'Christina Berglund', 'Berguvsvägen 8', 'Luleå', 'S-958 22', 'Sweden')\n",
      "(6, 'Blauer See Delikatessen', 'Hanna Moos', 'Forsterstr. 57', 'Mannheim', '68306', 'Germany')\n",
      "(7, 'Blondel père et fils', 'Frédérique Citeaux', '24, place Kléber', 'Strasbourg', '67000', 'France')\n",
      "(8, 'Bólido Comidas preparadas', 'Martín Sommer', 'C/ Araquil, 67', 'Madrid', '28023', 'Spain')\n",
      "(9, \"Bon app'\", 'Laurence Lebihans', '12, rue des Bouchers', 'Marseille', '13008', 'France')\n",
      "(10, 'Bottom-Dollar Marketse', 'Elizabeth Lincoln', '23 Tsawassen Blvd.', 'Tsawassen', 'T2F 8M4', 'Canada')\n",
      "(11, \"B's Beverages\", 'Victoria Ashworth', 'Fauntleroy Circus', 'London', 'EC2 5NT', 'UK')\n",
      "(12, 'Cactus Comidas para llevar', 'Patricio Simpson', 'Cerrito 333', 'Buenos Aires', '1010', 'Argentina')\n",
      "(13, 'Centro comercial Moctezuma', 'Francisco Chang', 'Sierras de Granada 9993', 'México D.F.', '05022', 'Mexico')\n",
      "(14, 'Chop-suey Chinese', 'Yang Wang', 'Hauptstr. 29', 'Bern', '3012', 'Switzerland')\n",
      "(15, 'Comércio Mineiro', 'Pedro Afonso', 'Av. dos Lusíadas, 23', 'São Paulo', '05432-043', 'Brazil')\n",
      "(16, 'Consolidated Holdings', 'Elizabeth Brown', 'Berkeley Gardens 12 Brewery ', 'London', 'WX1 6LT', 'UK')\n",
      "(17, 'Drachenblut Delikatessend', 'Sven Ottlieb', 'Walserweg 21', 'Aachen', '52066', 'Germany')\n",
      "(18, 'Du monde entier', 'Janine Labrune', '67, rue des Cinquante Otages', 'Nantes', '44000', 'France')\n",
      "(19, 'Eastern Connection', 'Ann Devon', '35 King George', 'London', 'WX3 6FW', 'UK')\n",
      "(20, 'Ernst Handel', 'Roland Mendel', 'Kirchgasse 6', 'Graz', '8010', 'Austria')\n",
      "(21, 'Familia Arquibaldo', 'Aria Cruz', 'Rua Orós, 92', 'São Paulo', '05442-030', 'Brazil')\n",
      "(22, 'FISSA Fabrica Inter. Salchichas S.A.', 'Diego Roel', 'C/ Moralzarzal, 86', 'Madrid', '28034', 'Spain')\n",
      "(23, 'Folies gourmandes', 'Martine Rancé', '184, chaussée de Tournai', 'Lille', '59000', 'France')\n",
      "(24, 'Folk och fä HB', 'Maria Larsson', 'Åkergatan 24', 'Bräcke', 'S-844 67', 'Sweden')\n",
      "(25, 'Frankenversand', 'Peter Franken', 'Berliner Platz 43', 'München', '80805', 'Germany')\n",
      "(26, 'France restauration', 'Carine Schmitt', '54, rue Royale', 'Nantes', '44000', 'France')\n",
      "(27, 'Franchi S.p.A.', 'Paolo Accorti', 'Via Monte Bianco 34', 'Torino', '10100', 'Italy')\n",
      "(28, 'Furia Bacalhau e Frutos do Mar', 'Lino Rodriguez ', 'Jardim das rosas n. 32', 'Lisboa', '1675', 'Portugal')\n",
      "(29, 'Galería del gastrónomo', 'Eduardo Saavedra', 'Rambla de Cataluña, 23', 'Barcelona', '08022', 'Spain')\n",
      "(30, 'Godos Cocina Típica', 'José Pedro Freyre', 'C/ Romero, 33', 'Sevilla', '41101', 'Spain')\n",
      "(31, 'Gourmet Lanchonetes', 'André Fonseca', 'Av. Brasil, 442', 'Campinas', '04876-786', 'Brazil')\n",
      "(32, 'Great Lakes Food Market', 'Howard Snyder', '2732 Baker Blvd.', 'Eugene', '97403', 'USA')\n",
      "(33, 'GROSELLA-Restaurante', 'Manuel Pereira', '5ª Ave. Los Palos Grandes', 'Caracas', '1081', 'Venezuela')\n",
      "(34, 'Hanari Carnes', 'Mario Pontes', 'Rua do Paço, 67', 'Rio de Janeiro', '05454-876', 'Brazil')\n",
      "(35, 'HILARIÓN-Abastos', 'Carlos Hernández', 'Carrera 22 con Ave. Carlos Soublette #8-35', 'San Cristóbal', '5022', 'Venezuela')\n",
      "(36, 'Hungry Coyote Import Store', 'Yoshi Latimer', 'City Center Plaza 516 Main St.', 'Elgin', '97827', 'USA')\n",
      "(37, 'Hungry Owl All-Night Grocers', 'Patricia McKenna', '8 Johnstown Road', 'Cork', None, 'Ireland')\n",
      "(38, 'Island Trading', 'Helen Bennett', 'Garden House Crowther Way', 'Cowes', 'PO31 7PJ', 'UK')\n",
      "(39, 'Königlich Essen', 'Philip Cramer', 'Maubelstr. 90', 'Brandenburg', '14776', 'Germany')\n",
      "(40, \"La corne d'abondance\", 'Daniel Tonini', \"67, avenue de l'Europe\", 'Versailles', '78000', 'France')\n",
      "(41, \"La maison d'Asie\", 'Annette Roulet', '1 rue Alsace-Lorraine', 'Toulouse', '31000', 'France')\n",
      "(42, 'Laughing Bacchus Wine Cellars', 'Yoshi Tannamuri', '1900 Oak St.', 'Vancouver', 'V3F 2K1', 'Canada')\n",
      "(43, 'Lazy K Kountry Store', 'John Steel', '12 Orchestra Terrace', 'Walla Walla', '99362', 'USA')\n",
      "(44, 'Lehmanns Marktstand', 'Renate Messner', 'Magazinweg 7', 'Frankfurt a.M. ', '60528', 'Germany')\n",
      "(45, \"Let's Stop N Shop\", 'Jaime Yorres', '87 Polk St. Suite 5', 'San Francisco', '94117', 'USA')\n",
      "(46, 'LILA-Supermercado', 'Carlos González', 'Carrera 52 con Ave. Bolívar #65-98 Llano Largo', 'Barquisimeto', '3508', 'Venezuela')\n",
      "(47, 'LINO-Delicateses', 'Felipe Izquierdo', 'Ave. 5 de Mayo Porlamar', 'I. de Margarita', '4980', 'Venezuela')\n",
      "(48, 'Lonesome Pine Restaurant', 'Fran Wilson', '89 Chiaroscuro Rd.', 'Portland', '97219', 'USA')\n",
      "(49, 'Magazzini Alimentari Riuniti', 'Giovanni Rovelli', 'Via Ludovico il Moro 22', 'Bergamo', '24100', 'Italy')\n",
      "(50, 'Maison Dewey', 'Catherine Dewey', 'Rue Joseph-Bens 532', 'Bruxelles', 'B-1180', 'Belgium')\n",
      "(51, 'Mère Paillarde', 'Jean Fresnière', '43 rue St. Laurent', 'Montréal', 'H1J 1C3', 'Canada')\n",
      "(52, 'Morgenstern Gesundkost', 'Alexander Feuer', 'Heerstr. 22', 'Leipzig', '04179', 'Germany')\n",
      "(53, 'North/South', 'Simon Crowther', 'South House 300 Queensbridge', 'London', 'SW7 1RZ', 'UK')\n",
      "(54, 'Océano Atlántico Ltda.', 'Yvonne Moncada', 'Ing. Gustavo Moncada 8585 Piso 20-A', 'Buenos Aires', '1010', 'Argentina')\n",
      "(55, 'Old World Delicatessen', 'Rene Phillips', '2743 Bering St.', 'Anchorage', '99508', 'USA')\n",
      "(56, 'Ottilies Käseladen', 'Henriette Pfalzheim', 'Mehrheimerstr. 369', 'Köln', '50739', 'Germany')\n",
      "(57, 'Paris spécialités', 'Marie Bertrand', '265, boulevard Charonne', 'Paris', '75012', 'France')\n",
      "(58, 'Pericles Comidas clásicas', 'Guillermo Fernández', 'Calle Dr. Jorge Cash 321', 'México D.F.', '05033', 'Mexico')\n",
      "(59, 'Piccolo und mehr', 'Georg Pipps', 'Geislweg 14', 'Salzburg', '5020', 'Austria')\n",
      "(60, 'Princesa Isabel Vinhoss', 'Isabel de Castro', 'Estrada da saúde n. 58', 'Lisboa', '1756', 'Portugal')\n",
      "(61, 'Que Delícia', 'Bernardo Batista', 'Rua da Panificadora, 12', 'Rio de Janeiro', '02389-673', 'Brazil')\n",
      "(62, 'Queen Cozinha', 'Lúcia Carvalho', 'Alameda dos Canàrios, 891', 'São Paulo', '05487-020', 'Brazil')\n",
      "(63, 'QUICK-Stop', 'Horst Kloss', 'Taucherstraße 10', 'Cunewalde', '01307', 'Germany')\n",
      "(64, 'Rancho grande', 'Sergio Gutiérrez', 'Av. del Libertador 900', 'Buenos Aires', '1010', 'Argentina')\n",
      "(65, 'Rattlesnake Canyon Grocery', 'Paula Wilson', '2817 Milton Dr.', 'Albuquerque', '87110', 'USA')\n",
      "(66, 'Reggiani Caseifici', 'Maurizio Moroni', 'Strada Provinciale 124', 'Reggio Emilia', '42100', 'Italy')\n",
      "(67, 'Ricardo Adocicados', 'Janete Limeira', 'Av. Copacabana, 267', 'Rio de Janeiro', '02389-890', 'Brazil')\n",
      "(68, 'Richter Supermarkt', 'Michael Holz', 'Grenzacherweg 237', 'Genève', '1203', 'Switzerland')\n",
      "(69, 'Romero y tomillo', 'Alejandra Camino', 'Gran Vía, 1', 'Madrid', '28001', 'Spain')\n",
      "(70, 'Santé Gourmet', 'Jonas Bergulfsen', 'Erling Skakkes gate 78', 'Stavern', '4110', 'Norway')\n",
      "(71, 'Save-a-lot Markets', 'Jose Pavarotti', '187 Suffolk Ln.', 'Boise', '83720', 'USA')\n",
      "(72, 'Seven Seas Imports', 'Hari Kumar', '90 Wadhurst Rd.', 'London', 'OX15 4NB', 'UK')\n",
      "(73, 'Simons bistro', 'Jytte Petersen', 'Vinbæltet 34', 'København', '1734', 'Denmark')\n",
      "(74, 'Spécialités du monde', 'Dominique Perrier', '25, rue Lauriston', 'Paris', '75016', 'France')\n",
      "(75, 'Split Rail Beer & Ale', 'Art Braunschweiger', 'P.O. Box 555', 'Lander', '82520', 'USA')\n",
      "(76, 'Suprêmes délices', 'Pascale Cartrain', 'Boulevard Tirou, 255', 'Charleroi', 'B-6000', 'Belgium')\n",
      "(77, 'The Big Cheese', 'Liz Nixon', '89 Jefferson Way Suite 2', 'Portland', '97201', 'USA')\n",
      "(78, 'The Cracker Box', 'Liu Wong', '55 Grizzly Peak Rd.', 'Butte', '59801', 'USA')\n",
      "(79, 'Toms Spezialitäten', 'Karin Josephs', 'Luisenstr. 48', 'Münster', '44087', 'Germany')\n",
      "(80, 'Tortuga Restaurante', 'Miguel Angel Paolino', 'Avda. Azteca 123', 'México D.F.', '05033', 'Mexico')\n",
      "(81, 'Tradição Hipermercados', 'Anabela Domingues', 'Av. Inês de Castro, 414', 'São Paulo', '05634-030', 'Brazil')\n",
      "(82, \"Trail's Head Gourmet Provisioners\", 'Helvetius Nagy', '722 DaVinci Blvd.', 'Kirkland', '98034', 'USA')\n",
      "(83, 'Vaffeljernet', 'Palle Ibsen', 'Smagsløget 45', 'Århus', '8200', 'Denmark')\n",
      "(84, 'Victuailles en stock', 'Mary Saveley', '2, rue du Commerce', 'Lyon', '69004', 'France')\n",
      "(85, 'Vins et alcools Chevalier', 'Paul Henriot', \"59 rue de l'Abbaye\", 'Reims', '51100', 'France')\n",
      "(86, 'Die Wandernde Kuh', 'Rita Müller', 'Adenauerallee 900', 'Stuttgart', '70563', 'Germany')\n",
      "(87, 'Wartian Herkku', 'Pirkko Koskitalo', 'Torikatu 38', 'Oulu', '90110', 'Finland')\n",
      "(88, 'Wellington Importadora', 'Paula Parente', 'Rua do Mercado, 12', 'Resende', '08737-363', 'Brazil')\n",
      "(89, 'White Clover Markets', 'Karl Jablonski', '305 - 14th Ave. S. Suite 3B', 'Seattle', '98128', 'USA')\n",
      "(90, 'Wilman Kala', 'Matti Karttunen', 'Keskuskatu 45', 'Helsinki', '21240', 'Finland')\n",
      "(91, 'Wolski', 'Zbyszek', 'ul. Filtrowa 68', 'Walla', '01-012', None)\n"
     ]
    }
   ],
   "source": [
    "query = \"\"\"\n",
    "SELECT * FROM Customers AS Persons;\n",
    "\"\"\"\n",
    "print_query_result(query)"
   ]
  },
  {
   "cell_type": "code",
   "execution_count": 253,
   "id": "f109004d",
   "metadata": {},
   "outputs": [
    {
     "name": "stdout",
     "output_type": "stream",
     "text": [
      "(10355, '11/15/1996', 'Around the Horn')\n",
      "(10383, '12/16/1996', 'Around the Horn')\n"
     ]
    }
   ],
   "source": [
    "query = \"\"\"\n",
    "SELECT o.OrderID, o.OrderDate, c.CustomerName\n",
    "FROM Customers AS c, Orders AS o\n",
    "WHERE c.CustomerName='Around the Horn' AND c.CustomerID=o.CustomerID;\n",
    "\"\"\"\n",
    "print_query_result(query)"
   ]
  },
  {
   "cell_type": "code",
   "execution_count": 254,
   "id": "3eec670b",
   "metadata": {},
   "outputs": [
    {
     "name": "stdout",
     "output_type": "stream",
     "text": [
      "(10355, '11/15/1996', 'Around the Horn')\n",
      "(10383, '12/16/1996', 'Around the Horn')\n"
     ]
    }
   ],
   "source": [
    "query = \"\"\"\n",
    "SELECT Orders.OrderID, Orders.OrderDate, Customers.CustomerName\n",
    "FROM Customers, Orders\n",
    "WHERE Customers.CustomerName='Around the Horn' AND Customers.CustomerID=Orders.CustomerID;\n",
    "\"\"\"\n",
    "print_query_result(query)"
   ]
  },
  {
   "cell_type": "markdown",
   "id": "c3a47906",
   "metadata": {},
   "source": [
    "## SQL JOIN"
   ]
  },
  {
   "cell_type": "code",
   "execution_count": 255,
   "id": "f99f71ff",
   "metadata": {},
   "outputs": [
    {
     "name": "stdout",
     "output_type": "stream",
     "text": [
      "(10248, 'Wilman Kala', '7/4/1996')\n",
      "(10249, 'Tradição Hipermercados', '7/5/1996')\n",
      "(10250, 'Hanari Carnes', '7/8/1996')\n",
      "(10251, 'Victuailles en stock', '7/8/1996')\n",
      "(10252, 'Suprêmes délices', '7/9/1996')\n",
      "(10253, 'Hanari Carnes', '7/10/1996')\n",
      "(10254, 'Chop-suey Chinese', '7/11/1996')\n",
      "(10255, 'Richter Supermarkt', '7/12/1996')\n",
      "(10256, 'Wellington Importadora', '7/15/1996')\n",
      "(10257, 'HILARIÓN-Abastos', '7/16/1996')\n",
      "(10258, 'Ernst Handel', '7/17/1996')\n",
      "(10259, 'Centro comercial Moctezuma', '7/18/1996')\n",
      "(10260, 'Old World Delicatessen', '7/19/1996')\n",
      "(10261, 'Que Delícia', '7/19/1996')\n",
      "(10262, 'Rattlesnake Canyon Grocery', '7/22/1996')\n",
      "(10263, 'Ernst Handel', '7/23/1996')\n",
      "(10264, 'Folk och fä HB', '7/24/1996')\n",
      "(10265, 'Blondel père et fils', '7/25/1996')\n",
      "(10266, 'Wartian Herkku', '7/26/1996')\n",
      "(10267, 'Frankenversand', '7/29/1996')\n",
      "(10268, 'GROSELLA-Restaurante', '7/30/1996')\n",
      "(10269, 'White Clover Markets', '7/31/1996')\n",
      "(10270, 'Wartian Herkku', '8/1/1996')\n",
      "(10271, 'Split Rail Beer & Ale', '8/1/1996')\n",
      "(10272, 'Rattlesnake Canyon Grocery', '8/2/1996')\n",
      "(10273, 'QUICK-Stop', '8/5/1996')\n",
      "(10274, 'Vins et alcools Chevalier', '8/6/1996')\n",
      "(10275, 'Magazzini Alimentari Riuniti', '8/7/1996')\n",
      "(10276, 'Tortuga Restaurante', '8/8/1996')\n",
      "(10277, 'Morgenstern Gesundkost', '8/9/1996')\n",
      "(10278, 'Berglunds snabbköp', '8/12/1996')\n",
      "(10279, 'Lehmanns Marktstand', '8/13/1996')\n",
      "(10280, 'Berglunds snabbköp', '8/14/1996')\n",
      "(10281, 'Romero y tomillo', '8/14/1996')\n",
      "(10282, 'Romero y tomillo', '8/15/1996')\n",
      "(10283, 'LILA-Supermercado', '8/16/1996')\n",
      "(10284, 'Lehmanns Marktstand', '8/19/1996')\n",
      "(10285, 'QUICK-Stop', '8/20/1996')\n",
      "(10286, 'QUICK-Stop', '8/21/1996')\n",
      "(10287, 'Ricardo Adocicados', '8/22/1996')\n",
      "(10288, 'Reggiani Caseifici', '8/23/1996')\n",
      "(10289, \"B's Beverages\", '8/26/1996')\n",
      "(10290, 'Comércio Mineiro', '8/27/1996')\n",
      "(10291, 'Que Delícia', '8/27/1996')\n",
      "(10292, 'Tradição Hipermercados', '8/28/1996')\n",
      "(10293, 'Tortuga Restaurante', '8/29/1996')\n",
      "(10294, 'Rattlesnake Canyon Grocery', '8/30/1996')\n",
      "(10295, 'Vins et alcools Chevalier', '9/2/1996')\n",
      "(10296, 'LILA-Supermercado', '9/3/1996')\n",
      "(10297, 'Blondel père et fils', '9/4/1996')\n",
      "(10298, 'Hungry Owl All-Night Grocers', '9/5/1996')\n",
      "(10299, 'Ricardo Adocicados', '9/6/1996')\n",
      "(10300, 'Magazzini Alimentari Riuniti', '9/9/1996')\n",
      "(10301, 'Die Wandernde Kuh', '9/9/1996')\n",
      "(10302, 'Suprêmes délices', '9/10/1996')\n",
      "(10303, 'Godos Cocina Típica', '9/11/1996')\n",
      "(10304, 'Tortuga Restaurante', '9/12/1996')\n",
      "(10305, 'Old World Delicatessen', '9/13/1996')\n",
      "(10306, 'Romero y tomillo', '9/16/1996')\n",
      "(10307, 'Lonesome Pine Restaurant', '9/17/1996')\n",
      "(10308, 'Ana Trujillo Emparedados y helados', '9/18/1996')\n",
      "(10309, 'Hungry Owl All-Night Grocers', '9/19/1996')\n",
      "(10310, 'The Big Cheese', '9/20/1996')\n",
      "(10311, 'Du monde entier', '9/20/1996')\n",
      "(10312, 'Die Wandernde Kuh', '9/23/1996')\n",
      "(10313, 'QUICK-Stop', '9/24/1996')\n",
      "(10314, 'Rattlesnake Canyon Grocery', '9/25/1996')\n",
      "(10315, 'Island Trading', '9/26/1996')\n",
      "(10316, 'Rattlesnake Canyon Grocery', '9/27/1996')\n",
      "(10317, 'Lonesome Pine Restaurant', '9/30/1996')\n",
      "(10318, 'Island Trading', '10/1/1996')\n",
      "(10319, 'Tortuga Restaurante', '10/2/1996')\n",
      "(10320, 'Wartian Herkku', '10/3/1996')\n",
      "(10321, 'Island Trading', '10/3/1996')\n",
      "(10322, 'Pericles Comidas clásicas', '10/4/1996')\n",
      "(10323, 'Königlich Essen', '10/7/1996')\n",
      "(10324, 'Save-a-lot Markets', '10/8/1996')\n",
      "(10325, 'Königlich Essen', '10/9/1996')\n",
      "(10326, 'Bólido Comidas preparadas', '10/10/1996')\n",
      "(10327, 'Folk och fä HB', '10/11/1996')\n",
      "(10328, 'Furia Bacalhau e Frutos do Mar', '10/14/1996')\n",
      "(10329, 'Split Rail Beer & Ale', '10/15/1996')\n",
      "(10330, 'LILA-Supermercado', '10/16/1996')\n",
      "(10331, \"Bon app'\", '10/16/1996')\n",
      "(10332, 'Mère Paillarde', '10/17/1996')\n",
      "(10333, 'Wartian Herkku', '10/18/1996')\n",
      "(10334, 'Victuailles en stock', '10/21/1996')\n",
      "(10335, 'Hungry Owl All-Night Grocers', '10/22/1996')\n",
      "(10336, 'Princesa Isabel Vinhoss', '10/23/1996')\n",
      "(10337, 'Frankenversand', '10/24/1996')\n",
      "(10338, 'Old World Delicatessen', '10/25/1996')\n",
      "(10339, 'Mère Paillarde', '10/28/1996')\n",
      "(10340, \"Bon app'\", '10/29/1996')\n",
      "(10341, 'Simons bistro', '10/29/1996')\n",
      "(10342, 'Frankenversand', '10/30/1996')\n",
      "(10343, 'Lehmanns Marktstand', '10/31/1996')\n",
      "(10344, 'White Clover Markets', '11/1/1996')\n",
      "(10345, 'QUICK-Stop', '11/4/1996')\n",
      "(10346, 'Rattlesnake Canyon Grocery', '11/5/1996')\n",
      "(10347, 'Familia Arquibaldo', '11/6/1996')\n",
      "(10348, 'Die Wandernde Kuh', '11/7/1996')\n",
      "(10349, 'Split Rail Beer & Ale', '11/8/1996')\n",
      "(10350, \"La maison d'Asie\", '11/11/1996')\n",
      "(10351, 'Ernst Handel', '11/11/1996')\n",
      "(10352, 'Furia Bacalhau e Frutos do Mar', '11/12/1996')\n",
      "(10353, 'Piccolo und mehr', '11/13/1996')\n",
      "(10354, 'Pericles Comidas clásicas', '11/14/1996')\n",
      "(10355, 'Around the Horn', '11/15/1996')\n",
      "(10356, 'Die Wandernde Kuh', '11/18/1996')\n",
      "(10357, 'LILA-Supermercado', '11/19/1996')\n",
      "(10358, \"La maison d'Asie\", '11/20/1996')\n",
      "(10359, 'Seven Seas Imports', '11/21/1996')\n",
      "(10360, 'Blondel père et fils', '11/22/1996')\n",
      "(10361, 'QUICK-Stop', '11/22/1996')\n",
      "(10362, \"Bon app'\", '11/25/1996')\n",
      "(10363, 'Drachenblut Delikatessend', '11/26/1996')\n",
      "(10364, 'Eastern Connection', '11/26/1996')\n",
      "(10365, 'Antonio Moreno Taquería', '11/27/1996')\n",
      "(10366, 'Galería del gastrónomo', '11/28/1996')\n",
      "(10367, 'Vaffeljernet', '11/28/1996')\n",
      "(10368, 'Ernst Handel', '11/29/1996')\n",
      "(10369, 'Split Rail Beer & Ale', '12/2/1996')\n",
      "(10370, 'Chop-suey Chinese', '12/3/1996')\n",
      "(10371, \"La maison d'Asie\", '12/3/1996')\n",
      "(10372, 'Queen Cozinha', '12/4/1996')\n",
      "(10373, 'Hungry Owl All-Night Grocers', '12/5/1996')\n",
      "(10374, 'Wolski', '12/5/1996')\n",
      "(10375, 'Hungry Coyote Import Store', '12/6/1996')\n",
      "(10376, 'Mère Paillarde', '12/9/1996')\n",
      "(10377, 'Seven Seas Imports', '12/9/1996')\n",
      "(10378, 'Folk och fä HB', '12/10/1996')\n",
      "(10379, 'Que Delícia', '12/11/1996')\n",
      "(10380, 'Hungry Owl All-Night Grocers', '12/12/1996')\n",
      "(10381, 'LILA-Supermercado', '12/12/1996')\n",
      "(10382, 'Ernst Handel', '12/13/1996')\n",
      "(10383, 'Around the Horn', '12/16/1996')\n",
      "(10384, 'Berglunds snabbköp', '12/16/1996')\n",
      "(10385, 'Split Rail Beer & Ale', '12/17/1996')\n",
      "(10386, 'Familia Arquibaldo', '12/18/1996')\n",
      "(10387, 'Santé Gourmet', '12/18/1996')\n",
      "(10388, 'Seven Seas Imports', '12/19/1996')\n",
      "(10389, 'Bottom-Dollar Marketse', '12/20/1996')\n",
      "(10390, 'Ernst Handel', '12/23/1996')\n",
      "(10391, 'Drachenblut Delikatessend', '12/23/1996')\n",
      "(10392, 'Piccolo und mehr', '12/24/1996')\n",
      "(10393, 'Save-a-lot Markets', '12/25/1996')\n",
      "(10394, 'Hungry Coyote Import Store', '12/25/1996')\n",
      "(10395, 'HILARIÓN-Abastos', '12/26/1996')\n",
      "(10396, 'Frankenversand', '12/27/1996')\n",
      "(10397, 'Princesa Isabel Vinhoss', '12/27/1996')\n",
      "(10398, 'Save-a-lot Markets', '12/30/1996')\n",
      "(10399, 'Vaffeljernet', '12/31/1996')\n",
      "(10400, 'Eastern Connection', '1/1/1997')\n",
      "(10401, 'Rattlesnake Canyon Grocery', '1/1/1997')\n",
      "(10402, 'Ernst Handel', '1/2/1997')\n",
      "(10403, 'Ernst Handel', '1/3/1997')\n",
      "(10404, 'Magazzini Alimentari Riuniti', '1/3/1997')\n",
      "(10405, 'LINO-Delicateses', '1/6/1997')\n",
      "(10406, 'Queen Cozinha', '1/7/1997')\n",
      "(10407, 'Ottilies Käseladen', '1/7/1997')\n",
      "(10408, 'Folies gourmandes', '1/8/1997')\n",
      "(10409, 'Océano Atlántico Ltda.', '1/9/1997')\n",
      "(10410, 'Bottom-Dollar Marketse', '1/10/1997')\n",
      "(10411, 'Bottom-Dollar Marketse', '1/10/1997')\n",
      "(10412, 'Wartian Herkku', '1/13/1997')\n",
      "(10413, \"La maison d'Asie\", '1/14/1997')\n",
      "(10414, 'Familia Arquibaldo', '1/14/1997')\n",
      "(10415, 'Hungry Coyote Import Store', '1/15/1997')\n",
      "(10416, 'Wartian Herkku', '1/16/1997')\n",
      "(10417, 'Simons bistro', '1/16/1997')\n",
      "(10418, 'QUICK-Stop', '1/17/1997')\n",
      "(10419, 'Richter Supermarkt', '1/20/1997')\n",
      "(10420, 'Wellington Importadora', '1/21/1997')\n",
      "(10421, 'Que Delícia', '1/21/1997')\n",
      "(10422, 'Franchi S.p.A.', '1/22/1997')\n",
      "(10423, 'Gourmet Lanchonetes', '1/23/1997')\n",
      "(10424, 'Mère Paillarde', '1/23/1997')\n",
      "(10425, \"La maison d'Asie\", '1/24/1997')\n",
      "(10426, 'Galería del gastrónomo', '1/27/1997')\n",
      "(10427, 'Piccolo und mehr', '1/27/1997')\n",
      "(10428, 'Reggiani Caseifici', '1/28/1997')\n",
      "(10429, 'Hungry Owl All-Night Grocers', '1/29/1997')\n",
      "(10430, 'Ernst Handel', '1/30/1997')\n",
      "(10431, 'Bottom-Dollar Marketse', '1/30/1997')\n",
      "(10432, 'Split Rail Beer & Ale', '1/31/1997')\n",
      "(10433, 'Princesa Isabel Vinhoss', '2/3/1997')\n",
      "(10434, 'Folk och fä HB', '2/3/1997')\n",
      "(10435, 'Consolidated Holdings', '2/4/1997')\n",
      "(10436, 'Blondel père et fils', '2/5/1997')\n",
      "(10437, 'Wartian Herkku', '2/5/1997')\n",
      "(10438, 'Toms Spezialitäten', '2/6/1997')\n",
      "(10439, 'Mère Paillarde', '2/7/1997')\n",
      "(10440, 'Save-a-lot Markets', '2/10/1997')\n",
      "(10441, 'Old World Delicatessen', '2/10/1997')\n",
      "(10442, 'Ernst Handel', '2/11/1997')\n",
      "(10443, 'Reggiani Caseifici', '2/12/1997')\n"
     ]
    }
   ],
   "source": [
    "query = \"\"\"\n",
    "SELECT Orders.OrderID, Customers.CustomerName, Orders.OrderDate\n",
    "FROM Orders\n",
    "INNER JOIN Customers ON Orders.CustomerID=Customers.CustomerID;\n",
    "\"\"\"\n",
    "print_query_result(query)"
   ]
  },
  {
   "cell_type": "markdown",
   "id": "3bedc502",
   "metadata": {},
   "source": [
    "## INNER JOIN"
   ]
  },
  {
   "cell_type": "code",
   "execution_count": 256,
   "id": "62ace010",
   "metadata": {},
   "outputs": [
    {
     "name": "stdout",
     "output_type": "stream",
     "text": [
      "(1, 'Chais', 'Beverages')\n",
      "(2, 'Chang', 'Beverages')\n",
      "(3, 'Aniseed Syrup', 'Condiments')\n",
      "(4, \"Chef Anton's Cajun Seasoning\", 'Condiments')\n",
      "(5, \"Chef Anton's Gumbo Mix\", 'Condiments')\n",
      "(6, \"Grandma's Boysenberry Spread\", 'Condiments')\n",
      "(7, \"Uncle Bob's Organic Dried Pears\", 'Produce')\n",
      "(8, 'Northwoods Cranberry Sauce', 'Condiments')\n",
      "(9, 'Mishi Kobe Niku', 'Meat/Poultry')\n",
      "(10, 'Ikura', 'Seafood')\n",
      "(11, 'Queso Cabrales', 'Dairy Products')\n",
      "(12, 'Queso Manchego La Pastora', 'Dairy Products')\n",
      "(13, 'Konbu', 'Seafood')\n",
      "(14, 'Tofu', 'Produce')\n",
      "(15, 'Genen Shouyu', 'Condiments')\n",
      "(16, 'Pavlova', 'Confections')\n",
      "(17, 'Alice Mutton', 'Meat/Poultry')\n",
      "(18, 'Carnarvon Tigers', 'Seafood')\n",
      "(19, 'Teatime Chocolate Biscuits', 'Confections')\n",
      "(20, \"Sir Rodney's Marmalade\", 'Confections')\n",
      "(21, \"Sir Rodney's Scones\", 'Confections')\n",
      "(22, \"Gustaf's Knäckebröd\", 'Grains/Cereals')\n",
      "(23, 'Tunnbröd', 'Grains/Cereals')\n",
      "(24, 'Guaraná Fantástica', 'Beverages')\n",
      "(25, 'NuNuCa Nuß-Nougat-Creme', 'Confections')\n",
      "(26, 'Gumbär Gummibärchen', 'Confections')\n",
      "(27, 'Schoggi Schokolade', 'Confections')\n",
      "(28, 'Rössle Sauerkraut', 'Produce')\n",
      "(29, 'Thüringer Rostbratwurst', 'Meat/Poultry')\n",
      "(30, 'Nord-Ost Matjeshering', 'Seafood')\n",
      "(31, 'Gorgonzola Telino', 'Dairy Products')\n",
      "(32, 'Mascarpone Fabioli', 'Dairy Products')\n",
      "(33, 'Geitost', 'Dairy Products')\n",
      "(34, 'Sasquatch Ale', 'Beverages')\n",
      "(35, 'Steeleye Stout', 'Beverages')\n",
      "(36, 'Inlagd Sill', 'Seafood')\n",
      "(37, 'Gravad lax', 'Seafood')\n",
      "(38, 'Côte de Blaye', 'Beverages')\n",
      "(39, 'Chartreuse verte', 'Beverages')\n",
      "(40, 'Boston Crab Meat', 'Seafood')\n",
      "(41, \"Jack's New England Clam Chowder\", 'Seafood')\n",
      "(42, 'Singaporean Hokkien Fried Mee', 'Grains/Cereals')\n",
      "(43, 'Ipoh Coffee', 'Beverages')\n",
      "(44, 'Gula Malacca', 'Condiments')\n",
      "(45, 'Røgede sild', 'Seafood')\n",
      "(46, 'Spegesild', 'Seafood')\n",
      "(47, 'Zaanse koeken', 'Confections')\n",
      "(48, 'Chocolade', 'Confections')\n",
      "(49, 'Maxilaku', 'Confections')\n",
      "(50, 'Valkoinen suklaa', 'Confections')\n",
      "(51, 'Manjimup Dried Apples', 'Produce')\n",
      "(52, 'Filo Mix', 'Grains/Cereals')\n",
      "(53, 'Perth Pasties', 'Meat/Poultry')\n",
      "(54, 'Tourtière', 'Meat/Poultry')\n",
      "(55, 'Pâté chinois', 'Meat/Poultry')\n",
      "(56, 'Gnocchi di nonna Alice', 'Grains/Cereals')\n",
      "(57, 'Ravioli Angelo', 'Grains/Cereals')\n",
      "(58, 'Escargots de Bourgogne', 'Seafood')\n",
      "(59, 'Raclette Courdavault', 'Dairy Products')\n",
      "(60, 'Camembert Pierrot', 'Dairy Products')\n",
      "(61, \"Sirop d'érable\", 'Condiments')\n",
      "(62, 'Tarte au sucre', 'Confections')\n",
      "(63, 'Vegie-spread', 'Condiments')\n",
      "(64, 'Wimmers gute Semmelknödel', 'Grains/Cereals')\n",
      "(65, 'Louisiana Fiery Hot Pepper Sauce', 'Condiments')\n",
      "(66, 'Louisiana Hot Spiced Okra', 'Condiments')\n",
      "(67, 'Laughing Lumberjack Lager', 'Beverages')\n",
      "(68, 'Scottish Longbreads', 'Confections')\n",
      "(69, 'Gudbrandsdalsost', 'Dairy Products')\n",
      "(70, 'Outback Lager', 'Beverages')\n",
      "(71, 'Fløtemysost', 'Dairy Products')\n",
      "(72, 'Mozzarella di Giovanni', 'Dairy Products')\n",
      "(73, 'Röd Kaviar', 'Seafood')\n",
      "(74, 'Longlife Tofu', 'Produce')\n",
      "(75, 'Rhönbräu Klosterbier', 'Beverages')\n",
      "(76, 'Lakkalikööri', 'Beverages')\n",
      "(77, 'Original Frankfurter grüne Soße', 'Condiments')\n"
     ]
    }
   ],
   "source": [
    "query = \"\"\"\n",
    "SELECT ProductID, ProductName, CategoryName\n",
    "FROM Products\n",
    "INNER JOIN Categories ON Products.CategoryID = Categories.CategoryID;\n",
    "\"\"\"\n",
    "print_query_result(query)"
   ]
  },
  {
   "cell_type": "markdown",
   "id": "b45e6803",
   "metadata": {},
   "source": [
    "## Naming the Columns"
   ]
  },
  {
   "cell_type": "code",
   "execution_count": 257,
   "id": "e056b66b",
   "metadata": {},
   "outputs": [
    {
     "name": "stdout",
     "output_type": "stream",
     "text": [
      "(1, 'Chais', 'Beverages')\n",
      "(2, 'Chang', 'Beverages')\n",
      "(3, 'Aniseed Syrup', 'Condiments')\n",
      "(4, \"Chef Anton's Cajun Seasoning\", 'Condiments')\n",
      "(5, \"Chef Anton's Gumbo Mix\", 'Condiments')\n",
      "(6, \"Grandma's Boysenberry Spread\", 'Condiments')\n",
      "(7, \"Uncle Bob's Organic Dried Pears\", 'Produce')\n",
      "(8, 'Northwoods Cranberry Sauce', 'Condiments')\n",
      "(9, 'Mishi Kobe Niku', 'Meat/Poultry')\n",
      "(10, 'Ikura', 'Seafood')\n",
      "(11, 'Queso Cabrales', 'Dairy Products')\n",
      "(12, 'Queso Manchego La Pastora', 'Dairy Products')\n",
      "(13, 'Konbu', 'Seafood')\n",
      "(14, 'Tofu', 'Produce')\n",
      "(15, 'Genen Shouyu', 'Condiments')\n",
      "(16, 'Pavlova', 'Confections')\n",
      "(17, 'Alice Mutton', 'Meat/Poultry')\n",
      "(18, 'Carnarvon Tigers', 'Seafood')\n",
      "(19, 'Teatime Chocolate Biscuits', 'Confections')\n",
      "(20, \"Sir Rodney's Marmalade\", 'Confections')\n",
      "(21, \"Sir Rodney's Scones\", 'Confections')\n",
      "(22, \"Gustaf's Knäckebröd\", 'Grains/Cereals')\n",
      "(23, 'Tunnbröd', 'Grains/Cereals')\n",
      "(24, 'Guaraná Fantástica', 'Beverages')\n",
      "(25, 'NuNuCa Nuß-Nougat-Creme', 'Confections')\n",
      "(26, 'Gumbär Gummibärchen', 'Confections')\n",
      "(27, 'Schoggi Schokolade', 'Confections')\n",
      "(28, 'Rössle Sauerkraut', 'Produce')\n",
      "(29, 'Thüringer Rostbratwurst', 'Meat/Poultry')\n",
      "(30, 'Nord-Ost Matjeshering', 'Seafood')\n",
      "(31, 'Gorgonzola Telino', 'Dairy Products')\n",
      "(32, 'Mascarpone Fabioli', 'Dairy Products')\n",
      "(33, 'Geitost', 'Dairy Products')\n",
      "(34, 'Sasquatch Ale', 'Beverages')\n",
      "(35, 'Steeleye Stout', 'Beverages')\n",
      "(36, 'Inlagd Sill', 'Seafood')\n",
      "(37, 'Gravad lax', 'Seafood')\n",
      "(38, 'Côte de Blaye', 'Beverages')\n",
      "(39, 'Chartreuse verte', 'Beverages')\n",
      "(40, 'Boston Crab Meat', 'Seafood')\n",
      "(41, \"Jack's New England Clam Chowder\", 'Seafood')\n",
      "(42, 'Singaporean Hokkien Fried Mee', 'Grains/Cereals')\n",
      "(43, 'Ipoh Coffee', 'Beverages')\n",
      "(44, 'Gula Malacca', 'Condiments')\n",
      "(45, 'Røgede sild', 'Seafood')\n",
      "(46, 'Spegesild', 'Seafood')\n",
      "(47, 'Zaanse koeken', 'Confections')\n",
      "(48, 'Chocolade', 'Confections')\n",
      "(49, 'Maxilaku', 'Confections')\n",
      "(50, 'Valkoinen suklaa', 'Confections')\n",
      "(51, 'Manjimup Dried Apples', 'Produce')\n",
      "(52, 'Filo Mix', 'Grains/Cereals')\n",
      "(53, 'Perth Pasties', 'Meat/Poultry')\n",
      "(54, 'Tourtière', 'Meat/Poultry')\n",
      "(55, 'Pâté chinois', 'Meat/Poultry')\n",
      "(56, 'Gnocchi di nonna Alice', 'Grains/Cereals')\n",
      "(57, 'Ravioli Angelo', 'Grains/Cereals')\n",
      "(58, 'Escargots de Bourgogne', 'Seafood')\n",
      "(59, 'Raclette Courdavault', 'Dairy Products')\n",
      "(60, 'Camembert Pierrot', 'Dairy Products')\n",
      "(61, \"Sirop d'érable\", 'Condiments')\n",
      "(62, 'Tarte au sucre', 'Confections')\n",
      "(63, 'Vegie-spread', 'Condiments')\n",
      "(64, 'Wimmers gute Semmelknödel', 'Grains/Cereals')\n",
      "(65, 'Louisiana Fiery Hot Pepper Sauce', 'Condiments')\n",
      "(66, 'Louisiana Hot Spiced Okra', 'Condiments')\n",
      "(67, 'Laughing Lumberjack Lager', 'Beverages')\n",
      "(68, 'Scottish Longbreads', 'Confections')\n",
      "(69, 'Gudbrandsdalsost', 'Dairy Products')\n",
      "(70, 'Outback Lager', 'Beverages')\n",
      "(71, 'Fløtemysost', 'Dairy Products')\n",
      "(72, 'Mozzarella di Giovanni', 'Dairy Products')\n",
      "(73, 'Röd Kaviar', 'Seafood')\n",
      "(74, 'Longlife Tofu', 'Produce')\n",
      "(75, 'Rhönbräu Klosterbier', 'Beverages')\n",
      "(76, 'Lakkalikööri', 'Beverages')\n",
      "(77, 'Original Frankfurter grüne Soße', 'Condiments')\n"
     ]
    }
   ],
   "source": [
    "query = \"\"\"\n",
    "SELECT Products.ProductID, Products.ProductName, Categories.CategoryName\n",
    "FROM Products\n",
    "INNER JOIN Categories ON Products.CategoryID = Categories.CategoryID;\n",
    "\"\"\"\n",
    "print_query_result(query)"
   ]
  },
  {
   "cell_type": "markdown",
   "id": "659567ad",
   "metadata": {},
   "source": [
    "## JOIN or INNER JOIN"
   ]
  },
  {
   "cell_type": "code",
   "execution_count": 258,
   "id": "43378d4f",
   "metadata": {},
   "outputs": [
    {
     "name": "stdout",
     "output_type": "stream",
     "text": [
      "(1, 'Chais', 'Beverages')\n",
      "(2, 'Chang', 'Beverages')\n",
      "(3, 'Aniseed Syrup', 'Condiments')\n",
      "(4, \"Chef Anton's Cajun Seasoning\", 'Condiments')\n",
      "(5, \"Chef Anton's Gumbo Mix\", 'Condiments')\n",
      "(6, \"Grandma's Boysenberry Spread\", 'Condiments')\n",
      "(7, \"Uncle Bob's Organic Dried Pears\", 'Produce')\n",
      "(8, 'Northwoods Cranberry Sauce', 'Condiments')\n",
      "(9, 'Mishi Kobe Niku', 'Meat/Poultry')\n",
      "(10, 'Ikura', 'Seafood')\n",
      "(11, 'Queso Cabrales', 'Dairy Products')\n",
      "(12, 'Queso Manchego La Pastora', 'Dairy Products')\n",
      "(13, 'Konbu', 'Seafood')\n",
      "(14, 'Tofu', 'Produce')\n",
      "(15, 'Genen Shouyu', 'Condiments')\n",
      "(16, 'Pavlova', 'Confections')\n",
      "(17, 'Alice Mutton', 'Meat/Poultry')\n",
      "(18, 'Carnarvon Tigers', 'Seafood')\n",
      "(19, 'Teatime Chocolate Biscuits', 'Confections')\n",
      "(20, \"Sir Rodney's Marmalade\", 'Confections')\n",
      "(21, \"Sir Rodney's Scones\", 'Confections')\n",
      "(22, \"Gustaf's Knäckebröd\", 'Grains/Cereals')\n",
      "(23, 'Tunnbröd', 'Grains/Cereals')\n",
      "(24, 'Guaraná Fantástica', 'Beverages')\n",
      "(25, 'NuNuCa Nuß-Nougat-Creme', 'Confections')\n",
      "(26, 'Gumbär Gummibärchen', 'Confections')\n",
      "(27, 'Schoggi Schokolade', 'Confections')\n",
      "(28, 'Rössle Sauerkraut', 'Produce')\n",
      "(29, 'Thüringer Rostbratwurst', 'Meat/Poultry')\n",
      "(30, 'Nord-Ost Matjeshering', 'Seafood')\n",
      "(31, 'Gorgonzola Telino', 'Dairy Products')\n",
      "(32, 'Mascarpone Fabioli', 'Dairy Products')\n",
      "(33, 'Geitost', 'Dairy Products')\n",
      "(34, 'Sasquatch Ale', 'Beverages')\n",
      "(35, 'Steeleye Stout', 'Beverages')\n",
      "(36, 'Inlagd Sill', 'Seafood')\n",
      "(37, 'Gravad lax', 'Seafood')\n",
      "(38, 'Côte de Blaye', 'Beverages')\n",
      "(39, 'Chartreuse verte', 'Beverages')\n",
      "(40, 'Boston Crab Meat', 'Seafood')\n",
      "(41, \"Jack's New England Clam Chowder\", 'Seafood')\n",
      "(42, 'Singaporean Hokkien Fried Mee', 'Grains/Cereals')\n",
      "(43, 'Ipoh Coffee', 'Beverages')\n",
      "(44, 'Gula Malacca', 'Condiments')\n",
      "(45, 'Røgede sild', 'Seafood')\n",
      "(46, 'Spegesild', 'Seafood')\n",
      "(47, 'Zaanse koeken', 'Confections')\n",
      "(48, 'Chocolade', 'Confections')\n",
      "(49, 'Maxilaku', 'Confections')\n",
      "(50, 'Valkoinen suklaa', 'Confections')\n",
      "(51, 'Manjimup Dried Apples', 'Produce')\n",
      "(52, 'Filo Mix', 'Grains/Cereals')\n",
      "(53, 'Perth Pasties', 'Meat/Poultry')\n",
      "(54, 'Tourtière', 'Meat/Poultry')\n",
      "(55, 'Pâté chinois', 'Meat/Poultry')\n",
      "(56, 'Gnocchi di nonna Alice', 'Grains/Cereals')\n",
      "(57, 'Ravioli Angelo', 'Grains/Cereals')\n",
      "(58, 'Escargots de Bourgogne', 'Seafood')\n",
      "(59, 'Raclette Courdavault', 'Dairy Products')\n",
      "(60, 'Camembert Pierrot', 'Dairy Products')\n",
      "(61, \"Sirop d'érable\", 'Condiments')\n",
      "(62, 'Tarte au sucre', 'Confections')\n",
      "(63, 'Vegie-spread', 'Condiments')\n",
      "(64, 'Wimmers gute Semmelknödel', 'Grains/Cereals')\n",
      "(65, 'Louisiana Fiery Hot Pepper Sauce', 'Condiments')\n",
      "(66, 'Louisiana Hot Spiced Okra', 'Condiments')\n",
      "(67, 'Laughing Lumberjack Lager', 'Beverages')\n",
      "(68, 'Scottish Longbreads', 'Confections')\n",
      "(69, 'Gudbrandsdalsost', 'Dairy Products')\n",
      "(70, 'Outback Lager', 'Beverages')\n",
      "(71, 'Fløtemysost', 'Dairy Products')\n",
      "(72, 'Mozzarella di Giovanni', 'Dairy Products')\n",
      "(73, 'Röd Kaviar', 'Seafood')\n",
      "(74, 'Longlife Tofu', 'Produce')\n",
      "(75, 'Rhönbräu Klosterbier', 'Beverages')\n",
      "(76, 'Lakkalikööri', 'Beverages')\n",
      "(77, 'Original Frankfurter grüne Soße', 'Condiments')\n"
     ]
    }
   ],
   "source": [
    "query = \"\"\"\n",
    "SELECT Products.ProductID, Products.ProductName, Categories.CategoryName\n",
    "FROM Products\n",
    "JOIN Categories ON Products.CategoryID = Categories.CategoryID;\n",
    "\"\"\"\n",
    "print_query_result(query)"
   ]
  },
  {
   "cell_type": "markdown",
   "id": "a2d9f1fd",
   "metadata": {},
   "source": [
    "## JOIN Three Tables"
   ]
  },
  {
   "cell_type": "code",
   "execution_count": 259,
   "id": "341fe5ee",
   "metadata": {},
   "outputs": [
    {
     "name": "stdout",
     "output_type": "stream",
     "text": [
      "(10248, 'Wilman Kala', 'Federal Shipping')\n",
      "(10249, 'Tradição Hipermercados', 'Speedy Express')\n",
      "(10250, 'Hanari Carnes', 'United Package')\n",
      "(10251, 'Victuailles en stock', 'Speedy Express')\n",
      "(10252, 'Suprêmes délices', 'United Package')\n",
      "(10253, 'Hanari Carnes', 'United Package')\n",
      "(10254, 'Chop-suey Chinese', 'United Package')\n",
      "(10255, 'Richter Supermarkt', 'Federal Shipping')\n",
      "(10256, 'Wellington Importadora', 'United Package')\n",
      "(10257, 'HILARIÓN-Abastos', 'Federal Shipping')\n",
      "(10258, 'Ernst Handel', 'Speedy Express')\n",
      "(10259, 'Centro comercial Moctezuma', 'Federal Shipping')\n",
      "(10260, 'Old World Delicatessen', 'Speedy Express')\n",
      "(10261, 'Que Delícia', 'United Package')\n",
      "(10262, 'Rattlesnake Canyon Grocery', 'Federal Shipping')\n",
      "(10263, 'Ernst Handel', 'Federal Shipping')\n",
      "(10264, 'Folk och fä HB', 'Federal Shipping')\n",
      "(10265, 'Blondel père et fils', 'Speedy Express')\n",
      "(10266, 'Wartian Herkku', 'Federal Shipping')\n",
      "(10267, 'Frankenversand', 'Speedy Express')\n",
      "(10268, 'GROSELLA-Restaurante', 'Federal Shipping')\n",
      "(10269, 'White Clover Markets', 'Speedy Express')\n",
      "(10270, 'Wartian Herkku', 'Speedy Express')\n",
      "(10271, 'Split Rail Beer & Ale', 'United Package')\n",
      "(10272, 'Rattlesnake Canyon Grocery', 'United Package')\n",
      "(10273, 'QUICK-Stop', 'Federal Shipping')\n",
      "(10274, 'Vins et alcools Chevalier', 'Speedy Express')\n",
      "(10275, 'Magazzini Alimentari Riuniti', 'Speedy Express')\n",
      "(10276, 'Tortuga Restaurante', 'Federal Shipping')\n",
      "(10277, 'Morgenstern Gesundkost', 'Federal Shipping')\n",
      "(10278, 'Berglunds snabbköp', 'United Package')\n",
      "(10279, 'Lehmanns Marktstand', 'United Package')\n",
      "(10280, 'Berglunds snabbköp', 'Speedy Express')\n",
      "(10281, 'Romero y tomillo', 'Speedy Express')\n",
      "(10282, 'Romero y tomillo', 'Speedy Express')\n",
      "(10283, 'LILA-Supermercado', 'Federal Shipping')\n",
      "(10284, 'Lehmanns Marktstand', 'Speedy Express')\n",
      "(10285, 'QUICK-Stop', 'United Package')\n",
      "(10286, 'QUICK-Stop', 'Federal Shipping')\n",
      "(10287, 'Ricardo Adocicados', 'Federal Shipping')\n",
      "(10288, 'Reggiani Caseifici', 'Speedy Express')\n",
      "(10289, \"B's Beverages\", 'Federal Shipping')\n",
      "(10290, 'Comércio Mineiro', 'Speedy Express')\n",
      "(10291, 'Que Delícia', 'United Package')\n",
      "(10292, 'Tradição Hipermercados', 'United Package')\n",
      "(10293, 'Tortuga Restaurante', 'Federal Shipping')\n",
      "(10294, 'Rattlesnake Canyon Grocery', 'United Package')\n",
      "(10295, 'Vins et alcools Chevalier', 'United Package')\n",
      "(10296, 'LILA-Supermercado', 'Speedy Express')\n",
      "(10297, 'Blondel père et fils', 'United Package')\n",
      "(10298, 'Hungry Owl All-Night Grocers', 'United Package')\n",
      "(10299, 'Ricardo Adocicados', 'United Package')\n",
      "(10300, 'Magazzini Alimentari Riuniti', 'United Package')\n",
      "(10301, 'Die Wandernde Kuh', 'United Package')\n",
      "(10302, 'Suprêmes délices', 'United Package')\n",
      "(10303, 'Godos Cocina Típica', 'United Package')\n",
      "(10304, 'Tortuga Restaurante', 'United Package')\n",
      "(10305, 'Old World Delicatessen', 'Federal Shipping')\n",
      "(10306, 'Romero y tomillo', 'Federal Shipping')\n",
      "(10307, 'Lonesome Pine Restaurant', 'United Package')\n",
      "(10308, 'Ana Trujillo Emparedados y helados', 'Federal Shipping')\n",
      "(10309, 'Hungry Owl All-Night Grocers', 'Speedy Express')\n",
      "(10310, 'The Big Cheese', 'United Package')\n",
      "(10311, 'Du monde entier', 'Federal Shipping')\n",
      "(10312, 'Die Wandernde Kuh', 'United Package')\n",
      "(10313, 'QUICK-Stop', 'United Package')\n",
      "(10314, 'Rattlesnake Canyon Grocery', 'United Package')\n",
      "(10315, 'Island Trading', 'United Package')\n",
      "(10316, 'Rattlesnake Canyon Grocery', 'Federal Shipping')\n",
      "(10317, 'Lonesome Pine Restaurant', 'Speedy Express')\n",
      "(10318, 'Island Trading', 'United Package')\n",
      "(10319, 'Tortuga Restaurante', 'Federal Shipping')\n",
      "(10320, 'Wartian Herkku', 'Federal Shipping')\n",
      "(10321, 'Island Trading', 'United Package')\n",
      "(10322, 'Pericles Comidas clásicas', 'Federal Shipping')\n",
      "(10323, 'Königlich Essen', 'Speedy Express')\n",
      "(10324, 'Save-a-lot Markets', 'Speedy Express')\n",
      "(10325, 'Königlich Essen', 'Federal Shipping')\n",
      "(10326, 'Bólido Comidas preparadas', 'United Package')\n",
      "(10327, 'Folk och fä HB', 'Speedy Express')\n",
      "(10328, 'Furia Bacalhau e Frutos do Mar', 'Federal Shipping')\n",
      "(10329, 'Split Rail Beer & Ale', 'United Package')\n",
      "(10330, 'LILA-Supermercado', 'Speedy Express')\n",
      "(10331, \"Bon app'\", 'Speedy Express')\n",
      "(10332, 'Mère Paillarde', 'United Package')\n",
      "(10333, 'Wartian Herkku', 'Federal Shipping')\n",
      "(10334, 'Victuailles en stock', 'United Package')\n",
      "(10335, 'Hungry Owl All-Night Grocers', 'United Package')\n",
      "(10336, 'Princesa Isabel Vinhoss', 'United Package')\n",
      "(10337, 'Frankenversand', 'Federal Shipping')\n",
      "(10338, 'Old World Delicatessen', 'Federal Shipping')\n",
      "(10339, 'Mère Paillarde', 'United Package')\n",
      "(10340, \"Bon app'\", 'Federal Shipping')\n",
      "(10341, 'Simons bistro', 'Federal Shipping')\n",
      "(10342, 'Frankenversand', 'United Package')\n",
      "(10343, 'Lehmanns Marktstand', 'Speedy Express')\n",
      "(10344, 'White Clover Markets', 'United Package')\n",
      "(10345, 'QUICK-Stop', 'United Package')\n",
      "(10346, 'Rattlesnake Canyon Grocery', 'Federal Shipping')\n",
      "(10347, 'Familia Arquibaldo', 'Federal Shipping')\n",
      "(10348, 'Die Wandernde Kuh', 'United Package')\n",
      "(10349, 'Split Rail Beer & Ale', 'Speedy Express')\n",
      "(10350, \"La maison d'Asie\", 'United Package')\n",
      "(10351, 'Ernst Handel', 'Speedy Express')\n",
      "(10352, 'Furia Bacalhau e Frutos do Mar', 'Federal Shipping')\n",
      "(10353, 'Piccolo und mehr', 'Federal Shipping')\n",
      "(10354, 'Pericles Comidas clásicas', 'Federal Shipping')\n",
      "(10355, 'Around the Horn', 'Speedy Express')\n",
      "(10356, 'Die Wandernde Kuh', 'United Package')\n",
      "(10357, 'LILA-Supermercado', 'Federal Shipping')\n",
      "(10358, \"La maison d'Asie\", 'Speedy Express')\n",
      "(10359, 'Seven Seas Imports', 'Federal Shipping')\n",
      "(10360, 'Blondel père et fils', 'Federal Shipping')\n",
      "(10361, 'QUICK-Stop', 'United Package')\n",
      "(10362, \"Bon app'\", 'Speedy Express')\n",
      "(10363, 'Drachenblut Delikatessend', 'Federal Shipping')\n",
      "(10364, 'Eastern Connection', 'Speedy Express')\n",
      "(10365, 'Antonio Moreno Taquería', 'United Package')\n",
      "(10366, 'Galería del gastrónomo', 'United Package')\n",
      "(10367, 'Vaffeljernet', 'Federal Shipping')\n",
      "(10368, 'Ernst Handel', 'United Package')\n",
      "(10369, 'Split Rail Beer & Ale', 'United Package')\n",
      "(10370, 'Chop-suey Chinese', 'United Package')\n",
      "(10371, \"La maison d'Asie\", 'Speedy Express')\n",
      "(10372, 'Queen Cozinha', 'United Package')\n",
      "(10373, 'Hungry Owl All-Night Grocers', 'Federal Shipping')\n",
      "(10374, 'Wolski', 'Federal Shipping')\n",
      "(10375, 'Hungry Coyote Import Store', 'United Package')\n",
      "(10376, 'Mère Paillarde', 'United Package')\n",
      "(10377, 'Seven Seas Imports', 'Federal Shipping')\n",
      "(10378, 'Folk och fä HB', 'Federal Shipping')\n",
      "(10379, 'Que Delícia', 'Speedy Express')\n",
      "(10380, 'Hungry Owl All-Night Grocers', 'Federal Shipping')\n",
      "(10381, 'LILA-Supermercado', 'Federal Shipping')\n",
      "(10382, 'Ernst Handel', 'Speedy Express')\n",
      "(10383, 'Around the Horn', 'Federal Shipping')\n",
      "(10384, 'Berglunds snabbköp', 'Federal Shipping')\n",
      "(10385, 'Split Rail Beer & Ale', 'United Package')\n",
      "(10386, 'Familia Arquibaldo', 'Federal Shipping')\n",
      "(10387, 'Santé Gourmet', 'United Package')\n",
      "(10388, 'Seven Seas Imports', 'Speedy Express')\n",
      "(10389, 'Bottom-Dollar Marketse', 'United Package')\n",
      "(10390, 'Ernst Handel', 'Speedy Express')\n",
      "(10391, 'Drachenblut Delikatessend', 'Federal Shipping')\n",
      "(10392, 'Piccolo und mehr', 'Federal Shipping')\n",
      "(10393, 'Save-a-lot Markets', 'Federal Shipping')\n",
      "(10394, 'Hungry Coyote Import Store', 'Federal Shipping')\n",
      "(10395, 'HILARIÓN-Abastos', 'Speedy Express')\n",
      "(10396, 'Frankenversand', 'Federal Shipping')\n",
      "(10397, 'Princesa Isabel Vinhoss', 'Speedy Express')\n",
      "(10398, 'Save-a-lot Markets', 'Federal Shipping')\n",
      "(10399, 'Vaffeljernet', 'Federal Shipping')\n",
      "(10400, 'Eastern Connection', 'Federal Shipping')\n",
      "(10401, 'Rattlesnake Canyon Grocery', 'Speedy Express')\n",
      "(10402, 'Ernst Handel', 'United Package')\n",
      "(10403, 'Ernst Handel', 'Federal Shipping')\n",
      "(10404, 'Magazzini Alimentari Riuniti', 'Speedy Express')\n",
      "(10405, 'LINO-Delicateses', 'Speedy Express')\n",
      "(10406, 'Queen Cozinha', 'Speedy Express')\n",
      "(10407, 'Ottilies Käseladen', 'United Package')\n",
      "(10408, 'Folies gourmandes', 'Speedy Express')\n",
      "(10409, 'Océano Atlántico Ltda.', 'Speedy Express')\n",
      "(10410, 'Bottom-Dollar Marketse', 'Federal Shipping')\n",
      "(10411, 'Bottom-Dollar Marketse', 'Federal Shipping')\n",
      "(10412, 'Wartian Herkku', 'United Package')\n",
      "(10413, \"La maison d'Asie\", 'United Package')\n",
      "(10414, 'Familia Arquibaldo', 'Federal Shipping')\n",
      "(10415, 'Hungry Coyote Import Store', 'Speedy Express')\n",
      "(10416, 'Wartian Herkku', 'Federal Shipping')\n",
      "(10417, 'Simons bistro', 'Federal Shipping')\n",
      "(10418, 'QUICK-Stop', 'Speedy Express')\n",
      "(10419, 'Richter Supermarkt', 'United Package')\n",
      "(10420, 'Wellington Importadora', 'Speedy Express')\n",
      "(10421, 'Que Delícia', 'Speedy Express')\n",
      "(10422, 'Franchi S.p.A.', 'Speedy Express')\n",
      "(10423, 'Gourmet Lanchonetes', 'Federal Shipping')\n",
      "(10424, 'Mère Paillarde', 'United Package')\n",
      "(10425, \"La maison d'Asie\", 'United Package')\n",
      "(10426, 'Galería del gastrónomo', 'Speedy Express')\n",
      "(10427, 'Piccolo und mehr', 'United Package')\n",
      "(10428, 'Reggiani Caseifici', 'Speedy Express')\n",
      "(10429, 'Hungry Owl All-Night Grocers', 'United Package')\n",
      "(10430, 'Ernst Handel', 'Speedy Express')\n",
      "(10431, 'Bottom-Dollar Marketse', 'United Package')\n",
      "(10432, 'Split Rail Beer & Ale', 'United Package')\n",
      "(10433, 'Princesa Isabel Vinhoss', 'Federal Shipping')\n",
      "(10434, 'Folk och fä HB', 'United Package')\n",
      "(10435, 'Consolidated Holdings', 'United Package')\n",
      "(10436, 'Blondel père et fils', 'United Package')\n",
      "(10437, 'Wartian Herkku', 'Speedy Express')\n",
      "(10438, 'Toms Spezialitäten', 'United Package')\n",
      "(10439, 'Mère Paillarde', 'Federal Shipping')\n",
      "(10440, 'Save-a-lot Markets', 'United Package')\n",
      "(10441, 'Old World Delicatessen', 'United Package')\n",
      "(10442, 'Ernst Handel', 'United Package')\n",
      "(10443, 'Reggiani Caseifici', 'Speedy Express')\n"
     ]
    }
   ],
   "source": [
    "query = \"\"\"\n",
    "SELECT Orders.OrderID, Customers.CustomerName, Shippers.ShipperName\n",
    "FROM ((Orders\n",
    "INNER JOIN Customers ON Orders.CustomerID = Customers.CustomerID)\n",
    "INNER JOIN Shippers ON Orders.ShipperID = Shippers.ShipperID);\n",
    "\"\"\"\n",
    "print_query_result(query)"
   ]
  },
  {
   "cell_type": "markdown",
   "id": "c7be1c01",
   "metadata": {},
   "source": [
    "## SQL LEFT JOIN "
   ]
  },
  {
   "cell_type": "code",
   "execution_count": 260,
   "id": "d596a97b",
   "metadata": {},
   "outputs": [
    {
     "name": "stdout",
     "output_type": "stream",
     "text": [
      "('Alfreds Futterkiste', None)\n",
      "('Ana Trujillo Emparedados y helados', 10308)\n",
      "('Antonio Moreno Taquería', 10365)\n",
      "('Around the Horn', 10355)\n",
      "('Around the Horn', 10383)\n",
      "(\"B's Beverages\", 10289)\n",
      "('Berglunds snabbköp', 10278)\n",
      "('Berglunds snabbköp', 10280)\n",
      "('Berglunds snabbköp', 10384)\n",
      "('Blauer See Delikatessen', None)\n",
      "('Blondel père et fils', 10265)\n",
      "('Blondel père et fils', 10297)\n",
      "('Blondel père et fils', 10360)\n",
      "('Blondel père et fils', 10436)\n",
      "(\"Bon app'\", 10331)\n",
      "(\"Bon app'\", 10340)\n",
      "(\"Bon app'\", 10362)\n",
      "('Bottom-Dollar Marketse', 10389)\n",
      "('Bottom-Dollar Marketse', 10410)\n",
      "('Bottom-Dollar Marketse', 10411)\n",
      "('Bottom-Dollar Marketse', 10431)\n",
      "('Bólido Comidas preparadas', 10326)\n",
      "('Cactus Comidas para llevar', None)\n",
      "('Centro comercial Moctezuma', 10259)\n",
      "('Chop-suey Chinese', 10254)\n",
      "('Chop-suey Chinese', 10370)\n",
      "('Comércio Mineiro', 10290)\n",
      "('Consolidated Holdings', 10435)\n",
      "('Die Wandernde Kuh', 10301)\n",
      "('Die Wandernde Kuh', 10312)\n",
      "('Die Wandernde Kuh', 10348)\n",
      "('Die Wandernde Kuh', 10356)\n",
      "('Drachenblut Delikatessend', 10363)\n",
      "('Drachenblut Delikatessend', 10391)\n",
      "('Du monde entier', 10311)\n",
      "('Eastern Connection', 10364)\n",
      "('Eastern Connection', 10400)\n",
      "('Ernst Handel', 10258)\n",
      "('Ernst Handel', 10263)\n",
      "('Ernst Handel', 10351)\n",
      "('Ernst Handel', 10368)\n",
      "('Ernst Handel', 10382)\n",
      "('Ernst Handel', 10390)\n",
      "('Ernst Handel', 10402)\n",
      "('Ernst Handel', 10403)\n",
      "('Ernst Handel', 10430)\n",
      "('Ernst Handel', 10442)\n",
      "('FISSA Fabrica Inter. Salchichas S.A.', None)\n",
      "('Familia Arquibaldo', 10347)\n",
      "('Familia Arquibaldo', 10386)\n",
      "('Familia Arquibaldo', 10414)\n",
      "('Folies gourmandes', 10408)\n",
      "('Folk och fä HB', 10264)\n",
      "('Folk och fä HB', 10327)\n",
      "('Folk och fä HB', 10378)\n",
      "('Folk och fä HB', 10434)\n",
      "('France restauration', None)\n",
      "('Franchi S.p.A.', 10422)\n",
      "('Frankenversand', 10267)\n",
      "('Frankenversand', 10337)\n",
      "('Frankenversand', 10342)\n",
      "('Frankenversand', 10396)\n",
      "('Furia Bacalhau e Frutos do Mar', 10328)\n",
      "('Furia Bacalhau e Frutos do Mar', 10352)\n",
      "('GROSELLA-Restaurante', 10268)\n",
      "('Galería del gastrónomo', 10366)\n",
      "('Galería del gastrónomo', 10426)\n",
      "('Godos Cocina Típica', 10303)\n",
      "('Gourmet Lanchonetes', 10423)\n",
      "('Great Lakes Food Market', None)\n",
      "('HILARIÓN-Abastos', 10257)\n",
      "('HILARIÓN-Abastos', 10395)\n",
      "('Hanari Carnes', 10250)\n",
      "('Hanari Carnes', 10253)\n",
      "('Hungry Coyote Import Store', 10375)\n",
      "('Hungry Coyote Import Store', 10394)\n",
      "('Hungry Coyote Import Store', 10415)\n",
      "('Hungry Owl All-Night Grocers', 10298)\n",
      "('Hungry Owl All-Night Grocers', 10309)\n",
      "('Hungry Owl All-Night Grocers', 10335)\n",
      "('Hungry Owl All-Night Grocers', 10373)\n",
      "('Hungry Owl All-Night Grocers', 10380)\n",
      "('Hungry Owl All-Night Grocers', 10429)\n",
      "('Island Trading', 10315)\n",
      "('Island Trading', 10318)\n",
      "('Island Trading', 10321)\n",
      "('Königlich Essen', 10323)\n",
      "('Königlich Essen', 10325)\n",
      "('LILA-Supermercado', 10283)\n",
      "('LILA-Supermercado', 10296)\n",
      "('LILA-Supermercado', 10330)\n",
      "('LILA-Supermercado', 10357)\n",
      "('LILA-Supermercado', 10381)\n",
      "('LINO-Delicateses', 10405)\n",
      "(\"La corne d'abondance\", None)\n",
      "(\"La maison d'Asie\", 10350)\n",
      "(\"La maison d'Asie\", 10358)\n",
      "(\"La maison d'Asie\", 10371)\n",
      "(\"La maison d'Asie\", 10413)\n",
      "(\"La maison d'Asie\", 10425)\n",
      "('Laughing Bacchus Wine Cellars', None)\n",
      "('Lazy K Kountry Store', None)\n",
      "('Lehmanns Marktstand', 10279)\n",
      "('Lehmanns Marktstand', 10284)\n",
      "('Lehmanns Marktstand', 10343)\n",
      "(\"Let's Stop N Shop\", None)\n",
      "('Lonesome Pine Restaurant', 10307)\n",
      "('Lonesome Pine Restaurant', 10317)\n",
      "('Magazzini Alimentari Riuniti', 10275)\n",
      "('Magazzini Alimentari Riuniti', 10300)\n",
      "('Magazzini Alimentari Riuniti', 10404)\n",
      "('Maison Dewey', None)\n",
      "('Morgenstern Gesundkost', 10277)\n",
      "('Mère Paillarde', 10332)\n",
      "('Mère Paillarde', 10339)\n",
      "('Mère Paillarde', 10376)\n",
      "('Mère Paillarde', 10424)\n",
      "('Mère Paillarde', 10439)\n",
      "('North/South', None)\n",
      "('Océano Atlántico Ltda.', 10409)\n",
      "('Old World Delicatessen', 10260)\n",
      "('Old World Delicatessen', 10305)\n",
      "('Old World Delicatessen', 10338)\n",
      "('Old World Delicatessen', 10441)\n",
      "('Ottilies Käseladen', 10407)\n",
      "('Paris spécialités', None)\n",
      "('Pericles Comidas clásicas', 10322)\n",
      "('Pericles Comidas clásicas', 10354)\n",
      "('Piccolo und mehr', 10353)\n",
      "('Piccolo und mehr', 10392)\n",
      "('Piccolo und mehr', 10427)\n",
      "('Princesa Isabel Vinhoss', 10336)\n",
      "('Princesa Isabel Vinhoss', 10397)\n",
      "('Princesa Isabel Vinhoss', 10433)\n",
      "('QUICK-Stop', 10273)\n",
      "('QUICK-Stop', 10285)\n",
      "('QUICK-Stop', 10286)\n",
      "('QUICK-Stop', 10313)\n",
      "('QUICK-Stop', 10345)\n",
      "('QUICK-Stop', 10361)\n",
      "('QUICK-Stop', 10418)\n",
      "('Que Delícia', 10261)\n",
      "('Que Delícia', 10291)\n",
      "('Que Delícia', 10379)\n",
      "('Que Delícia', 10421)\n",
      "('Queen Cozinha', 10372)\n",
      "('Queen Cozinha', 10406)\n",
      "('Rancho grande', None)\n",
      "('Rattlesnake Canyon Grocery', 10262)\n",
      "('Rattlesnake Canyon Grocery', 10272)\n",
      "('Rattlesnake Canyon Grocery', 10294)\n",
      "('Rattlesnake Canyon Grocery', 10314)\n",
      "('Rattlesnake Canyon Grocery', 10316)\n",
      "('Rattlesnake Canyon Grocery', 10346)\n",
      "('Rattlesnake Canyon Grocery', 10401)\n",
      "('Reggiani Caseifici', 10288)\n",
      "('Reggiani Caseifici', 10428)\n",
      "('Reggiani Caseifici', 10443)\n",
      "('Ricardo Adocicados', 10287)\n",
      "('Ricardo Adocicados', 10299)\n",
      "('Richter Supermarkt', 10255)\n",
      "('Richter Supermarkt', 10419)\n",
      "('Romero y tomillo', 10281)\n",
      "('Romero y tomillo', 10282)\n",
      "('Romero y tomillo', 10306)\n",
      "('Santé Gourmet', 10387)\n",
      "('Save-a-lot Markets', 10324)\n",
      "('Save-a-lot Markets', 10393)\n",
      "('Save-a-lot Markets', 10398)\n",
      "('Save-a-lot Markets', 10440)\n",
      "('Seven Seas Imports', 10359)\n",
      "('Seven Seas Imports', 10377)\n",
      "('Seven Seas Imports', 10388)\n",
      "('Simons bistro', 10341)\n",
      "('Simons bistro', 10417)\n",
      "('Split Rail Beer & Ale', 10271)\n",
      "('Split Rail Beer & Ale', 10329)\n",
      "('Split Rail Beer & Ale', 10349)\n",
      "('Split Rail Beer & Ale', 10369)\n",
      "('Split Rail Beer & Ale', 10385)\n",
      "('Split Rail Beer & Ale', 10432)\n",
      "('Spécialités du monde', None)\n",
      "('Suprêmes délices', 10252)\n",
      "('Suprêmes délices', 10302)\n",
      "('The Big Cheese', 10310)\n",
      "('The Cracker Box', None)\n",
      "('Toms Spezialitäten', 10438)\n",
      "('Tortuga Restaurante', 10276)\n",
      "('Tortuga Restaurante', 10293)\n",
      "('Tortuga Restaurante', 10304)\n",
      "('Tortuga Restaurante', 10319)\n",
      "('Tradição Hipermercados', 10249)\n",
      "('Tradição Hipermercados', 10292)\n",
      "(\"Trail's Head Gourmet Provisioners\", None)\n",
      "('Vaffeljernet', 10367)\n",
      "('Vaffeljernet', 10399)\n",
      "('Victuailles en stock', 10251)\n",
      "('Victuailles en stock', 10334)\n",
      "('Vins et alcools Chevalier', 10274)\n",
      "('Vins et alcools Chevalier', 10295)\n",
      "('Wartian Herkku', 10266)\n",
      "('Wartian Herkku', 10270)\n",
      "('Wartian Herkku', 10320)\n",
      "('Wartian Herkku', 10333)\n",
      "('Wartian Herkku', 10412)\n",
      "('Wartian Herkku', 10416)\n",
      "('Wartian Herkku', 10437)\n",
      "('Wellington Importadora', 10256)\n",
      "('Wellington Importadora', 10420)\n",
      "('White Clover Markets', 10269)\n",
      "('White Clover Markets', 10344)\n",
      "('Wilman Kala', 10248)\n",
      "('Wolski', 10374)\n"
     ]
    }
   ],
   "source": [
    "query = \"\"\"\n",
    "SELECT Customers.CustomerName, Orders.OrderID\n",
    "FROM Customers\n",
    "LEFT JOIN Orders ON Customers.CustomerID = Orders.CustomerID\n",
    "ORDER BY Customers.CustomerName;\n",
    "\"\"\"\n",
    "print_query_result(query)"
   ]
  },
  {
   "cell_type": "markdown",
   "id": "ee0ceebe",
   "metadata": {},
   "source": [
    "## RIGHT JOIN "
   ]
  },
  {
   "cell_type": "code",
   "execution_count": 261,
   "id": "743500f8",
   "metadata": {},
   "outputs": [
    {
     "name": "stdout",
     "output_type": "stream",
     "text": [
      "(None, 'West', 'Adam')\n",
      "(10248, 'Buchanan', 'Steven')\n",
      "(10249, 'Suyama', 'Michael')\n",
      "(10250, 'Peacock', 'Margaret')\n",
      "(10251, 'Leverling', 'Janet')\n",
      "(10252, 'Peacock', 'Margaret')\n",
      "(10253, 'Leverling', 'Janet')\n",
      "(10254, 'Buchanan', 'Steven')\n",
      "(10255, 'Dodsworth', 'Anne')\n",
      "(10256, 'Leverling', 'Janet')\n",
      "(10257, 'Peacock', 'Margaret')\n",
      "(10258, 'Davolio', 'Nancy')\n",
      "(10259, 'Peacock', 'Margaret')\n",
      "(10260, 'Peacock', 'Margaret')\n",
      "(10261, 'Peacock', 'Margaret')\n",
      "(10262, 'Callahan', 'Laura')\n",
      "(10263, 'Dodsworth', 'Anne')\n",
      "(10264, 'Suyama', 'Michael')\n",
      "(10265, 'Fuller', 'Andrew')\n",
      "(10266, 'Leverling', 'Janet')\n",
      "(10267, 'Peacock', 'Margaret')\n",
      "(10268, 'Callahan', 'Laura')\n",
      "(10269, 'Buchanan', 'Steven')\n",
      "(10270, 'Davolio', 'Nancy')\n",
      "(10271, 'Suyama', 'Michael')\n",
      "(10272, 'Suyama', 'Michael')\n",
      "(10273, 'Leverling', 'Janet')\n",
      "(10274, 'Suyama', 'Michael')\n",
      "(10275, 'Davolio', 'Nancy')\n",
      "(10276, 'Callahan', 'Laura')\n",
      "(10277, 'Fuller', 'Andrew')\n",
      "(10278, 'Callahan', 'Laura')\n",
      "(10279, 'Callahan', 'Laura')\n",
      "(10280, 'Fuller', 'Andrew')\n",
      "(10281, 'Peacock', 'Margaret')\n",
      "(10282, 'Peacock', 'Margaret')\n",
      "(10283, 'Leverling', 'Janet')\n",
      "(10284, 'Peacock', 'Margaret')\n",
      "(10285, 'Davolio', 'Nancy')\n",
      "(10286, 'Callahan', 'Laura')\n",
      "(10287, 'Callahan', 'Laura')\n",
      "(10288, 'Peacock', 'Margaret')\n",
      "(10289, 'King', 'Robert')\n",
      "(10290, 'Callahan', 'Laura')\n",
      "(10291, 'Suyama', 'Michael')\n",
      "(10292, 'Davolio', 'Nancy')\n",
      "(10293, 'Davolio', 'Nancy')\n",
      "(10294, 'Peacock', 'Margaret')\n",
      "(10295, 'Fuller', 'Andrew')\n",
      "(10296, 'Suyama', 'Michael')\n",
      "(10297, 'Buchanan', 'Steven')\n",
      "(10298, 'Suyama', 'Michael')\n",
      "(10299, 'Peacock', 'Margaret')\n",
      "(10300, 'Fuller', 'Andrew')\n",
      "(10301, 'Callahan', 'Laura')\n",
      "(10302, 'Peacock', 'Margaret')\n",
      "(10303, 'King', 'Robert')\n",
      "(10304, 'Davolio', 'Nancy')\n",
      "(10305, 'Callahan', 'Laura')\n",
      "(10306, 'Davolio', 'Nancy')\n",
      "(10307, 'Fuller', 'Andrew')\n",
      "(10308, 'King', 'Robert')\n",
      "(10309, 'Leverling', 'Janet')\n",
      "(10310, 'Callahan', 'Laura')\n",
      "(10311, 'Davolio', 'Nancy')\n",
      "(10312, 'Fuller', 'Andrew')\n",
      "(10313, 'Fuller', 'Andrew')\n",
      "(10314, 'Davolio', 'Nancy')\n",
      "(10315, 'Peacock', 'Margaret')\n",
      "(10316, 'Davolio', 'Nancy')\n",
      "(10317, 'Suyama', 'Michael')\n",
      "(10318, 'Callahan', 'Laura')\n",
      "(10319, 'King', 'Robert')\n",
      "(10320, 'Buchanan', 'Steven')\n",
      "(10321, 'Leverling', 'Janet')\n",
      "(10322, 'King', 'Robert')\n",
      "(10323, 'Peacock', 'Margaret')\n",
      "(10324, 'Dodsworth', 'Anne')\n",
      "(10325, 'Davolio', 'Nancy')\n",
      "(10326, 'Peacock', 'Margaret')\n",
      "(10327, 'Fuller', 'Andrew')\n",
      "(10328, 'Peacock', 'Margaret')\n",
      "(10329, 'Peacock', 'Margaret')\n",
      "(10330, 'Leverling', 'Janet')\n",
      "(10331, 'Dodsworth', 'Anne')\n",
      "(10332, 'Leverling', 'Janet')\n",
      "(10333, 'Buchanan', 'Steven')\n",
      "(10334, 'Callahan', 'Laura')\n",
      "(10335, 'King', 'Robert')\n",
      "(10336, 'King', 'Robert')\n",
      "(10337, 'Peacock', 'Margaret')\n",
      "(10338, 'Peacock', 'Margaret')\n",
      "(10339, 'Fuller', 'Andrew')\n",
      "(10340, 'Davolio', 'Nancy')\n",
      "(10341, 'King', 'Robert')\n",
      "(10342, 'Peacock', 'Margaret')\n",
      "(10343, 'Peacock', 'Margaret')\n",
      "(10344, 'Peacock', 'Margaret')\n",
      "(10345, 'Fuller', 'Andrew')\n",
      "(10346, 'Leverling', 'Janet')\n",
      "(10347, 'Peacock', 'Margaret')\n",
      "(10348, 'Peacock', 'Margaret')\n",
      "(10349, 'King', 'Robert')\n",
      "(10350, 'Suyama', 'Michael')\n",
      "(10351, 'Davolio', 'Nancy')\n",
      "(10352, 'Leverling', 'Janet')\n",
      "(10353, 'King', 'Robert')\n",
      "(10354, 'Callahan', 'Laura')\n",
      "(10355, 'Suyama', 'Michael')\n",
      "(10356, 'Suyama', 'Michael')\n",
      "(10357, 'Davolio', 'Nancy')\n",
      "(10358, 'Buchanan', 'Steven')\n",
      "(10359, 'Buchanan', 'Steven')\n",
      "(10360, 'Peacock', 'Margaret')\n",
      "(10361, 'Davolio', 'Nancy')\n",
      "(10362, 'Leverling', 'Janet')\n",
      "(10363, 'Peacock', 'Margaret')\n",
      "(10364, 'Davolio', 'Nancy')\n",
      "(10365, 'Leverling', 'Janet')\n",
      "(10366, 'Callahan', 'Laura')\n",
      "(10367, 'King', 'Robert')\n",
      "(10368, 'Fuller', 'Andrew')\n",
      "(10369, 'Callahan', 'Laura')\n",
      "(10370, 'Suyama', 'Michael')\n",
      "(10371, 'Davolio', 'Nancy')\n",
      "(10372, 'Buchanan', 'Steven')\n",
      "(10373, 'Peacock', 'Margaret')\n",
      "(10374, 'Davolio', 'Nancy')\n",
      "(10375, 'Leverling', 'Janet')\n",
      "(10376, 'Davolio', 'Nancy')\n",
      "(10377, 'Davolio', 'Nancy')\n",
      "(10378, 'Buchanan', 'Steven')\n",
      "(10379, 'Fuller', 'Andrew')\n",
      "(10380, 'Callahan', 'Laura')\n",
      "(10381, 'Leverling', 'Janet')\n",
      "(10382, 'Peacock', 'Margaret')\n",
      "(10383, 'Callahan', 'Laura')\n",
      "(10384, 'Leverling', 'Janet')\n",
      "(10385, 'Davolio', 'Nancy')\n",
      "(10386, 'Dodsworth', 'Anne')\n",
      "(10387, 'Davolio', 'Nancy')\n",
      "(10388, 'Fuller', 'Andrew')\n",
      "(10389, 'Peacock', 'Margaret')\n",
      "(10390, 'Suyama', 'Michael')\n",
      "(10391, 'Leverling', 'Janet')\n",
      "(10392, 'Fuller', 'Andrew')\n",
      "(10393, 'Davolio', 'Nancy')\n",
      "(10394, 'Davolio', 'Nancy')\n",
      "(10395, 'Suyama', 'Michael')\n",
      "(10396, 'Davolio', 'Nancy')\n",
      "(10397, 'Buchanan', 'Steven')\n",
      "(10398, 'Fuller', 'Andrew')\n",
      "(10399, 'Callahan', 'Laura')\n",
      "(10400, 'Davolio', 'Nancy')\n",
      "(10401, 'Davolio', 'Nancy')\n",
      "(10402, 'Callahan', 'Laura')\n",
      "(10403, 'Peacock', 'Margaret')\n",
      "(10404, 'Fuller', 'Andrew')\n",
      "(10405, 'Davolio', 'Nancy')\n",
      "(10406, 'King', 'Robert')\n",
      "(10407, 'Fuller', 'Andrew')\n",
      "(10408, 'Callahan', 'Laura')\n",
      "(10409, 'Leverling', 'Janet')\n",
      "(10410, 'Leverling', 'Janet')\n",
      "(10411, 'Dodsworth', 'Anne')\n",
      "(10412, 'Callahan', 'Laura')\n",
      "(10413, 'Leverling', 'Janet')\n",
      "(10414, 'Fuller', 'Andrew')\n",
      "(10415, 'Leverling', 'Janet')\n",
      "(10416, 'Callahan', 'Laura')\n",
      "(10417, 'Peacock', 'Margaret')\n",
      "(10418, 'Peacock', 'Margaret')\n",
      "(10419, 'Peacock', 'Margaret')\n",
      "(10420, 'Leverling', 'Janet')\n",
      "(10421, 'Callahan', 'Laura')\n",
      "(10422, 'Fuller', 'Andrew')\n",
      "(10423, 'Suyama', 'Michael')\n",
      "(10424, 'King', 'Robert')\n",
      "(10425, 'Suyama', 'Michael')\n",
      "(10426, 'Peacock', 'Margaret')\n",
      "(10427, 'Peacock', 'Margaret')\n",
      "(10428, 'King', 'Robert')\n",
      "(10429, 'Leverling', 'Janet')\n",
      "(10430, 'Peacock', 'Margaret')\n",
      "(10431, 'Peacock', 'Margaret')\n",
      "(10432, 'Leverling', 'Janet')\n",
      "(10433, 'Leverling', 'Janet')\n",
      "(10434, 'Leverling', 'Janet')\n",
      "(10435, 'Callahan', 'Laura')\n",
      "(10436, 'Leverling', 'Janet')\n",
      "(10437, 'Callahan', 'Laura')\n",
      "(10438, 'Leverling', 'Janet')\n",
      "(10439, 'Suyama', 'Michael')\n",
      "(10440, 'Peacock', 'Margaret')\n",
      "(10441, 'Leverling', 'Janet')\n",
      "(10442, 'Leverling', 'Janet')\n",
      "(10443, 'Callahan', 'Laura')\n"
     ]
    }
   ],
   "source": [
    "query = \"\"\"\n",
    "SELECT Orders.OrderID, Employees.LastName, Employees.FirstName\n",
    "FROM Orders\n",
    "RIGHT JOIN Employees ON Orders.EmployeeID = Employees.EmployeeID\n",
    "ORDER BY Orders.OrderID;\n",
    "\"\"\"\n",
    "print_query_result(query)"
   ]
  },
  {
   "cell_type": "markdown",
   "id": "0576b1b8",
   "metadata": {},
   "source": [
    "## FULL OUTER JOIN"
   ]
  },
  {
   "cell_type": "code",
   "execution_count": 262,
   "id": "a2376092",
   "metadata": {},
   "outputs": [
    {
     "name": "stdout",
     "output_type": "stream",
     "text": [
      "('Alfreds Futterkiste', None)\n",
      "('Ana Trujillo Emparedados y helados', 10308)\n",
      "('Antonio Moreno Taquería', 10365)\n",
      "('Around the Horn', 10355)\n",
      "('Around the Horn', 10383)\n",
      "(\"B's Beverages\", 10289)\n",
      "('Berglunds snabbköp', 10278)\n",
      "('Berglunds snabbköp', 10280)\n",
      "('Berglunds snabbköp', 10384)\n",
      "('Blauer See Delikatessen', None)\n",
      "('Blondel père et fils', 10265)\n",
      "('Blondel père et fils', 10297)\n",
      "('Blondel père et fils', 10360)\n",
      "('Blondel père et fils', 10436)\n",
      "(\"Bon app'\", 10331)\n",
      "(\"Bon app'\", 10340)\n",
      "(\"Bon app'\", 10362)\n",
      "('Bottom-Dollar Marketse', 10389)\n",
      "('Bottom-Dollar Marketse', 10410)\n",
      "('Bottom-Dollar Marketse', 10411)\n",
      "('Bottom-Dollar Marketse', 10431)\n",
      "('Bólido Comidas preparadas', 10326)\n",
      "('Cactus Comidas para llevar', None)\n",
      "('Centro comercial Moctezuma', 10259)\n",
      "('Chop-suey Chinese', 10254)\n",
      "('Chop-suey Chinese', 10370)\n",
      "('Comércio Mineiro', 10290)\n",
      "('Consolidated Holdings', 10435)\n",
      "('Die Wandernde Kuh', 10301)\n",
      "('Die Wandernde Kuh', 10312)\n",
      "('Die Wandernde Kuh', 10348)\n",
      "('Die Wandernde Kuh', 10356)\n",
      "('Drachenblut Delikatessend', 10363)\n",
      "('Drachenblut Delikatessend', 10391)\n",
      "('Du monde entier', 10311)\n",
      "('Eastern Connection', 10364)\n",
      "('Eastern Connection', 10400)\n",
      "('Ernst Handel', 10258)\n",
      "('Ernst Handel', 10263)\n",
      "('Ernst Handel', 10351)\n",
      "('Ernst Handel', 10368)\n",
      "('Ernst Handel', 10382)\n",
      "('Ernst Handel', 10390)\n",
      "('Ernst Handel', 10402)\n",
      "('Ernst Handel', 10403)\n",
      "('Ernst Handel', 10430)\n",
      "('Ernst Handel', 10442)\n",
      "('FISSA Fabrica Inter. Salchichas S.A.', None)\n",
      "('Familia Arquibaldo', 10347)\n",
      "('Familia Arquibaldo', 10386)\n",
      "('Familia Arquibaldo', 10414)\n",
      "('Folies gourmandes', 10408)\n",
      "('Folk och fä HB', 10264)\n",
      "('Folk och fä HB', 10327)\n",
      "('Folk och fä HB', 10378)\n",
      "('Folk och fä HB', 10434)\n",
      "('France restauration', None)\n",
      "('Franchi S.p.A.', 10422)\n",
      "('Frankenversand', 10267)\n",
      "('Frankenversand', 10337)\n",
      "('Frankenversand', 10342)\n",
      "('Frankenversand', 10396)\n",
      "('Furia Bacalhau e Frutos do Mar', 10328)\n",
      "('Furia Bacalhau e Frutos do Mar', 10352)\n",
      "('GROSELLA-Restaurante', 10268)\n",
      "('Galería del gastrónomo', 10366)\n",
      "('Galería del gastrónomo', 10426)\n",
      "('Godos Cocina Típica', 10303)\n",
      "('Gourmet Lanchonetes', 10423)\n",
      "('Great Lakes Food Market', None)\n",
      "('HILARIÓN-Abastos', 10257)\n",
      "('HILARIÓN-Abastos', 10395)\n",
      "('Hanari Carnes', 10250)\n",
      "('Hanari Carnes', 10253)\n",
      "('Hungry Coyote Import Store', 10375)\n",
      "('Hungry Coyote Import Store', 10394)\n",
      "('Hungry Coyote Import Store', 10415)\n",
      "('Hungry Owl All-Night Grocers', 10298)\n",
      "('Hungry Owl All-Night Grocers', 10309)\n",
      "('Hungry Owl All-Night Grocers', 10335)\n",
      "('Hungry Owl All-Night Grocers', 10373)\n",
      "('Hungry Owl All-Night Grocers', 10380)\n",
      "('Hungry Owl All-Night Grocers', 10429)\n",
      "('Island Trading', 10315)\n",
      "('Island Trading', 10318)\n",
      "('Island Trading', 10321)\n",
      "('Königlich Essen', 10323)\n",
      "('Königlich Essen', 10325)\n",
      "('LILA-Supermercado', 10283)\n",
      "('LILA-Supermercado', 10296)\n",
      "('LILA-Supermercado', 10330)\n",
      "('LILA-Supermercado', 10357)\n",
      "('LILA-Supermercado', 10381)\n",
      "('LINO-Delicateses', 10405)\n",
      "(\"La corne d'abondance\", None)\n",
      "(\"La maison d'Asie\", 10350)\n",
      "(\"La maison d'Asie\", 10358)\n",
      "(\"La maison d'Asie\", 10371)\n",
      "(\"La maison d'Asie\", 10413)\n",
      "(\"La maison d'Asie\", 10425)\n",
      "('Laughing Bacchus Wine Cellars', None)\n",
      "('Lazy K Kountry Store', None)\n",
      "('Lehmanns Marktstand', 10279)\n",
      "('Lehmanns Marktstand', 10284)\n",
      "('Lehmanns Marktstand', 10343)\n",
      "(\"Let's Stop N Shop\", None)\n",
      "('Lonesome Pine Restaurant', 10307)\n",
      "('Lonesome Pine Restaurant', 10317)\n",
      "('Magazzini Alimentari Riuniti', 10275)\n",
      "('Magazzini Alimentari Riuniti', 10300)\n",
      "('Magazzini Alimentari Riuniti', 10404)\n",
      "('Maison Dewey', None)\n",
      "('Morgenstern Gesundkost', 10277)\n",
      "('Mère Paillarde', 10332)\n",
      "('Mère Paillarde', 10339)\n",
      "('Mère Paillarde', 10376)\n",
      "('Mère Paillarde', 10424)\n",
      "('Mère Paillarde', 10439)\n",
      "('North/South', None)\n",
      "('Océano Atlántico Ltda.', 10409)\n",
      "('Old World Delicatessen', 10260)\n",
      "('Old World Delicatessen', 10305)\n",
      "('Old World Delicatessen', 10338)\n",
      "('Old World Delicatessen', 10441)\n",
      "('Ottilies Käseladen', 10407)\n",
      "('Paris spécialités', None)\n",
      "('Pericles Comidas clásicas', 10322)\n",
      "('Pericles Comidas clásicas', 10354)\n",
      "('Piccolo und mehr', 10353)\n",
      "('Piccolo und mehr', 10392)\n",
      "('Piccolo und mehr', 10427)\n",
      "('Princesa Isabel Vinhoss', 10336)\n",
      "('Princesa Isabel Vinhoss', 10397)\n",
      "('Princesa Isabel Vinhoss', 10433)\n",
      "('QUICK-Stop', 10273)\n",
      "('QUICK-Stop', 10285)\n",
      "('QUICK-Stop', 10286)\n",
      "('QUICK-Stop', 10313)\n",
      "('QUICK-Stop', 10345)\n",
      "('QUICK-Stop', 10361)\n",
      "('QUICK-Stop', 10418)\n",
      "('Que Delícia', 10261)\n",
      "('Que Delícia', 10291)\n",
      "('Que Delícia', 10379)\n",
      "('Que Delícia', 10421)\n",
      "('Queen Cozinha', 10372)\n",
      "('Queen Cozinha', 10406)\n",
      "('Rancho grande', None)\n",
      "('Rattlesnake Canyon Grocery', 10262)\n",
      "('Rattlesnake Canyon Grocery', 10272)\n",
      "('Rattlesnake Canyon Grocery', 10294)\n",
      "('Rattlesnake Canyon Grocery', 10314)\n",
      "('Rattlesnake Canyon Grocery', 10316)\n",
      "('Rattlesnake Canyon Grocery', 10346)\n",
      "('Rattlesnake Canyon Grocery', 10401)\n",
      "('Reggiani Caseifici', 10288)\n",
      "('Reggiani Caseifici', 10428)\n",
      "('Reggiani Caseifici', 10443)\n",
      "('Ricardo Adocicados', 10287)\n",
      "('Ricardo Adocicados', 10299)\n",
      "('Richter Supermarkt', 10255)\n",
      "('Richter Supermarkt', 10419)\n",
      "('Romero y tomillo', 10281)\n",
      "('Romero y tomillo', 10282)\n",
      "('Romero y tomillo', 10306)\n",
      "('Santé Gourmet', 10387)\n",
      "('Save-a-lot Markets', 10324)\n",
      "('Save-a-lot Markets', 10393)\n",
      "('Save-a-lot Markets', 10398)\n",
      "('Save-a-lot Markets', 10440)\n",
      "('Seven Seas Imports', 10359)\n",
      "('Seven Seas Imports', 10377)\n",
      "('Seven Seas Imports', 10388)\n",
      "('Simons bistro', 10341)\n",
      "('Simons bistro', 10417)\n",
      "('Split Rail Beer & Ale', 10271)\n",
      "('Split Rail Beer & Ale', 10329)\n",
      "('Split Rail Beer & Ale', 10349)\n",
      "('Split Rail Beer & Ale', 10369)\n",
      "('Split Rail Beer & Ale', 10385)\n",
      "('Split Rail Beer & Ale', 10432)\n",
      "('Spécialités du monde', None)\n",
      "('Suprêmes délices', 10252)\n",
      "('Suprêmes délices', 10302)\n",
      "('The Big Cheese', 10310)\n",
      "('The Cracker Box', None)\n",
      "('Toms Spezialitäten', 10438)\n",
      "('Tortuga Restaurante', 10276)\n",
      "('Tortuga Restaurante', 10293)\n",
      "('Tortuga Restaurante', 10304)\n",
      "('Tortuga Restaurante', 10319)\n",
      "('Tradição Hipermercados', 10249)\n",
      "('Tradição Hipermercados', 10292)\n",
      "(\"Trail's Head Gourmet Provisioners\", None)\n",
      "('Vaffeljernet', 10367)\n",
      "('Vaffeljernet', 10399)\n",
      "('Victuailles en stock', 10251)\n",
      "('Victuailles en stock', 10334)\n",
      "('Vins et alcools Chevalier', 10274)\n",
      "('Vins et alcools Chevalier', 10295)\n",
      "('Wartian Herkku', 10266)\n",
      "('Wartian Herkku', 10270)\n",
      "('Wartian Herkku', 10320)\n",
      "('Wartian Herkku', 10333)\n",
      "('Wartian Herkku', 10412)\n",
      "('Wartian Herkku', 10416)\n",
      "('Wartian Herkku', 10437)\n",
      "('Wellington Importadora', 10256)\n",
      "('Wellington Importadora', 10420)\n",
      "('White Clover Markets', 10269)\n",
      "('White Clover Markets', 10344)\n",
      "('Wilman Kala', 10248)\n",
      "('Wolski', 10374)\n"
     ]
    }
   ],
   "source": [
    "query = \"\"\"\n",
    "SELECT Customers.CustomerName, Orders.OrderID\n",
    "FROM Customers\n",
    "FULL OUTER JOIN Orders ON Customers.CustomerID=Orders.CustomerID\n",
    "ORDER BY Customers.CustomerName;\n",
    "\"\"\"\n",
    "print_query_result(query)"
   ]
  },
  {
   "cell_type": "markdown",
   "id": "14e0d400",
   "metadata": {},
   "source": [
    "## Self Join"
   ]
  },
  {
   "cell_type": "code",
   "execution_count": 263,
   "id": "1fd7935d",
   "metadata": {},
   "outputs": [
    {
     "name": "stdout",
     "output_type": "stream",
     "text": [
      "('Cactus Comidas para llevar', 'Océano Atlántico Ltda.', 'Buenos Aires')\n",
      "('Cactus Comidas para llevar', 'Rancho grande', 'Buenos Aires')\n",
      "('Océano Atlántico Ltda.', 'Cactus Comidas para llevar', 'Buenos Aires')\n",
      "('Océano Atlántico Ltda.', 'Rancho grande', 'Buenos Aires')\n",
      "('Rancho grande', 'Cactus Comidas para llevar', 'Buenos Aires')\n",
      "('Rancho grande', 'Océano Atlántico Ltda.', 'Buenos Aires')\n",
      "('Furia Bacalhau e Frutos do Mar', 'Princesa Isabel Vinhoss', 'Lisboa')\n",
      "('Princesa Isabel Vinhoss', 'Furia Bacalhau e Frutos do Mar', 'Lisboa')\n",
      "('Around the Horn', \"B's Beverages\", 'London')\n",
      "('Around the Horn', 'Consolidated Holdings', 'London')\n",
      "('Around the Horn', 'Eastern Connection', 'London')\n",
      "('Around the Horn', 'North/South', 'London')\n",
      "('Around the Horn', 'Seven Seas Imports', 'London')\n",
      "(\"B's Beverages\", 'Around the Horn', 'London')\n",
      "(\"B's Beverages\", 'Consolidated Holdings', 'London')\n",
      "(\"B's Beverages\", 'Eastern Connection', 'London')\n",
      "(\"B's Beverages\", 'North/South', 'London')\n",
      "(\"B's Beverages\", 'Seven Seas Imports', 'London')\n",
      "('Consolidated Holdings', 'Around the Horn', 'London')\n",
      "('Consolidated Holdings', \"B's Beverages\", 'London')\n",
      "('Consolidated Holdings', 'Eastern Connection', 'London')\n",
      "('Consolidated Holdings', 'North/South', 'London')\n",
      "('Consolidated Holdings', 'Seven Seas Imports', 'London')\n",
      "('Eastern Connection', 'Around the Horn', 'London')\n",
      "('Eastern Connection', \"B's Beverages\", 'London')\n",
      "('Eastern Connection', 'Consolidated Holdings', 'London')\n",
      "('Eastern Connection', 'North/South', 'London')\n",
      "('Eastern Connection', 'Seven Seas Imports', 'London')\n",
      "('North/South', 'Around the Horn', 'London')\n",
      "('North/South', \"B's Beverages\", 'London')\n",
      "('North/South', 'Consolidated Holdings', 'London')\n",
      "('North/South', 'Eastern Connection', 'London')\n",
      "('North/South', 'Seven Seas Imports', 'London')\n",
      "('Seven Seas Imports', 'Around the Horn', 'London')\n",
      "('Seven Seas Imports', \"B's Beverages\", 'London')\n",
      "('Seven Seas Imports', 'Consolidated Holdings', 'London')\n",
      "('Seven Seas Imports', 'Eastern Connection', 'London')\n",
      "('Seven Seas Imports', 'North/South', 'London')\n",
      "('Bólido Comidas preparadas', 'FISSA Fabrica Inter. Salchichas S.A.', 'Madrid')\n",
      "('Bólido Comidas preparadas', 'Romero y tomillo', 'Madrid')\n",
      "('FISSA Fabrica Inter. Salchichas S.A.', 'Bólido Comidas preparadas', 'Madrid')\n",
      "('FISSA Fabrica Inter. Salchichas S.A.', 'Romero y tomillo', 'Madrid')\n",
      "('Romero y tomillo', 'Bólido Comidas preparadas', 'Madrid')\n",
      "('Romero y tomillo', 'FISSA Fabrica Inter. Salchichas S.A.', 'Madrid')\n",
      "('Ana Trujillo Emparedados y helados', 'Antonio Moreno Taquería', 'México D.F.')\n",
      "('Ana Trujillo Emparedados y helados', 'Centro comercial Moctezuma', 'México D.F.')\n",
      "('Ana Trujillo Emparedados y helados', 'Pericles Comidas clásicas', 'México D.F.')\n",
      "('Ana Trujillo Emparedados y helados', 'Tortuga Restaurante', 'México D.F.')\n",
      "('Antonio Moreno Taquería', 'Ana Trujillo Emparedados y helados', 'México D.F.')\n",
      "('Antonio Moreno Taquería', 'Centro comercial Moctezuma', 'México D.F.')\n",
      "('Antonio Moreno Taquería', 'Pericles Comidas clásicas', 'México D.F.')\n",
      "('Antonio Moreno Taquería', 'Tortuga Restaurante', 'México D.F.')\n",
      "('Centro comercial Moctezuma', 'Ana Trujillo Emparedados y helados', 'México D.F.')\n",
      "('Centro comercial Moctezuma', 'Antonio Moreno Taquería', 'México D.F.')\n",
      "('Centro comercial Moctezuma', 'Pericles Comidas clásicas', 'México D.F.')\n",
      "('Centro comercial Moctezuma', 'Tortuga Restaurante', 'México D.F.')\n",
      "('Pericles Comidas clásicas', 'Ana Trujillo Emparedados y helados', 'México D.F.')\n",
      "('Pericles Comidas clásicas', 'Antonio Moreno Taquería', 'México D.F.')\n",
      "('Pericles Comidas clásicas', 'Centro comercial Moctezuma', 'México D.F.')\n",
      "('Pericles Comidas clásicas', 'Tortuga Restaurante', 'México D.F.')\n",
      "('Tortuga Restaurante', 'Ana Trujillo Emparedados y helados', 'México D.F.')\n",
      "('Tortuga Restaurante', 'Antonio Moreno Taquería', 'México D.F.')\n",
      "('Tortuga Restaurante', 'Centro comercial Moctezuma', 'México D.F.')\n",
      "('Tortuga Restaurante', 'Pericles Comidas clásicas', 'México D.F.')\n",
      "('Du monde entier', 'France restauration', 'Nantes')\n",
      "('France restauration', 'Du monde entier', 'Nantes')\n",
      "('Paris spécialités', 'Spécialités du monde', 'Paris')\n",
      "('Spécialités du monde', 'Paris spécialités', 'Paris')\n",
      "('Lonesome Pine Restaurant', 'The Big Cheese', 'Portland')\n",
      "('The Big Cheese', 'Lonesome Pine Restaurant', 'Portland')\n",
      "('Hanari Carnes', 'Que Delícia', 'Rio de Janeiro')\n",
      "('Hanari Carnes', 'Ricardo Adocicados', 'Rio de Janeiro')\n",
      "('Que Delícia', 'Hanari Carnes', 'Rio de Janeiro')\n",
      "('Que Delícia', 'Ricardo Adocicados', 'Rio de Janeiro')\n",
      "('Ricardo Adocicados', 'Hanari Carnes', 'Rio de Janeiro')\n",
      "('Ricardo Adocicados', 'Que Delícia', 'Rio de Janeiro')\n",
      "('Comércio Mineiro', 'Familia Arquibaldo', 'São Paulo')\n",
      "('Comércio Mineiro', 'Queen Cozinha', 'São Paulo')\n",
      "('Comércio Mineiro', 'Tradição Hipermercados', 'São Paulo')\n",
      "('Familia Arquibaldo', 'Comércio Mineiro', 'São Paulo')\n",
      "('Familia Arquibaldo', 'Queen Cozinha', 'São Paulo')\n",
      "('Familia Arquibaldo', 'Tradição Hipermercados', 'São Paulo')\n",
      "('Queen Cozinha', 'Comércio Mineiro', 'São Paulo')\n",
      "('Queen Cozinha', 'Familia Arquibaldo', 'São Paulo')\n",
      "('Queen Cozinha', 'Tradição Hipermercados', 'São Paulo')\n",
      "('Tradição Hipermercados', 'Comércio Mineiro', 'São Paulo')\n",
      "('Tradição Hipermercados', 'Familia Arquibaldo', 'São Paulo')\n",
      "('Tradição Hipermercados', 'Queen Cozinha', 'São Paulo')\n"
     ]
    }
   ],
   "source": [
    "query = \"\"\"\n",
    "SELECT A.CustomerName AS CustomerName1, B.CustomerName AS CustomerName2, A.City\n",
    "FROM Customers A, Customers B\n",
    "WHERE A.CustomerID <> B.CustomerID\n",
    "AND A.City = B.City\n",
    "ORDER BY A.City;\n",
    "\"\"\"\n",
    "print_query_result(query)"
   ]
  },
  {
   "cell_type": "markdown",
   "id": "78da607c",
   "metadata": {},
   "source": [
    "## UNION Operator"
   ]
  },
  {
   "cell_type": "code",
   "execution_count": 264,
   "id": "402deeb8",
   "metadata": {},
   "outputs": [
    {
     "name": "stdout",
     "output_type": "stream",
     "text": [
      "('Aachen',)\n",
      "('Albuquerque',)\n",
      "('Anchorage',)\n",
      "('Ann Arbor',)\n",
      "('Annecy',)\n",
      "('Barcelona',)\n",
      "('Barquisimeto',)\n",
      "('Bend',)\n",
      "('Bergamo',)\n",
      "('Berlin',)\n",
      "('Bern',)\n",
      "('Boise',)\n",
      "('Boston',)\n",
      "('Brandenburg',)\n",
      "('Bruxelles',)\n",
      "('Bräcke',)\n",
      "('Buenos Aires',)\n",
      "('Butte',)\n",
      "('Campinas',)\n",
      "('Caracas',)\n",
      "('Charleroi',)\n",
      "('Cork',)\n",
      "('Cowes',)\n",
      "('Cunewalde',)\n",
      "('Cuxhaven',)\n",
      "('Elgin',)\n",
      "('Eugene',)\n",
      "('Frankfurt',)\n",
      "('Frankfurt a.M. ',)\n",
      "('Genève',)\n",
      "('Graz',)\n",
      "('Göteborg',)\n",
      "('Helsinki',)\n",
      "('I. de Margarita',)\n",
      "('Kirkland',)\n",
      "('Köln',)\n",
      "('København',)\n",
      "('Lander',)\n",
      "('Lappeenranta',)\n",
      "('Leipzig',)\n",
      "('Lille',)\n",
      "('Lisboa',)\n",
      "('London',)\n",
      "('Londona',)\n",
      "('Luleå',)\n",
      "('Lyngby',)\n",
      "('Lyon',)\n",
      "('Madrid',)\n",
      "('Manchester',)\n",
      "('Mannheim',)\n",
      "('Marseille',)\n",
      "('Melbourne',)\n",
      "('Montceau',)\n",
      "('Montréal',)\n",
      "('México D.F.',)\n",
      "('München',)\n",
      "('Münster',)\n",
      "('Nantes',)\n",
      "('New Orleans',)\n",
      "('Osaka',)\n",
      "('Oulu',)\n",
      "('Oviedo',)\n",
      "('Paris',)\n",
      "('Portland',)\n",
      "('Ravenna',)\n",
      "('Reggio Emilia',)\n",
      "('Reims',)\n",
      "('Resende',)\n",
      "('Rio de Janeiro',)\n",
      "('Salerno',)\n",
      "('Salzburg',)\n",
      "('San Cristóbal',)\n",
      "('San Francisco',)\n",
      "('Sandvika',)\n",
      "('Seattle',)\n",
      "('Sevilla',)\n",
      "('Singapore',)\n",
      "('Stavern',)\n",
      "('Ste-Hyacinthe',)\n",
      "('Stockholm',)\n",
      "('Strasbourg',)\n",
      "('Stuttgart',)\n",
      "('Sydney',)\n",
      "('São Paulo',)\n",
      "('Tokyo',)\n",
      "('Torino',)\n",
      "('Toulouse',)\n",
      "('Tsawassen',)\n",
      "('Vancouver',)\n",
      "('Versailles',)\n",
      "('Walla',)\n",
      "('Walla Walla',)\n",
      "('Zaandam',)\n",
      "('Århus',)\n"
     ]
    }
   ],
   "source": [
    "query = \"\"\"\n",
    "SELECT City FROM Customers\n",
    "UNION\n",
    "SELECT City FROM Suppliers\n",
    "ORDER BY City;\n",
    "\"\"\"\n",
    "print_query_result(query)"
   ]
  },
  {
   "cell_type": "markdown",
   "id": "205b1884",
   "metadata": {},
   "source": [
    "## UNION ALL"
   ]
  },
  {
   "cell_type": "code",
   "execution_count": 265,
   "id": "2352dad1",
   "metadata": {},
   "outputs": [
    {
     "name": "stdout",
     "output_type": "stream",
     "text": [
      "('Aachen',)\n",
      "('Albuquerque',)\n",
      "('Anchorage',)\n",
      "('Ann Arbor',)\n",
      "('Annecy',)\n",
      "('Barcelona',)\n",
      "('Barquisimeto',)\n",
      "('Bend',)\n",
      "('Bergamo',)\n",
      "('Berlin',)\n",
      "('Berlin',)\n",
      "('Bern',)\n",
      "('Boise',)\n",
      "('Boston',)\n",
      "('Brandenburg',)\n",
      "('Bruxelles',)\n",
      "('Bräcke',)\n",
      "('Buenos Aires',)\n",
      "('Buenos Aires',)\n",
      "('Buenos Aires',)\n",
      "('Butte',)\n",
      "('Campinas',)\n",
      "('Caracas',)\n",
      "('Charleroi',)\n",
      "('Cork',)\n",
      "('Cowes',)\n",
      "('Cunewalde',)\n",
      "('Cuxhaven',)\n",
      "('Elgin',)\n",
      "('Eugene',)\n",
      "('Frankfurt',)\n",
      "('Frankfurt a.M. ',)\n",
      "('Genève',)\n",
      "('Graz',)\n",
      "('Göteborg',)\n",
      "('Helsinki',)\n",
      "('I. de Margarita',)\n",
      "('Kirkland',)\n",
      "('Köln',)\n",
      "('København',)\n",
      "('Lander',)\n",
      "('Lappeenranta',)\n",
      "('Leipzig',)\n",
      "('Lille',)\n",
      "('Lisboa',)\n",
      "('Lisboa',)\n",
      "('London',)\n",
      "('London',)\n",
      "('London',)\n",
      "('London',)\n",
      "('London',)\n",
      "('London',)\n",
      "('Londona',)\n",
      "('Luleå',)\n",
      "('Lyngby',)\n",
      "('Lyon',)\n",
      "('Madrid',)\n",
      "('Madrid',)\n",
      "('Madrid',)\n",
      "('Manchester',)\n",
      "('Mannheim',)\n",
      "('Marseille',)\n",
      "('Melbourne',)\n",
      "('Montceau',)\n",
      "('Montréal',)\n",
      "('Montréal',)\n",
      "('México D.F.',)\n",
      "('México D.F.',)\n",
      "('México D.F.',)\n",
      "('México D.F.',)\n",
      "('México D.F.',)\n",
      "('München',)\n",
      "('Münster',)\n",
      "('Nantes',)\n",
      "('Nantes',)\n",
      "('New Orleans',)\n",
      "('Osaka',)\n",
      "('Oulu',)\n",
      "('Oviedo',)\n",
      "('Paris',)\n",
      "('Paris',)\n",
      "('Paris',)\n",
      "('Portland',)\n",
      "('Portland',)\n",
      "('Ravenna',)\n",
      "('Reggio Emilia',)\n",
      "('Reims',)\n",
      "('Resende',)\n",
      "('Rio de Janeiro',)\n",
      "('Rio de Janeiro',)\n",
      "('Rio de Janeiro',)\n",
      "('Salerno',)\n",
      "('Salzburg',)\n",
      "('San Cristóbal',)\n",
      "('San Francisco',)\n",
      "('Sandvika',)\n",
      "('Seattle',)\n",
      "('Sevilla',)\n",
      "('Singapore',)\n",
      "('Stavern',)\n",
      "('Ste-Hyacinthe',)\n",
      "('Stockholm',)\n",
      "('Strasbourg',)\n",
      "('Stuttgart',)\n",
      "('Sydney',)\n",
      "('São Paulo',)\n",
      "('São Paulo',)\n",
      "('São Paulo',)\n",
      "('São Paulo',)\n",
      "('São Paulo',)\n",
      "('Tokyo',)\n",
      "('Torino',)\n",
      "('Toulouse',)\n",
      "('Tsawassen',)\n",
      "('Vancouver',)\n",
      "('Versailles',)\n",
      "('Walla',)\n",
      "('Walla Walla',)\n",
      "('Zaandam',)\n",
      "('Århus',)\n"
     ]
    }
   ],
   "source": [
    "query = \"\"\"\n",
    "SELECT City FROM Customers\n",
    "UNION ALL\n",
    "SELECT City FROM Suppliers\n",
    "ORDER BY City;\n",
    "\"\"\"\n",
    "print_query_result(query)"
   ]
  },
  {
   "cell_type": "markdown",
   "id": "aa49f295",
   "metadata": {},
   "source": [
    "## UNION With WHERE"
   ]
  },
  {
   "cell_type": "code",
   "execution_count": 266,
   "id": "d3961328",
   "metadata": {},
   "outputs": [
    {
     "name": "stdout",
     "output_type": "stream",
     "text": [
      "('Aachen', 'Germany')\n",
      "('Berlin', 'Germany')\n",
      "('Brandenburg', 'Germany')\n",
      "('Cunewalde', 'Germany')\n",
      "('Cuxhaven', 'Germany')\n",
      "('Frankfurt', 'Germany')\n",
      "('Frankfurt a.M. ', 'Germany')\n",
      "('Köln', 'Germany')\n",
      "('Leipzig', 'Germany')\n",
      "('Mannheim', 'Germany')\n",
      "('München', 'Germany')\n",
      "('Münster', 'Germany')\n",
      "('Stuttgart', 'Germany')\n"
     ]
    }
   ],
   "source": [
    "query = \"\"\"\n",
    "SELECT City, Country FROM Customers\n",
    "WHERE Country='Germany'\n",
    "UNION\n",
    "SELECT City, Country FROM Suppliers\n",
    "WHERE Country='Germany'\n",
    "ORDER BY City;\n",
    "\"\"\"\n",
    "print_query_result(query)"
   ]
  },
  {
   "cell_type": "markdown",
   "id": "777360ba",
   "metadata": {},
   "source": [
    "## UNION ALL With WHERE"
   ]
  },
  {
   "cell_type": "code",
   "execution_count": 267,
   "id": "157fd687",
   "metadata": {},
   "outputs": [
    {
     "name": "stdout",
     "output_type": "stream",
     "text": [
      "('Aachen', 'Germany')\n",
      "('Berlin', 'Germany')\n",
      "('Berlin', 'Germany')\n",
      "('Brandenburg', 'Germany')\n",
      "('Cunewalde', 'Germany')\n",
      "('Cuxhaven', 'Germany')\n",
      "('Frankfurt', 'Germany')\n",
      "('Frankfurt a.M. ', 'Germany')\n",
      "('Köln', 'Germany')\n",
      "('Leipzig', 'Germany')\n",
      "('Mannheim', 'Germany')\n",
      "('München', 'Germany')\n",
      "('Münster', 'Germany')\n",
      "('Stuttgart', 'Germany')\n"
     ]
    }
   ],
   "source": [
    "query = \"\"\"\n",
    "SELECT City, Country FROM Customers\n",
    "WHERE Country='Germany'\n",
    "UNION ALL\n",
    "SELECT City, Country FROM Suppliers\n",
    "WHERE Country='Germany'\n",
    "ORDER BY City;\n",
    "\"\"\"\n",
    "print_query_result(query)"
   ]
  },
  {
   "cell_type": "markdown",
   "id": "0d9eeb94",
   "metadata": {},
   "source": [
    "## Another UNION Example"
   ]
  },
  {
   "cell_type": "code",
   "execution_count": 268,
   "id": "62fb99e8",
   "metadata": {},
   "outputs": [
    {
     "name": "stdout",
     "output_type": "stream",
     "text": [
      "('Customer', 'Alejandra Camino', 'Madrid', 'Spain')\n",
      "('Customer', 'Alexander Feuer', 'Leipzig', 'Germany')\n",
      "('Customer', 'Ana Trujillo', 'México D.F.', 'Mexico')\n",
      "('Customer', 'Anabela Domingues', 'São Paulo', 'Brazil')\n",
      "('Customer', 'André Fonseca', 'Campinas', 'Brazil')\n",
      "('Customer', 'Ann Devon', 'London', 'UK')\n",
      "('Customer', 'Annette Roulet', 'Toulouse', 'France')\n",
      "('Customer', 'Antonio Moreno', 'México D.F.', 'Mexico')\n",
      "('Customer', 'Aria Cruz', 'São Paulo', 'Brazil')\n",
      "('Customer', 'Art Braunschweiger', 'Lander', 'USA')\n",
      "('Customer', 'Bernardo Batista', 'Rio de Janeiro', 'Brazil')\n",
      "('Customer', 'Carine Schmitt', 'Nantes', 'France')\n",
      "('Customer', 'Carlos González', 'Barquisimeto', 'Venezuela')\n",
      "('Customer', 'Carlos Hernández', 'San Cristóbal', 'Venezuela')\n",
      "('Customer', 'Catherine Dewey', 'Bruxelles', 'Belgium')\n",
      "('Customer', 'Christina Berglund', 'Luleå', 'Sweden')\n",
      "('Customer', 'Daniel Tonini', 'Versailles', 'France')\n",
      "('Customer', 'Diego Roel', 'Madrid', 'Spain')\n",
      "('Customer', 'Dominique Perrier', 'Paris', 'France')\n",
      "('Customer', 'Eduardo Saavedra', 'Barcelona', 'Spain')\n",
      "('Customer', 'Elizabeth Brown', 'London', 'UK')\n",
      "('Customer', 'Elizabeth Lincoln', 'Tsawassen', 'Canada')\n",
      "('Customer', 'Felipe Izquierdo', 'I. de Margarita', 'Venezuela')\n",
      "('Customer', 'Fran Wilson', 'Portland', 'USA')\n",
      "('Customer', 'Francisco Chang', 'México D.F.', 'Mexico')\n",
      "('Customer', 'Frédérique Citeaux', 'Strasbourg', 'France')\n",
      "('Customer', 'Georg Pipps', 'Salzburg', 'Austria')\n",
      "('Customer', 'Giovanni Rovelli', 'Bergamo', 'Italy')\n",
      "('Customer', 'Guillermo Fernández', 'México D.F.', 'Mexico')\n",
      "('Customer', 'Hanna Moos', 'Mannheim', 'Germany')\n",
      "('Customer', 'Hari Kumar', 'London', 'UK')\n",
      "('Customer', 'Helen Bennett', 'Cowes', 'UK')\n",
      "('Customer', 'Helvetius Nagy', 'Kirkland', 'USA')\n",
      "('Customer', 'Henriette Pfalzheim', 'Köln', 'Germany')\n",
      "('Customer', 'Horst Kloss', 'Cunewalde', 'Germany')\n",
      "('Customer', 'Howard Snyder', 'Eugene', 'USA')\n",
      "('Customer', 'Isabel de Castro', 'Lisboa', 'Portugal')\n",
      "('Customer', 'Jaime Yorres', 'San Francisco', 'USA')\n",
      "('Customer', 'Janete Limeira', 'Rio de Janeiro', 'Brazil')\n",
      "('Customer', 'Janine Labrune', 'Nantes', 'France')\n",
      "('Customer', 'Jean Fresnière', 'Montréal', 'Canada')\n",
      "('Customer', 'John Steel', 'Walla Walla', 'USA')\n",
      "('Customer', 'Jonas Bergulfsen', 'Stavern', 'Norway')\n",
      "('Customer', 'Jose Pavarotti', 'Boise', 'USA')\n",
      "('Customer', 'José Pedro Freyre', 'Sevilla', 'Spain')\n",
      "('Customer', 'Jytte Petersen', 'København', 'Denmark')\n",
      "('Customer', 'Karin Josephs', 'Münster', 'Germany')\n",
      "('Customer', 'Karl Jablonski', 'Seattle', 'USA')\n",
      "('Customer', 'Laurence Lebihans', 'Marseille', 'France')\n",
      "('Customer', 'Lino Rodriguez ', 'Lisboa', 'Portugal')\n",
      "('Customer', 'Liu Wong', 'Butte', 'USA')\n",
      "('Customer', 'Liz Nixon', 'Portland', 'USA')\n",
      "('Customer', 'Lúcia Carvalho', 'São Paulo', 'Brazil')\n",
      "('Customer', 'Manuel Pereira', 'Caracas', 'Venezuela')\n",
      "('Customer', 'Maria Anders', 'Berlin', 'Germany')\n",
      "('Customer', 'Maria Larsson', 'Bräcke', 'Sweden')\n",
      "('Customer', 'Marie Bertrand', 'Paris', 'France')\n",
      "('Customer', 'Mario Pontes', 'Rio de Janeiro', 'Brazil')\n",
      "('Customer', 'Martine Rancé', 'Lille', 'France')\n",
      "('Customer', 'Martín Sommer', 'Madrid', 'Spain')\n",
      "('Customer', 'Mary Saveley', 'Lyon', 'France')\n",
      "('Customer', 'Matti Karttunen', 'Helsinki', 'Finland')\n",
      "('Customer', 'Maurizio Moroni', 'Reggio Emilia', 'Italy')\n",
      "('Customer', 'Michael Holz', 'Genève', 'Switzerland')\n",
      "('Customer', 'Miguel Angel Paolino', 'México D.F.', 'Mexico')\n",
      "('Customer', 'Palle Ibsen', 'Århus', 'Denmark')\n",
      "('Customer', 'Paolo Accorti', 'Torino', 'Italy')\n",
      "('Customer', 'Pascale Cartrain', 'Charleroi', 'Belgium')\n",
      "('Customer', 'Patricia McKenna', 'Cork', 'Ireland')\n",
      "('Customer', 'Patricio Simpson', 'Buenos Aires', 'Argentina')\n",
      "('Customer', 'Paul Henriot', 'Reims', 'France')\n",
      "('Customer', 'Paula Parente', 'Resende', 'Brazil')\n",
      "('Customer', 'Paula Wilson', 'Albuquerque', 'USA')\n",
      "('Customer', 'Pedro Afonso', 'São Paulo', 'Brazil')\n",
      "('Customer', 'Peter Franken', 'München', 'Germany')\n",
      "('Customer', 'Philip Cramer', 'Brandenburg', 'Germany')\n",
      "('Customer', 'Pirkko Koskitalo', 'Oulu', 'Finland')\n",
      "('Customer', 'Renate Messner', 'Frankfurt a.M. ', 'Germany')\n",
      "('Customer', 'Rene Phillips', 'Anchorage', 'USA')\n",
      "('Customer', 'Rita Müller', 'Stuttgart', 'Germany')\n",
      "('Customer', 'Roland Mendel', 'Graz', 'Austria')\n",
      "('Customer', 'Sergio Gutiérrez', 'Buenos Aires', 'Argentina')\n",
      "('Customer', 'Simon Crowther', 'London', 'UK')\n",
      "('Customer', 'Sven Ottlieb', 'Aachen', 'Germany')\n",
      "('Customer', 'Thomas Hardy', 'London', 'UK')\n",
      "('Customer', 'Victoria Ashworth', 'London', 'UK')\n",
      "('Customer', 'Yang Wang', 'Bern', 'Switzerland')\n",
      "('Customer', 'Yoshi Latimer', 'Elgin', 'USA')\n",
      "('Customer', 'Yoshi Tannamuri', 'Vancouver', 'Canada')\n",
      "('Customer', 'Yvonne Moncada', 'Buenos Aires', 'Argentina')\n",
      "('Customer', 'Zbyszek', 'Walla', None)\n",
      "('Supplier', 'Anne Heikkonen', 'Lappeenranta', 'Finland')\n",
      "('Supplier', 'Antonio del Valle Saavedra ', 'Oviedo', 'Spain')\n",
      "('Supplier', 'Beate Vileid', 'Sandvika', 'Norway')\n",
      "('Supplier', 'Carlos Diaz', 'São Paulo', 'Brazil')\n",
      "('Supplier', 'Chandra Leka', 'Singapore', 'Singapore')\n",
      "('Supplier', 'Chantal Goulet', 'Ste-Hyacinthe', 'Canada')\n",
      "('Supplier', 'Charlotte Cooper', 'Londona', 'UK')\n",
      "('Supplier', 'Cheryl Saylor', 'Bend', 'USA')\n",
      "('Supplier', 'Dirk Luchte', 'Zaandam', 'Netherlands')\n",
      "('Supplier', 'Eliane Noz', 'Annecy', 'France')\n",
      "('Supplier', 'Elio Rossi', 'Ravenna', 'Italy')\n",
      "('Supplier', 'Giovanni Giudici', 'Salerno', 'Italy')\n",
      "('Supplier', 'Guylène Nodier', 'Paris', 'France')\n",
      "('Supplier', 'Ian Devling', 'Melbourne', 'Australia')\n",
      "('Supplier', 'Jean-Guy Lauzon', 'Montréal', 'Canada')\n",
      "('Supplier', 'Lars Peterson', 'Göteborg', 'Sweden ')\n",
      "('Supplier', 'Marie Delamare', 'Montceau', 'France')\n",
      "('Supplier', 'Martin Bein', 'Frankfurt', 'Germany')\n",
      "('Supplier', 'Mayumi Ohno', 'Osaka', 'Japan')\n",
      "('Supplier', 'Michael Björn', 'Stockholm', 'Sweden')\n",
      "('Supplier', 'Niels Petersen', 'Lyngby', 'Denmark')\n",
      "('Supplier', 'Peter Wilson', 'Manchester', 'UK')\n",
      "('Supplier', 'Petra Winkler', 'Berlin', 'Germany')\n",
      "('Supplier', 'Regina Murphy', 'Ann Arbor', 'USA')\n",
      "('Supplier', 'Robb Merchant', 'Boston', 'USA')\n",
      "('Supplier', 'Shelley Burke', 'New Orleans', 'USA')\n",
      "('Supplier', 'Sven Petersen', 'Cuxhaven', 'Germany')\n",
      "('Supplier', 'Wendy Mackenzie', 'Sydney', 'Australia')\n",
      "('Supplier', 'Yoshi Nagase', 'Tokyo', 'Japan')\n"
     ]
    }
   ],
   "source": [
    "query = \"\"\"\n",
    "SELECT 'Customer' AS Type, ContactName, City, Country\n",
    "FROM Customers\n",
    "UNION\n",
    "SELECT 'Supplier', ContactName, City, Country\n",
    "FROM Suppliers;\n",
    "\"\"\"\n",
    "print_query_result(query)"
   ]
  },
  {
   "cell_type": "markdown",
   "id": "569fbfbf",
   "metadata": {},
   "source": [
    "## GROUP BY Statement"
   ]
  },
  {
   "cell_type": "code",
   "execution_count": 269,
   "id": "b2ab4a21",
   "metadata": {},
   "outputs": [
    {
     "name": "stdout",
     "output_type": "stream",
     "text": [
      "(1, None)\n",
      "(3, 'Argentina')\n",
      "(2, 'Austria')\n",
      "(2, 'Belgium')\n",
      "(9, 'Brazil')\n",
      "(3, 'Canada')\n",
      "(2, 'Denmark')\n",
      "(2, 'Finland')\n",
      "(11, 'France')\n",
      "(11, 'Germany')\n",
      "(1, 'Ireland')\n",
      "(3, 'Italy')\n",
      "(5, 'Mexico')\n",
      "(1, 'Norway')\n",
      "(2, 'Portugal')\n",
      "(5, 'Spain')\n",
      "(2, 'Sweden')\n",
      "(2, 'Switzerland')\n",
      "(7, 'UK')\n",
      "(13, 'USA')\n",
      "(4, 'Venezuela')\n"
     ]
    }
   ],
   "source": [
    "query = \"\"\"\n",
    "SELECT COUNT(CustomerID), Country\n",
    "FROM Customers\n",
    "GROUP BY Country;\n",
    "\"\"\"\n",
    "print_query_result(query)"
   ]
  },
  {
   "cell_type": "code",
   "execution_count": 270,
   "id": "a4b2327e",
   "metadata": {},
   "outputs": [
    {
     "name": "stdout",
     "output_type": "stream",
     "text": [
      "(13, 'USA')\n",
      "(11, 'Germany')\n",
      "(11, 'France')\n",
      "(9, 'Brazil')\n",
      "(7, 'UK')\n",
      "(5, 'Spain')\n",
      "(5, 'Mexico')\n",
      "(4, 'Venezuela')\n",
      "(3, 'Italy')\n",
      "(3, 'Canada')\n",
      "(3, 'Argentina')\n",
      "(2, 'Switzerland')\n",
      "(2, 'Sweden')\n",
      "(2, 'Portugal')\n",
      "(2, 'Finland')\n",
      "(2, 'Denmark')\n",
      "(2, 'Belgium')\n",
      "(2, 'Austria')\n",
      "(1, 'Norway')\n",
      "(1, 'Ireland')\n",
      "(1, None)\n"
     ]
    }
   ],
   "source": [
    "query = \"\"\"\n",
    "SELECT COUNT(CustomerID), Country\n",
    "FROM Customers\n",
    "GROUP BY Country\n",
    "ORDER BY COUNT(CustomerID) DESC;\n",
    "\"\"\"\n",
    "print_query_result(query)"
   ]
  },
  {
   "cell_type": "markdown",
   "id": "81615566",
   "metadata": {},
   "source": [
    "## GROUP BY With JOIN"
   ]
  },
  {
   "cell_type": "code",
   "execution_count": 271,
   "id": "44f4697e",
   "metadata": {},
   "outputs": [
    {
     "name": "stdout",
     "output_type": "stream",
     "text": [
      "('Federal Shipping', 68)\n",
      "('Speedy Express', 54)\n",
      "('United Package', 74)\n"
     ]
    }
   ],
   "source": [
    "query = \"\"\"\n",
    "SELECT Shippers.ShipperName, COUNT(Orders.OrderID) AS NumberOfOrders FROM Orders\n",
    "LEFT JOIN Shippers ON Orders.ShipperID = Shippers.ShipperID\n",
    "GROUP BY ShipperName;\n",
    "\"\"\"\n",
    "print_query_result(query)"
   ]
  },
  {
   "cell_type": "markdown",
   "id": "5733f48f",
   "metadata": {},
   "source": [
    "## HAVING"
   ]
  },
  {
   "cell_type": "code",
   "execution_count": 272,
   "id": "9181457e",
   "metadata": {},
   "outputs": [
    {
     "name": "stdout",
     "output_type": "stream",
     "text": [
      "(9, 'Brazil')\n",
      "(11, 'France')\n",
      "(11, 'Germany')\n",
      "(7, 'UK')\n",
      "(13, 'USA')\n"
     ]
    }
   ],
   "source": [
    "query = \"\"\"\n",
    "SELECT COUNT(CustomerID), Country\n",
    "FROM Customers\n",
    "GROUP BY Country\n",
    "HAVING COUNT(CustomerID) > 5;\n",
    "\"\"\"\n",
    "print_query_result(query)"
   ]
  },
  {
   "cell_type": "code",
   "execution_count": 273,
   "id": "b42847b5",
   "metadata": {},
   "outputs": [
    {
     "name": "stdout",
     "output_type": "stream",
     "text": [
      "(13, 'USA')\n",
      "(11, 'Germany')\n",
      "(11, 'France')\n",
      "(9, 'Brazil')\n",
      "(7, 'UK')\n"
     ]
    }
   ],
   "source": [
    "query = \"\"\"\n",
    "SELECT COUNT(CustomerID), Country\n",
    "FROM Customers\n",
    "GROUP BY Country\n",
    "HAVING COUNT(CustomerID) > 5\n",
    "ORDER BY COUNT(CustomerID) DESC;\n",
    "\"\"\"\n",
    "print_query_result(query)"
   ]
  },
  {
   "cell_type": "markdown",
   "id": "2406414b",
   "metadata": {},
   "source": [
    "## More HAVING Examples\n"
   ]
  },
  {
   "cell_type": "code",
   "execution_count": 274,
   "id": "86a1278e",
   "metadata": {},
   "outputs": [
    {
     "name": "stdout",
     "output_type": "stream",
     "text": [
      "('Buchanan', 11)\n",
      "('Callahan', 27)\n",
      "('Davolio', 29)\n",
      "('Fuller', 20)\n",
      "('King', 14)\n",
      "('Leverling', 31)\n",
      "('Peacock', 40)\n",
      "('Suyama', 18)\n"
     ]
    }
   ],
   "source": [
    "query = \"\"\"\n",
    "SELECT Employees.LastName, COUNT(Orders.OrderID) AS NumberOfOrders\n",
    "FROM (Orders\n",
    "INNER JOIN Employees ON Orders.EmployeeID = Employees.EmployeeID)\n",
    "GROUP BY LastName\n",
    "HAVING COUNT(Orders.OrderID) > 10;\n",
    "\"\"\"\n",
    "print_query_result(query)"
   ]
  },
  {
   "cell_type": "code",
   "execution_count": 275,
   "id": "19e09965",
   "metadata": {},
   "outputs": [
    {
     "name": "stdout",
     "output_type": "stream",
     "text": [
      "('Davolio', 29)\n"
     ]
    }
   ],
   "source": [
    "query = \"\"\"\n",
    "SELECT Employees.LastName, COUNT(Orders.OrderID) AS NumberOfOrders\n",
    "FROM Orders\n",
    "INNER JOIN Employees ON Orders.EmployeeID = Employees.EmployeeID\n",
    "WHERE LastName = 'Davolio' OR LastName = 'Fuller'\n",
    "GROUP BY LastName\n",
    "HAVING COUNT(Orders.OrderID) > 25;\n",
    "\"\"\"\n",
    "print_query_result(query)"
   ]
  },
  {
   "cell_type": "markdown",
   "id": "1c9f1d28",
   "metadata": {},
   "source": [
    "## EXISTS "
   ]
  },
  {
   "cell_type": "code",
   "execution_count": 276,
   "id": "377594de",
   "metadata": {},
   "outputs": [
    {
     "name": "stdout",
     "output_type": "stream",
     "text": [
      "('Exotic Liquid',)\n",
      "('New Orleans Cajun Delights',)\n",
      "('Tokyo Traders',)\n",
      "(\"Mayumi's\",)\n",
      "('Pavlova, Ltd.',)\n",
      "('Specialty Biscuits, Ltd.',)\n",
      "('PB Knäckebröd AB',)\n",
      "('Refrescos Americanas LTDA',)\n",
      "('Heli Süßwaren GmbH & Co. KG',)\n",
      "('Plutzer Lebensmittelgroßmärkte AG',)\n",
      "('Formaggi Fortini s.r.l.',)\n",
      "('Norske Meierier',)\n",
      "('Bigfoot Breweries',)\n",
      "('Svensk Sjöföda AB',)\n",
      "('Aux joyeux ecclésiastiques',)\n",
      "('New England Seafood Cannery',)\n",
      "('Leka Trading',)\n",
      "('Lyngbysild',)\n",
      "('Zaanse Snoepfabriek',)\n",
      "('Karkki Oy',)\n",
      "(\"G'day, Mate\",)\n",
      "('Ma Maison',)\n",
      "('Pasta Buttini s.r.l.',)\n",
      "('Escargots Nouveaux',)\n"
     ]
    }
   ],
   "source": [
    "query = \"\"\"\n",
    "SELECT SupplierName\n",
    "FROM Suppliers\n",
    "WHERE EXISTS (SELECT ProductName FROM Products WHERE Products.SupplierID = Suppliers.supplierID AND Price < 20);\n",
    "\"\"\"\n",
    "print_query_result(query)"
   ]
  },
  {
   "cell_type": "code",
   "execution_count": 277,
   "id": "cee537aa",
   "metadata": {},
   "outputs": [
    {
     "name": "stdout",
     "output_type": "stream",
     "text": [
      "('New Orleans Cajun Delights',)\n"
     ]
    }
   ],
   "source": [
    "query = \"\"\"\n",
    "SELECT SupplierName\n",
    "FROM Suppliers\n",
    "WHERE EXISTS (SELECT ProductName FROM Products WHERE Products.SupplierID = Suppliers.supplierID AND Price = 22);\n",
    "\"\"\"\n",
    "print_query_result(query)"
   ]
  },
  {
   "cell_type": "markdown",
   "id": "d1bb8a86",
   "metadata": {},
   "source": [
    "## ANY"
   ]
  },
  {
   "cell_type": "code",
   "execution_count": 278,
   "id": "1009fe25",
   "metadata": {},
   "outputs": [
    {
     "name": "stdout",
     "output_type": "stream",
     "text": [
      "('Chais',)\n",
      "('Chang',)\n",
      "(\"Chef Anton's Cajun Seasoning\",)\n",
      "(\"Uncle Bob's Organic Dried Pears\",)\n",
      "('Konbu',)\n",
      "('Tofu',)\n",
      "('Pavlova',)\n",
      "('Teatime Chocolate Biscuits',)\n",
      "(\"Sir Rodney's Scones\",)\n",
      "('Guaraná Fantástica',)\n",
      "('NuNuCa Nuß-Nougat-Creme',)\n",
      "('Gumbär Gummibärchen',)\n",
      "('Thüringer Rostbratwurst',)\n",
      "('Nord-Ost Matjeshering',)\n",
      "('Sasquatch Ale',)\n",
      "('Steeleye Stout',)\n",
      "('Gravad lax',)\n",
      "('Côte de Blaye',)\n",
      "('Boston Crab Meat',)\n",
      "(\"Jack's New England Clam Chowder\",)\n",
      "('Singaporean Hokkien Fried Mee',)\n",
      "('Perth Pasties',)\n",
      "('Tourtière',)\n",
      "('Pâté chinois',)\n",
      "('Raclette Courdavault',)\n",
      "('Tarte au sucre',)\n",
      "('Louisiana Fiery Hot Pepper Sauce',)\n",
      "('Scottish Longbreads',)\n",
      "('Mozzarella di Giovanni',)\n",
      "('Rhönbräu Klosterbier',)\n",
      "('Original Frankfurter grüne Soße',)\n"
     ]
    }
   ],
   "source": [
    "query = \"\"\"\n",
    "SELECT ProductName\n",
    "FROM Products\n",
    "WHERE ProductID = ANY(\n",
    "SELECT ProductID\n",
    "FROM OrderDetails\n",
    "WHERE Quantity = 10);\n",
    "\"\"\"\n",
    "\n",
    "# sqlite에선 위와 같은 ANY는 지원하지 않음 !\n",
    "# IN을 이용한 쿼리로 변경\n",
    "\n",
    "query = \"\"\"\n",
    "SELECT ProductName\n",
    "FROM Products\n",
    "WHERE ProductID IN (\n",
    "SELECT ProductID\n",
    "FROM OrderDetails\n",
    "WHERE Quantity = 10\n",
    ");\n",
    "\"\"\"\n",
    "print_query_result(query)"
   ]
  },
  {
   "cell_type": "code",
   "execution_count": 279,
   "id": "a4a5ae87",
   "metadata": {},
   "outputs": [
    {
     "name": "stdout",
     "output_type": "stream",
     "text": [
      "('Steeleye Stout',)\n",
      "('Pâté chinois',)\n"
     ]
    }
   ],
   "source": [
    "query = \"\"\"\n",
    "SELECT ProductName\n",
    "FROM Products\n",
    "WHERE ProductID = ANY\n",
    "(SELECT ProductID\n",
    "FROM OrderDetails\n",
    "WHERE Quantity > 99);\n",
    "\"\"\"\n",
    "# 마찬가지 !\n",
    "query = \"\"\"\n",
    "SELECT ProductName\n",
    "FROM Products\n",
    "WHERE ProductID IN\n",
    "(SELECT ProductID\n",
    "FROM OrderDetails\n",
    "WHERE Quantity > 99);\n",
    "\"\"\"\n",
    "print_query_result(query)"
   ]
  },
  {
   "cell_type": "code",
   "execution_count": 280,
   "id": "2ad5b6c6",
   "metadata": {},
   "outputs": [],
   "source": [
    "query = \"\"\"\n",
    "SELECT ProductName\n",
    "FROM Products\n",
    "WHERE ProductID = ANY\n",
    "(SELECT ProductID\n",
    "FROM OrderDetails\n",
    "WHERE Quantity > 1000);\n",
    "\"\"\"\n",
    "# 마찬가지\n",
    "query = \"\"\"\n",
    "SELECT ProductName\n",
    "FROM Products\n",
    "WHERE ProductID IN\n",
    "(SELECT ProductID\n",
    "FROM OrderDetails\n",
    "WHERE Quantity > 1000);\n",
    "\"\"\"\n",
    "\n",
    "print_query_result(query)"
   ]
  },
  {
   "cell_type": "markdown",
   "id": "cbacbdb9",
   "metadata": {},
   "source": [
    "## ALL"
   ]
  },
  {
   "cell_type": "code",
   "execution_count": 281,
   "id": "3ae97b4e",
   "metadata": {},
   "outputs": [
    {
     "name": "stdout",
     "output_type": "stream",
     "text": [
      "('Chais',)\n",
      "('Chang',)\n",
      "('Aniseed Syrup',)\n",
      "(\"Chef Anton's Cajun Seasoning\",)\n",
      "(\"Chef Anton's Gumbo Mix\",)\n",
      "(\"Grandma's Boysenberry Spread\",)\n",
      "(\"Uncle Bob's Organic Dried Pears\",)\n",
      "('Northwoods Cranberry Sauce',)\n",
      "('Mishi Kobe Niku',)\n",
      "('Ikura',)\n",
      "('Queso Cabrales',)\n",
      "('Queso Manchego La Pastora',)\n",
      "('Konbu',)\n",
      "('Tofu',)\n",
      "('Genen Shouyu',)\n",
      "('Pavlova',)\n",
      "('Alice Mutton',)\n",
      "('Carnarvon Tigers',)\n",
      "('Teatime Chocolate Biscuits',)\n",
      "(\"Sir Rodney's Marmalade\",)\n",
      "(\"Sir Rodney's Scones\",)\n",
      "(\"Gustaf's Knäckebröd\",)\n",
      "('Tunnbröd',)\n",
      "('Guaraná Fantástica',)\n",
      "('NuNuCa Nuß-Nougat-Creme',)\n",
      "('Gumbär Gummibärchen',)\n",
      "('Schoggi Schokolade',)\n",
      "('Rössle Sauerkraut',)\n",
      "('Thüringer Rostbratwurst',)\n",
      "('Nord-Ost Matjeshering',)\n",
      "('Gorgonzola Telino',)\n",
      "('Mascarpone Fabioli',)\n",
      "('Geitost',)\n",
      "('Sasquatch Ale',)\n",
      "('Steeleye Stout',)\n",
      "('Inlagd Sill',)\n",
      "('Gravad lax',)\n",
      "('Côte de Blaye',)\n",
      "('Chartreuse verte',)\n",
      "('Boston Crab Meat',)\n",
      "(\"Jack's New England Clam Chowder\",)\n",
      "('Singaporean Hokkien Fried Mee',)\n",
      "('Ipoh Coffee',)\n",
      "('Gula Malacca',)\n",
      "('Røgede sild',)\n",
      "('Spegesild',)\n",
      "('Zaanse koeken',)\n",
      "('Chocolade',)\n",
      "('Maxilaku',)\n",
      "('Valkoinen suklaa',)\n",
      "('Manjimup Dried Apples',)\n",
      "('Filo Mix',)\n",
      "('Perth Pasties',)\n",
      "('Tourtière',)\n",
      "('Pâté chinois',)\n",
      "('Gnocchi di nonna Alice',)\n",
      "('Ravioli Angelo',)\n",
      "('Escargots de Bourgogne',)\n",
      "('Raclette Courdavault',)\n",
      "('Camembert Pierrot',)\n",
      "(\"Sirop d'érable\",)\n",
      "('Tarte au sucre',)\n",
      "('Vegie-spread',)\n",
      "('Wimmers gute Semmelknödel',)\n",
      "('Louisiana Fiery Hot Pepper Sauce',)\n",
      "('Louisiana Hot Spiced Okra',)\n",
      "('Laughing Lumberjack Lager',)\n",
      "('Scottish Longbreads',)\n",
      "('Gudbrandsdalsost',)\n",
      "('Outback Lager',)\n",
      "('Fløtemysost',)\n",
      "('Mozzarella di Giovanni',)\n",
      "('Röd Kaviar',)\n",
      "('Longlife Tofu',)\n",
      "('Rhönbräu Klosterbier',)\n",
      "('Lakkalikööri',)\n",
      "('Original Frankfurter grüne Soße',)\n"
     ]
    }
   ],
   "source": [
    "query = \"\"\"\n",
    "SELECT ALL ProductName\n",
    "FROM Products\n",
    "WHERE TRUE;\n",
    "\"\"\"\n",
    "# 이건 됨\n",
    "print_query_result(query)"
   ]
  },
  {
   "cell_type": "code",
   "execution_count": 282,
   "id": "ded971a6",
   "metadata": {},
   "outputs": [],
   "source": [
    "query = \"\"\"\n",
    "SELECT ProductName\n",
    "FROM Products\n",
    "WHERE ProductID = ALL\n",
    "(SELECT ProductID\n",
    "FROM OrderDetails\n",
    "WHERE Quantity = 10);\n",
    "\"\"\"\n",
    "# 이건 안됨\n",
    "query = \"\"\"\n",
    "SELECT ProductName\n",
    "FROM Products\n",
    "WHERE ProductID NOT IN (\n",
    "SELECT ProductID\n",
    "FROM OrderDetails\n",
    "WHERE Quantity <> 10\n",
    ");\n",
    "\"\"\"\n",
    "print_query_result(query)"
   ]
  },
  {
   "cell_type": "markdown",
   "id": "bdef2354",
   "metadata": {},
   "source": [
    "## SELECT INTO"
   ]
  },
  {
   "cell_type": "code",
   "execution_count": 283,
   "id": "8d39786b",
   "metadata": {},
   "outputs": [
    {
     "name": "stdout",
     "output_type": "stream",
     "text": [
      "이미 있음\n"
     ]
    }
   ],
   "source": [
    "query = \"\"\"\n",
    "SELECT * INTO CustomersBackup2017\n",
    "FROM Customers;\n",
    "\"\"\"\n",
    "\n",
    "# sqlite는 SELECT INTO 지원 안 함 !\n",
    "# 백업을 할거다 ? => 테이블을 하나 더 만들자\n",
    "\n",
    "query = \"\"\"\n",
    "CREATE TABLE CustomersBackup2017 AS SELECT * FROM Customers;\n",
    "\"\"\"\n",
    "cursor = conn.cursor()\n",
    "\n",
    "try:\n",
    "    print_query_result(query)\n",
    "except sqlite3.Error as e:\n",
    "    print('이미 있음')"
   ]
  },
  {
   "cell_type": "markdown",
   "id": "b152d33f",
   "metadata": {},
   "source": [
    "## INSERT INTO "
   ]
  },
  {
   "cell_type": "code",
   "execution_count": 284,
   "id": "b0c12df1",
   "metadata": {},
   "outputs": [],
   "source": [
    "query = \"\"\"\n",
    "INSERT INTO Customers (CustomerName, City, Country)\n",
    "SELECT SupplierName, City, Country FROM Suppliers;\n",
    "\"\"\"\n",
    "print_query_result(query)"
   ]
  },
  {
   "cell_type": "code",
   "execution_count": 285,
   "id": "c77bdd6f",
   "metadata": {},
   "outputs": [],
   "source": [
    "query = \"\"\"\n",
    "INSERT INTO Customers (CustomerName, ContactName, Address, City, PostalCode, Country)\n",
    "SELECT SupplierName, ContactName, Address, City, PostalCode, Country FROM Suppliers;\n",
    "\"\"\"\n",
    "print_query_result(query)"
   ]
  },
  {
   "cell_type": "code",
   "execution_count": 286,
   "id": "8175341e",
   "metadata": {},
   "outputs": [],
   "source": [
    "query = \"\"\"\n",
    "INSERT INTO Customers (CustomerName, City, Country)\n",
    "SELECT SupplierName, City, Country FROM Suppliers\n",
    "WHERE Country='Germany';\n",
    "\"\"\"\n",
    "print_query_result(query)"
   ]
  },
  {
   "cell_type": "markdown",
   "id": "6636759b",
   "metadata": {},
   "source": [
    "## CASE "
   ]
  },
  {
   "cell_type": "code",
   "execution_count": 287,
   "id": "51dc0ab3",
   "metadata": {},
   "outputs": [
    {
     "name": "stdout",
     "output_type": "stream",
     "text": [
      "('Drachenblut Delikatessend', 'Aachen', 'Germany')\n",
      "('Rattlesnake Canyon Grocery', 'Albuquerque', 'USA')\n",
      "('Old World Delicatessen', 'Anchorage', 'USA')\n",
      "(\"Grandma Kelly's Homestead\", 'Ann Arbor', 'USA')\n",
      "(\"Grandma Kelly's Homestead\", 'Ann Arbor', 'USA')\n",
      "('Gai pâturage', 'Annecy', 'France')\n",
      "('Gai pâturage', 'Annecy', 'France')\n",
      "('Galería del gastrónomo', 'Barcelona', 'Spain')\n",
      "('LILA-Supermercado', 'Barquisimeto', 'Venezuela')\n",
      "('Bigfoot Breweries', 'Bend', 'USA')\n",
      "('Bigfoot Breweries', 'Bend', 'USA')\n",
      "('Magazzini Alimentari Riuniti', 'Bergamo', 'Italy')\n",
      "('Alfreds Futterkiste', 'Berlin', 'Germany')\n",
      "('Heli Süßwaren GmbH & Co. KG', 'Berlin', 'Germany')\n",
      "('Heli Süßwaren GmbH & Co. KG', 'Berlin', 'Germany')\n",
      "('Heli Süßwaren GmbH & Co. KG', 'Berlin', 'Germany')\n",
      "('Chop-suey Chinese', 'Bern', 'Switzerland')\n",
      "('Save-a-lot Markets', 'Boise', 'USA')\n",
      "('New England Seafood Cannery', 'Boston', 'USA')\n",
      "('New England Seafood Cannery', 'Boston', 'USA')\n",
      "('Königlich Essen', 'Brandenburg', 'Germany')\n",
      "('Maison Dewey', 'Bruxelles', 'Belgium')\n",
      "('Folk och fä HB', 'Bräcke', 'Sweden')\n",
      "('Cactus Comidas para llevar', 'Buenos Aires', 'Argentina')\n",
      "('Océano Atlántico Ltda.', 'Buenos Aires', 'Argentina')\n",
      "('Rancho grande', 'Buenos Aires', 'Argentina')\n",
      "('The Cracker Box', 'Butte', 'USA')\n",
      "('Gourmet Lanchonetes', 'Campinas', 'Brazil')\n",
      "('GROSELLA-Restaurante', 'Caracas', 'Venezuela')\n",
      "('Suprêmes délices', 'Charleroi', 'Belgium')\n",
      "('Hungry Owl All-Night Grocers', 'Cork', 'Ireland')\n",
      "('Island Trading', 'Cowes', 'UK')\n",
      "('QUICK-Stop', 'Cunewalde', 'Germany')\n",
      "('Nord-Ost-Fisch Handelsgesellschaft mbH', 'Cuxhaven', 'Germany')\n",
      "('Nord-Ost-Fisch Handelsgesellschaft mbH', 'Cuxhaven', 'Germany')\n",
      "('Nord-Ost-Fisch Handelsgesellschaft mbH', 'Cuxhaven', 'Germany')\n",
      "('Hungry Coyote Import Store', 'Elgin', 'USA')\n",
      "('Great Lakes Food Market', 'Eugene', 'USA')\n",
      "('Plutzer Lebensmittelgroßmärkte AG', 'Frankfurt', 'Germany')\n",
      "('Plutzer Lebensmittelgroßmärkte AG', 'Frankfurt', 'Germany')\n",
      "('Plutzer Lebensmittelgroßmärkte AG', 'Frankfurt', 'Germany')\n",
      "('Lehmanns Marktstand', 'Frankfurt a.M. ', 'Germany')\n",
      "('Richter Supermarkt', 'Genève', 'Switzerland')\n",
      "('Ernst Handel', 'Graz', 'Austria')\n",
      "('PB Knäckebröd AB', 'Göteborg', 'Sweden ')\n",
      "('PB Knäckebröd AB', 'Göteborg', 'Sweden ')\n",
      "('Wilman Kala', 'Helsinki', 'Finland')\n",
      "('LINO-Delicateses', 'I. de Margarita', 'Venezuela')\n",
      "(\"Trail's Head Gourmet Provisioners\", 'Kirkland', 'USA')\n",
      "('Ottilies Käseladen', 'Köln', 'Germany')\n",
      "('Simons bistro', 'København', 'Denmark')\n",
      "('Split Rail Beer & Ale', 'Lander', 'USA')\n",
      "('Karkki Oy', 'Lappeenranta', 'Finland')\n",
      "('Karkki Oy', 'Lappeenranta', 'Finland')\n",
      "('Morgenstern Gesundkost', 'Leipzig', 'Germany')\n",
      "('Folies gourmandes', 'Lille', 'France')\n",
      "('Furia Bacalhau e Frutos do Mar', 'Lisboa', 'Portugal')\n",
      "('Princesa Isabel Vinhoss', 'Lisboa', 'Portugal')\n",
      "('Around the Horn', 'London', 'UK')\n",
      "(\"B's Beverages\", 'London', 'UK')\n",
      "('Consolidated Holdings', 'London', 'UK')\n",
      "('Eastern Connection', 'London', 'UK')\n",
      "('North/South', 'London', 'UK')\n",
      "('Seven Seas Imports', 'London', 'UK')\n",
      "('Exotic Liquid', 'Londona', 'UK')\n",
      "('Exotic Liquid', 'Londona', 'UK')\n",
      "('Berglunds snabbköp', 'Luleå', 'Sweden')\n",
      "('Lyngbysild', 'Lyngby', 'Denmark')\n",
      "('Lyngbysild', 'Lyngby', 'Denmark')\n",
      "('Victuailles en stock', 'Lyon', 'France')\n",
      "('Bólido Comidas preparadas', 'Madrid', 'Spain')\n",
      "('FISSA Fabrica Inter. Salchichas S.A.', 'Madrid', 'Spain')\n",
      "('Romero y tomillo', 'Madrid', 'Spain')\n",
      "('Specialty Biscuits, Ltd.', 'Manchester', 'UK')\n",
      "('Specialty Biscuits, Ltd.', 'Manchester', 'UK')\n",
      "('Blauer See Delikatessen', 'Mannheim', 'Germany')\n",
      "(\"Bon app'\", 'Marseille', 'France')\n",
      "('Pavlova, Ltd.', 'Melbourne', 'Australia')\n",
      "('Pavlova, Ltd.', 'Melbourne', 'Australia')\n",
      "('Escargots Nouveaux', 'Montceau', 'France')\n",
      "('Escargots Nouveaux', 'Montceau', 'France')\n",
      "('Mère Paillarde', 'Montréal', 'Canada')\n",
      "('Ma Maison', 'Montréal', 'Canada')\n",
      "('Ma Maison', 'Montréal', 'Canada')\n",
      "('Ana Trujillo Emparedados y helados', 'México D.F.', 'Mexico')\n",
      "('Antonio Moreno Taquería', 'México D.F.', 'Mexico')\n",
      "('Centro comercial Moctezuma', 'México D.F.', 'Mexico')\n",
      "('Pericles Comidas clásicas', 'México D.F.', 'Mexico')\n",
      "('Tortuga Restaurante', 'México D.F.', 'Mexico')\n",
      "('Frankenversand', 'München', 'Germany')\n",
      "('Toms Spezialitäten', 'Münster', 'Germany')\n",
      "('Du monde entier', 'Nantes', 'France')\n",
      "('France restauration', 'Nantes', 'France')\n",
      "('New Orleans Cajun Delights', 'New Orleans', 'USA')\n",
      "('New Orleans Cajun Delights', 'New Orleans', 'USA')\n",
      "(\"Mayumi's\", 'Osaka', 'Japan')\n",
      "(\"Mayumi's\", 'Osaka', 'Japan')\n",
      "('Wartian Herkku', 'Oulu', 'Finland')\n",
      "(\"Cooperativa de Quesos 'Las Cabras'\", 'Oviedo', 'Spain')\n",
      "(\"Cooperativa de Quesos 'Las Cabras'\", 'Oviedo', 'Spain')\n",
      "('Paris spécialités', 'Paris', 'France')\n",
      "('Spécialités du monde', 'Paris', 'France')\n",
      "('Aux joyeux ecclésiastiques', 'Paris', 'France')\n",
      "('Aux joyeux ecclésiastiques', 'Paris', 'France')\n",
      "('Lonesome Pine Restaurant', 'Portland', 'USA')\n",
      "('The Big Cheese', 'Portland', 'USA')\n",
      "('Formaggi Fortini s.r.l.', 'Ravenna', 'Italy')\n",
      "('Formaggi Fortini s.r.l.', 'Ravenna', 'Italy')\n",
      "('Reggiani Caseifici', 'Reggio Emilia', 'Italy')\n",
      "('Vins et alcools Chevalier', 'Reims', 'France')\n",
      "('Wellington Importadora', 'Resende', 'Brazil')\n",
      "('Hanari Carnes', 'Rio de Janeiro', 'Brazil')\n",
      "('Que Delícia', 'Rio de Janeiro', 'Brazil')\n",
      "('Ricardo Adocicados', 'Rio de Janeiro', 'Brazil')\n",
      "('Pasta Buttini s.r.l.', 'Salerno', 'Italy')\n",
      "('Pasta Buttini s.r.l.', 'Salerno', 'Italy')\n",
      "('Piccolo und mehr', 'Salzburg', 'Austria')\n",
      "('HILARIÓN-Abastos', 'San Cristóbal', 'Venezuela')\n",
      "(\"Let's Stop N Shop\", 'San Francisco', 'USA')\n",
      "('Norske Meierier', 'Sandvika', 'Norway')\n",
      "('Norske Meierier', 'Sandvika', 'Norway')\n",
      "('White Clover Markets', 'Seattle', 'USA')\n",
      "('Godos Cocina Típica', 'Sevilla', 'Spain')\n",
      "('Leka Trading', 'Singapore', 'Singapore')\n",
      "('Leka Trading', 'Singapore', 'Singapore')\n",
      "('Santé Gourmet', 'Stavern', 'Norway')\n",
      "(\"Forêts d'érables\", 'Ste-Hyacinthe', 'Canada')\n",
      "(\"Forêts d'érables\", 'Ste-Hyacinthe', 'Canada')\n",
      "('Svensk Sjöföda AB', 'Stockholm', 'Sweden')\n",
      "('Svensk Sjöföda AB', 'Stockholm', 'Sweden')\n",
      "('Blondel père et fils', 'Strasbourg', 'France')\n",
      "('Die Wandernde Kuh', 'Stuttgart', 'Germany')\n",
      "(\"G'day, Mate\", 'Sydney', 'Australia')\n",
      "(\"G'day, Mate\", 'Sydney', 'Australia')\n",
      "('Comércio Mineiro', 'São Paulo', 'Brazil')\n",
      "('Familia Arquibaldo', 'São Paulo', 'Brazil')\n",
      "('Queen Cozinha', 'São Paulo', 'Brazil')\n",
      "('Tradição Hipermercados', 'São Paulo', 'Brazil')\n",
      "('Refrescos Americanas LTDA', 'São Paulo', 'Brazil')\n",
      "('Refrescos Americanas LTDA', 'São Paulo', 'Brazil')\n",
      "('Tokyo Traders', 'Tokyo', 'Japan')\n",
      "('Tokyo Traders', 'Tokyo', 'Japan')\n",
      "('Franchi S.p.A.', 'Torino', 'Italy')\n",
      "(\"La maison d'Asie\", 'Toulouse', 'France')\n",
      "('Bottom-Dollar Marketse', 'Tsawassen', 'Canada')\n",
      "('Laughing Bacchus Wine Cellars', 'Vancouver', 'Canada')\n",
      "(\"La corne d'abondance\", 'Versailles', 'France')\n",
      "('Wolski', 'Walla', None)\n",
      "('Lazy K Kountry Store', 'Walla Walla', 'USA')\n",
      "('Zaanse Snoepfabriek', 'Zaandam', 'Netherlands')\n",
      "('Zaanse Snoepfabriek', 'Zaandam', 'Netherlands')\n",
      "('Vaffeljernet', 'Århus', 'Denmark')\n"
     ]
    }
   ],
   "source": [
    "query = \"\"\"\n",
    "SELECT CustomerName, City, Country\n",
    "FROM Customers\n",
    "ORDER BY\n",
    "(CASE\n",
    "    WHEN City IS NULL THEN Country\n",
    "    ELSE City\n",
    "END);\n",
    "\"\"\"\n",
    "print_query_result(query)"
   ]
  },
  {
   "cell_type": "markdown",
   "id": "e0e10415",
   "metadata": {},
   "source": [
    "## IFNULL(), ISNULL(), COALESCE(), and NVL()"
   ]
  },
  {
   "cell_type": "code",
   "execution_count": 288,
   "id": "1132332c",
   "metadata": {},
   "outputs": [
    {
     "ename": "OperationalError",
     "evalue": "database is locked",
     "output_type": "error",
     "traceback": [
      "\u001b[0;31m---------------------------------------------------------------------------\u001b[0m",
      "\u001b[0;31mOperationalError\u001b[0m                          Traceback (most recent call last)",
      "Cell \u001b[0;32mIn[288], line 5\u001b[0m\n\u001b[1;32m      3\u001b[0m conn \u001b[38;5;241m=\u001b[39m sqlite3\u001b[38;5;241m.\u001b[39mconnect(\u001b[38;5;124m'\u001b[39m\u001b[38;5;124mdatabase.db\u001b[39m\u001b[38;5;124m'\u001b[39m)\n\u001b[1;32m      4\u001b[0m cursor \u001b[38;5;241m=\u001b[39m conn\u001b[38;5;241m.\u001b[39mcursor()\n\u001b[0;32m----> 5\u001b[0m \u001b[43mcursor\u001b[49m\u001b[38;5;241;43m.\u001b[39;49m\u001b[43mexecute\u001b[49m\u001b[43m(\u001b[49m\u001b[38;5;124;43m\"\u001b[39;49m\u001b[38;5;124;43mALTER TABLE Products ADD COLUMN UnitsInStock INTEGER;\u001b[39;49m\u001b[38;5;124;43m\"\u001b[39;49m\u001b[43m)\u001b[49m\n\u001b[1;32m      6\u001b[0m cursor\u001b[38;5;241m.\u001b[39mexecute(\u001b[38;5;124m\"\u001b[39m\u001b[38;5;124mALTER TABLE Products ADD COLUMN UnitsOnOrder INTEGER;\u001b[39m\u001b[38;5;124m\"\u001b[39m)\n\u001b[1;32m      8\u001b[0m cursor\u001b[38;5;241m.\u001b[39mexecute(\n\u001b[1;32m      9\u001b[0m     \u001b[38;5;124m\"\u001b[39m\u001b[38;5;124mUPDATE Products SET UnitsInStock = NULL WHERE ProductID \u001b[39m\u001b[38;5;124m%\u001b[39m\u001b[38;5;124m 2 = 0;\u001b[39m\u001b[38;5;124m\"\u001b[39m)\n",
      "\u001b[0;31mOperationalError\u001b[0m: database is locked"
     ]
    }
   ],
   "source": [
    "# Products 테이블에는 UnitsInStock,UnitsInStock 컬럼이 없다 !\n",
    "# 만들어주자 !\n",
    "conn = sqlite3.connect('database.db')\n",
    "cursor = conn.cursor()\n",
    "cursor.execute(\"ALTER TABLE Products ADD COLUMN UnitsInStock INTEGER;\")\n",
    "cursor.execute(\"ALTER TABLE Products ADD COLUMN UnitsOnOrder INTEGER;\")\n",
    "\n",
    "cursor.execute(\n",
    "    \"UPDATE Products SET UnitsInStock = NULL WHERE ProductID % 2 = 0;\")\n",
    "cursor.execute(\n",
    "    \"UPDATE Products SET UnitsOnOrder = NULL WHERE ProductID % 3 = 0;\")\n",
    "\n",
    "cursor.execute(\n",
    "    \"UPDATE Products SET UnitsInStock = 10 WHERE UnitsInStock IS NULL;\")\n",
    "cursor.execute(\n",
    "    \"UPDATE Products SET UnitsOnOrder = 20 WHERE UnitsOnOrder IS NULL;\")\n",
    "\n",
    "conn.commit()\n",
    "\n",
    "query = \"\"\"\n",
    "SELECT ProductName, UnitPrice * (UnitsInStock + UnitsOnOrder)\n",
    "FROM Products;\n",
    "\"\"\"\n",
    "print_query_result(query)"
   ]
  },
  {
   "cell_type": "markdown",
   "id": "5ec0c197",
   "metadata": {},
   "source": [
    "## Stored Procedure"
   ]
  },
  {
   "cell_type": "code",
   "execution_count": 289,
   "id": "4ba8c876",
   "metadata": {},
   "outputs": [],
   "source": [
    "query = \"\"\"\n",
    "CREATE PROCEDURE SelectAllCustomers\n",
    "AS\n",
    "SELECT * FROM Customers\n",
    "GO;\n",
    "\"\"\"\n",
    "# sqlite는 저장 프로시저는 지원 안 함 !\n",
    "query = \"\"\"\"\"\"\n",
    "print_query_result(query)"
   ]
  }
 ],
 "metadata": {
  "kernelspec": {
   "display_name": "Python 3 (ipykernel)",
   "language": "python",
   "name": "python3"
  },
  "language_info": {
   "codemirror_mode": {
    "name": "ipython",
    "version": 3
   },
   "file_extension": ".py",
   "mimetype": "text/x-python",
   "name": "python",
   "nbconvert_exporter": "python",
   "pygments_lexer": "ipython3",
   "version": "3.12.4"
  }
 },
 "nbformat": 4,
 "nbformat_minor": 5
}
