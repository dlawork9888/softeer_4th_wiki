{
 "cells": [
  {
   "cell_type": "markdown",
   "id": "8e25f3ec-86da-4fc2-9c68-2b35c027811b",
   "metadata": {},
   "source": [
    "# SQL EXAMPLES"
   ]
  },
  {
   "cell_type": "code",
   "execution_count": 6,
   "id": "5ed0df64-d3ea-4f22-88a2-266882ff7124",
   "metadata": {},
   "outputs": [],
   "source": [
    "import pandas as pd\n",
    "import sqlite3\n",
    "import os\n",
    "\n",
    "# SQLite 데이터베이스 연결 (새로운 데이터베이스 생성)\n",
    "conn = sqlite3.connect('database.db')\n",
    "\n",
    "# CSV 파일을 데이터베이스에 테이블로 저장\n",
    "for file in [file for file in os.listdir() if file.endswith('.csv')]:\n",
    "    # 테이블 이름은 파일 이름 (확장자 제외)\n",
    "    table_name = os.path.splitext(file)[0]\n",
    "    df = pd.read_csv(file)\n",
    "    df.to_sql(table_name, conn, if_exists='replace', index=False)"
   ]
  },
  {
   "cell_type": "code",
   "execution_count": 7,
   "id": "cf66848d-f199-4ab8-8b1d-00db2c3e1a33",
   "metadata": {
    "jp-MarkdownHeadingCollapsed": true
   },
   "outputs": [
    {
     "ename": "ModuleNotFoundError",
     "evalue": "No module named 'ace_tools'",
     "output_type": "error",
     "traceback": [
      "\u001b[0;31m---------------------------------------------------------------------------\u001b[0m",
      "\u001b[0;31mModuleNotFoundError\u001b[0m                       Traceback (most recent call last)",
      "Cell \u001b[0;32mIn[7], line 39\u001b[0m\n\u001b[1;32m     37\u001b[0m \u001b[38;5;66;03m# 쿼리 실행 및 결과 출력\u001b[39;00m\n\u001b[1;32m     38\u001b[0m df_results \u001b[38;5;241m=\u001b[39m execute_query(database, query)\n\u001b[0;32m---> 39\u001b[0m \u001b[38;5;28;01mimport\u001b[39;00m \u001b[38;5;21;01mace_tools\u001b[39;00m \u001b[38;5;28;01mas\u001b[39;00m \u001b[38;5;21;01mtools\u001b[39;00m; tools\u001b[38;5;241m.\u001b[39mdisplay_dataframe_to_user(name\u001b[38;5;241m=\u001b[39m\u001b[38;5;124m\"\u001b[39m\u001b[38;5;124mCustomer Data\u001b[39m\u001b[38;5;124m\"\u001b[39m, dataframe\u001b[38;5;241m=\u001b[39mdf_results)\n",
      "\u001b[0;31mModuleNotFoundError\u001b[0m: No module named 'ace_tools'"
     ]
    }
   ],
   "source": [
    "cursor = conn."
   ]
  },
  {
   "cell_type": "code",
   "execution_count": null,
   "id": "245a5995-c082-46fa-be72-e903bcbc1d13",
   "metadata": {},
   "outputs": [],
   "source": []
  }
 ],
 "metadata": {
  "kernelspec": {
   "display_name": "Python 3 (ipykernel)",
   "language": "python",
   "name": "python3"
  },
  "language_info": {
   "codemirror_mode": {
    "name": "ipython",
    "version": 3
   },
   "file_extension": ".py",
   "mimetype": "text/x-python",
   "name": "python",
   "nbconvert_exporter": "python",
   "pygments_lexer": "ipython3",
   "version": "3.12.0"
  }
 },
 "nbformat": 4,
 "nbformat_minor": 5
}
