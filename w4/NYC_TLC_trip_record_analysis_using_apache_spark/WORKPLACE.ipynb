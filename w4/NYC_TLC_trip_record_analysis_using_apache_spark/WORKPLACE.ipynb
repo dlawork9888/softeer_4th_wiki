{
 "cells": [
  {
   "cell_type": "markdown",
   "metadata": {},
   "source": [
    "# NYC TLC\n"
   ]
  },
  {
   "cell_type": "code",
   "execution_count": 4,
   "metadata": {},
   "outputs": [],
   "source": [
    "import os\n",
    "import pandas as pd"
   ]
  },
  {
   "cell_type": "code",
   "execution_count": 6,
   "metadata": {},
   "outputs": [
    {
     "data": {
      "text/plain": [
       "['fhvhv_tripdata_2024-02.parquet',\n",
       " 'green_tripdata_2024-04.parquet',\n",
       " 'fhv_tripdata_2024-04.parquet',\n",
       " 'yellow_tripdata_2024-04.parquet',\n",
       " 'yellow_tripdata_2024-05.parquet',\n",
       " 'fhvhv_tripdata_2024-03.parquet',\n",
       " 'fhv_tripdata_2024-05.parquet',\n",
       " 'green_tripdata_2024-05.parquet',\n",
       " 'fhvhv_tripdata_2024-01.parquet',\n",
       " 'yellow_tripdata_2024-03.parquet',\n",
       " 'green_tripdata_2024-03.parquet',\n",
       " 'fhv_tripdata_2024-03.parquet',\n",
       " 'fhvhv_tripdata_2024-05.parquet',\n",
       " 'fhv_tripdata_2024-02.parquet',\n",
       " 'green_tripdata_2024-02.parquet',\n",
       " 'fhvhv_tripdata_2024-04.parquet',\n",
       " 'yellow_tripdata_2024-02.parquet',\n",
       " 'yellow_tripdata_2024-01.parquet',\n",
       " 'green_tripdata_2024-01.parquet',\n",
       " 'fhv_tripdata_2024-01.parquet']"
      ]
     },
     "execution_count": 6,
     "metadata": {},
     "output_type": "execute_result"
    }
   ],
   "source": [
    "os.listdir('NYC_TLC_data')"
   ]
  },
  {
   "cell_type": "code",
   "execution_count": null,
   "metadata": {},
   "outputs": [],
   "source": []
  }
 ],
 "metadata": {
  "kernelspec": {
   "display_name": ".venv",
   "language": "python",
   "name": "python3"
  },
  "language_info": {
   "codemirror_mode": {
    "name": "ipython",
    "version": 3
   },
   "file_extension": ".py",
   "mimetype": "text/x-python",
   "name": "python",
   "nbconvert_exporter": "python",
   "pygments_lexer": "ipython3",
   "version": "3.12.4"
  }
 },
 "nbformat": 4,
 "nbformat_minor": 2
}
